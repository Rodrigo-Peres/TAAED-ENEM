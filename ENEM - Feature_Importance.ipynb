{
 "cells": [
  {
   "cell_type": "markdown",
   "id": "36b6768b",
   "metadata": {
    "id": "l4LdnAy133B1"
   },
   "source": [
    "### Feature importance "
   ]
  },
  {
   "cell_type": "code",
   "execution_count": 28,
   "id": "df8a4b14",
   "metadata": {},
   "outputs": [],
   "source": [
    "microdados_rj = pd.read_csv('dataframe_tratado.csv')"
   ]
  },
  {
   "cell_type": "code",
   "execution_count": 29,
   "id": "04fdca0a",
   "metadata": {},
   "outputs": [
    {
     "name": "stdout",
     "output_type": "stream",
     "text": [
      "<class 'pandas.core.frame.DataFrame'>\n",
      "RangeIndex: 325364 entries, 0 to 325363\n",
      "Data columns (total 9 columns):\n",
      " #   Column                           Non-Null Count   Dtype \n",
      "---  ------                           --------------   ----- \n",
      " 0   RECEM_FORMADO                    325364 non-null  int64 \n",
      " 1   CLASSE_RENDA_PERCAPITA_FAMILIAR  325364 non-null  int64 \n",
      " 2   CLASSE_TP_COR_RACA               325364 non-null  int64 \n",
      " 3   CLASSE_IDADE                     325364 non-null  int64 \n",
      " 4   Q001_Q002                        325364 non-null  int64 \n",
      " 5   Q024                             325364 non-null  int64 \n",
      " 6   Q025                             325364 non-null  int64 \n",
      " 7   CLASSE_RENDIMENTO                235833 non-null  object\n",
      " 8   CLASSE_RENDIMENTO_GERAL          235279 non-null  object\n",
      "dtypes: int64(7), object(2)\n",
      "memory usage: 22.3+ MB\n"
     ]
    }
   ],
   "source": [
    "microdados_rj.info()"
   ]
  },
  {
   "cell_type": "markdown",
   "id": "6f7f85cf",
   "metadata": {
    "id": "uc8e2t-XdnSo"
   },
   "source": [
    "### Feature importance - features do artigo + (computador e internet) e target média"
   ]
  },
  {
   "cell_type": "code",
   "execution_count": 286,
   "id": "9540d4bb",
   "metadata": {
    "colab": {
     "base_uri": "https://localhost:8080/",
     "height": 1000,
     "referenced_widgets": [
      "d81ac5abeae241b7a1d5e191144facd9",
      "c71098f13e8843f4b16fcd139fc93363",
      "168ccf261c1d48dcaaeebc31edd36c3b"
     ]
    },
    "executionInfo": {
     "elapsed": 8810,
     "status": "ok",
     "timestamp": 1628975937935,
     "user": {
      "displayName": "RODRIGO SILVA PERES",
      "photoUrl": "",
      "userId": "00311338069675780007"
     },
     "user_tz": 180
    },
    "id": "KsxyKG-qh0qX",
    "outputId": "ffddbc0d-5289-4082-cdfd-b40a9c969d2b"
   },
   "outputs": [
    {
     "data": {
      "text/html": [
       "<div>\n",
       "<style scoped>\n",
       "    .dataframe tbody tr th:only-of-type {\n",
       "        vertical-align: middle;\n",
       "    }\n",
       "\n",
       "    .dataframe tbody tr th {\n",
       "        vertical-align: top;\n",
       "    }\n",
       "\n",
       "    .dataframe thead th {\n",
       "        text-align: right;\n",
       "    }\n",
       "</style>\n",
       "<table border=\"1\" class=\"dataframe\">\n",
       "  <thead>\n",
       "    <tr style=\"text-align: right;\">\n",
       "      <th></th>\n",
       "      <th>Description</th>\n",
       "      <th>Value</th>\n",
       "    </tr>\n",
       "  </thead>\n",
       "  <tbody>\n",
       "    <tr>\n",
       "      <th>0</th>\n",
       "      <td>session_id</td>\n",
       "      <td>7</td>\n",
       "    </tr>\n",
       "    <tr>\n",
       "      <th>1</th>\n",
       "      <td>Target</td>\n",
       "      <td>CLASSE_RENDIMENTO_GERAL</td>\n",
       "    </tr>\n",
       "    <tr>\n",
       "      <th>2</th>\n",
       "      <td>Target Type</td>\n",
       "      <td>Multiclass</td>\n",
       "    </tr>\n",
       "    <tr>\n",
       "      <th>3</th>\n",
       "      <td>Label Encoded</td>\n",
       "      <td>0.0: 0, 1.0: 1, 2.0: 2</td>\n",
       "    </tr>\n",
       "    <tr>\n",
       "      <th>4</th>\n",
       "      <td>Original Data</td>\n",
       "      <td>(325364, 9)</td>\n",
       "    </tr>\n",
       "    <tr>\n",
       "      <th>5</th>\n",
       "      <td>Missing Values</td>\n",
       "      <td>True</td>\n",
       "    </tr>\n",
       "    <tr>\n",
       "      <th>6</th>\n",
       "      <td>Numeric Features</td>\n",
       "      <td>0</td>\n",
       "    </tr>\n",
       "    <tr>\n",
       "      <th>7</th>\n",
       "      <td>Categorical Features</td>\n",
       "      <td>7</td>\n",
       "    </tr>\n",
       "    <tr>\n",
       "      <th>8</th>\n",
       "      <td>Ordinal Features</td>\n",
       "      <td>False</td>\n",
       "    </tr>\n",
       "    <tr>\n",
       "      <th>9</th>\n",
       "      <td>High Cardinality Features</td>\n",
       "      <td>False</td>\n",
       "    </tr>\n",
       "    <tr>\n",
       "      <th>10</th>\n",
       "      <td>High Cardinality Method</td>\n",
       "      <td>None</td>\n",
       "    </tr>\n",
       "    <tr>\n",
       "      <th>11</th>\n",
       "      <td>Transformed Train Set</td>\n",
       "      <td>(188360, 25)</td>\n",
       "    </tr>\n",
       "    <tr>\n",
       "      <th>12</th>\n",
       "      <td>Transformed Test Set</td>\n",
       "      <td>(46919, 25)</td>\n",
       "    </tr>\n",
       "    <tr>\n",
       "      <th>13</th>\n",
       "      <td>Shuffle Train-Test</td>\n",
       "      <td>True</td>\n",
       "    </tr>\n",
       "    <tr>\n",
       "      <th>14</th>\n",
       "      <td>Stratify Train-Test</td>\n",
       "      <td>False</td>\n",
       "    </tr>\n",
       "    <tr>\n",
       "      <th>15</th>\n",
       "      <td>Fold Generator</td>\n",
       "      <td>StratifiedKFold</td>\n",
       "    </tr>\n",
       "    <tr>\n",
       "      <th>16</th>\n",
       "      <td>Fold Number</td>\n",
       "      <td>5</td>\n",
       "    </tr>\n",
       "    <tr>\n",
       "      <th>17</th>\n",
       "      <td>CPU Jobs</td>\n",
       "      <td>-1</td>\n",
       "    </tr>\n",
       "    <tr>\n",
       "      <th>18</th>\n",
       "      <td>Use GPU</td>\n",
       "      <td>True</td>\n",
       "    </tr>\n",
       "    <tr>\n",
       "      <th>19</th>\n",
       "      <td>Log Experiment</td>\n",
       "      <td>False</td>\n",
       "    </tr>\n",
       "    <tr>\n",
       "      <th>20</th>\n",
       "      <td>Experiment Name</td>\n",
       "      <td>clf-default-name</td>\n",
       "    </tr>\n",
       "    <tr>\n",
       "      <th>21</th>\n",
       "      <td>USI</td>\n",
       "      <td>96ff</td>\n",
       "    </tr>\n",
       "    <tr>\n",
       "      <th>22</th>\n",
       "      <td>Imputation Type</td>\n",
       "      <td>simple</td>\n",
       "    </tr>\n",
       "    <tr>\n",
       "      <th>23</th>\n",
       "      <td>Iterative Imputation Iteration</td>\n",
       "      <td>None</td>\n",
       "    </tr>\n",
       "    <tr>\n",
       "      <th>24</th>\n",
       "      <td>Numeric Imputer</td>\n",
       "      <td>mean</td>\n",
       "    </tr>\n",
       "    <tr>\n",
       "      <th>25</th>\n",
       "      <td>Iterative Imputation Numeric Model</td>\n",
       "      <td>None</td>\n",
       "    </tr>\n",
       "    <tr>\n",
       "      <th>26</th>\n",
       "      <td>Categorical Imputer</td>\n",
       "      <td>constant</td>\n",
       "    </tr>\n",
       "    <tr>\n",
       "      <th>27</th>\n",
       "      <td>Iterative Imputation Categorical Model</td>\n",
       "      <td>None</td>\n",
       "    </tr>\n",
       "    <tr>\n",
       "      <th>28</th>\n",
       "      <td>Unknown Categoricals Handling</td>\n",
       "      <td>least_frequent</td>\n",
       "    </tr>\n",
       "    <tr>\n",
       "      <th>29</th>\n",
       "      <td>Normalize</td>\n",
       "      <td>False</td>\n",
       "    </tr>\n",
       "    <tr>\n",
       "      <th>30</th>\n",
       "      <td>Normalize Method</td>\n",
       "      <td>None</td>\n",
       "    </tr>\n",
       "    <tr>\n",
       "      <th>31</th>\n",
       "      <td>Transformation</td>\n",
       "      <td>False</td>\n",
       "    </tr>\n",
       "    <tr>\n",
       "      <th>32</th>\n",
       "      <td>Transformation Method</td>\n",
       "      <td>None</td>\n",
       "    </tr>\n",
       "    <tr>\n",
       "      <th>33</th>\n",
       "      <td>PCA</td>\n",
       "      <td>False</td>\n",
       "    </tr>\n",
       "    <tr>\n",
       "      <th>34</th>\n",
       "      <td>PCA Method</td>\n",
       "      <td>None</td>\n",
       "    </tr>\n",
       "    <tr>\n",
       "      <th>35</th>\n",
       "      <td>PCA Components</td>\n",
       "      <td>None</td>\n",
       "    </tr>\n",
       "    <tr>\n",
       "      <th>36</th>\n",
       "      <td>Ignore Low Variance</td>\n",
       "      <td>False</td>\n",
       "    </tr>\n",
       "    <tr>\n",
       "      <th>37</th>\n",
       "      <td>Combine Rare Levels</td>\n",
       "      <td>False</td>\n",
       "    </tr>\n",
       "    <tr>\n",
       "      <th>38</th>\n",
       "      <td>Rare Level Threshold</td>\n",
       "      <td>None</td>\n",
       "    </tr>\n",
       "    <tr>\n",
       "      <th>39</th>\n",
       "      <td>Numeric Binning</td>\n",
       "      <td>False</td>\n",
       "    </tr>\n",
       "    <tr>\n",
       "      <th>40</th>\n",
       "      <td>Remove Outliers</td>\n",
       "      <td>False</td>\n",
       "    </tr>\n",
       "    <tr>\n",
       "      <th>41</th>\n",
       "      <td>Outliers Threshold</td>\n",
       "      <td>None</td>\n",
       "    </tr>\n",
       "    <tr>\n",
       "      <th>42</th>\n",
       "      <td>Remove Multicollinearity</td>\n",
       "      <td>False</td>\n",
       "    </tr>\n",
       "    <tr>\n",
       "      <th>43</th>\n",
       "      <td>Multicollinearity Threshold</td>\n",
       "      <td>None</td>\n",
       "    </tr>\n",
       "    <tr>\n",
       "      <th>44</th>\n",
       "      <td>Remove Perfect Collinearity</td>\n",
       "      <td>True</td>\n",
       "    </tr>\n",
       "    <tr>\n",
       "      <th>45</th>\n",
       "      <td>Clustering</td>\n",
       "      <td>False</td>\n",
       "    </tr>\n",
       "    <tr>\n",
       "      <th>46</th>\n",
       "      <td>Clustering Iteration</td>\n",
       "      <td>None</td>\n",
       "    </tr>\n",
       "    <tr>\n",
       "      <th>47</th>\n",
       "      <td>Polynomial Features</td>\n",
       "      <td>False</td>\n",
       "    </tr>\n",
       "    <tr>\n",
       "      <th>48</th>\n",
       "      <td>Polynomial Degree</td>\n",
       "      <td>None</td>\n",
       "    </tr>\n",
       "    <tr>\n",
       "      <th>49</th>\n",
       "      <td>Trignometry Features</td>\n",
       "      <td>False</td>\n",
       "    </tr>\n",
       "    <tr>\n",
       "      <th>50</th>\n",
       "      <td>Polynomial Threshold</td>\n",
       "      <td>None</td>\n",
       "    </tr>\n",
       "    <tr>\n",
       "      <th>51</th>\n",
       "      <td>Group Features</td>\n",
       "      <td>False</td>\n",
       "    </tr>\n",
       "    <tr>\n",
       "      <th>52</th>\n",
       "      <td>Feature Selection</td>\n",
       "      <td>False</td>\n",
       "    </tr>\n",
       "    <tr>\n",
       "      <th>53</th>\n",
       "      <td>Feature Selection Method</td>\n",
       "      <td>classic</td>\n",
       "    </tr>\n",
       "    <tr>\n",
       "      <th>54</th>\n",
       "      <td>Features Selection Threshold</td>\n",
       "      <td>None</td>\n",
       "    </tr>\n",
       "    <tr>\n",
       "      <th>55</th>\n",
       "      <td>Feature Interaction</td>\n",
       "      <td>False</td>\n",
       "    </tr>\n",
       "    <tr>\n",
       "      <th>56</th>\n",
       "      <td>Feature Ratio</td>\n",
       "      <td>False</td>\n",
       "    </tr>\n",
       "    <tr>\n",
       "      <th>57</th>\n",
       "      <td>Interaction Threshold</td>\n",
       "      <td>None</td>\n",
       "    </tr>\n",
       "    <tr>\n",
       "      <th>58</th>\n",
       "      <td>Fix Imbalance</td>\n",
       "      <td>False</td>\n",
       "    </tr>\n",
       "    <tr>\n",
       "      <th>59</th>\n",
       "      <td>Fix Imbalance Method</td>\n",
       "      <td>SMOTE</td>\n",
       "    </tr>\n",
       "  </tbody>\n",
       "</table>\n",
       "</div>"
      ],
      "text/plain": [
       "                               Description                    Value\n",
       "0                               session_id                        7\n",
       "1                                   Target  CLASSE_RENDIMENTO_GERAL\n",
       "2                              Target Type               Multiclass\n",
       "3                            Label Encoded   0.0: 0, 1.0: 1, 2.0: 2\n",
       "4                            Original Data              (325364, 9)\n",
       "5                           Missing Values                     True\n",
       "6                         Numeric Features                        0\n",
       "7                     Categorical Features                        7\n",
       "8                         Ordinal Features                    False\n",
       "9                High Cardinality Features                    False\n",
       "10                 High Cardinality Method                     None\n",
       "11                   Transformed Train Set             (188360, 25)\n",
       "12                    Transformed Test Set              (46919, 25)\n",
       "13                      Shuffle Train-Test                     True\n",
       "14                     Stratify Train-Test                    False\n",
       "15                          Fold Generator          StratifiedKFold\n",
       "16                             Fold Number                        5\n",
       "17                                CPU Jobs                       -1\n",
       "18                                 Use GPU                     True\n",
       "19                          Log Experiment                    False\n",
       "20                         Experiment Name         clf-default-name\n",
       "21                                     USI                     96ff\n",
       "22                         Imputation Type                   simple\n",
       "23          Iterative Imputation Iteration                     None\n",
       "24                         Numeric Imputer                     mean\n",
       "25      Iterative Imputation Numeric Model                     None\n",
       "26                     Categorical Imputer                 constant\n",
       "27  Iterative Imputation Categorical Model                     None\n",
       "28           Unknown Categoricals Handling           least_frequent\n",
       "29                               Normalize                    False\n",
       "30                        Normalize Method                     None\n",
       "31                          Transformation                    False\n",
       "32                   Transformation Method                     None\n",
       "33                                     PCA                    False\n",
       "34                              PCA Method                     None\n",
       "35                          PCA Components                     None\n",
       "36                     Ignore Low Variance                    False\n",
       "37                     Combine Rare Levels                    False\n",
       "38                    Rare Level Threshold                     None\n",
       "39                         Numeric Binning                    False\n",
       "40                         Remove Outliers                    False\n",
       "41                      Outliers Threshold                     None\n",
       "42                Remove Multicollinearity                    False\n",
       "43             Multicollinearity Threshold                     None\n",
       "44             Remove Perfect Collinearity                     True\n",
       "45                              Clustering                    False\n",
       "46                    Clustering Iteration                     None\n",
       "47                     Polynomial Features                    False\n",
       "48                       Polynomial Degree                     None\n",
       "49                    Trignometry Features                    False\n",
       "50                    Polynomial Threshold                     None\n",
       "51                          Group Features                    False\n",
       "52                       Feature Selection                    False\n",
       "53                Feature Selection Method                  classic\n",
       "54            Features Selection Threshold                     None\n",
       "55                     Feature Interaction                    False\n",
       "56                           Feature Ratio                    False\n",
       "57                   Interaction Threshold                     None\n",
       "58                           Fix Imbalance                    False\n",
       "59                    Fix Imbalance Method                    SMOTE"
      ]
     },
     "metadata": {
      "tags": []
     },
     "output_type": "display_data"
    }
   ],
   "source": [
    "from pycaret.classification import *\n",
    "\n",
    "init = setup(data=microdados_rj,\n",
    "             ignore_features=['CLASSE_RENDIMENTO'],\n",
    "             target='CLASSE_RENDIMENTO_GERAL',\n",
    "             train_size=0.8,\n",
    "             fold=5,\n",
    "             fix_imbalance=False,\n",
    "             use_gpu=True,\n",
    "             silent=True,\n",
    "             session_id=7)"
   ]
  },
  {
   "cell_type": "code",
   "execution_count": 287,
   "id": "bbe7db70",
   "metadata": {
    "colab": {
     "base_uri": "https://localhost:8080/",
     "height": 354,
     "referenced_widgets": [
      "c289c512b512467baefcda40796cb12d",
      "9381310e33d8464cbb45113eeaa912ac",
      "479099f332a84bc2a749ae0b4df2869d"
     ]
    },
    "executionInfo": {
     "elapsed": 627019,
     "status": "ok",
     "timestamp": 1628976569511,
     "user": {
      "displayName": "RODRIGO SILVA PERES",
      "photoUrl": "",
      "userId": "00311338069675780007"
     },
     "user_tz": 180
    },
    "id": "G48m8AJPh0qa",
    "outputId": "ec78f81b-0070-4345-fa7b-f353560d57c4"
   },
   "outputs": [
    {
     "data": {
      "text/html": [
       "<div>\n",
       "<style scoped>\n",
       "    .dataframe tbody tr th:only-of-type {\n",
       "        vertical-align: middle;\n",
       "    }\n",
       "\n",
       "    .dataframe tbody tr th {\n",
       "        vertical-align: top;\n",
       "    }\n",
       "\n",
       "    .dataframe thead th {\n",
       "        text-align: right;\n",
       "    }\n",
       "</style>\n",
       "<table border=\"1\" class=\"dataframe\">\n",
       "  <thead>\n",
       "    <tr style=\"text-align: right;\">\n",
       "      <th></th>\n",
       "      <th>Model</th>\n",
       "      <th>Accuracy</th>\n",
       "      <th>AUC</th>\n",
       "      <th>Recall</th>\n",
       "      <th>Prec.</th>\n",
       "      <th>F1</th>\n",
       "      <th>Kappa</th>\n",
       "      <th>MCC</th>\n",
       "      <th>TT (Sec)</th>\n",
       "    </tr>\n",
       "  </thead>\n",
       "  <tbody>\n",
       "    <tr>\n",
       "      <th>lightgbm</th>\n",
       "      <td>Light Gradient Boosting Machine</td>\n",
       "      <td>0.7669</td>\n",
       "      <td>0.6748</td>\n",
       "      <td>0.4005</td>\n",
       "      <td>0.7200</td>\n",
       "      <td>0.6941</td>\n",
       "      <td>0.1328</td>\n",
       "      <td>0.1977</td>\n",
       "      <td>4.434</td>\n",
       "    </tr>\n",
       "    <tr>\n",
       "      <th>rf</th>\n",
       "      <td>Random Forest Classifier</td>\n",
       "      <td>0.7660</td>\n",
       "      <td>0.6669</td>\n",
       "      <td>0.4008</td>\n",
       "      <td>0.7100</td>\n",
       "      <td>0.6947</td>\n",
       "      <td>0.1331</td>\n",
       "      <td>0.1949</td>\n",
       "      <td>9.562</td>\n",
       "    </tr>\n",
       "    <tr>\n",
       "      <th>dt</th>\n",
       "      <td>Decision Tree Classifier</td>\n",
       "      <td>0.7653</td>\n",
       "      <td>0.6665</td>\n",
       "      <td>0.4011</td>\n",
       "      <td>0.7045</td>\n",
       "      <td>0.6950</td>\n",
       "      <td>0.1332</td>\n",
       "      <td>0.1926</td>\n",
       "      <td>0.410</td>\n",
       "    </tr>\n",
       "    <tr>\n",
       "      <th>lr</th>\n",
       "      <td>Logistic Regression</td>\n",
       "      <td>0.7645</td>\n",
       "      <td>0.6696</td>\n",
       "      <td>0.3888</td>\n",
       "      <td>0.7206</td>\n",
       "      <td>0.6873</td>\n",
       "      <td>0.1108</td>\n",
       "      <td>0.1750</td>\n",
       "      <td>19.702</td>\n",
       "    </tr>\n",
       "    <tr>\n",
       "      <th>knn</th>\n",
       "      <td>K Neighbors Classifier</td>\n",
       "      <td>0.7360</td>\n",
       "      <td>0.5913</td>\n",
       "      <td>0.4196</td>\n",
       "      <td>0.6763</td>\n",
       "      <td>0.6923</td>\n",
       "      <td>0.1425</td>\n",
       "      <td>0.1596</td>\n",
       "      <td>89.716</td>\n",
       "    </tr>\n",
       "    <tr>\n",
       "      <th>nb</th>\n",
       "      <td>Naive Bayes</td>\n",
       "      <td>0.4248</td>\n",
       "      <td>0.6520</td>\n",
       "      <td>0.5838</td>\n",
       "      <td>0.6871</td>\n",
       "      <td>0.4509</td>\n",
       "      <td>0.1559</td>\n",
       "      <td>0.2086</td>\n",
       "      <td>0.244</td>\n",
       "    </tr>\n",
       "  </tbody>\n",
       "</table>\n",
       "</div>"
      ],
      "text/plain": [
       "                                    Model  Accuracy     AUC  Recall   Prec.  \\\n",
       "lightgbm  Light Gradient Boosting Machine    0.7669  0.6748  0.4005  0.7200   \n",
       "rf               Random Forest Classifier    0.7660  0.6669  0.4008  0.7100   \n",
       "dt               Decision Tree Classifier    0.7653  0.6665  0.4011  0.7045   \n",
       "lr                    Logistic Regression    0.7645  0.6696  0.3888  0.7206   \n",
       "knn                K Neighbors Classifier    0.7360  0.5913  0.4196  0.6763   \n",
       "nb                            Naive Bayes    0.4248  0.6520  0.5838  0.6871   \n",
       "\n",
       "              F1   Kappa     MCC  TT (Sec)  \n",
       "lightgbm  0.6941  0.1328  0.1977     4.434  \n",
       "rf        0.6947  0.1331  0.1949     9.562  \n",
       "dt        0.6950  0.1332  0.1926     0.410  \n",
       "lr        0.6873  0.1108  0.1750    19.702  \n",
       "knn       0.6923  0.1425  0.1596    89.716  \n",
       "nb        0.4509  0.1559  0.2086     0.244  "
      ]
     },
     "metadata": {
      "tags": []
     },
     "output_type": "display_data"
    },
    {
     "data": {
      "text/plain": [
       "LGBMClassifier(boosting_type='gbdt', class_weight=None, colsample_bytree=1.0,\n",
       "               device='gpu', importance_type='split', learning_rate=0.1,\n",
       "               max_depth=-1, min_child_samples=20, min_child_weight=0.001,\n",
       "               min_split_gain=0.0, n_estimators=100, n_jobs=-1, num_leaves=31,\n",
       "               objective=None, random_state=7, reg_alpha=0.0, reg_lambda=0.0,\n",
       "               silent=True, subsample=1.0, subsample_for_bin=200000,\n",
       "               subsample_freq=0)"
      ]
     },
     "execution_count": 287,
     "metadata": {
      "tags": []
     },
     "output_type": "execute_result"
    }
   ],
   "source": [
    "compare_models(include=['lr', 'dt', \n",
    "                        'rf', 'nb',\n",
    "                        'knn', 'lightgbm'], fold=5)"
   ]
  },
  {
   "cell_type": "code",
   "execution_count": 292,
   "id": "a014759d",
   "metadata": {
    "colab": {
     "base_uri": "https://localhost:8080/",
     "height": 266,
     "referenced_widgets": [
      "d474fe8e35b34eada9d66691426d36e2",
      "b5ff1c68362a41cb96aa13bdeb6f59b0",
      "cee28de1912a401ca70394052deb4c53"
     ]
    },
    "executionInfo": {
     "elapsed": 27376,
     "status": "ok",
     "timestamp": 1628976960863,
     "user": {
      "displayName": "RODRIGO SILVA PERES",
      "photoUrl": "",
      "userId": "00311338069675780007"
     },
     "user_tz": 180
    },
    "id": "h4ctvyXwlyrj",
    "outputId": "05f38114-94bb-400b-8fa1-8c0ed35bac24"
   },
   "outputs": [
    {
     "data": {
      "text/html": [
       "<div>\n",
       "<style scoped>\n",
       "    .dataframe tbody tr th:only-of-type {\n",
       "        vertical-align: middle;\n",
       "    }\n",
       "\n",
       "    .dataframe tbody tr th {\n",
       "        vertical-align: top;\n",
       "    }\n",
       "\n",
       "    .dataframe thead th {\n",
       "        text-align: right;\n",
       "    }\n",
       "</style>\n",
       "<table border=\"1\" class=\"dataframe\">\n",
       "  <thead>\n",
       "    <tr style=\"text-align: right;\">\n",
       "      <th></th>\n",
       "      <th>Accuracy</th>\n",
       "      <th>AUC</th>\n",
       "      <th>Recall</th>\n",
       "      <th>Prec.</th>\n",
       "      <th>F1</th>\n",
       "      <th>Kappa</th>\n",
       "      <th>MCC</th>\n",
       "    </tr>\n",
       "  </thead>\n",
       "  <tbody>\n",
       "    <tr>\n",
       "      <th>0</th>\n",
       "      <td>0.7678</td>\n",
       "      <td>0.6759</td>\n",
       "      <td>0.4083</td>\n",
       "      <td>0.7175</td>\n",
       "      <td>0.6974</td>\n",
       "      <td>0.1462</td>\n",
       "      <td>0.2089</td>\n",
       "    </tr>\n",
       "    <tr>\n",
       "      <th>1</th>\n",
       "      <td>0.7674</td>\n",
       "      <td>0.6802</td>\n",
       "      <td>0.3987</td>\n",
       "      <td>0.7186</td>\n",
       "      <td>0.6934</td>\n",
       "      <td>0.1303</td>\n",
       "      <td>0.1974</td>\n",
       "    </tr>\n",
       "    <tr>\n",
       "      <th>2</th>\n",
       "      <td>0.7664</td>\n",
       "      <td>0.6761</td>\n",
       "      <td>0.3970</td>\n",
       "      <td>0.7178</td>\n",
       "      <td>0.6926</td>\n",
       "      <td>0.1268</td>\n",
       "      <td>0.1919</td>\n",
       "    </tr>\n",
       "    <tr>\n",
       "      <th>3</th>\n",
       "      <td>0.7671</td>\n",
       "      <td>0.6697</td>\n",
       "      <td>0.3971</td>\n",
       "      <td>0.7191</td>\n",
       "      <td>0.6932</td>\n",
       "      <td>0.1274</td>\n",
       "      <td>0.1945</td>\n",
       "    </tr>\n",
       "    <tr>\n",
       "      <th>4</th>\n",
       "      <td>0.7661</td>\n",
       "      <td>0.6721</td>\n",
       "      <td>0.4012</td>\n",
       "      <td>0.7269</td>\n",
       "      <td>0.6938</td>\n",
       "      <td>0.1335</td>\n",
       "      <td>0.1958</td>\n",
       "    </tr>\n",
       "    <tr>\n",
       "      <th>Mean</th>\n",
       "      <td>0.7669</td>\n",
       "      <td>0.6748</td>\n",
       "      <td>0.4005</td>\n",
       "      <td>0.7200</td>\n",
       "      <td>0.6941</td>\n",
       "      <td>0.1328</td>\n",
       "      <td>0.1977</td>\n",
       "    </tr>\n",
       "    <tr>\n",
       "      <th>SD</th>\n",
       "      <td>0.0006</td>\n",
       "      <td>0.0036</td>\n",
       "      <td>0.0042</td>\n",
       "      <td>0.0035</td>\n",
       "      <td>0.0017</td>\n",
       "      <td>0.0071</td>\n",
       "      <td>0.0059</td>\n",
       "    </tr>\n",
       "  </tbody>\n",
       "</table>\n",
       "</div>"
      ],
      "text/plain": [
       "      Accuracy     AUC  Recall   Prec.      F1   Kappa     MCC\n",
       "0       0.7678  0.6759  0.4083  0.7175  0.6974  0.1462  0.2089\n",
       "1       0.7674  0.6802  0.3987  0.7186  0.6934  0.1303  0.1974\n",
       "2       0.7664  0.6761  0.3970  0.7178  0.6926  0.1268  0.1919\n",
       "3       0.7671  0.6697  0.3971  0.7191  0.6932  0.1274  0.1945\n",
       "4       0.7661  0.6721  0.4012  0.7269  0.6938  0.1335  0.1958\n",
       "Mean    0.7669  0.6748  0.4005  0.7200  0.6941  0.1328  0.1977\n",
       "SD      0.0006  0.0036  0.0042  0.0035  0.0017  0.0071  0.0059"
      ]
     },
     "metadata": {
      "tags": []
     },
     "output_type": "display_data"
    }
   ],
   "source": [
    "lgbm = create_model('lightgbm',\n",
    "                    fold=5)"
   ]
  },
  {
   "cell_type": "code",
   "execution_count": 303,
   "id": "2d5ff008",
   "metadata": {
    "colab": {
     "base_uri": "https://localhost:8080/"
    },
    "executionInfo": {
     "elapsed": 18,
     "status": "ok",
     "timestamp": 1628977245181,
     "user": {
      "displayName": "RODRIGO SILVA PERES",
      "photoUrl": "",
      "userId": "00311338069675780007"
     },
     "user_tz": 180
    },
    "id": "qroqJtDcmxim",
    "outputId": "47d9ea12-2c28-4f93-c813-c36f31403438"
   },
   "outputs": [
    {
     "data": {
      "text/plain": [
       "LGBMClassifier(boosting_type='gbdt', class_weight=None, colsample_bytree=1.0,\n",
       "               device='gpu', importance_type='split', learning_rate=0.1,\n",
       "               max_depth=-1, min_child_samples=20, min_child_weight=0.001,\n",
       "               min_split_gain=0.0, n_estimators=100, n_jobs=-1, num_leaves=31,\n",
       "               objective=None, random_state=7, reg_alpha=0.0, reg_lambda=0.0,\n",
       "               silent=True, subsample=1.0, subsample_for_bin=200000,\n",
       "               subsample_freq=0)"
      ]
     },
     "execution_count": 303,
     "metadata": {
      "tags": []
     },
     "output_type": "execute_result"
    }
   ],
   "source": [
    "lgbm"
   ]
  },
  {
   "cell_type": "code",
   "execution_count": 293,
   "id": "95875381",
   "metadata": {
    "colab": {
     "base_uri": "https://localhost:8080/",
     "height": 478,
     "referenced_widgets": [
      "eaf1ce6f141342419e39a0719785df8e",
      "898857563a704fb99b950c403c5a2bae",
      "82418a8fa3f1421395137986e9d0961d"
     ]
    },
    "executionInfo": {
     "elapsed": 907,
     "status": "ok",
     "timestamp": 1628976962627,
     "user": {
      "displayName": "RODRIGO SILVA PERES",
      "photoUrl": "",
      "userId": "00311338069675780007"
     },
     "user_tz": 180
    },
    "id": "fQpN9sS_l3fx",
    "outputId": "0503f146-ee1a-4b44-b317-dc498c5a2b02"
   },
   "outputs": [
    {
     "data": {
      "image/png": "[encoded data removed]",
      "text/plain": [
       "<Figure size 800x500 with 1 Axes>"
      ]
     },
     "metadata": {
      "tags": []
     },
     "output_type": "display_data"
    }
   ],
   "source": [
    "plot_model(lgbm, plot='feature')"
   ]
  },
  {
   "cell_type": "code",
   "execution_count": 294,
   "id": "89831a57",
   "metadata": {
    "colab": {
     "base_uri": "https://localhost:8080/",
     "height": 266,
     "referenced_widgets": [
      "71c2ee9f30744c7689f4d68ae33e8ccb",
      "f5a1b21021e24a8ebe479a8760ef15a3",
      "bc3aabb85838429ba49126962c898cc8"
     ]
    },
    "executionInfo": {
     "elapsed": 58046,
     "status": "ok",
     "timestamp": 1628977052857,
     "user": {
      "displayName": "RODRIGO SILVA PERES",
      "photoUrl": "",
      "userId": "00311338069675780007"
     },
     "user_tz": 180
    },
    "id": "aEMCEAk6mBiQ",
    "outputId": "bc3ab2b8-5807-4e95-aaf2-51bc87553918"
   },
   "outputs": [
    {
     "data": {
      "text/html": [
       "<div>\n",
       "<style scoped>\n",
       "    .dataframe tbody tr th:only-of-type {\n",
       "        vertical-align: middle;\n",
       "    }\n",
       "\n",
       "    .dataframe tbody tr th {\n",
       "        vertical-align: top;\n",
       "    }\n",
       "\n",
       "    .dataframe thead th {\n",
       "        text-align: right;\n",
       "    }\n",
       "</style>\n",
       "<table border=\"1\" class=\"dataframe\">\n",
       "  <thead>\n",
       "    <tr style=\"text-align: right;\">\n",
       "      <th></th>\n",
       "      <th>Accuracy</th>\n",
       "      <th>AUC</th>\n",
       "      <th>Recall</th>\n",
       "      <th>Prec.</th>\n",
       "      <th>F1</th>\n",
       "      <th>Kappa</th>\n",
       "      <th>MCC</th>\n",
       "    </tr>\n",
       "  </thead>\n",
       "  <tbody>\n",
       "    <tr>\n",
       "      <th>0</th>\n",
       "      <td>0.7671</td>\n",
       "      <td>0.6686</td>\n",
       "      <td>0.4066</td>\n",
       "      <td>0.7103</td>\n",
       "      <td>0.6973</td>\n",
       "      <td>0.1433</td>\n",
       "      <td>0.2048</td>\n",
       "    </tr>\n",
       "    <tr>\n",
       "      <th>1</th>\n",
       "      <td>0.7663</td>\n",
       "      <td>0.6720</td>\n",
       "      <td>0.4011</td>\n",
       "      <td>0.7091</td>\n",
       "      <td>0.6950</td>\n",
       "      <td>0.1341</td>\n",
       "      <td>0.1963</td>\n",
       "    </tr>\n",
       "    <tr>\n",
       "      <th>2</th>\n",
       "      <td>0.7652</td>\n",
       "      <td>0.6692</td>\n",
       "      <td>0.3996</td>\n",
       "      <td>0.7082</td>\n",
       "      <td>0.6937</td>\n",
       "      <td>0.1305</td>\n",
       "      <td>0.1907</td>\n",
       "    </tr>\n",
       "    <tr>\n",
       "      <th>3</th>\n",
       "      <td>0.7664</td>\n",
       "      <td>0.6607</td>\n",
       "      <td>0.3981</td>\n",
       "      <td>0.7107</td>\n",
       "      <td>0.6938</td>\n",
       "      <td>0.1287</td>\n",
       "      <td>0.1930</td>\n",
       "    </tr>\n",
       "    <tr>\n",
       "      <th>4</th>\n",
       "      <td>0.7652</td>\n",
       "      <td>0.6642</td>\n",
       "      <td>0.3985</td>\n",
       "      <td>0.7118</td>\n",
       "      <td>0.6938</td>\n",
       "      <td>0.1290</td>\n",
       "      <td>0.1896</td>\n",
       "    </tr>\n",
       "    <tr>\n",
       "      <th>Mean</th>\n",
       "      <td>0.7660</td>\n",
       "      <td>0.6669</td>\n",
       "      <td>0.4008</td>\n",
       "      <td>0.7100</td>\n",
       "      <td>0.6947</td>\n",
       "      <td>0.1331</td>\n",
       "      <td>0.1949</td>\n",
       "    </tr>\n",
       "    <tr>\n",
       "      <th>SD</th>\n",
       "      <td>0.0007</td>\n",
       "      <td>0.0040</td>\n",
       "      <td>0.0031</td>\n",
       "      <td>0.0013</td>\n",
       "      <td>0.0014</td>\n",
       "      <td>0.0054</td>\n",
       "      <td>0.0055</td>\n",
       "    </tr>\n",
       "  </tbody>\n",
       "</table>\n",
       "</div>"
      ],
      "text/plain": [
       "      Accuracy     AUC  Recall   Prec.      F1   Kappa     MCC\n",
       "0       0.7671  0.6686  0.4066  0.7103  0.6973  0.1433  0.2048\n",
       "1       0.7663  0.6720  0.4011  0.7091  0.6950  0.1341  0.1963\n",
       "2       0.7652  0.6692  0.3996  0.7082  0.6937  0.1305  0.1907\n",
       "3       0.7664  0.6607  0.3981  0.7107  0.6938  0.1287  0.1930\n",
       "4       0.7652  0.6642  0.3985  0.7118  0.6938  0.1290  0.1896\n",
       "Mean    0.7660  0.6669  0.4008  0.7100  0.6947  0.1331  0.1949\n",
       "SD      0.0007  0.0040  0.0031  0.0013  0.0014  0.0054  0.0055"
      ]
     },
     "metadata": {
      "tags": []
     },
     "output_type": "display_data"
    }
   ],
   "source": [
    "rf = create_model('rf',\n",
    "                  fold=5)"
   ]
  },
  {
   "cell_type": "code",
   "execution_count": 302,
   "id": "32e5dfa1",
   "metadata": {
    "colab": {
     "base_uri": "https://localhost:8080/"
    },
    "executionInfo": {
     "elapsed": 27,
     "status": "ok",
     "timestamp": 1628977245179,
     "user": {
      "displayName": "RODRIGO SILVA PERES",
      "photoUrl": "",
      "userId": "00311338069675780007"
     },
     "user_tz": 180
    },
    "id": "CUTAtiPDmwLs",
    "outputId": "3bb3def5-6384-4af5-91ee-0068de8b1796"
   },
   "outputs": [
    {
     "data": {
      "text/plain": [
       "RandomForestClassifier(bootstrap=True, ccp_alpha=0.0, class_weight=None,\n",
       "                       criterion='gini', max_depth=None, max_features='auto',\n",
       "                       max_leaf_nodes=None, max_samples=None,\n",
       "                       min_impurity_decrease=0.0, min_impurity_split=None,\n",
       "                       min_samples_leaf=1, min_samples_split=2,\n",
       "                       min_weight_fraction_leaf=0.0, n_estimators=100,\n",
       "                       n_jobs=-1, oob_score=False, random_state=7, verbose=0,\n",
       "                       warm_start=False)"
      ]
     },
     "execution_count": 302,
     "metadata": {
      "tags": []
     },
     "output_type": "execute_result"
    }
   ],
   "source": [
    "rf"
   ]
  },
  {
   "cell_type": "code",
   "execution_count": 295,
   "id": "7525dada",
   "metadata": {
    "colab": {
     "base_uri": "https://localhost:8080/",
     "height": 478,
     "referenced_widgets": [
      "fabfbf2599df4d3fae4e6137e6db9dc4",
      "3d55c2c1961240f9878353c7e27b62cf",
      "10ec14d81bc64181b13d5575c9265735"
     ]
    },
    "executionInfo": {
     "elapsed": 1291,
     "status": "ok",
     "timestamp": 1628977055080,
     "user": {
      "displayName": "RODRIGO SILVA PERES",
      "photoUrl": "",
      "userId": "00311338069675780007"
     },
     "user_tz": 180
    },
    "id": "W96tYyt5mIX3",
    "outputId": "443cc469-542f-4cf2-e135-b2a368fe9dba"
   },
   "outputs": [
    {
     "data": {
      "image/png": "[encoded data removed]",
      "text/plain": [
       "<Figure size 800x500 with 1 Axes>"
      ]
     },
     "metadata": {
      "tags": []
     },
     "output_type": "display_data"
    }
   ],
   "source": [
    "plot_model(rf, plot='feature')"
   ]
  },
  {
   "cell_type": "code",
   "execution_count": 289,
   "id": "c9dcf6e7",
   "metadata": {
    "colab": {
     "base_uri": "https://localhost:8080/",
     "height": 266,
     "referenced_widgets": [
      "b8e3f5adb8c74a35b7d694bed6fcef2e",
      "a90526ced15c4155b7fec050c48e1dcc",
      "db2e704cf00b4c619c88a3397e185835"
     ]
    },
    "executionInfo": {
     "elapsed": 2796,
     "status": "ok",
     "timestamp": 1628976707937,
     "user": {
      "displayName": "RODRIGO SILVA PERES",
      "photoUrl": "",
      "userId": "00311338069675780007"
     },
     "user_tz": 180
    },
    "id": "mn97guL2k8H8",
    "outputId": "9f91d852-aa36-4cea-f2e0-6d7810d22021"
   },
   "outputs": [
    {
     "data": {
      "text/html": [
       "<div>\n",
       "<style scoped>\n",
       "    .dataframe tbody tr th:only-of-type {\n",
       "        vertical-align: middle;\n",
       "    }\n",
       "\n",
       "    .dataframe tbody tr th {\n",
       "        vertical-align: top;\n",
       "    }\n",
       "\n",
       "    .dataframe thead th {\n",
       "        text-align: right;\n",
       "    }\n",
       "</style>\n",
       "<table border=\"1\" class=\"dataframe\">\n",
       "  <thead>\n",
       "    <tr style=\"text-align: right;\">\n",
       "      <th></th>\n",
       "      <th>Accuracy</th>\n",
       "      <th>AUC</th>\n",
       "      <th>Recall</th>\n",
       "      <th>Prec.</th>\n",
       "      <th>F1</th>\n",
       "      <th>Kappa</th>\n",
       "      <th>MCC</th>\n",
       "    </tr>\n",
       "  </thead>\n",
       "  <tbody>\n",
       "    <tr>\n",
       "      <th>0</th>\n",
       "      <td>0.7666</td>\n",
       "      <td>0.6684</td>\n",
       "      <td>0.4069</td>\n",
       "      <td>0.7062</td>\n",
       "      <td>0.6975</td>\n",
       "      <td>0.1435</td>\n",
       "      <td>0.2033</td>\n",
       "    </tr>\n",
       "    <tr>\n",
       "      <th>1</th>\n",
       "      <td>0.7657</td>\n",
       "      <td>0.6716</td>\n",
       "      <td>0.4015</td>\n",
       "      <td>0.7047</td>\n",
       "      <td>0.6953</td>\n",
       "      <td>0.1343</td>\n",
       "      <td>0.1944</td>\n",
       "    </tr>\n",
       "    <tr>\n",
       "      <th>2</th>\n",
       "      <td>0.7645</td>\n",
       "      <td>0.6688</td>\n",
       "      <td>0.3999</td>\n",
       "      <td>0.7034</td>\n",
       "      <td>0.6941</td>\n",
       "      <td>0.1306</td>\n",
       "      <td>0.1888</td>\n",
       "    </tr>\n",
       "    <tr>\n",
       "      <th>3</th>\n",
       "      <td>0.7653</td>\n",
       "      <td>0.6600</td>\n",
       "      <td>0.3981</td>\n",
       "      <td>0.7023</td>\n",
       "      <td>0.6939</td>\n",
       "      <td>0.1281</td>\n",
       "      <td>0.1891</td>\n",
       "    </tr>\n",
       "    <tr>\n",
       "      <th>4</th>\n",
       "      <td>0.7644</td>\n",
       "      <td>0.6636</td>\n",
       "      <td>0.3990</td>\n",
       "      <td>0.7059</td>\n",
       "      <td>0.6941</td>\n",
       "      <td>0.1293</td>\n",
       "      <td>0.1873</td>\n",
       "    </tr>\n",
       "    <tr>\n",
       "      <th>Mean</th>\n",
       "      <td>0.7653</td>\n",
       "      <td>0.6665</td>\n",
       "      <td>0.4011</td>\n",
       "      <td>0.7045</td>\n",
       "      <td>0.6950</td>\n",
       "      <td>0.1332</td>\n",
       "      <td>0.1926</td>\n",
       "    </tr>\n",
       "    <tr>\n",
       "      <th>SD</th>\n",
       "      <td>0.0008</td>\n",
       "      <td>0.0041</td>\n",
       "      <td>0.0031</td>\n",
       "      <td>0.0015</td>\n",
       "      <td>0.0014</td>\n",
       "      <td>0.0056</td>\n",
       "      <td>0.0059</td>\n",
       "    </tr>\n",
       "  </tbody>\n",
       "</table>\n",
       "</div>"
      ],
      "text/plain": [
       "      Accuracy     AUC  Recall   Prec.      F1   Kappa     MCC\n",
       "0       0.7666  0.6684  0.4069  0.7062  0.6975  0.1435  0.2033\n",
       "1       0.7657  0.6716  0.4015  0.7047  0.6953  0.1343  0.1944\n",
       "2       0.7645  0.6688  0.3999  0.7034  0.6941  0.1306  0.1888\n",
       "3       0.7653  0.6600  0.3981  0.7023  0.6939  0.1281  0.1891\n",
       "4       0.7644  0.6636  0.3990  0.7059  0.6941  0.1293  0.1873\n",
       "Mean    0.7653  0.6665  0.4011  0.7045  0.6950  0.1332  0.1926\n",
       "SD      0.0008  0.0041  0.0031  0.0015  0.0014  0.0056  0.0059"
      ]
     },
     "metadata": {
      "tags": []
     },
     "output_type": "display_data"
    }
   ],
   "source": [
    "dt = create_model('dt',\n",
    "                  fold=5)"
   ]
  },
  {
   "cell_type": "code",
   "execution_count": 300,
   "id": "1ade3154",
   "metadata": {
    "colab": {
     "base_uri": "https://localhost:8080/"
    },
    "executionInfo": {
     "elapsed": 16,
     "status": "ok",
     "timestamp": 1628977244516,
     "user": {
      "displayName": "RODRIGO SILVA PERES",
      "photoUrl": "",
      "userId": "00311338069675780007"
     },
     "user_tz": 180
    },
    "id": "3BhdUwY0mp11",
    "outputId": "0191461b-49bf-4177-9363-5be65a12919a"
   },
   "outputs": [
    {
     "data": {
      "text/plain": [
       "DecisionTreeClassifier(ccp_alpha=0.0, class_weight=None, criterion='gini',\n",
       "                       max_depth=None, max_features=None, max_leaf_nodes=None,\n",
       "                       min_impurity_decrease=0.0, min_impurity_split=None,\n",
       "                       min_samples_leaf=1, min_samples_split=2,\n",
       "                       min_weight_fraction_leaf=0.0, presort='deprecated',\n",
       "                       random_state=7, splitter='best')"
      ]
     },
     "execution_count": 300,
     "metadata": {
      "tags": []
     },
     "output_type": "execute_result"
    }
   ],
   "source": [
    "dt"
   ]
  },
  {
   "cell_type": "code",
   "execution_count": 291,
   "id": "a22fa897",
   "metadata": {
    "colab": {
     "base_uri": "https://localhost:8080/",
     "height": 478
    },
    "executionInfo": {
     "elapsed": 900,
     "status": "ok",
     "timestamp": 1628976823092,
     "user": {
      "displayName": "RODRIGO SILVA PERES",
      "photoUrl": "",
      "userId": "00311338069675780007"
     },
     "user_tz": 180
    },
    "id": "Bh_xeSsGlGo2",
    "outputId": "02183e20-f1f3-42d8-944c-6e49a345d3f3"
   },
   "outputs": [
    {
     "data": {
      "image/png": "[encoded data removed]",
      "text/plain": [
       "<Figure size 800x500 with 1 Axes>"
      ]
     },
     "metadata": {
      "tags": []
     },
     "output_type": "display_data"
    }
   ],
   "source": [
    "plot_model(dt, plot='feature')"
   ]
  },
  {
   "cell_type": "code",
   "execution_count": 298,
   "id": "d5aea39c",
   "metadata": {
    "colab": {
     "base_uri": "https://localhost:8080/",
     "height": 266,
     "referenced_widgets": [
      "dd2bc3346f004fc29e9f699d1998b278",
      "22a972291265417593f05770f43390da",
      "69f9a95e14724c38bf8384ce62da90dd"
     ]
    },
    "executionInfo": {
     "elapsed": 114044,
     "status": "ok",
     "timestamp": 1628977243440,
     "user": {
      "displayName": "RODRIGO SILVA PERES",
      "photoUrl": "",
      "userId": "00311338069675780007"
     },
     "user_tz": 180
    },
    "id": "ZcJKMf49mdt4",
    "outputId": "91dea8fe-d48b-4899-9e21-0bbb5ecfc268"
   },
   "outputs": [
    {
     "data": {
      "text/html": [
       "<div>\n",
       "<style scoped>\n",
       "    .dataframe tbody tr th:only-of-type {\n",
       "        vertical-align: middle;\n",
       "    }\n",
       "\n",
       "    .dataframe tbody tr th {\n",
       "        vertical-align: top;\n",
       "    }\n",
       "\n",
       "    .dataframe thead th {\n",
       "        text-align: right;\n",
       "    }\n",
       "</style>\n",
       "<table border=\"1\" class=\"dataframe\">\n",
       "  <thead>\n",
       "    <tr style=\"text-align: right;\">\n",
       "      <th></th>\n",
       "      <th>Accuracy</th>\n",
       "      <th>AUC</th>\n",
       "      <th>Recall</th>\n",
       "      <th>Prec.</th>\n",
       "      <th>F1</th>\n",
       "      <th>Kappa</th>\n",
       "      <th>MCC</th>\n",
       "    </tr>\n",
       "  </thead>\n",
       "  <tbody>\n",
       "    <tr>\n",
       "      <th>0</th>\n",
       "      <td>0.7660</td>\n",
       "      <td>0.6708</td>\n",
       "      <td>0.3933</td>\n",
       "      <td>0.7214</td>\n",
       "      <td>0.6899</td>\n",
       "      <td>0.1197</td>\n",
       "      <td>0.1863</td>\n",
       "    </tr>\n",
       "    <tr>\n",
       "      <th>1</th>\n",
       "      <td>0.7649</td>\n",
       "      <td>0.6756</td>\n",
       "      <td>0.3891</td>\n",
       "      <td>0.7149</td>\n",
       "      <td>0.6875</td>\n",
       "      <td>0.1116</td>\n",
       "      <td>0.1769</td>\n",
       "    </tr>\n",
       "    <tr>\n",
       "      <th>2</th>\n",
       "      <td>0.7637</td>\n",
       "      <td>0.6708</td>\n",
       "      <td>0.3890</td>\n",
       "      <td>0.7167</td>\n",
       "      <td>0.6870</td>\n",
       "      <td>0.1108</td>\n",
       "      <td>0.1724</td>\n",
       "    </tr>\n",
       "    <tr>\n",
       "      <th>3</th>\n",
       "      <td>0.7644</td>\n",
       "      <td>0.6659</td>\n",
       "      <td>0.3869</td>\n",
       "      <td>0.7182</td>\n",
       "      <td>0.6868</td>\n",
       "      <td>0.1076</td>\n",
       "      <td>0.1725</td>\n",
       "    </tr>\n",
       "    <tr>\n",
       "      <th>4</th>\n",
       "      <td>0.7635</td>\n",
       "      <td>0.6650</td>\n",
       "      <td>0.3857</td>\n",
       "      <td>0.7316</td>\n",
       "      <td>0.6855</td>\n",
       "      <td>0.1044</td>\n",
       "      <td>0.1670</td>\n",
       "    </tr>\n",
       "    <tr>\n",
       "      <th>Mean</th>\n",
       "      <td>0.7645</td>\n",
       "      <td>0.6696</td>\n",
       "      <td>0.3888</td>\n",
       "      <td>0.7206</td>\n",
       "      <td>0.6873</td>\n",
       "      <td>0.1108</td>\n",
       "      <td>0.1750</td>\n",
       "    </tr>\n",
       "    <tr>\n",
       "      <th>SD</th>\n",
       "      <td>0.0009</td>\n",
       "      <td>0.0039</td>\n",
       "      <td>0.0026</td>\n",
       "      <td>0.0059</td>\n",
       "      <td>0.0014</td>\n",
       "      <td>0.0051</td>\n",
       "      <td>0.0064</td>\n",
       "    </tr>\n",
       "  </tbody>\n",
       "</table>\n",
       "</div>"
      ],
      "text/plain": [
       "      Accuracy     AUC  Recall   Prec.      F1   Kappa     MCC\n",
       "0       0.7660  0.6708  0.3933  0.7214  0.6899  0.1197  0.1863\n",
       "1       0.7649  0.6756  0.3891  0.7149  0.6875  0.1116  0.1769\n",
       "2       0.7637  0.6708  0.3890  0.7167  0.6870  0.1108  0.1724\n",
       "3       0.7644  0.6659  0.3869  0.7182  0.6868  0.1076  0.1725\n",
       "4       0.7635  0.6650  0.3857  0.7316  0.6855  0.1044  0.1670\n",
       "Mean    0.7645  0.6696  0.3888  0.7206  0.6873  0.1108  0.1750\n",
       "SD      0.0009  0.0039  0.0026  0.0059  0.0014  0.0051  0.0064"
      ]
     },
     "metadata": {
      "tags": []
     },
     "output_type": "display_data"
    }
   ],
   "source": [
    "lr = create_model('lr',\n",
    "                  fold=5)"
   ]
  },
  {
   "cell_type": "code",
   "execution_count": 299,
   "id": "10d69385",
   "metadata": {
    "colab": {
     "base_uri": "https://localhost:8080/"
    },
    "executionInfo": {
     "elapsed": 33,
     "status": "ok",
     "timestamp": 1628977244515,
     "user": {
      "displayName": "RODRIGO SILVA PERES",
      "photoUrl": "",
      "userId": "00311338069675780007"
     },
     "user_tz": 180
    },
    "id": "4LD7RULrmiL3",
    "outputId": "65c17a0d-d4d9-4ef1-b963-4735a477f2d5"
   },
   "outputs": [
    {
     "data": {
      "text/plain": [
       "LogisticRegression(C=1.0, class_weight=None, dual=False, fit_intercept=True,\n",
       "                   intercept_scaling=1, l1_ratio=None, max_iter=1000,\n",
       "                   multi_class='auto', n_jobs=None, penalty='l2',\n",
       "                   random_state=7, solver='lbfgs', tol=0.0001, verbose=0,\n",
       "                   warm_start=False)"
      ]
     },
     "execution_count": 299,
     "metadata": {
      "tags": []
     },
     "output_type": "execute_result"
    }
   ],
   "source": [
    "lr"
   ]
  },
  {
   "cell_type": "code",
   "execution_count": 301,
   "id": "dc135e14",
   "metadata": {
    "colab": {
     "base_uri": "https://localhost:8080/",
     "height": 478
    },
    "executionInfo": {
     "elapsed": 672,
     "status": "ok",
     "timestamp": 1628977245178,
     "user": {
      "displayName": "RODRIGO SILVA PERES",
      "photoUrl": "",
      "userId": "00311338069675780007"
     },
     "user_tz": 180
    },
    "id": "xILdcImumtNV",
    "outputId": "601d55dd-6153-4c46-e1d4-b4591bff14d9"
   },
   "outputs": [
    {
     "data": {
      "image/png": "[encoded data removed]",
      "text/plain": [
       "<Figure size 800x500 with 1 Axes>"
      ]
     },
     "metadata": {
      "tags": []
     },
     "output_type": "display_data"
    }
   ],
   "source": [
    "plot_model(lr, plot='feature')"
   ]
  },
  {
   "cell_type": "code",
   "execution_count": 304,
   "id": "1996a956",
   "metadata": {
    "colab": {
     "base_uri": "https://localhost:8080/",
     "height": 266,
     "referenced_widgets": [
      "d06bdebc22ef464e8c0c58f6d5c84c8c",
      "ab1afdadff6546f8be2c29dd03cf00a6",
      "443bc8e46a1e40f5a667fd053d0ca0f1"
     ]
    },
    "executionInfo": {
     "elapsed": 489873,
     "status": "ok",
     "timestamp": 1628977776234,
     "user": {
      "displayName": "RODRIGO SILVA PERES",
      "photoUrl": "",
      "userId": "00311338069675780007"
     },
     "user_tz": 180
    },
    "id": "2v3IDf1CnKO8",
    "outputId": "f740efae-f48c-4b5f-e07f-83da196548ff"
   },
   "outputs": [
    {
     "data": {
      "text/html": [
       "<div>\n",
       "<style scoped>\n",
       "    .dataframe tbody tr th:only-of-type {\n",
       "        vertical-align: middle;\n",
       "    }\n",
       "\n",
       "    .dataframe tbody tr th {\n",
       "        vertical-align: top;\n",
       "    }\n",
       "\n",
       "    .dataframe thead th {\n",
       "        text-align: right;\n",
       "    }\n",
       "</style>\n",
       "<table border=\"1\" class=\"dataframe\">\n",
       "  <thead>\n",
       "    <tr style=\"text-align: right;\">\n",
       "      <th></th>\n",
       "      <th>Accuracy</th>\n",
       "      <th>AUC</th>\n",
       "      <th>Recall</th>\n",
       "      <th>Prec.</th>\n",
       "      <th>F1</th>\n",
       "      <th>Kappa</th>\n",
       "      <th>MCC</th>\n",
       "    </tr>\n",
       "  </thead>\n",
       "  <tbody>\n",
       "    <tr>\n",
       "      <th>0</th>\n",
       "      <td>0.7246</td>\n",
       "      <td>0.5926</td>\n",
       "      <td>0.4245</td>\n",
       "      <td>0.6719</td>\n",
       "      <td>0.6893</td>\n",
       "      <td>0.1415</td>\n",
       "      <td>0.1519</td>\n",
       "    </tr>\n",
       "    <tr>\n",
       "      <th>1</th>\n",
       "      <td>0.7460</td>\n",
       "      <td>0.5969</td>\n",
       "      <td>0.4322</td>\n",
       "      <td>0.6892</td>\n",
       "      <td>0.7015</td>\n",
       "      <td>0.1684</td>\n",
       "      <td>0.1900</td>\n",
       "    </tr>\n",
       "    <tr>\n",
       "      <th>2</th>\n",
       "      <td>0.7383</td>\n",
       "      <td>0.5927</td>\n",
       "      <td>0.4052</td>\n",
       "      <td>0.6716</td>\n",
       "      <td>0.6876</td>\n",
       "      <td>0.1227</td>\n",
       "      <td>0.1428</td>\n",
       "    </tr>\n",
       "    <tr>\n",
       "      <th>3</th>\n",
       "      <td>0.7344</td>\n",
       "      <td>0.5853</td>\n",
       "      <td>0.4174</td>\n",
       "      <td>0.6729</td>\n",
       "      <td>0.6907</td>\n",
       "      <td>0.1377</td>\n",
       "      <td>0.1537</td>\n",
       "    </tr>\n",
       "    <tr>\n",
       "      <th>4</th>\n",
       "      <td>0.7367</td>\n",
       "      <td>0.5892</td>\n",
       "      <td>0.4189</td>\n",
       "      <td>0.6759</td>\n",
       "      <td>0.6925</td>\n",
       "      <td>0.1425</td>\n",
       "      <td>0.1596</td>\n",
       "    </tr>\n",
       "    <tr>\n",
       "      <th>Mean</th>\n",
       "      <td>0.7360</td>\n",
       "      <td>0.5913</td>\n",
       "      <td>0.4196</td>\n",
       "      <td>0.6763</td>\n",
       "      <td>0.6923</td>\n",
       "      <td>0.1425</td>\n",
       "      <td>0.1596</td>\n",
       "    </tr>\n",
       "    <tr>\n",
       "      <th>SD</th>\n",
       "      <td>0.0069</td>\n",
       "      <td>0.0039</td>\n",
       "      <td>0.0089</td>\n",
       "      <td>0.0066</td>\n",
       "      <td>0.0049</td>\n",
       "      <td>0.0147</td>\n",
       "      <td>0.0161</td>\n",
       "    </tr>\n",
       "  </tbody>\n",
       "</table>\n",
       "</div>"
      ],
      "text/plain": [
       "      Accuracy     AUC  Recall   Prec.      F1   Kappa     MCC\n",
       "0       0.7246  0.5926  0.4245  0.6719  0.6893  0.1415  0.1519\n",
       "1       0.7460  0.5969  0.4322  0.6892  0.7015  0.1684  0.1900\n",
       "2       0.7383  0.5927  0.4052  0.6716  0.6876  0.1227  0.1428\n",
       "3       0.7344  0.5853  0.4174  0.6729  0.6907  0.1377  0.1537\n",
       "4       0.7367  0.5892  0.4189  0.6759  0.6925  0.1425  0.1596\n",
       "Mean    0.7360  0.5913  0.4196  0.6763  0.6923  0.1425  0.1596\n",
       "SD      0.0069  0.0039  0.0089  0.0066  0.0049  0.0147  0.0161"
      ]
     },
     "metadata": {
      "tags": []
     },
     "output_type": "display_data"
    }
   ],
   "source": [
    "knn = create_model('knn',\n",
    "                   fold=5)"
   ]
  },
  {
   "cell_type": "code",
   "execution_count": 305,
   "id": "9d5e7b0f",
   "metadata": {
    "colab": {
     "base_uri": "https://localhost:8080/"
    },
    "executionInfo": {
     "elapsed": 14,
     "status": "ok",
     "timestamp": 1628977776998,
     "user": {
      "displayName": "RODRIGO SILVA PERES",
      "photoUrl": "",
      "userId": "00311338069675780007"
     },
     "user_tz": 180
    },
    "id": "gSMlRqjbnNXs",
    "outputId": "0db73008-85ec-456d-c534-70b931900942"
   },
   "outputs": [
    {
     "data": {
      "text/plain": [
       "KNeighborsClassifier(algorithm='auto', leaf_size=30, metric='minkowski',\n",
       "                     metric_params=None, n_jobs=-1, n_neighbors=5, p=2,\n",
       "                     weights='uniform')"
      ]
     },
     "execution_count": 305,
     "metadata": {
      "tags": []
     },
     "output_type": "execute_result"
    }
   ],
   "source": [
    "knn"
   ]
  },
  {
   "cell_type": "code",
   "execution_count": 307,
   "id": "0e523f5e",
   "metadata": {
    "colab": {
     "base_uri": "https://localhost:8080/",
     "height": 323
    },
    "collapsed": true,
    "executionInfo": {
     "elapsed": 249,
     "status": "error",
     "timestamp": 1628977922588,
     "user": {
      "displayName": "RODRIGO SILVA PERES",
      "photoUrl": "",
      "userId": "00311338069675780007"
     },
     "user_tz": 180
    },
    "id": "_tkUdCf_pgvs",
    "jupyter": {
     "outputs_hidden": true
    },
    "outputId": "0d13d2c6-173c-4cf9-b6c4-cf46146f8698"
   },
   "outputs": [
    {
     "ename": "TypeError",
     "evalue": "ignored",
     "output_type": "error",
     "traceback": [
      "\u001b[0;31m---------------------------------------------------------------------------\u001b[0m",
      "\u001b[0;31mTypeError\u001b[0m                                 Traceback (most recent call last)",
      "\u001b[0;32m<ipython-input-307-261adcbdc903>\u001b[0m in \u001b[0;36m<module>\u001b[0;34m()\u001b[0m\n\u001b[0;32m----> 1\u001b[0;31m \u001b[0mplot_model\u001b[0m\u001b[0;34m(\u001b[0m\u001b[0mknn\u001b[0m\u001b[0;34m,\u001b[0m \u001b[0mplot\u001b[0m\u001b[0;34m=\u001b[0m\u001b[0;34m'feature'\u001b[0m\u001b[0;34m)\u001b[0m\u001b[0;34m\u001b[0m\u001b[0;34m\u001b[0m\u001b[0m\n\u001b[0m",
      "\u001b[0;32m/usr/local/lib/python3.7/dist-packages/pycaret/classification.py\u001b[0m in \u001b[0;36mplot_model\u001b[0;34m(estimator, plot, scale, save, fold, fit_kwargs, groups, use_train_data, verbose, display_format)\u001b[0m\n\u001b[1;32m   1549\u001b[0m         \u001b[0muse_train_data\u001b[0m\u001b[0;34m=\u001b[0m\u001b[0muse_train_data\u001b[0m\u001b[0;34m,\u001b[0m\u001b[0;34m\u001b[0m\u001b[0;34m\u001b[0m\u001b[0m\n\u001b[1;32m   1550\u001b[0m         \u001b[0msystem\u001b[0m\u001b[0;34m=\u001b[0m\u001b[0;32mTrue\u001b[0m\u001b[0;34m,\u001b[0m\u001b[0;34m\u001b[0m\u001b[0;34m\u001b[0m\u001b[0m\n\u001b[0;32m-> 1551\u001b[0;31m         \u001b[0mdisplay_format\u001b[0m\u001b[0;34m=\u001b[0m\u001b[0mdisplay_format\u001b[0m\u001b[0;34m,\u001b[0m\u001b[0;34m\u001b[0m\u001b[0;34m\u001b[0m\u001b[0m\n\u001b[0m\u001b[1;32m   1552\u001b[0m     )\n\u001b[1;32m   1553\u001b[0m \u001b[0;34m\u001b[0m\u001b[0m\n",
      "\u001b[0;32m/usr/local/lib/python3.7/dist-packages/pycaret/internal/tabular.py\u001b[0m in \u001b[0;36mplot_model\u001b[0;34m(estimator, plot, scale, save, fold, fit_kwargs, groups, feature_name, label, use_train_data, verbose, system, display, display_format, is_in_evaluate)\u001b[0m\n\u001b[1;32m   5832\u001b[0m     ) and (plot == \"feature\" or plot == \"feature_all\" or plot == \"rfe\"):\n\u001b[1;32m   5833\u001b[0m         raise TypeError(\n\u001b[0;32m-> 5834\u001b[0;31m             \u001b[0;34m\"Feature Importance and RFE plots not available for estimators that doesnt support coef_ or feature_importances_ attribute.\"\u001b[0m\u001b[0;34m\u001b[0m\u001b[0;34m\u001b[0m\u001b[0m\n\u001b[0m\u001b[1;32m   5835\u001b[0m         )\n\u001b[1;32m   5836\u001b[0m \u001b[0;34m\u001b[0m\u001b[0m\n",
      "\u001b[0;31mTypeError\u001b[0m: Feature Importance and RFE plots not available for estimators that doesnt support coef_ or feature_importances_ attribute."
     ]
    }
   ],
   "source": [
    "plot_model(knn, plot='feature')"
   ]
  },
  {
   "cell_type": "code",
   "execution_count": 308,
   "id": "ef131e6f",
   "metadata": {
    "colab": {
     "base_uri": "https://localhost:8080/",
     "height": 266,
     "referenced_widgets": [
      "bba77af586fb4691a37e138ba9a72d1a",
      "bfabee6fd1fd40ae85c92cd2e17cb795",
      "5eb396bb87f44223a91c13594f5c0fe6"
     ]
    },
    "executionInfo": {
     "elapsed": 1680,
     "status": "ok",
     "timestamp": 1628977958790,
     "user": {
      "displayName": "RODRIGO SILVA PERES",
      "photoUrl": "",
      "userId": "00311338069675780007"
     },
     "user_tz": 180
    },
    "id": "7O67sn4Kpoo3",
    "outputId": "afe93fc0-bbbe-4c06-9a1b-d3c07400ab22"
   },
   "outputs": [
    {
     "data": {
      "text/html": [
       "<div>\n",
       "<style scoped>\n",
       "    .dataframe tbody tr th:only-of-type {\n",
       "        vertical-align: middle;\n",
       "    }\n",
       "\n",
       "    .dataframe tbody tr th {\n",
       "        vertical-align: top;\n",
       "    }\n",
       "\n",
       "    .dataframe thead th {\n",
       "        text-align: right;\n",
       "    }\n",
       "</style>\n",
       "<table border=\"1\" class=\"dataframe\">\n",
       "  <thead>\n",
       "    <tr style=\"text-align: right;\">\n",
       "      <th></th>\n",
       "      <th>Accuracy</th>\n",
       "      <th>AUC</th>\n",
       "      <th>Recall</th>\n",
       "      <th>Prec.</th>\n",
       "      <th>F1</th>\n",
       "      <th>Kappa</th>\n",
       "      <th>MCC</th>\n",
       "    </tr>\n",
       "  </thead>\n",
       "  <tbody>\n",
       "    <tr>\n",
       "      <th>0</th>\n",
       "      <td>0.4211</td>\n",
       "      <td>0.6518</td>\n",
       "      <td>0.5845</td>\n",
       "      <td>0.6854</td>\n",
       "      <td>0.4461</td>\n",
       "      <td>0.1544</td>\n",
       "      <td>0.2076</td>\n",
       "    </tr>\n",
       "    <tr>\n",
       "      <th>1</th>\n",
       "      <td>0.4277</td>\n",
       "      <td>0.6578</td>\n",
       "      <td>0.5909</td>\n",
       "      <td>0.6923</td>\n",
       "      <td>0.4533</td>\n",
       "      <td>0.1615</td>\n",
       "      <td>0.2165</td>\n",
       "    </tr>\n",
       "    <tr>\n",
       "      <th>2</th>\n",
       "      <td>0.4168</td>\n",
       "      <td>0.6503</td>\n",
       "      <td>0.5829</td>\n",
       "      <td>0.6874</td>\n",
       "      <td>0.4412</td>\n",
       "      <td>0.1533</td>\n",
       "      <td>0.2076</td>\n",
       "    </tr>\n",
       "    <tr>\n",
       "      <th>3</th>\n",
       "      <td>0.4300</td>\n",
       "      <td>0.6532</td>\n",
       "      <td>0.5828</td>\n",
       "      <td>0.6857</td>\n",
       "      <td>0.4576</td>\n",
       "      <td>0.1565</td>\n",
       "      <td>0.2075</td>\n",
       "    </tr>\n",
       "    <tr>\n",
       "      <th>4</th>\n",
       "      <td>0.4284</td>\n",
       "      <td>0.6468</td>\n",
       "      <td>0.5777</td>\n",
       "      <td>0.6846</td>\n",
       "      <td>0.4566</td>\n",
       "      <td>0.1539</td>\n",
       "      <td>0.2040</td>\n",
       "    </tr>\n",
       "    <tr>\n",
       "      <th>Mean</th>\n",
       "      <td>0.4248</td>\n",
       "      <td>0.6520</td>\n",
       "      <td>0.5838</td>\n",
       "      <td>0.6871</td>\n",
       "      <td>0.4509</td>\n",
       "      <td>0.1559</td>\n",
       "      <td>0.2086</td>\n",
       "    </tr>\n",
       "    <tr>\n",
       "      <th>SD</th>\n",
       "      <td>0.0050</td>\n",
       "      <td>0.0036</td>\n",
       "      <td>0.0043</td>\n",
       "      <td>0.0028</td>\n",
       "      <td>0.0063</td>\n",
       "      <td>0.0030</td>\n",
       "      <td>0.0042</td>\n",
       "    </tr>\n",
       "  </tbody>\n",
       "</table>\n",
       "</div>"
      ],
      "text/plain": [
       "      Accuracy     AUC  Recall   Prec.      F1   Kappa     MCC\n",
       "0       0.4211  0.6518  0.5845  0.6854  0.4461  0.1544  0.2076\n",
       "1       0.4277  0.6578  0.5909  0.6923  0.4533  0.1615  0.2165\n",
       "2       0.4168  0.6503  0.5829  0.6874  0.4412  0.1533  0.2076\n",
       "3       0.4300  0.6532  0.5828  0.6857  0.4576  0.1565  0.2075\n",
       "4       0.4284  0.6468  0.5777  0.6846  0.4566  0.1539  0.2040\n",
       "Mean    0.4248  0.6520  0.5838  0.6871  0.4509  0.1559  0.2086\n",
       "SD      0.0050  0.0036  0.0043  0.0028  0.0063  0.0030  0.0042"
      ]
     },
     "metadata": {
      "tags": []
     },
     "output_type": "display_data"
    }
   ],
   "source": [
    "nb = create_model('nb',\n",
    "                  fold=5)"
   ]
  },
  {
   "cell_type": "code",
   "execution_count": 309,
   "id": "8e138701",
   "metadata": {
    "colab": {
     "base_uri": "https://localhost:8080/"
    },
    "executionInfo": {
     "elapsed": 260,
     "status": "ok",
     "timestamp": 1628978013504,
     "user": {
      "displayName": "RODRIGO SILVA PERES",
      "photoUrl": "",
      "userId": "00311338069675780007"
     },
     "user_tz": 180
    },
    "id": "79qqdAaxp9um",
    "outputId": "5fd719e6-ac3f-4473-d6c7-c2edf3b15742"
   },
   "outputs": [
    {
     "data": {
      "text/plain": [
       "GaussianNB(priors=None, var_smoothing=1e-09)"
      ]
     },
     "execution_count": 309,
     "metadata": {
      "tags": []
     },
     "output_type": "execute_result"
    }
   ],
   "source": [
    "nb"
   ]
  },
  {
   "cell_type": "code",
   "execution_count": 310,
   "id": "8d20dc06",
   "metadata": {
    "colab": {
     "base_uri": "https://localhost:8080/",
     "height": 266,
     "referenced_widgets": [
      "f9481c9bdb2b4dcba436667a342740a6",
      "960e993bfc134988ab064bf31589368a",
      "a493e6a16363452ab41f515a2f5cc12c"
     ]
    },
    "executionInfo": {
     "elapsed": 13512,
     "status": "ok",
     "timestamp": 1628978032947,
     "user": {
      "displayName": "RODRIGO SILVA PERES",
      "photoUrl": "",
      "userId": "00311338069675780007"
     },
     "user_tz": 180
    },
    "id": "1Z5ao4uFpxrZ",
    "outputId": "7981f61d-2b7c-4de4-cb78-6220c5ca7a9d"
   },
   "outputs": [
    {
     "data": {
      "text/html": [
       "<div>\n",
       "<style scoped>\n",
       "    .dataframe tbody tr th:only-of-type {\n",
       "        vertical-align: middle;\n",
       "    }\n",
       "\n",
       "    .dataframe tbody tr th {\n",
       "        vertical-align: top;\n",
       "    }\n",
       "\n",
       "    .dataframe thead th {\n",
       "        text-align: right;\n",
       "    }\n",
       "</style>\n",
       "<table border=\"1\" class=\"dataframe\">\n",
       "  <thead>\n",
       "    <tr style=\"text-align: right;\">\n",
       "      <th></th>\n",
       "      <th>Accuracy</th>\n",
       "      <th>AUC</th>\n",
       "      <th>Recall</th>\n",
       "      <th>Prec.</th>\n",
       "      <th>F1</th>\n",
       "      <th>Kappa</th>\n",
       "      <th>MCC</th>\n",
       "    </tr>\n",
       "  </thead>\n",
       "  <tbody>\n",
       "    <tr>\n",
       "      <th>0</th>\n",
       "      <td>0.7302</td>\n",
       "      <td>0.6565</td>\n",
       "      <td>0.4651</td>\n",
       "      <td>0.6909</td>\n",
       "      <td>0.6894</td>\n",
       "      <td>0.1966</td>\n",
       "      <td>0.2087</td>\n",
       "    </tr>\n",
       "    <tr>\n",
       "      <th>1</th>\n",
       "      <td>0.7332</td>\n",
       "      <td>0.6605</td>\n",
       "      <td>0.4651</td>\n",
       "      <td>0.6925</td>\n",
       "      <td>0.6907</td>\n",
       "      <td>0.1987</td>\n",
       "      <td>0.2120</td>\n",
       "    </tr>\n",
       "    <tr>\n",
       "      <th>2</th>\n",
       "      <td>0.7252</td>\n",
       "      <td>0.6529</td>\n",
       "      <td>0.4620</td>\n",
       "      <td>0.6846</td>\n",
       "      <td>0.6882</td>\n",
       "      <td>0.1893</td>\n",
       "      <td>0.1994</td>\n",
       "    </tr>\n",
       "    <tr>\n",
       "      <th>3</th>\n",
       "      <td>0.7304</td>\n",
       "      <td>0.6555</td>\n",
       "      <td>0.4657</td>\n",
       "      <td>0.6904</td>\n",
       "      <td>0.6925</td>\n",
       "      <td>0.1981</td>\n",
       "      <td>0.2094</td>\n",
       "    </tr>\n",
       "    <tr>\n",
       "      <th>4</th>\n",
       "      <td>0.7264</td>\n",
       "      <td>0.6519</td>\n",
       "      <td>0.4624</td>\n",
       "      <td>0.6843</td>\n",
       "      <td>0.6885</td>\n",
       "      <td>0.1907</td>\n",
       "      <td>0.2012</td>\n",
       "    </tr>\n",
       "    <tr>\n",
       "      <th>Mean</th>\n",
       "      <td>0.7291</td>\n",
       "      <td>0.6555</td>\n",
       "      <td>0.4641</td>\n",
       "      <td>0.6886</td>\n",
       "      <td>0.6898</td>\n",
       "      <td>0.1947</td>\n",
       "      <td>0.2061</td>\n",
       "    </tr>\n",
       "    <tr>\n",
       "      <th>SD</th>\n",
       "      <td>0.0029</td>\n",
       "      <td>0.0030</td>\n",
       "      <td>0.0015</td>\n",
       "      <td>0.0034</td>\n",
       "      <td>0.0016</td>\n",
       "      <td>0.0039</td>\n",
       "      <td>0.0049</td>\n",
       "    </tr>\n",
       "  </tbody>\n",
       "</table>\n",
       "</div>"
      ],
      "text/plain": [
       "      Accuracy     AUC  Recall   Prec.      F1   Kappa     MCC\n",
       "0       0.7302  0.6565  0.4651  0.6909  0.6894  0.1966  0.2087\n",
       "1       0.7332  0.6605  0.4651  0.6925  0.6907  0.1987  0.2120\n",
       "2       0.7252  0.6529  0.4620  0.6846  0.6882  0.1893  0.1994\n",
       "3       0.7304  0.6555  0.4657  0.6904  0.6925  0.1981  0.2094\n",
       "4       0.7264  0.6519  0.4624  0.6843  0.6885  0.1907  0.2012\n",
       "Mean    0.7291  0.6555  0.4641  0.6886  0.6898  0.1947  0.2061\n",
       "SD      0.0029  0.0030  0.0015  0.0034  0.0016  0.0039  0.0049"
      ]
     },
     "metadata": {
      "tags": []
     },
     "output_type": "display_data"
    }
   ],
   "source": [
    "tuned_nb = tune_model(nb,\n",
    "                      n_iter=300,\n",
    "                      fold=5,\n",
    "                      optimize='F1')"
   ]
  },
  {
   "cell_type": "code",
   "execution_count": 311,
   "id": "05a40383",
   "metadata": {
    "colab": {
     "base_uri": "https://localhost:8080/"
    },
    "executionInfo": {
     "elapsed": 6,
     "status": "ok",
     "timestamp": 1628978034751,
     "user": {
      "displayName": "RODRIGO SILVA PERES",
      "photoUrl": "",
      "userId": "00311338069675780007"
     },
     "user_tz": 180
    },
    "id": "889j3IbWqARf",
    "outputId": "cb162208-fcb9-4e07-a884-b59692f7e1cd"
   },
   "outputs": [
    {
     "data": {
      "text/plain": [
       "GaussianNB(priors=None, var_smoothing=1)"
      ]
     },
     "execution_count": 311,
     "metadata": {
      "tags": []
     },
     "output_type": "execute_result"
    }
   ],
   "source": [
    "tuned_nb"
   ]
  },
  {
   "cell_type": "code",
   "execution_count": 312,
   "id": "19d86961",
   "metadata": {
    "colab": {
     "base_uri": "https://localhost:8080/",
     "height": 323
    },
    "collapsed": true,
    "executionInfo": {
     "elapsed": 11,
     "status": "error",
     "timestamp": 1628978054365,
     "user": {
      "displayName": "RODRIGO SILVA PERES",
      "photoUrl": "",
      "userId": "00311338069675780007"
     },
     "user_tz": 180
    },
    "id": "TsX2R0KLqB5a",
    "jupyter": {
     "outputs_hidden": true
    },
    "outputId": "2dddd570-82b8-4136-892c-27b5ae5e7756"
   },
   "outputs": [
    {
     "ename": "TypeError",
     "evalue": "ignored",
     "output_type": "error",
     "traceback": [
      "\u001b[0;31m---------------------------------------------------------------------------\u001b[0m",
      "\u001b[0;31mTypeError\u001b[0m                                 Traceback (most recent call last)",
      "\u001b[0;32m<ipython-input-312-25b3ec8c7b7b>\u001b[0m in \u001b[0;36m<module>\u001b[0;34m()\u001b[0m\n\u001b[0;32m----> 1\u001b[0;31m \u001b[0mplot_model\u001b[0m\u001b[0;34m(\u001b[0m\u001b[0mtuned_nb\u001b[0m\u001b[0;34m,\u001b[0m \u001b[0mplot\u001b[0m\u001b[0;34m=\u001b[0m\u001b[0;34m'feature'\u001b[0m\u001b[0;34m)\u001b[0m\u001b[0;34m\u001b[0m\u001b[0;34m\u001b[0m\u001b[0m\n\u001b[0m",
      "\u001b[0;32m/usr/local/lib/python3.7/dist-packages/pycaret/classification.py\u001b[0m in \u001b[0;36mplot_model\u001b[0;34m(estimator, plot, scale, save, fold, fit_kwargs, groups, use_train_data, verbose, display_format)\u001b[0m\n\u001b[1;32m   1549\u001b[0m         \u001b[0muse_train_data\u001b[0m\u001b[0;34m=\u001b[0m\u001b[0muse_train_data\u001b[0m\u001b[0;34m,\u001b[0m\u001b[0;34m\u001b[0m\u001b[0;34m\u001b[0m\u001b[0m\n\u001b[1;32m   1550\u001b[0m         \u001b[0msystem\u001b[0m\u001b[0;34m=\u001b[0m\u001b[0;32mTrue\u001b[0m\u001b[0;34m,\u001b[0m\u001b[0;34m\u001b[0m\u001b[0;34m\u001b[0m\u001b[0m\n\u001b[0;32m-> 1551\u001b[0;31m         \u001b[0mdisplay_format\u001b[0m\u001b[0;34m=\u001b[0m\u001b[0mdisplay_format\u001b[0m\u001b[0;34m,\u001b[0m\u001b[0;34m\u001b[0m\u001b[0;34m\u001b[0m\u001b[0m\n\u001b[0m\u001b[1;32m   1552\u001b[0m     )\n\u001b[1;32m   1553\u001b[0m \u001b[0;34m\u001b[0m\u001b[0m\n",
      "\u001b[0;32m/usr/local/lib/python3.7/dist-packages/pycaret/internal/tabular.py\u001b[0m in \u001b[0;36mplot_model\u001b[0;34m(estimator, plot, scale, save, fold, fit_kwargs, groups, feature_name, label, use_train_data, verbose, system, display, display_format, is_in_evaluate)\u001b[0m\n\u001b[1;32m   5832\u001b[0m     ) and (plot == \"feature\" or plot == \"feature_all\" or plot == \"rfe\"):\n\u001b[1;32m   5833\u001b[0m         raise TypeError(\n\u001b[0;32m-> 5834\u001b[0;31m             \u001b[0;34m\"Feature Importance and RFE plots not available for estimators that doesnt support coef_ or feature_importances_ attribute.\"\u001b[0m\u001b[0;34m\u001b[0m\u001b[0;34m\u001b[0m\u001b[0m\n\u001b[0m\u001b[1;32m   5835\u001b[0m         )\n\u001b[1;32m   5836\u001b[0m \u001b[0;34m\u001b[0m\u001b[0m\n",
      "\u001b[0;31mTypeError\u001b[0m: Feature Importance and RFE plots not available for estimators that doesnt support coef_ or feature_importances_ attribute."
     ]
    }
   ],
   "source": [
    "plot_model(tuned_nb, plot='feature')"
   ]
  },
  {
   "cell_type": "markdown",
   "id": "4610d7ee",
   "metadata": {
    "id": "6-cvT55Oq9Gf"
   },
   "source": [
    "### Feature importance - features do artigo + (computador e internet) e target matemática"
   ]
  },
  {
   "cell_type": "code",
   "execution_count": 313,
   "id": "29b9afe6",
   "metadata": {
    "colab": {
     "base_uri": "https://localhost:8080/",
     "height": 1000,
     "referenced_widgets": [
      "736b8e7461d24a9dbb0058001a673ebf",
      "bf16a19551714fbabcf138d1d932468d",
      "e8dfc057a0964c51b7cc03096ce5a072"
     ]
    },
    "executionInfo": {
     "elapsed": 8906,
     "status": "ok",
     "timestamp": 1628978328258,
     "user": {
      "displayName": "RODRIGO SILVA PERES",
      "photoUrl": "",
      "userId": "00311338069675780007"
     },
     "user_tz": 180
    },
    "id": "Omi81BNQq9Gg",
    "outputId": "3d71600c-7f16-4476-9901-e7b045e1963c"
   },
   "outputs": [
    {
     "data": {
      "text/html": [
       "<div>\n",
       "<style scoped>\n",
       "    .dataframe tbody tr th:only-of-type {\n",
       "        vertical-align: middle;\n",
       "    }\n",
       "\n",
       "    .dataframe tbody tr th {\n",
       "        vertical-align: top;\n",
       "    }\n",
       "\n",
       "    .dataframe thead th {\n",
       "        text-align: right;\n",
       "    }\n",
       "</style>\n",
       "<table border=\"1\" class=\"dataframe\">\n",
       "  <thead>\n",
       "    <tr style=\"text-align: right;\">\n",
       "      <th></th>\n",
       "      <th>Description</th>\n",
       "      <th>Value</th>\n",
       "    </tr>\n",
       "  </thead>\n",
       "  <tbody>\n",
       "    <tr>\n",
       "      <th>0</th>\n",
       "      <td>session_id</td>\n",
       "      <td>7</td>\n",
       "    </tr>\n",
       "    <tr>\n",
       "      <th>1</th>\n",
       "      <td>Target</td>\n",
       "      <td>CLASSE_RENDIMENTO</td>\n",
       "    </tr>\n",
       "    <tr>\n",
       "      <th>2</th>\n",
       "      <td>Target Type</td>\n",
       "      <td>Multiclass</td>\n",
       "    </tr>\n",
       "    <tr>\n",
       "      <th>3</th>\n",
       "      <td>Label Encoded</td>\n",
       "      <td>EXCELENTE: 0, INSUFICIENTE: 1, REGULAR: 2</td>\n",
       "    </tr>\n",
       "    <tr>\n",
       "      <th>4</th>\n",
       "      <td>Original Data</td>\n",
       "      <td>(325364, 9)</td>\n",
       "    </tr>\n",
       "    <tr>\n",
       "      <th>5</th>\n",
       "      <td>Missing Values</td>\n",
       "      <td>True</td>\n",
       "    </tr>\n",
       "    <tr>\n",
       "      <th>6</th>\n",
       "      <td>Numeric Features</td>\n",
       "      <td>0</td>\n",
       "    </tr>\n",
       "    <tr>\n",
       "      <th>7</th>\n",
       "      <td>Categorical Features</td>\n",
       "      <td>7</td>\n",
       "    </tr>\n",
       "    <tr>\n",
       "      <th>8</th>\n",
       "      <td>Ordinal Features</td>\n",
       "      <td>False</td>\n",
       "    </tr>\n",
       "    <tr>\n",
       "      <th>9</th>\n",
       "      <td>High Cardinality Features</td>\n",
       "      <td>False</td>\n",
       "    </tr>\n",
       "    <tr>\n",
       "      <th>10</th>\n",
       "      <td>High Cardinality Method</td>\n",
       "      <td>None</td>\n",
       "    </tr>\n",
       "    <tr>\n",
       "      <th>11</th>\n",
       "      <td>Transformed Train Set</td>\n",
       "      <td>(188790, 25)</td>\n",
       "    </tr>\n",
       "    <tr>\n",
       "      <th>12</th>\n",
       "      <td>Transformed Test Set</td>\n",
       "      <td>(47043, 25)</td>\n",
       "    </tr>\n",
       "    <tr>\n",
       "      <th>13</th>\n",
       "      <td>Shuffle Train-Test</td>\n",
       "      <td>True</td>\n",
       "    </tr>\n",
       "    <tr>\n",
       "      <th>14</th>\n",
       "      <td>Stratify Train-Test</td>\n",
       "      <td>False</td>\n",
       "    </tr>\n",
       "    <tr>\n",
       "      <th>15</th>\n",
       "      <td>Fold Generator</td>\n",
       "      <td>StratifiedKFold</td>\n",
       "    </tr>\n",
       "    <tr>\n",
       "      <th>16</th>\n",
       "      <td>Fold Number</td>\n",
       "      <td>5</td>\n",
       "    </tr>\n",
       "    <tr>\n",
       "      <th>17</th>\n",
       "      <td>CPU Jobs</td>\n",
       "      <td>-1</td>\n",
       "    </tr>\n",
       "    <tr>\n",
       "      <th>18</th>\n",
       "      <td>Use GPU</td>\n",
       "      <td>True</td>\n",
       "    </tr>\n",
       "    <tr>\n",
       "      <th>19</th>\n",
       "      <td>Log Experiment</td>\n",
       "      <td>False</td>\n",
       "    </tr>\n",
       "    <tr>\n",
       "      <th>20</th>\n",
       "      <td>Experiment Name</td>\n",
       "      <td>clf-default-name</td>\n",
       "    </tr>\n",
       "    <tr>\n",
       "      <th>21</th>\n",
       "      <td>USI</td>\n",
       "      <td>c3b3</td>\n",
       "    </tr>\n",
       "    <tr>\n",
       "      <th>22</th>\n",
       "      <td>Imputation Type</td>\n",
       "      <td>simple</td>\n",
       "    </tr>\n",
       "    <tr>\n",
       "      <th>23</th>\n",
       "      <td>Iterative Imputation Iteration</td>\n",
       "      <td>None</td>\n",
       "    </tr>\n",
       "    <tr>\n",
       "      <th>24</th>\n",
       "      <td>Numeric Imputer</td>\n",
       "      <td>mean</td>\n",
       "    </tr>\n",
       "    <tr>\n",
       "      <th>25</th>\n",
       "      <td>Iterative Imputation Numeric Model</td>\n",
       "      <td>None</td>\n",
       "    </tr>\n",
       "    <tr>\n",
       "      <th>26</th>\n",
       "      <td>Categorical Imputer</td>\n",
       "      <td>constant</td>\n",
       "    </tr>\n",
       "    <tr>\n",
       "      <th>27</th>\n",
       "      <td>Iterative Imputation Categorical Model</td>\n",
       "      <td>None</td>\n",
       "    </tr>\n",
       "    <tr>\n",
       "      <th>28</th>\n",
       "      <td>Unknown Categoricals Handling</td>\n",
       "      <td>least_frequent</td>\n",
       "    </tr>\n",
       "    <tr>\n",
       "      <th>29</th>\n",
       "      <td>Normalize</td>\n",
       "      <td>False</td>\n",
       "    </tr>\n",
       "    <tr>\n",
       "      <th>30</th>\n",
       "      <td>Normalize Method</td>\n",
       "      <td>None</td>\n",
       "    </tr>\n",
       "    <tr>\n",
       "      <th>31</th>\n",
       "      <td>Transformation</td>\n",
       "      <td>False</td>\n",
       "    </tr>\n",
       "    <tr>\n",
       "      <th>32</th>\n",
       "      <td>Transformation Method</td>\n",
       "      <td>None</td>\n",
       "    </tr>\n",
       "    <tr>\n",
       "      <th>33</th>\n",
       "      <td>PCA</td>\n",
       "      <td>False</td>\n",
       "    </tr>\n",
       "    <tr>\n",
       "      <th>34</th>\n",
       "      <td>PCA Method</td>\n",
       "      <td>None</td>\n",
       "    </tr>\n",
       "    <tr>\n",
       "      <th>35</th>\n",
       "      <td>PCA Components</td>\n",
       "      <td>None</td>\n",
       "    </tr>\n",
       "    <tr>\n",
       "      <th>36</th>\n",
       "      <td>Ignore Low Variance</td>\n",
       "      <td>False</td>\n",
       "    </tr>\n",
       "    <tr>\n",
       "      <th>37</th>\n",
       "      <td>Combine Rare Levels</td>\n",
       "      <td>False</td>\n",
       "    </tr>\n",
       "    <tr>\n",
       "      <th>38</th>\n",
       "      <td>Rare Level Threshold</td>\n",
       "      <td>None</td>\n",
       "    </tr>\n",
       "    <tr>\n",
       "      <th>39</th>\n",
       "      <td>Numeric Binning</td>\n",
       "      <td>False</td>\n",
       "    </tr>\n",
       "    <tr>\n",
       "      <th>40</th>\n",
       "      <td>Remove Outliers</td>\n",
       "      <td>False</td>\n",
       "    </tr>\n",
       "    <tr>\n",
       "      <th>41</th>\n",
       "      <td>Outliers Threshold</td>\n",
       "      <td>None</td>\n",
       "    </tr>\n",
       "    <tr>\n",
       "      <th>42</th>\n",
       "      <td>Remove Multicollinearity</td>\n",
       "      <td>False</td>\n",
       "    </tr>\n",
       "    <tr>\n",
       "      <th>43</th>\n",
       "      <td>Multicollinearity Threshold</td>\n",
       "      <td>None</td>\n",
       "    </tr>\n",
       "    <tr>\n",
       "      <th>44</th>\n",
       "      <td>Remove Perfect Collinearity</td>\n",
       "      <td>True</td>\n",
       "    </tr>\n",
       "    <tr>\n",
       "      <th>45</th>\n",
       "      <td>Clustering</td>\n",
       "      <td>False</td>\n",
       "    </tr>\n",
       "    <tr>\n",
       "      <th>46</th>\n",
       "      <td>Clustering Iteration</td>\n",
       "      <td>None</td>\n",
       "    </tr>\n",
       "    <tr>\n",
       "      <th>47</th>\n",
       "      <td>Polynomial Features</td>\n",
       "      <td>False</td>\n",
       "    </tr>\n",
       "    <tr>\n",
       "      <th>48</th>\n",
       "      <td>Polynomial Degree</td>\n",
       "      <td>None</td>\n",
       "    </tr>\n",
       "    <tr>\n",
       "      <th>49</th>\n",
       "      <td>Trignometry Features</td>\n",
       "      <td>False</td>\n",
       "    </tr>\n",
       "    <tr>\n",
       "      <th>50</th>\n",
       "      <td>Polynomial Threshold</td>\n",
       "      <td>None</td>\n",
       "    </tr>\n",
       "    <tr>\n",
       "      <th>51</th>\n",
       "      <td>Group Features</td>\n",
       "      <td>False</td>\n",
       "    </tr>\n",
       "    <tr>\n",
       "      <th>52</th>\n",
       "      <td>Feature Selection</td>\n",
       "      <td>False</td>\n",
       "    </tr>\n",
       "    <tr>\n",
       "      <th>53</th>\n",
       "      <td>Feature Selection Method</td>\n",
       "      <td>classic</td>\n",
       "    </tr>\n",
       "    <tr>\n",
       "      <th>54</th>\n",
       "      <td>Features Selection Threshold</td>\n",
       "      <td>None</td>\n",
       "    </tr>\n",
       "    <tr>\n",
       "      <th>55</th>\n",
       "      <td>Feature Interaction</td>\n",
       "      <td>False</td>\n",
       "    </tr>\n",
       "    <tr>\n",
       "      <th>56</th>\n",
       "      <td>Feature Ratio</td>\n",
       "      <td>False</td>\n",
       "    </tr>\n",
       "    <tr>\n",
       "      <th>57</th>\n",
       "      <td>Interaction Threshold</td>\n",
       "      <td>None</td>\n",
       "    </tr>\n",
       "    <tr>\n",
       "      <th>58</th>\n",
       "      <td>Fix Imbalance</td>\n",
       "      <td>False</td>\n",
       "    </tr>\n",
       "    <tr>\n",
       "      <th>59</th>\n",
       "      <td>Fix Imbalance Method</td>\n",
       "      <td>SMOTE</td>\n",
       "    </tr>\n",
       "  </tbody>\n",
       "</table>\n",
       "</div>"
      ],
      "text/plain": [
       "                               Description                                      Value\n",
       "0                               session_id                                          7\n",
       "1                                   Target                          CLASSE_RENDIMENTO\n",
       "2                              Target Type                                 Multiclass\n",
       "3                            Label Encoded  EXCELENTE: 0, INSUFICIENTE: 1, REGULAR: 2\n",
       "4                            Original Data                                (325364, 9)\n",
       "5                           Missing Values                                       True\n",
       "6                         Numeric Features                                          0\n",
       "7                     Categorical Features                                          7\n",
       "8                         Ordinal Features                                      False\n",
       "9                High Cardinality Features                                      False\n",
       "10                 High Cardinality Method                                       None\n",
       "11                   Transformed Train Set                               (188790, 25)\n",
       "12                    Transformed Test Set                                (47043, 25)\n",
       "13                      Shuffle Train-Test                                       True\n",
       "14                     Stratify Train-Test                                      False\n",
       "15                          Fold Generator                            StratifiedKFold\n",
       "16                             Fold Number                                          5\n",
       "17                                CPU Jobs                                         -1\n",
       "18                                 Use GPU                                       True\n",
       "19                          Log Experiment                                      False\n",
       "20                         Experiment Name                           clf-default-name\n",
       "21                                     USI                                       c3b3\n",
       "22                         Imputation Type                                     simple\n",
       "23          Iterative Imputation Iteration                                       None\n",
       "24                         Numeric Imputer                                       mean\n",
       "25      Iterative Imputation Numeric Model                                       None\n",
       "26                     Categorical Imputer                                   constant\n",
       "27  Iterative Imputation Categorical Model                                       None\n",
       "28           Unknown Categoricals Handling                             least_frequent\n",
       "29                               Normalize                                      False\n",
       "30                        Normalize Method                                       None\n",
       "31                          Transformation                                      False\n",
       "32                   Transformation Method                                       None\n",
       "33                                     PCA                                      False\n",
       "34                              PCA Method                                       None\n",
       "35                          PCA Components                                       None\n",
       "36                     Ignore Low Variance                                      False\n",
       "37                     Combine Rare Levels                                      False\n",
       "38                    Rare Level Threshold                                       None\n",
       "39                         Numeric Binning                                      False\n",
       "40                         Remove Outliers                                      False\n",
       "41                      Outliers Threshold                                       None\n",
       "42                Remove Multicollinearity                                      False\n",
       "43             Multicollinearity Threshold                                       None\n",
       "44             Remove Perfect Collinearity                                       True\n",
       "45                              Clustering                                      False\n",
       "46                    Clustering Iteration                                       None\n",
       "47                     Polynomial Features                                      False\n",
       "48                       Polynomial Degree                                       None\n",
       "49                    Trignometry Features                                      False\n",
       "50                    Polynomial Threshold                                       None\n",
       "51                          Group Features                                      False\n",
       "52                       Feature Selection                                      False\n",
       "53                Feature Selection Method                                    classic\n",
       "54            Features Selection Threshold                                       None\n",
       "55                     Feature Interaction                                      False\n",
       "56                           Feature Ratio                                      False\n",
       "57                   Interaction Threshold                                       None\n",
       "58                           Fix Imbalance                                      False\n",
       "59                    Fix Imbalance Method                                      SMOTE"
      ]
     },
     "metadata": {
      "tags": []
     },
     "output_type": "display_data"
    }
   ],
   "source": [
    "from pycaret.classification import *\n",
    "\n",
    "init = setup(data=microdados_rj,\n",
    "             ignore_features=['CLASSE_RENDIMENTO_GERAL'],\n",
    "             target='CLASSE_RENDIMENTO',\n",
    "             train_size=0.8,\n",
    "             fold=5,\n",
    "             fix_imbalance=False,\n",
    "             use_gpu=True,\n",
    "             silent=True,\n",
    "             session_id=7)"
   ]
  },
  {
   "cell_type": "code",
   "execution_count": 314,
   "id": "347d3ba1",
   "metadata": {
    "colab": {
     "base_uri": "https://localhost:8080/",
     "height": 354,
     "referenced_widgets": [
      "b17ccbb1528940cb90cf81d0735f9a44",
      "1af10ff594154bb4bca0ef982ff4b945",
      "a0d45aa103ae40d2999ba49dcefbd29b"
     ]
    },
    "executionInfo": {
     "elapsed": 606519,
     "status": "ok",
     "timestamp": 1628978934763,
     "user": {
      "displayName": "RODRIGO SILVA PERES",
      "photoUrl": "",
      "userId": "00311338069675780007"
     },
     "user_tz": 180
    },
    "id": "NFTZrG-tq9Gh",
    "outputId": "ef70ba68-fe69-41eb-e80a-7c6275292ba6"
   },
   "outputs": [
    {
     "data": {
      "text/html": [
       "<div>\n",
       "<style scoped>\n",
       "    .dataframe tbody tr th:only-of-type {\n",
       "        vertical-align: middle;\n",
       "    }\n",
       "\n",
       "    .dataframe tbody tr th {\n",
       "        vertical-align: top;\n",
       "    }\n",
       "\n",
       "    .dataframe thead th {\n",
       "        text-align: right;\n",
       "    }\n",
       "</style>\n",
       "<table border=\"1\" class=\"dataframe\">\n",
       "  <thead>\n",
       "    <tr style=\"text-align: right;\">\n",
       "      <th></th>\n",
       "      <th>Model</th>\n",
       "      <th>Accuracy</th>\n",
       "      <th>AUC</th>\n",
       "      <th>Recall</th>\n",
       "      <th>Prec.</th>\n",
       "      <th>F1</th>\n",
       "      <th>Kappa</th>\n",
       "      <th>MCC</th>\n",
       "      <th>TT (Sec)</th>\n",
       "    </tr>\n",
       "  </thead>\n",
       "  <tbody>\n",
       "    <tr>\n",
       "      <th>lightgbm</th>\n",
       "      <td>Light Gradient Boosting Machine</td>\n",
       "      <td>0.5804</td>\n",
       "      <td>0.6591</td>\n",
       "      <td>0.4394</td>\n",
       "      <td>0.5706</td>\n",
       "      <td>0.5145</td>\n",
       "      <td>0.1609</td>\n",
       "      <td>0.2003</td>\n",
       "      <td>4.426</td>\n",
       "    </tr>\n",
       "    <tr>\n",
       "      <th>lr</th>\n",
       "      <td>Logistic Regression</td>\n",
       "      <td>0.5785</td>\n",
       "      <td>0.6585</td>\n",
       "      <td>0.4436</td>\n",
       "      <td>0.5670</td>\n",
       "      <td>0.5149</td>\n",
       "      <td>0.1642</td>\n",
       "      <td>0.2002</td>\n",
       "      <td>11.696</td>\n",
       "    </tr>\n",
       "    <tr>\n",
       "      <th>rf</th>\n",
       "      <td>Random Forest Classifier</td>\n",
       "      <td>0.5773</td>\n",
       "      <td>0.6516</td>\n",
       "      <td>0.4425</td>\n",
       "      <td>0.5614</td>\n",
       "      <td>0.5184</td>\n",
       "      <td>0.1636</td>\n",
       "      <td>0.1966</td>\n",
       "      <td>9.706</td>\n",
       "    </tr>\n",
       "    <tr>\n",
       "      <th>dt</th>\n",
       "      <td>Decision Tree Classifier</td>\n",
       "      <td>0.5761</td>\n",
       "      <td>0.6508</td>\n",
       "      <td>0.4431</td>\n",
       "      <td>0.5587</td>\n",
       "      <td>0.5187</td>\n",
       "      <td>0.1637</td>\n",
       "      <td>0.1950</td>\n",
       "      <td>0.412</td>\n",
       "    </tr>\n",
       "    <tr>\n",
       "      <th>knn</th>\n",
       "      <td>K Neighbors Classifier</td>\n",
       "      <td>0.5063</td>\n",
       "      <td>0.5982</td>\n",
       "      <td>0.4489</td>\n",
       "      <td>0.4941</td>\n",
       "      <td>0.4971</td>\n",
       "      <td>0.1418</td>\n",
       "      <td>0.1430</td>\n",
       "      <td>93.556</td>\n",
       "    </tr>\n",
       "    <tr>\n",
       "      <th>nb</th>\n",
       "      <td>Naive Bayes</td>\n",
       "      <td>0.4158</td>\n",
       "      <td>0.6456</td>\n",
       "      <td>0.5287</td>\n",
       "      <td>0.5108</td>\n",
       "      <td>0.3713</td>\n",
       "      <td>0.1839</td>\n",
       "      <td>0.2232</td>\n",
       "      <td>0.250</td>\n",
       "    </tr>\n",
       "  </tbody>\n",
       "</table>\n",
       "</div>"
      ],
      "text/plain": [
       "                                    Model  Accuracy     AUC  Recall   Prec.  \\\n",
       "lightgbm  Light Gradient Boosting Machine    0.5804  0.6591  0.4394  0.5706   \n",
       "lr                    Logistic Regression    0.5785  0.6585  0.4436  0.5670   \n",
       "rf               Random Forest Classifier    0.5773  0.6516  0.4425  0.5614   \n",
       "dt               Decision Tree Classifier    0.5761  0.6508  0.4431  0.5587   \n",
       "knn                K Neighbors Classifier    0.5063  0.5982  0.4489  0.4941   \n",
       "nb                            Naive Bayes    0.4158  0.6456  0.5287  0.5108   \n",
       "\n",
       "              F1   Kappa     MCC  TT (Sec)  \n",
       "lightgbm  0.5145  0.1609  0.2003     4.426  \n",
       "lr        0.5149  0.1642  0.2002    11.696  \n",
       "rf        0.5184  0.1636  0.1966     9.706  \n",
       "dt        0.5187  0.1637  0.1950     0.412  \n",
       "knn       0.4971  0.1418  0.1430    93.556  \n",
       "nb        0.3713  0.1839  0.2232     0.250  "
      ]
     },
     "metadata": {
      "tags": []
     },
     "output_type": "display_data"
    },
    {
     "data": {
      "text/plain": [
       "LGBMClassifier(boosting_type='gbdt', class_weight=None, colsample_bytree=1.0,\n",
       "               device='gpu', importance_type='split', learning_rate=0.1,\n",
       "               max_depth=-1, min_child_samples=20, min_child_weight=0.001,\n",
       "               min_split_gain=0.0, n_estimators=100, n_jobs=-1, num_leaves=31,\n",
       "               objective=None, random_state=7, reg_alpha=0.0, reg_lambda=0.0,\n",
       "               silent=True, subsample=1.0, subsample_for_bin=200000,\n",
       "               subsample_freq=0)"
      ]
     },
     "execution_count": 314,
     "metadata": {
      "tags": []
     },
     "output_type": "execute_result"
    }
   ],
   "source": [
    "compare_models(include=['lr', 'dt', \n",
    "                        'rf', 'nb',\n",
    "                        'knn', 'lightgbm'], fold=5)"
   ]
  },
  {
   "cell_type": "code",
   "execution_count": 315,
   "id": "ccdcf5a7",
   "metadata": {
    "colab": {
     "base_uri": "https://localhost:8080/",
     "height": 266,
     "referenced_widgets": [
      "5378d0599c0b48cdaa780b6216f55e7f",
      "882281ba45724d71a4332eaf2ee76867",
      "d2be0af3ef2a4ab885473b5445e3e23e"
     ]
    },
    "executionInfo": {
     "elapsed": 26376,
     "status": "ok",
     "timestamp": 1628978961122,
     "user": {
      "displayName": "RODRIGO SILVA PERES",
      "photoUrl": "",
      "userId": "00311338069675780007"
     },
     "user_tz": 180
    },
    "id": "F8r4rw4Zq9Gi",
    "outputId": "9cbf9bbd-44ac-49d7-ea56-eec5dc6c5625"
   },
   "outputs": [
    {
     "data": {
      "text/html": [
       "<div>\n",
       "<style scoped>\n",
       "    .dataframe tbody tr th:only-of-type {\n",
       "        vertical-align: middle;\n",
       "    }\n",
       "\n",
       "    .dataframe tbody tr th {\n",
       "        vertical-align: top;\n",
       "    }\n",
       "\n",
       "    .dataframe thead th {\n",
       "        text-align: right;\n",
       "    }\n",
       "</style>\n",
       "<table border=\"1\" class=\"dataframe\">\n",
       "  <thead>\n",
       "    <tr style=\"text-align: right;\">\n",
       "      <th></th>\n",
       "      <th>Accuracy</th>\n",
       "      <th>AUC</th>\n",
       "      <th>Recall</th>\n",
       "      <th>Prec.</th>\n",
       "      <th>F1</th>\n",
       "      <th>Kappa</th>\n",
       "      <th>MCC</th>\n",
       "    </tr>\n",
       "  </thead>\n",
       "  <tbody>\n",
       "    <tr>\n",
       "      <th>0</th>\n",
       "      <td>0.5817</td>\n",
       "      <td>0.6638</td>\n",
       "      <td>0.4418</td>\n",
       "      <td>0.5734</td>\n",
       "      <td>0.5155</td>\n",
       "      <td>0.1641</td>\n",
       "      <td>0.2042</td>\n",
       "    </tr>\n",
       "    <tr>\n",
       "      <th>1</th>\n",
       "      <td>0.5826</td>\n",
       "      <td>0.6614</td>\n",
       "      <td>0.4421</td>\n",
       "      <td>0.5737</td>\n",
       "      <td>0.5176</td>\n",
       "      <td>0.1655</td>\n",
       "      <td>0.2056</td>\n",
       "    </tr>\n",
       "    <tr>\n",
       "      <th>2</th>\n",
       "      <td>0.5793</td>\n",
       "      <td>0.6564</td>\n",
       "      <td>0.4379</td>\n",
       "      <td>0.5717</td>\n",
       "      <td>0.5141</td>\n",
       "      <td>0.1595</td>\n",
       "      <td>0.1980</td>\n",
       "    </tr>\n",
       "    <tr>\n",
       "      <th>3</th>\n",
       "      <td>0.5784</td>\n",
       "      <td>0.6579</td>\n",
       "      <td>0.4344</td>\n",
       "      <td>0.5659</td>\n",
       "      <td>0.5106</td>\n",
       "      <td>0.1536</td>\n",
       "      <td>0.1934</td>\n",
       "    </tr>\n",
       "    <tr>\n",
       "      <th>4</th>\n",
       "      <td>0.5799</td>\n",
       "      <td>0.6559</td>\n",
       "      <td>0.4410</td>\n",
       "      <td>0.5681</td>\n",
       "      <td>0.5149</td>\n",
       "      <td>0.1618</td>\n",
       "      <td>0.2001</td>\n",
       "    </tr>\n",
       "    <tr>\n",
       "      <th>Mean</th>\n",
       "      <td>0.5804</td>\n",
       "      <td>0.6591</td>\n",
       "      <td>0.4394</td>\n",
       "      <td>0.5706</td>\n",
       "      <td>0.5145</td>\n",
       "      <td>0.1609</td>\n",
       "      <td>0.2003</td>\n",
       "    </tr>\n",
       "    <tr>\n",
       "      <th>SD</th>\n",
       "      <td>0.0015</td>\n",
       "      <td>0.0031</td>\n",
       "      <td>0.0029</td>\n",
       "      <td>0.0031</td>\n",
       "      <td>0.0023</td>\n",
       "      <td>0.0042</td>\n",
       "      <td>0.0044</td>\n",
       "    </tr>\n",
       "  </tbody>\n",
       "</table>\n",
       "</div>"
      ],
      "text/plain": [
       "      Accuracy     AUC  Recall   Prec.      F1   Kappa     MCC\n",
       "0       0.5817  0.6638  0.4418  0.5734  0.5155  0.1641  0.2042\n",
       "1       0.5826  0.6614  0.4421  0.5737  0.5176  0.1655  0.2056\n",
       "2       0.5793  0.6564  0.4379  0.5717  0.5141  0.1595  0.1980\n",
       "3       0.5784  0.6579  0.4344  0.5659  0.5106  0.1536  0.1934\n",
       "4       0.5799  0.6559  0.4410  0.5681  0.5149  0.1618  0.2001\n",
       "Mean    0.5804  0.6591  0.4394  0.5706  0.5145  0.1609  0.2003\n",
       "SD      0.0015  0.0031  0.0029  0.0031  0.0023  0.0042  0.0044"
      ]
     },
     "metadata": {
      "tags": []
     },
     "output_type": "display_data"
    }
   ],
   "source": [
    "lgbm = create_model('lightgbm',\n",
    "                    fold=5)"
   ]
  },
  {
   "cell_type": "code",
   "execution_count": 316,
   "id": "42400126",
   "metadata": {
    "colab": {
     "base_uri": "https://localhost:8080/"
    },
    "executionInfo": {
     "elapsed": 767,
     "status": "ok",
     "timestamp": 1628978961876,
     "user": {
      "displayName": "RODRIGO SILVA PERES",
      "photoUrl": "",
      "userId": "00311338069675780007"
     },
     "user_tz": 180
    },
    "id": "MubQrH5Lq9Gi",
    "outputId": "0026774d-73ce-4087-e629-6b02462558b2"
   },
   "outputs": [
    {
     "data": {
      "text/plain": [
       "LGBMClassifier(boosting_type='gbdt', class_weight=None, colsample_bytree=1.0,\n",
       "               device='gpu', importance_type='split', learning_rate=0.1,\n",
       "               max_depth=-1, min_child_samples=20, min_child_weight=0.001,\n",
       "               min_split_gain=0.0, n_estimators=100, n_jobs=-1, num_leaves=31,\n",
       "               objective=None, random_state=7, reg_alpha=0.0, reg_lambda=0.0,\n",
       "               silent=True, subsample=1.0, subsample_for_bin=200000,\n",
       "               subsample_freq=0)"
      ]
     },
     "execution_count": 316,
     "metadata": {
      "tags": []
     },
     "output_type": "execute_result"
    }
   ],
   "source": [
    "lgbm"
   ]
  },
  {
   "cell_type": "code",
   "execution_count": 317,
   "id": "4af9b4b8",
   "metadata": {
    "colab": {
     "base_uri": "https://localhost:8080/",
     "height": 478
    },
    "executionInfo": {
     "elapsed": 414,
     "status": "ok",
     "timestamp": 1628978962273,
     "user": {
      "displayName": "RODRIGO SILVA PERES",
      "photoUrl": "",
      "userId": "00311338069675780007"
     },
     "user_tz": 180
    },
    "id": "ok2x6ygnq9Gj",
    "outputId": "653e44fc-88be-47d0-e157-635fb1319c21"
   },
   "outputs": [
    {
     "data": {
      "image/png": "[encoded data removed]",
      "text/plain": [
       "<Figure size 800x500 with 1 Axes>"
      ]
     },
     "metadata": {
      "tags": []
     },
     "output_type": "display_data"
    }
   ],
   "source": [
    "plot_model(lgbm, plot='feature')"
   ]
  },
  {
   "cell_type": "code",
   "execution_count": 318,
   "id": "d3fc854c",
   "metadata": {
    "colab": {
     "base_uri": "https://localhost:8080/",
     "height": 266,
     "referenced_widgets": [
      "f8f118308578495cadd83769ec2a838a",
      "8025535b70274e86999aee2d4ee53a35",
      "a4b2a2483f504d8aa74a43ae6a9c7e19"
     ]
    },
    "executionInfo": {
     "elapsed": 55333,
     "status": "ok",
     "timestamp": 1628979017596,
     "user": {
      "displayName": "RODRIGO SILVA PERES",
      "photoUrl": "",
      "userId": "00311338069675780007"
     },
     "user_tz": 180
    },
    "id": "U5URAWmKq9Gj",
    "outputId": "7865531b-4c7e-4c16-ad52-371d9bd029da"
   },
   "outputs": [
    {
     "data": {
      "text/html": [
       "<div>\n",
       "<style scoped>\n",
       "    .dataframe tbody tr th:only-of-type {\n",
       "        vertical-align: middle;\n",
       "    }\n",
       "\n",
       "    .dataframe tbody tr th {\n",
       "        vertical-align: top;\n",
       "    }\n",
       "\n",
       "    .dataframe thead th {\n",
       "        text-align: right;\n",
       "    }\n",
       "</style>\n",
       "<table border=\"1\" class=\"dataframe\">\n",
       "  <thead>\n",
       "    <tr style=\"text-align: right;\">\n",
       "      <th></th>\n",
       "      <th>Accuracy</th>\n",
       "      <th>AUC</th>\n",
       "      <th>Recall</th>\n",
       "      <th>Prec.</th>\n",
       "      <th>F1</th>\n",
       "      <th>Kappa</th>\n",
       "      <th>MCC</th>\n",
       "    </tr>\n",
       "  </thead>\n",
       "  <tbody>\n",
       "    <tr>\n",
       "      <th>0</th>\n",
       "      <td>0.5784</td>\n",
       "      <td>0.6569</td>\n",
       "      <td>0.4449</td>\n",
       "      <td>0.5636</td>\n",
       "      <td>0.5186</td>\n",
       "      <td>0.1661</td>\n",
       "      <td>0.1999</td>\n",
       "    </tr>\n",
       "    <tr>\n",
       "      <th>1</th>\n",
       "      <td>0.5792</td>\n",
       "      <td>0.6543</td>\n",
       "      <td>0.4439</td>\n",
       "      <td>0.5644</td>\n",
       "      <td>0.5197</td>\n",
       "      <td>0.1663</td>\n",
       "      <td>0.2006</td>\n",
       "    </tr>\n",
       "    <tr>\n",
       "      <th>2</th>\n",
       "      <td>0.5785</td>\n",
       "      <td>0.6482</td>\n",
       "      <td>0.4426</td>\n",
       "      <td>0.5652</td>\n",
       "      <td>0.5196</td>\n",
       "      <td>0.1654</td>\n",
       "      <td>0.1991</td>\n",
       "    </tr>\n",
       "    <tr>\n",
       "      <th>3</th>\n",
       "      <td>0.5750</td>\n",
       "      <td>0.6497</td>\n",
       "      <td>0.4382</td>\n",
       "      <td>0.5558</td>\n",
       "      <td>0.5143</td>\n",
       "      <td>0.1567</td>\n",
       "      <td>0.1896</td>\n",
       "    </tr>\n",
       "    <tr>\n",
       "      <th>4</th>\n",
       "      <td>0.5754</td>\n",
       "      <td>0.6486</td>\n",
       "      <td>0.4430</td>\n",
       "      <td>0.5582</td>\n",
       "      <td>0.5197</td>\n",
       "      <td>0.1632</td>\n",
       "      <td>0.1935</td>\n",
       "    </tr>\n",
       "    <tr>\n",
       "      <th>Mean</th>\n",
       "      <td>0.5773</td>\n",
       "      <td>0.6516</td>\n",
       "      <td>0.4425</td>\n",
       "      <td>0.5614</td>\n",
       "      <td>0.5184</td>\n",
       "      <td>0.1636</td>\n",
       "      <td>0.1966</td>\n",
       "    </tr>\n",
       "    <tr>\n",
       "      <th>SD</th>\n",
       "      <td>0.0017</td>\n",
       "      <td>0.0034</td>\n",
       "      <td>0.0023</td>\n",
       "      <td>0.0037</td>\n",
       "      <td>0.0021</td>\n",
       "      <td>0.0036</td>\n",
       "      <td>0.0043</td>\n",
       "    </tr>\n",
       "  </tbody>\n",
       "</table>\n",
       "</div>"
      ],
      "text/plain": [
       "      Accuracy     AUC  Recall   Prec.      F1   Kappa     MCC\n",
       "0       0.5784  0.6569  0.4449  0.5636  0.5186  0.1661  0.1999\n",
       "1       0.5792  0.6543  0.4439  0.5644  0.5197  0.1663  0.2006\n",
       "2       0.5785  0.6482  0.4426  0.5652  0.5196  0.1654  0.1991\n",
       "3       0.5750  0.6497  0.4382  0.5558  0.5143  0.1567  0.1896\n",
       "4       0.5754  0.6486  0.4430  0.5582  0.5197  0.1632  0.1935\n",
       "Mean    0.5773  0.6516  0.4425  0.5614  0.5184  0.1636  0.1966\n",
       "SD      0.0017  0.0034  0.0023  0.0037  0.0021  0.0036  0.0043"
      ]
     },
     "metadata": {
      "tags": []
     },
     "output_type": "display_data"
    }
   ],
   "source": [
    "rf = create_model('rf',\n",
    "                  fold=5)"
   ]
  },
  {
   "cell_type": "code",
   "execution_count": 319,
   "id": "65d91fd5",
   "metadata": {
    "colab": {
     "base_uri": "https://localhost:8080/"
    },
    "executionInfo": {
     "elapsed": 20,
     "status": "ok",
     "timestamp": 1628979017598,
     "user": {
      "displayName": "RODRIGO SILVA PERES",
      "photoUrl": "",
      "userId": "00311338069675780007"
     },
     "user_tz": 180
    },
    "id": "xDywm5Anq9Gj",
    "outputId": "5a19c167-cb77-4d82-ccf4-0b272470176a"
   },
   "outputs": [
    {
     "data": {
      "text/plain": [
       "RandomForestClassifier(bootstrap=True, ccp_alpha=0.0, class_weight=None,\n",
       "                       criterion='gini', max_depth=None, max_features='auto',\n",
       "                       max_leaf_nodes=None, max_samples=None,\n",
       "                       min_impurity_decrease=0.0, min_impurity_split=None,\n",
       "                       min_samples_leaf=1, min_samples_split=2,\n",
       "                       min_weight_fraction_leaf=0.0, n_estimators=100,\n",
       "                       n_jobs=-1, oob_score=False, random_state=7, verbose=0,\n",
       "                       warm_start=False)"
      ]
     },
     "execution_count": 319,
     "metadata": {
      "tags": []
     },
     "output_type": "execute_result"
    }
   ],
   "source": [
    "rf"
   ]
  },
  {
   "cell_type": "code",
   "execution_count": 320,
   "id": "b64f3634",
   "metadata": {
    "colab": {
     "base_uri": "https://localhost:8080/",
     "height": 478,
     "referenced_widgets": [
      "cbb941b8e30648d29c7eac18480dba6b",
      "efff6cef468c405a8de8c6973ccb1380",
      "5f1cf9d18cf44a87b24a33b010591826"
     ]
    },
    "executionInfo": {
     "elapsed": 1199,
     "status": "ok",
     "timestamp": 1628979018786,
     "user": {
      "displayName": "RODRIGO SILVA PERES",
      "photoUrl": "",
      "userId": "00311338069675780007"
     },
     "user_tz": 180
    },
    "id": "FNerQOXiq9Gk",
    "outputId": "fee2d191-4e43-44fc-c9da-029f10792505"
   },
   "outputs": [
    {
     "data": {
      "image/png": "[encoded data removed]",
      "text/plain": [
       "<Figure size 800x500 with 1 Axes>"
      ]
     },
     "metadata": {
      "tags": []
     },
     "output_type": "display_data"
    }
   ],
   "source": [
    "plot_model(rf, plot='feature')"
   ]
  },
  {
   "cell_type": "code",
   "execution_count": 321,
   "id": "9660a163",
   "metadata": {
    "colab": {
     "base_uri": "https://localhost:8080/",
     "height": 266,
     "referenced_widgets": [
      "b292ead31348484b8cd2dea447757cd3",
      "1c336222695a424cb45a1ac3700183be",
      "e328780b060c4ff3b94301c4903598e1"
     ]
    },
    "executionInfo": {
     "elapsed": 2452,
     "status": "ok",
     "timestamp": 1628979021231,
     "user": {
      "displayName": "RODRIGO SILVA PERES",
      "photoUrl": "",
      "userId": "00311338069675780007"
     },
     "user_tz": 180
    },
    "id": "m5OZzjbZq9Gk",
    "outputId": "6899ba6e-3dbd-4fbc-a572-865a9789f7c9"
   },
   "outputs": [
    {
     "data": {
      "text/html": [
       "<div>\n",
       "<style scoped>\n",
       "    .dataframe tbody tr th:only-of-type {\n",
       "        vertical-align: middle;\n",
       "    }\n",
       "\n",
       "    .dataframe tbody tr th {\n",
       "        vertical-align: top;\n",
       "    }\n",
       "\n",
       "    .dataframe thead th {\n",
       "        text-align: right;\n",
       "    }\n",
       "</style>\n",
       "<table border=\"1\" class=\"dataframe\">\n",
       "  <thead>\n",
       "    <tr style=\"text-align: right;\">\n",
       "      <th></th>\n",
       "      <th>Accuracy</th>\n",
       "      <th>AUC</th>\n",
       "      <th>Recall</th>\n",
       "      <th>Prec.</th>\n",
       "      <th>F1</th>\n",
       "      <th>Kappa</th>\n",
       "      <th>MCC</th>\n",
       "    </tr>\n",
       "  </thead>\n",
       "  <tbody>\n",
       "    <tr>\n",
       "      <th>0</th>\n",
       "      <td>0.5771</td>\n",
       "      <td>0.6562</td>\n",
       "      <td>0.4456</td>\n",
       "      <td>0.5608</td>\n",
       "      <td>0.5193</td>\n",
       "      <td>0.1665</td>\n",
       "      <td>0.1983</td>\n",
       "    </tr>\n",
       "    <tr>\n",
       "      <th>1</th>\n",
       "      <td>0.5780</td>\n",
       "      <td>0.6535</td>\n",
       "      <td>0.4455</td>\n",
       "      <td>0.5615</td>\n",
       "      <td>0.5209</td>\n",
       "      <td>0.1676</td>\n",
       "      <td>0.1996</td>\n",
       "    </tr>\n",
       "    <tr>\n",
       "      <th>2</th>\n",
       "      <td>0.5771</td>\n",
       "      <td>0.6478</td>\n",
       "      <td>0.4427</td>\n",
       "      <td>0.5620</td>\n",
       "      <td>0.5190</td>\n",
       "      <td>0.1648</td>\n",
       "      <td>0.1971</td>\n",
       "    </tr>\n",
       "    <tr>\n",
       "      <th>3</th>\n",
       "      <td>0.5742</td>\n",
       "      <td>0.6488</td>\n",
       "      <td>0.4387</td>\n",
       "      <td>0.5540</td>\n",
       "      <td>0.5148</td>\n",
       "      <td>0.1571</td>\n",
       "      <td>0.1888</td>\n",
       "    </tr>\n",
       "    <tr>\n",
       "      <th>4</th>\n",
       "      <td>0.5739</td>\n",
       "      <td>0.6480</td>\n",
       "      <td>0.4430</td>\n",
       "      <td>0.5551</td>\n",
       "      <td>0.5193</td>\n",
       "      <td>0.1624</td>\n",
       "      <td>0.1913</td>\n",
       "    </tr>\n",
       "    <tr>\n",
       "      <th>Mean</th>\n",
       "      <td>0.5761</td>\n",
       "      <td>0.6508</td>\n",
       "      <td>0.4431</td>\n",
       "      <td>0.5587</td>\n",
       "      <td>0.5187</td>\n",
       "      <td>0.1637</td>\n",
       "      <td>0.1950</td>\n",
       "    </tr>\n",
       "    <tr>\n",
       "      <th>SD</th>\n",
       "      <td>0.0016</td>\n",
       "      <td>0.0034</td>\n",
       "      <td>0.0025</td>\n",
       "      <td>0.0034</td>\n",
       "      <td>0.0021</td>\n",
       "      <td>0.0037</td>\n",
       "      <td>0.0042</td>\n",
       "    </tr>\n",
       "  </tbody>\n",
       "</table>\n",
       "</div>"
      ],
      "text/plain": [
       "      Accuracy     AUC  Recall   Prec.      F1   Kappa     MCC\n",
       "0       0.5771  0.6562  0.4456  0.5608  0.5193  0.1665  0.1983\n",
       "1       0.5780  0.6535  0.4455  0.5615  0.5209  0.1676  0.1996\n",
       "2       0.5771  0.6478  0.4427  0.5620  0.5190  0.1648  0.1971\n",
       "3       0.5742  0.6488  0.4387  0.5540  0.5148  0.1571  0.1888\n",
       "4       0.5739  0.6480  0.4430  0.5551  0.5193  0.1624  0.1913\n",
       "Mean    0.5761  0.6508  0.4431  0.5587  0.5187  0.1637  0.1950\n",
       "SD      0.0016  0.0034  0.0025  0.0034  0.0021  0.0037  0.0042"
      ]
     },
     "metadata": {
      "tags": []
     },
     "output_type": "display_data"
    }
   ],
   "source": [
    "dt = create_model('dt',\n",
    "                  fold=5)"
   ]
  },
  {
   "cell_type": "code",
   "execution_count": 322,
   "id": "1f998c7b",
   "metadata": {
    "colab": {
     "base_uri": "https://localhost:8080/"
    },
    "executionInfo": {
     "elapsed": 22,
     "status": "ok",
     "timestamp": 1628979021232,
     "user": {
      "displayName": "RODRIGO SILVA PERES",
      "photoUrl": "",
      "userId": "00311338069675780007"
     },
     "user_tz": 180
    },
    "id": "VHlcSzOcq9Gk",
    "outputId": "a99f3194-f657-40b4-b8aa-a83f4775c288"
   },
   "outputs": [
    {
     "data": {
      "text/plain": [
       "DecisionTreeClassifier(ccp_alpha=0.0, class_weight=None, criterion='gini',\n",
       "                       max_depth=None, max_features=None, max_leaf_nodes=None,\n",
       "                       min_impurity_decrease=0.0, min_impurity_split=None,\n",
       "                       min_samples_leaf=1, min_samples_split=2,\n",
       "                       min_weight_fraction_leaf=0.0, presort='deprecated',\n",
       "                       random_state=7, splitter='best')"
      ]
     },
     "execution_count": 322,
     "metadata": {
      "tags": []
     },
     "output_type": "execute_result"
    }
   ],
   "source": [
    "dt"
   ]
  },
  {
   "cell_type": "code",
   "execution_count": 323,
   "id": "4e0b556f",
   "metadata": {
    "colab": {
     "base_uri": "https://localhost:8080/",
     "height": 478
    },
    "executionInfo": {
     "elapsed": 1012,
     "status": "ok",
     "timestamp": 1628979022233,
     "user": {
      "displayName": "RODRIGO SILVA PERES",
      "photoUrl": "",
      "userId": "00311338069675780007"
     },
     "user_tz": 180
    },
    "id": "vkNI7SVWq9Gl",
    "outputId": "ca94135b-8360-434c-cb9e-cc09a6966b23"
   },
   "outputs": [
    {
     "data": {
      "image/png": "[encoded data removed]",
      "text/plain": [
       "<Figure size 800x500 with 1 Axes>"
      ]
     },
     "metadata": {
      "tags": []
     },
     "output_type": "display_data"
    }
   ],
   "source": [
    "plot_model(dt, plot='feature')"
   ]
  },
  {
   "cell_type": "code",
   "execution_count": 324,
   "id": "bc8a8d41",
   "metadata": {
    "colab": {
     "base_uri": "https://localhost:8080/",
     "height": 266,
     "referenced_widgets": [
      "772c33b5e6a4489f9bcc265c4cddcbd3",
      "c88c9581bbd54e42989b25c7900edaf9",
      "ec6cf349b33640d9b7af19585cb8541b"
     ]
    },
    "executionInfo": {
     "elapsed": 69482,
     "status": "ok",
     "timestamp": 1628979091705,
     "user": {
      "displayName": "RODRIGO SILVA PERES",
      "photoUrl": "",
      "userId": "00311338069675780007"
     },
     "user_tz": 180
    },
    "id": "shtZFInEq9Gl",
    "outputId": "006924a0-87f8-43d6-e6d8-f730818f235e"
   },
   "outputs": [
    {
     "data": {
      "text/html": [
       "<div>\n",
       "<style scoped>\n",
       "    .dataframe tbody tr th:only-of-type {\n",
       "        vertical-align: middle;\n",
       "    }\n",
       "\n",
       "    .dataframe tbody tr th {\n",
       "        vertical-align: top;\n",
       "    }\n",
       "\n",
       "    .dataframe thead th {\n",
       "        text-align: right;\n",
       "    }\n",
       "</style>\n",
       "<table border=\"1\" class=\"dataframe\">\n",
       "  <thead>\n",
       "    <tr style=\"text-align: right;\">\n",
       "      <th></th>\n",
       "      <th>Accuracy</th>\n",
       "      <th>AUC</th>\n",
       "      <th>Recall</th>\n",
       "      <th>Prec.</th>\n",
       "      <th>F1</th>\n",
       "      <th>Kappa</th>\n",
       "      <th>MCC</th>\n",
       "    </tr>\n",
       "  </thead>\n",
       "  <tbody>\n",
       "    <tr>\n",
       "      <th>0</th>\n",
       "      <td>0.5803</td>\n",
       "      <td>0.6628</td>\n",
       "      <td>0.4466</td>\n",
       "      <td>0.5695</td>\n",
       "      <td>0.5153</td>\n",
       "      <td>0.1678</td>\n",
       "      <td>0.2051</td>\n",
       "    </tr>\n",
       "    <tr>\n",
       "      <th>1</th>\n",
       "      <td>0.5804</td>\n",
       "      <td>0.6614</td>\n",
       "      <td>0.4458</td>\n",
       "      <td>0.5700</td>\n",
       "      <td>0.5160</td>\n",
       "      <td>0.1679</td>\n",
       "      <td>0.2049</td>\n",
       "    </tr>\n",
       "    <tr>\n",
       "      <th>2</th>\n",
       "      <td>0.5758</td>\n",
       "      <td>0.6538</td>\n",
       "      <td>0.4428</td>\n",
       "      <td>0.5640</td>\n",
       "      <td>0.5156</td>\n",
       "      <td>0.1627</td>\n",
       "      <td>0.1955</td>\n",
       "    </tr>\n",
       "    <tr>\n",
       "      <th>3</th>\n",
       "      <td>0.5775</td>\n",
       "      <td>0.6573</td>\n",
       "      <td>0.4400</td>\n",
       "      <td>0.5652</td>\n",
       "      <td>0.5134</td>\n",
       "      <td>0.1597</td>\n",
       "      <td>0.1959</td>\n",
       "    </tr>\n",
       "    <tr>\n",
       "      <th>4</th>\n",
       "      <td>0.5785</td>\n",
       "      <td>0.6572</td>\n",
       "      <td>0.4430</td>\n",
       "      <td>0.5663</td>\n",
       "      <td>0.5142</td>\n",
       "      <td>0.1631</td>\n",
       "      <td>0.1995</td>\n",
       "    </tr>\n",
       "    <tr>\n",
       "      <th>Mean</th>\n",
       "      <td>0.5785</td>\n",
       "      <td>0.6585</td>\n",
       "      <td>0.4436</td>\n",
       "      <td>0.5670</td>\n",
       "      <td>0.5149</td>\n",
       "      <td>0.1642</td>\n",
       "      <td>0.2002</td>\n",
       "    </tr>\n",
       "    <tr>\n",
       "      <th>SD</th>\n",
       "      <td>0.0017</td>\n",
       "      <td>0.0032</td>\n",
       "      <td>0.0023</td>\n",
       "      <td>0.0024</td>\n",
       "      <td>0.0010</td>\n",
       "      <td>0.0032</td>\n",
       "      <td>0.0042</td>\n",
       "    </tr>\n",
       "  </tbody>\n",
       "</table>\n",
       "</div>"
      ],
      "text/plain": [
       "      Accuracy     AUC  Recall   Prec.      F1   Kappa     MCC\n",
       "0       0.5803  0.6628  0.4466  0.5695  0.5153  0.1678  0.2051\n",
       "1       0.5804  0.6614  0.4458  0.5700  0.5160  0.1679  0.2049\n",
       "2       0.5758  0.6538  0.4428  0.5640  0.5156  0.1627  0.1955\n",
       "3       0.5775  0.6573  0.4400  0.5652  0.5134  0.1597  0.1959\n",
       "4       0.5785  0.6572  0.4430  0.5663  0.5142  0.1631  0.1995\n",
       "Mean    0.5785  0.6585  0.4436  0.5670  0.5149  0.1642  0.2002\n",
       "SD      0.0017  0.0032  0.0023  0.0024  0.0010  0.0032  0.0042"
      ]
     },
     "metadata": {
      "tags": []
     },
     "output_type": "display_data"
    }
   ],
   "source": [
    "lr = create_model('lr',\n",
    "                  fold=5)"
   ]
  },
  {
   "cell_type": "code",
   "execution_count": 325,
   "id": "18396cee",
   "metadata": {
    "colab": {
     "base_uri": "https://localhost:8080/"
    },
    "executionInfo": {
     "elapsed": 24,
     "status": "ok",
     "timestamp": 1628979091707,
     "user": {
      "displayName": "RODRIGO SILVA PERES",
      "photoUrl": "",
      "userId": "00311338069675780007"
     },
     "user_tz": 180
    },
    "id": "xEiwfyvCq9Gl",
    "outputId": "a2ea0238-e00b-4a09-8c82-b3350c9ce865"
   },
   "outputs": [
    {
     "data": {
      "text/plain": [
       "LogisticRegression(C=1.0, class_weight=None, dual=False, fit_intercept=True,\n",
       "                   intercept_scaling=1, l1_ratio=None, max_iter=1000,\n",
       "                   multi_class='auto', n_jobs=None, penalty='l2',\n",
       "                   random_state=7, solver='lbfgs', tol=0.0001, verbose=0,\n",
       "                   warm_start=False)"
      ]
     },
     "execution_count": 325,
     "metadata": {
      "tags": []
     },
     "output_type": "execute_result"
    }
   ],
   "source": [
    "lr"
   ]
  },
  {
   "cell_type": "code",
   "execution_count": 326,
   "id": "a17caab8",
   "metadata": {
    "colab": {
     "base_uri": "https://localhost:8080/",
     "height": 478
    },
    "executionInfo": {
     "elapsed": 679,
     "status": "ok",
     "timestamp": 1628979092373,
     "user": {
      "displayName": "RODRIGO SILVA PERES",
      "photoUrl": "",
      "userId": "00311338069675780007"
     },
     "user_tz": 180
    },
    "id": "aFKJxni_q9Gm",
    "outputId": "11041c2c-dcdf-4aed-826a-7ca81fcc2377"
   },
   "outputs": [
    {
     "data": {
      "image/png": "[encoded data removed]",
      "text/plain": [
       "<Figure size 800x500 with 1 Axes>"
      ]
     },
     "metadata": {
      "tags": []
     },
     "output_type": "display_data"
    }
   ],
   "source": [
    "plot_model(lr, plot='feature')"
   ]
  },
  {
   "cell_type": "code",
   "execution_count": 327,
   "id": "73191af7",
   "metadata": {
    "colab": {
     "base_uri": "https://localhost:8080/",
     "height": 266,
     "referenced_widgets": [
      "c62bac882531423fbdd4b3e2302a83ae",
      "d0870df4fa814a2784fafdecdd67fca5",
      "4ad8633ae46941d5a7165c5919901466"
     ]
    },
    "executionInfo": {
     "elapsed": 491868,
     "status": "ok",
     "timestamp": 1628979584227,
     "user": {
      "displayName": "RODRIGO SILVA PERES",
      "photoUrl": "",
      "userId": "00311338069675780007"
     },
     "user_tz": 180
    },
    "id": "aW-rB3wSq9Gm",
    "outputId": "f84c10a7-e686-4775-e886-0b834de4365c"
   },
   "outputs": [
    {
     "data": {
      "text/html": [
       "<div>\n",
       "<style scoped>\n",
       "    .dataframe tbody tr th:only-of-type {\n",
       "        vertical-align: middle;\n",
       "    }\n",
       "\n",
       "    .dataframe tbody tr th {\n",
       "        vertical-align: top;\n",
       "    }\n",
       "\n",
       "    .dataframe thead th {\n",
       "        text-align: right;\n",
       "    }\n",
       "</style>\n",
       "<table border=\"1\" class=\"dataframe\">\n",
       "  <thead>\n",
       "    <tr style=\"text-align: right;\">\n",
       "      <th></th>\n",
       "      <th>Accuracy</th>\n",
       "      <th>AUC</th>\n",
       "      <th>Recall</th>\n",
       "      <th>Prec.</th>\n",
       "      <th>F1</th>\n",
       "      <th>Kappa</th>\n",
       "      <th>MCC</th>\n",
       "    </tr>\n",
       "  </thead>\n",
       "  <tbody>\n",
       "    <tr>\n",
       "      <th>0</th>\n",
       "      <td>0.5129</td>\n",
       "      <td>0.5990</td>\n",
       "      <td>0.4478</td>\n",
       "      <td>0.4993</td>\n",
       "      <td>0.5029</td>\n",
       "      <td>0.1459</td>\n",
       "      <td>0.1474</td>\n",
       "    </tr>\n",
       "    <tr>\n",
       "      <th>1</th>\n",
       "      <td>0.4997</td>\n",
       "      <td>0.5977</td>\n",
       "      <td>0.4483</td>\n",
       "      <td>0.4907</td>\n",
       "      <td>0.4933</td>\n",
       "      <td>0.1378</td>\n",
       "      <td>0.1385</td>\n",
       "    </tr>\n",
       "    <tr>\n",
       "      <th>2</th>\n",
       "      <td>0.5093</td>\n",
       "      <td>0.6001</td>\n",
       "      <td>0.4537</td>\n",
       "      <td>0.4960</td>\n",
       "      <td>0.4983</td>\n",
       "      <td>0.1475</td>\n",
       "      <td>0.1491</td>\n",
       "    </tr>\n",
       "    <tr>\n",
       "      <th>3</th>\n",
       "      <td>0.5008</td>\n",
       "      <td>0.5965</td>\n",
       "      <td>0.4418</td>\n",
       "      <td>0.4884</td>\n",
       "      <td>0.4912</td>\n",
       "      <td>0.1325</td>\n",
       "      <td>0.1337</td>\n",
       "    </tr>\n",
       "    <tr>\n",
       "      <th>4</th>\n",
       "      <td>0.5086</td>\n",
       "      <td>0.5975</td>\n",
       "      <td>0.4532</td>\n",
       "      <td>0.4961</td>\n",
       "      <td>0.4998</td>\n",
       "      <td>0.1452</td>\n",
       "      <td>0.1463</td>\n",
       "    </tr>\n",
       "    <tr>\n",
       "      <th>Mean</th>\n",
       "      <td>0.5063</td>\n",
       "      <td>0.5982</td>\n",
       "      <td>0.4489</td>\n",
       "      <td>0.4941</td>\n",
       "      <td>0.4971</td>\n",
       "      <td>0.1418</td>\n",
       "      <td>0.1430</td>\n",
       "    </tr>\n",
       "    <tr>\n",
       "      <th>SD</th>\n",
       "      <td>0.0051</td>\n",
       "      <td>0.0013</td>\n",
       "      <td>0.0043</td>\n",
       "      <td>0.0040</td>\n",
       "      <td>0.0043</td>\n",
       "      <td>0.0057</td>\n",
       "      <td>0.0059</td>\n",
       "    </tr>\n",
       "  </tbody>\n",
       "</table>\n",
       "</div>"
      ],
      "text/plain": [
       "      Accuracy     AUC  Recall   Prec.      F1   Kappa     MCC\n",
       "0       0.5129  0.5990  0.4478  0.4993  0.5029  0.1459  0.1474\n",
       "1       0.4997  0.5977  0.4483  0.4907  0.4933  0.1378  0.1385\n",
       "2       0.5093  0.6001  0.4537  0.4960  0.4983  0.1475  0.1491\n",
       "3       0.5008  0.5965  0.4418  0.4884  0.4912  0.1325  0.1337\n",
       "4       0.5086  0.5975  0.4532  0.4961  0.4998  0.1452  0.1463\n",
       "Mean    0.5063  0.5982  0.4489  0.4941  0.4971  0.1418  0.1430\n",
       "SD      0.0051  0.0013  0.0043  0.0040  0.0043  0.0057  0.0059"
      ]
     },
     "metadata": {
      "tags": []
     },
     "output_type": "display_data"
    }
   ],
   "source": [
    "knn = create_model('knn',\n",
    "                   fold=5)"
   ]
  },
  {
   "cell_type": "code",
   "execution_count": 328,
   "id": "6b3fa188",
   "metadata": {
    "colab": {
     "base_uri": "https://localhost:8080/"
    },
    "executionInfo": {
     "elapsed": 542,
     "status": "ok",
     "timestamp": 1628979584743,
     "user": {
      "displayName": "RODRIGO SILVA PERES",
      "photoUrl": "",
      "userId": "00311338069675780007"
     },
     "user_tz": 180
    },
    "id": "BonhRwIAq9Gm",
    "outputId": "cbba638b-fe44-4d95-8ca6-02e630f7f9bd"
   },
   "outputs": [
    {
     "data": {
      "text/plain": [
       "KNeighborsClassifier(algorithm='auto', leaf_size=30, metric='minkowski',\n",
       "                     metric_params=None, n_jobs=-1, n_neighbors=5, p=2,\n",
       "                     weights='uniform')"
      ]
     },
     "execution_count": 328,
     "metadata": {
      "tags": []
     },
     "output_type": "execute_result"
    }
   ],
   "source": [
    "knn"
   ]
  },
  {
   "cell_type": "code",
   "execution_count": 329,
   "id": "77a97079",
   "metadata": {
    "colab": {
     "base_uri": "https://localhost:8080/",
     "height": 323
    },
    "executionInfo": {
     "elapsed": 26,
     "status": "error",
     "timestamp": 1628979584748,
     "user": {
      "displayName": "RODRIGO SILVA PERES",
      "photoUrl": "",
      "userId": "00311338069675780007"
     },
     "user_tz": 180
    },
    "id": "tCcJxpjIq9Gm",
    "outputId": "9534c24f-3196-4750-8e5b-9be363aaf78f"
   },
   "outputs": [
    {
     "ename": "TypeError",
     "evalue": "ignored",
     "output_type": "error",
     "traceback": [
      "\u001b[0;31m---------------------------------------------------------------------------\u001b[0m",
      "\u001b[0;31mTypeError\u001b[0m                                 Traceback (most recent call last)",
      "\u001b[0;32m<ipython-input-329-261adcbdc903>\u001b[0m in \u001b[0;36m<module>\u001b[0;34m()\u001b[0m\n\u001b[0;32m----> 1\u001b[0;31m \u001b[0mplot_model\u001b[0m\u001b[0;34m(\u001b[0m\u001b[0mknn\u001b[0m\u001b[0;34m,\u001b[0m \u001b[0mplot\u001b[0m\u001b[0;34m=\u001b[0m\u001b[0;34m'feature'\u001b[0m\u001b[0;34m)\u001b[0m\u001b[0;34m\u001b[0m\u001b[0;34m\u001b[0m\u001b[0m\n\u001b[0m",
      "\u001b[0;32m/usr/local/lib/python3.7/dist-packages/pycaret/classification.py\u001b[0m in \u001b[0;36mplot_model\u001b[0;34m(estimator, plot, scale, save, fold, fit_kwargs, groups, use_train_data, verbose, display_format)\u001b[0m\n\u001b[1;32m   1549\u001b[0m         \u001b[0muse_train_data\u001b[0m\u001b[0;34m=\u001b[0m\u001b[0muse_train_data\u001b[0m\u001b[0;34m,\u001b[0m\u001b[0;34m\u001b[0m\u001b[0;34m\u001b[0m\u001b[0m\n\u001b[1;32m   1550\u001b[0m         \u001b[0msystem\u001b[0m\u001b[0;34m=\u001b[0m\u001b[0;32mTrue\u001b[0m\u001b[0;34m,\u001b[0m\u001b[0;34m\u001b[0m\u001b[0;34m\u001b[0m\u001b[0m\n\u001b[0;32m-> 1551\u001b[0;31m         \u001b[0mdisplay_format\u001b[0m\u001b[0;34m=\u001b[0m\u001b[0mdisplay_format\u001b[0m\u001b[0;34m,\u001b[0m\u001b[0;34m\u001b[0m\u001b[0;34m\u001b[0m\u001b[0m\n\u001b[0m\u001b[1;32m   1552\u001b[0m     )\n\u001b[1;32m   1553\u001b[0m \u001b[0;34m\u001b[0m\u001b[0m\n",
      "\u001b[0;32m/usr/local/lib/python3.7/dist-packages/pycaret/internal/tabular.py\u001b[0m in \u001b[0;36mplot_model\u001b[0;34m(estimator, plot, scale, save, fold, fit_kwargs, groups, feature_name, label, use_train_data, verbose, system, display, display_format, is_in_evaluate)\u001b[0m\n\u001b[1;32m   5832\u001b[0m     ) and (plot == \"feature\" or plot == \"feature_all\" or plot == \"rfe\"):\n\u001b[1;32m   5833\u001b[0m         raise TypeError(\n\u001b[0;32m-> 5834\u001b[0;31m             \u001b[0;34m\"Feature Importance and RFE plots not available for estimators that doesnt support coef_ or feature_importances_ attribute.\"\u001b[0m\u001b[0;34m\u001b[0m\u001b[0;34m\u001b[0m\u001b[0m\n\u001b[0m\u001b[1;32m   5835\u001b[0m         )\n\u001b[1;32m   5836\u001b[0m \u001b[0;34m\u001b[0m\u001b[0m\n",
      "\u001b[0;31mTypeError\u001b[0m: Feature Importance and RFE plots not available for estimators that doesnt support coef_ or feature_importances_ attribute."
     ]
    }
   ],
   "source": [
    "plot_model(knn, plot='feature')"
   ]
  },
  {
   "cell_type": "code",
   "execution_count": 330,
   "id": "941fae31",
   "metadata": {
    "colab": {
     "base_uri": "https://localhost:8080/",
     "height": 266,
     "referenced_widgets": [
      "b906f916c2d24302806a8a886c2610e1",
      "b89b2b5cae804d2d9bf85176720808ea",
      "cf47f90afbc04f859fc44ca0d295c9a7"
     ]
    },
    "executionInfo": {
     "elapsed": 2027,
     "status": "ok",
     "timestamp": 1628979649757,
     "user": {
      "displayName": "RODRIGO SILVA PERES",
      "photoUrl": "",
      "userId": "00311338069675780007"
     },
     "user_tz": 180
    },
    "id": "wl6NgT4Xq9Gn",
    "outputId": "748fc021-9b18-4d8a-ca69-02d5b06a07be"
   },
   "outputs": [
    {
     "data": {
      "text/html": [
       "<div>\n",
       "<style scoped>\n",
       "    .dataframe tbody tr th:only-of-type {\n",
       "        vertical-align: middle;\n",
       "    }\n",
       "\n",
       "    .dataframe tbody tr th {\n",
       "        vertical-align: top;\n",
       "    }\n",
       "\n",
       "    .dataframe thead th {\n",
       "        text-align: right;\n",
       "    }\n",
       "</style>\n",
       "<table border=\"1\" class=\"dataframe\">\n",
       "  <thead>\n",
       "    <tr style=\"text-align: right;\">\n",
       "      <th></th>\n",
       "      <th>Accuracy</th>\n",
       "      <th>AUC</th>\n",
       "      <th>Recall</th>\n",
       "      <th>Prec.</th>\n",
       "      <th>F1</th>\n",
       "      <th>Kappa</th>\n",
       "      <th>MCC</th>\n",
       "    </tr>\n",
       "  </thead>\n",
       "  <tbody>\n",
       "    <tr>\n",
       "      <th>0</th>\n",
       "      <td>0.4157</td>\n",
       "      <td>0.6507</td>\n",
       "      <td>0.5321</td>\n",
       "      <td>0.5149</td>\n",
       "      <td>0.3683</td>\n",
       "      <td>0.1864</td>\n",
       "      <td>0.2282</td>\n",
       "    </tr>\n",
       "    <tr>\n",
       "      <th>1</th>\n",
       "      <td>0.4157</td>\n",
       "      <td>0.6487</td>\n",
       "      <td>0.5306</td>\n",
       "      <td>0.5119</td>\n",
       "      <td>0.3698</td>\n",
       "      <td>0.1851</td>\n",
       "      <td>0.2254</td>\n",
       "    </tr>\n",
       "    <tr>\n",
       "      <th>2</th>\n",
       "      <td>0.4132</td>\n",
       "      <td>0.6398</td>\n",
       "      <td>0.5244</td>\n",
       "      <td>0.5020</td>\n",
       "      <td>0.3704</td>\n",
       "      <td>0.1784</td>\n",
       "      <td>0.2152</td>\n",
       "    </tr>\n",
       "    <tr>\n",
       "      <th>3</th>\n",
       "      <td>0.4154</td>\n",
       "      <td>0.6450</td>\n",
       "      <td>0.5290</td>\n",
       "      <td>0.5150</td>\n",
       "      <td>0.3697</td>\n",
       "      <td>0.1849</td>\n",
       "      <td>0.2257</td>\n",
       "    </tr>\n",
       "    <tr>\n",
       "      <th>4</th>\n",
       "      <td>0.4190</td>\n",
       "      <td>0.6436</td>\n",
       "      <td>0.5276</td>\n",
       "      <td>0.5102</td>\n",
       "      <td>0.3785</td>\n",
       "      <td>0.1847</td>\n",
       "      <td>0.2217</td>\n",
       "    </tr>\n",
       "    <tr>\n",
       "      <th>Mean</th>\n",
       "      <td>0.4158</td>\n",
       "      <td>0.6456</td>\n",
       "      <td>0.5287</td>\n",
       "      <td>0.5108</td>\n",
       "      <td>0.3713</td>\n",
       "      <td>0.1839</td>\n",
       "      <td>0.2232</td>\n",
       "    </tr>\n",
       "    <tr>\n",
       "      <th>SD</th>\n",
       "      <td>0.0019</td>\n",
       "      <td>0.0038</td>\n",
       "      <td>0.0027</td>\n",
       "      <td>0.0048</td>\n",
       "      <td>0.0036</td>\n",
       "      <td>0.0028</td>\n",
       "      <td>0.0045</td>\n",
       "    </tr>\n",
       "  </tbody>\n",
       "</table>\n",
       "</div>"
      ],
      "text/plain": [
       "      Accuracy     AUC  Recall   Prec.      F1   Kappa     MCC\n",
       "0       0.4157  0.6507  0.5321  0.5149  0.3683  0.1864  0.2282\n",
       "1       0.4157  0.6487  0.5306  0.5119  0.3698  0.1851  0.2254\n",
       "2       0.4132  0.6398  0.5244  0.5020  0.3704  0.1784  0.2152\n",
       "3       0.4154  0.6450  0.5290  0.5150  0.3697  0.1849  0.2257\n",
       "4       0.4190  0.6436  0.5276  0.5102  0.3785  0.1847  0.2217\n",
       "Mean    0.4158  0.6456  0.5287  0.5108  0.3713  0.1839  0.2232\n",
       "SD      0.0019  0.0038  0.0027  0.0048  0.0036  0.0028  0.0045"
      ]
     },
     "metadata": {
      "tags": []
     },
     "output_type": "display_data"
    }
   ],
   "source": [
    "nb = create_model('nb',\n",
    "                  fold=5)"
   ]
  },
  {
   "cell_type": "code",
   "execution_count": 331,
   "id": "0db39eb3",
   "metadata": {
    "colab": {
     "base_uri": "https://localhost:8080/"
    },
    "executionInfo": {
     "elapsed": 9,
     "status": "ok",
     "timestamp": 1628979650659,
     "user": {
      "displayName": "RODRIGO SILVA PERES",
      "photoUrl": "",
      "userId": "00311338069675780007"
     },
     "user_tz": 180
    },
    "id": "hK9AwR2Tq9Gn",
    "outputId": "1acc62b6-a893-4dd8-d7d0-893bc9979e1a"
   },
   "outputs": [
    {
     "data": {
      "text/plain": [
       "GaussianNB(priors=None, var_smoothing=1e-09)"
      ]
     },
     "execution_count": 331,
     "metadata": {
      "tags": []
     },
     "output_type": "execute_result"
    }
   ],
   "source": [
    "nb"
   ]
  },
  {
   "cell_type": "code",
   "execution_count": 332,
   "id": "8047018d",
   "metadata": {
    "colab": {
     "base_uri": "https://localhost:8080/",
     "height": 266,
     "referenced_widgets": [
      "7762226a5a984ad3834df6884f6592f8",
      "96ca91dc9d3443f6b22008fa3f82a758",
      "7468519536bd4447a660227c0993c4f9"
     ]
    },
    "executionInfo": {
     "elapsed": 14868,
     "status": "ok",
     "timestamp": 1628979667510,
     "user": {
      "displayName": "RODRIGO SILVA PERES",
      "photoUrl": "",
      "userId": "00311338069675780007"
     },
     "user_tz": 180
    },
    "id": "icODeigQq9Gn",
    "outputId": "e31e37fb-f16b-4cb7-c909-4d3dd7b9af15"
   },
   "outputs": [
    {
     "data": {
      "text/html": [
       "<div>\n",
       "<style scoped>\n",
       "    .dataframe tbody tr th:only-of-type {\n",
       "        vertical-align: middle;\n",
       "    }\n",
       "\n",
       "    .dataframe tbody tr th {\n",
       "        vertical-align: top;\n",
       "    }\n",
       "\n",
       "    .dataframe thead th {\n",
       "        text-align: right;\n",
       "    }\n",
       "</style>\n",
       "<table border=\"1\" class=\"dataframe\">\n",
       "  <thead>\n",
       "    <tr style=\"text-align: right;\">\n",
       "      <th></th>\n",
       "      <th>Accuracy</th>\n",
       "      <th>AUC</th>\n",
       "      <th>Recall</th>\n",
       "      <th>Prec.</th>\n",
       "      <th>F1</th>\n",
       "      <th>Kappa</th>\n",
       "      <th>MCC</th>\n",
       "    </tr>\n",
       "  </thead>\n",
       "  <tbody>\n",
       "    <tr>\n",
       "      <th>0</th>\n",
       "      <td>0.5549</td>\n",
       "      <td>0.6560</td>\n",
       "      <td>0.4957</td>\n",
       "      <td>0.5426</td>\n",
       "      <td>0.5401</td>\n",
       "      <td>0.2119</td>\n",
       "      <td>0.2163</td>\n",
       "    </tr>\n",
       "    <tr>\n",
       "      <th>1</th>\n",
       "      <td>0.5574</td>\n",
       "      <td>0.6528</td>\n",
       "      <td>0.4953</td>\n",
       "      <td>0.5448</td>\n",
       "      <td>0.5426</td>\n",
       "      <td>0.2136</td>\n",
       "      <td>0.2181</td>\n",
       "    </tr>\n",
       "    <tr>\n",
       "      <th>2</th>\n",
       "      <td>0.5457</td>\n",
       "      <td>0.6441</td>\n",
       "      <td>0.4857</td>\n",
       "      <td>0.5335</td>\n",
       "      <td>0.5324</td>\n",
       "      <td>0.1966</td>\n",
       "      <td>0.2002</td>\n",
       "    </tr>\n",
       "    <tr>\n",
       "      <th>3</th>\n",
       "      <td>0.5516</td>\n",
       "      <td>0.6479</td>\n",
       "      <td>0.4896</td>\n",
       "      <td>0.5384</td>\n",
       "      <td>0.5377</td>\n",
       "      <td>0.2044</td>\n",
       "      <td>0.2083</td>\n",
       "    </tr>\n",
       "    <tr>\n",
       "      <th>4</th>\n",
       "      <td>0.5510</td>\n",
       "      <td>0.6462</td>\n",
       "      <td>0.4877</td>\n",
       "      <td>0.5375</td>\n",
       "      <td>0.5353</td>\n",
       "      <td>0.2004</td>\n",
       "      <td>0.2051</td>\n",
       "    </tr>\n",
       "    <tr>\n",
       "      <th>Mean</th>\n",
       "      <td>0.5521</td>\n",
       "      <td>0.6494</td>\n",
       "      <td>0.4908</td>\n",
       "      <td>0.5394</td>\n",
       "      <td>0.5376</td>\n",
       "      <td>0.2054</td>\n",
       "      <td>0.2096</td>\n",
       "    </tr>\n",
       "    <tr>\n",
       "      <th>SD</th>\n",
       "      <td>0.0040</td>\n",
       "      <td>0.0044</td>\n",
       "      <td>0.0040</td>\n",
       "      <td>0.0040</td>\n",
       "      <td>0.0036</td>\n",
       "      <td>0.0065</td>\n",
       "      <td>0.0068</td>\n",
       "    </tr>\n",
       "  </tbody>\n",
       "</table>\n",
       "</div>"
      ],
      "text/plain": [
       "      Accuracy     AUC  Recall   Prec.      F1   Kappa     MCC\n",
       "0       0.5549  0.6560  0.4957  0.5426  0.5401  0.2119  0.2163\n",
       "1       0.5574  0.6528  0.4953  0.5448  0.5426  0.2136  0.2181\n",
       "2       0.5457  0.6441  0.4857  0.5335  0.5324  0.1966  0.2002\n",
       "3       0.5516  0.6479  0.4896  0.5384  0.5377  0.2044  0.2083\n",
       "4       0.5510  0.6462  0.4877  0.5375  0.5353  0.2004  0.2051\n",
       "Mean    0.5521  0.6494  0.4908  0.5394  0.5376  0.2054  0.2096\n",
       "SD      0.0040  0.0044  0.0040  0.0040  0.0036  0.0065  0.0068"
      ]
     },
     "metadata": {
      "tags": []
     },
     "output_type": "display_data"
    }
   ],
   "source": [
    "tuned_nb = tune_model(nb,\n",
    "                      n_iter=300,\n",
    "                      fold=5,\n",
    "                      optimize='F1')"
   ]
  },
  {
   "cell_type": "code",
   "execution_count": 333,
   "id": "d0ef6a10",
   "metadata": {
    "colab": {
     "base_uri": "https://localhost:8080/"
    },
    "executionInfo": {
     "elapsed": 71,
     "status": "ok",
     "timestamp": 1628979667514,
     "user": {
      "displayName": "RODRIGO SILVA PERES",
      "photoUrl": "",
      "userId": "00311338069675780007"
     },
     "user_tz": 180
    },
    "id": "56qUwnzfq9Go",
    "outputId": "103c7261-1110-483b-e594-5374b7bb0771"
   },
   "outputs": [
    {
     "data": {
      "text/plain": [
       "GaussianNB(priors=None, var_smoothing=1)"
      ]
     },
     "execution_count": 333,
     "metadata": {
      "tags": []
     },
     "output_type": "execute_result"
    }
   ],
   "source": [
    "tuned_nb"
   ]
  },
  {
   "cell_type": "code",
   "execution_count": 334,
   "id": "e998ca5a",
   "metadata": {
    "colab": {
     "base_uri": "https://localhost:8080/",
     "height": 323
    },
    "executionInfo": {
     "elapsed": 57,
     "status": "error",
     "timestamp": 1628979667516,
     "user": {
      "displayName": "RODRIGO SILVA PERES",
      "photoUrl": "",
      "userId": "00311338069675780007"
     },
     "user_tz": 180
    },
    "id": "2loyX8_rq9Go",
    "outputId": "6c362165-61a9-43b7-810f-7e86960b49e4"
   },
   "outputs": [
    {
     "ename": "TypeError",
     "evalue": "ignored",
     "output_type": "error",
     "traceback": [
      "\u001b[0;31m---------------------------------------------------------------------------\u001b[0m",
      "\u001b[0;31mTypeError\u001b[0m                                 Traceback (most recent call last)",
      "\u001b[0;32m<ipython-input-334-25b3ec8c7b7b>\u001b[0m in \u001b[0;36m<module>\u001b[0;34m()\u001b[0m\n\u001b[0;32m----> 1\u001b[0;31m \u001b[0mplot_model\u001b[0m\u001b[0;34m(\u001b[0m\u001b[0mtuned_nb\u001b[0m\u001b[0;34m,\u001b[0m \u001b[0mplot\u001b[0m\u001b[0;34m=\u001b[0m\u001b[0;34m'feature'\u001b[0m\u001b[0;34m)\u001b[0m\u001b[0;34m\u001b[0m\u001b[0;34m\u001b[0m\u001b[0m\n\u001b[0m",
      "\u001b[0;32m/usr/local/lib/python3.7/dist-packages/pycaret/classification.py\u001b[0m in \u001b[0;36mplot_model\u001b[0;34m(estimator, plot, scale, save, fold, fit_kwargs, groups, use_train_data, verbose, display_format)\u001b[0m\n\u001b[1;32m   1549\u001b[0m         \u001b[0muse_train_data\u001b[0m\u001b[0;34m=\u001b[0m\u001b[0muse_train_data\u001b[0m\u001b[0;34m,\u001b[0m\u001b[0;34m\u001b[0m\u001b[0;34m\u001b[0m\u001b[0m\n\u001b[1;32m   1550\u001b[0m         \u001b[0msystem\u001b[0m\u001b[0;34m=\u001b[0m\u001b[0;32mTrue\u001b[0m\u001b[0;34m,\u001b[0m\u001b[0;34m\u001b[0m\u001b[0;34m\u001b[0m\u001b[0m\n\u001b[0;32m-> 1551\u001b[0;31m         \u001b[0mdisplay_format\u001b[0m\u001b[0;34m=\u001b[0m\u001b[0mdisplay_format\u001b[0m\u001b[0;34m,\u001b[0m\u001b[0;34m\u001b[0m\u001b[0;34m\u001b[0m\u001b[0m\n\u001b[0m\u001b[1;32m   1552\u001b[0m     )\n\u001b[1;32m   1553\u001b[0m \u001b[0;34m\u001b[0m\u001b[0m\n",
      "\u001b[0;32m/usr/local/lib/python3.7/dist-packages/pycaret/internal/tabular.py\u001b[0m in \u001b[0;36mplot_model\u001b[0;34m(estimator, plot, scale, save, fold, fit_kwargs, groups, feature_name, label, use_train_data, verbose, system, display, display_format, is_in_evaluate)\u001b[0m\n\u001b[1;32m   5832\u001b[0m     ) and (plot == \"feature\" or plot == \"feature_all\" or plot == \"rfe\"):\n\u001b[1;32m   5833\u001b[0m         raise TypeError(\n\u001b[0;32m-> 5834\u001b[0;31m             \u001b[0;34m\"Feature Importance and RFE plots not available for estimators that doesnt support coef_ or feature_importances_ attribute.\"\u001b[0m\u001b[0;34m\u001b[0m\u001b[0;34m\u001b[0m\u001b[0m\n\u001b[0m\u001b[1;32m   5835\u001b[0m         )\n\u001b[1;32m   5836\u001b[0m \u001b[0;34m\u001b[0m\u001b[0m\n",
      "\u001b[0;31mTypeError\u001b[0m: Feature Importance and RFE plots not available for estimators that doesnt support coef_ or feature_importances_ attribute."
     ]
    }
   ],
   "source": [
    "plot_model(tuned_nb, plot='feature')"
   ]
  },
  {
   "cell_type": "markdown",
   "id": "478e8bd5",
   "metadata": {},
   "source": [
    "### Feature importance utilizando todas as features do dataset - target Média"
   ]
  },
  {
   "cell_type": "code",
   "execution_count": 1,
   "id": "45734f05",
   "metadata": {},
   "outputs": [],
   "source": [
    "import pandas as pd\n",
    "import numpy as np"
   ]
  },
  {
   "cell_type": "code",
   "execution_count": 2,
   "id": "76569242",
   "metadata": {},
   "outputs": [
    {
     "data": {
      "text/plain": [
       "(338710, 136)"
      ]
     },
     "execution_count": 2,
     "metadata": {},
     "output_type": "execute_result"
    }
   ],
   "source": [
    "microdados_rj = pd.read_csv(\"MICRODADOS_RJ_ENEM_2019.csv\")\n",
    "\n",
    "microdados_rj.shape"
   ]
  },
  {
   "cell_type": "code",
   "execution_count": 3,
   "id": "fdaf5071",
   "metadata": {},
   "outputs": [],
   "source": [
    "microdados_rj['MEDIA_GERAL'] = (microdados_rj['NU_NOTA_CN'] + \n",
    "                                microdados_rj['NU_NOTA_CH'] + \n",
    "                                microdados_rj['NU_NOTA_LC'] + \n",
    "                                microdados_rj['NU_NOTA_MT'] + \n",
    "                                microdados_rj['NU_NOTA_REDACAO']) / 5"
   ]
  },
  {
   "cell_type": "code",
   "execution_count": 4,
   "id": "791571c8",
   "metadata": {},
   "outputs": [],
   "source": [
    "condicao = [microdados_rj['MEDIA_GERAL'] < 450, \n",
    "            microdados_rj['MEDIA_GERAL'] < 650, \n",
    "            microdados_rj['MEDIA_GERAL'] >= 650]\n",
    "            \n",
    "resultado = ['INSUFICIENTE', 'REGULAR', 'EXCELENTE']\n",
    "\n",
    "microdados_rj['CLASSE_RENDIMENTO_GERAL'] = np.select(condicao, resultado)"
   ]
  },
  {
   "cell_type": "code",
   "execution_count": 5,
   "id": "ae21b4df",
   "metadata": {},
   "outputs": [
    {
     "data": {
      "text/plain": [
       "REGULAR         185145\n",
       "0                94370\n",
       "INSUFICIENTE     32060\n",
       "EXCELENTE        27135\n",
       "Name: CLASSE_RENDIMENTO_GERAL, dtype: int64"
      ]
     },
     "execution_count": 5,
     "metadata": {},
     "output_type": "execute_result"
    }
   ],
   "source": [
    "microdados_rj['CLASSE_RENDIMENTO_GERAL'].value_counts()"
   ]
  },
  {
   "cell_type": "code",
   "execution_count": 6,
   "id": "ca8e31d2",
   "metadata": {},
   "outputs": [
    {
     "name": "stderr",
     "output_type": "stream",
     "text": [
      "/opt/conda/lib/python3.7/site-packages/ipykernel_launcher.py:2: SettingWithCopyWarning: \n",
      "A value is trying to be set on a copy of a slice from a DataFrame\n",
      "\n",
      "See the caveats in the documentation: https://pandas.pydata.org/pandas-docs/stable/user_guide/indexing.html#returning-a-view-versus-a-copy\n",
      "  \n",
      "/opt/conda/lib/python3.7/site-packages/ipykernel_launcher.py:3: SettingWithCopyWarning: \n",
      "A value is trying to be set on a copy of a slice from a DataFrame\n",
      "\n",
      "See the caveats in the documentation: https://pandas.pydata.org/pandas-docs/stable/user_guide/indexing.html#returning-a-view-versus-a-copy\n",
      "  This is separate from the ipykernel package so we can avoid doing imports until\n",
      "/opt/conda/lib/python3.7/site-packages/ipykernel_launcher.py:4: SettingWithCopyWarning: \n",
      "A value is trying to be set on a copy of a slice from a DataFrame\n",
      "\n",
      "See the caveats in the documentation: https://pandas.pydata.org/pandas-docs/stable/user_guide/indexing.html#returning-a-view-versus-a-copy\n",
      "  after removing the cwd from sys.path.\n"
     ]
    }
   ],
   "source": [
    "microdados_rj.loc[microdados_rj['CLASSE_RENDIMENTO_GERAL'] == '0', 'CLASSE_RENDIMENTO_GERAL'] = np.nan\n",
    "microdados_rj.CLASSE_RENDIMENTO_GERAL[(microdados_rj.CLASSE_RENDIMENTO_GERAL == 'INSUFICIENTE')] = 0\n",
    "microdados_rj.CLASSE_RENDIMENTO_GERAL[(microdados_rj.CLASSE_RENDIMENTO_GERAL == 'REGULAR')] = 1\n",
    "microdados_rj.CLASSE_RENDIMENTO_GERAL[(microdados_rj.CLASSE_RENDIMENTO_GERAL == 'EXCELENTE')] = 2"
   ]
  },
  {
   "cell_type": "code",
   "execution_count": 7,
   "id": "a55617f7",
   "metadata": {},
   "outputs": [
    {
     "data": {
      "text/plain": [
       "1    185145\n",
       "0     32060\n",
       "2     27135\n",
       "Name: CLASSE_RENDIMENTO_GERAL, dtype: int64"
      ]
     },
     "execution_count": 7,
     "metadata": {},
     "output_type": "execute_result"
    }
   ],
   "source": [
    "microdados_rj['CLASSE_RENDIMENTO_GERAL'].value_counts()"
   ]
  },
  {
   "cell_type": "code",
   "execution_count": 8,
   "id": "ccca5f28",
   "metadata": {},
   "outputs": [
    {
     "data": {
      "text/plain": [
       "Index(['NU_INSCRICAO', 'NU_ANO', 'CO_MUNICIPIO_RESIDENCIA',\n",
       "       'NO_MUNICIPIO_RESIDENCIA', 'CO_UF_RESIDENCIA', 'SG_UF_RESIDENCIA',\n",
       "       'NU_IDADE', 'TP_SEXO', 'TP_ESTADO_CIVIL', 'TP_COR_RACA',\n",
       "       ...\n",
       "       'Q018', 'Q019', 'Q020', 'Q021', 'Q022', 'Q023', 'Q024', 'Q025',\n",
       "       'MEDIA_GERAL', 'CLASSE_RENDIMENTO_GERAL'],\n",
       "      dtype='object', length=138)"
      ]
     },
     "execution_count": 8,
     "metadata": {},
     "output_type": "execute_result"
    }
   ],
   "source": [
    "microdados_rj.columns"
   ]
  },
  {
   "cell_type": "code",
   "execution_count": 9,
   "id": "73eaa177",
   "metadata": {},
   "outputs": [
    {
     "name": "stdout",
     "output_type": "stream",
     "text": [
      "['NU_INSCRICAO', 'NU_ANO', 'CO_MUNICIPIO_RESIDENCIA', 'NO_MUNICIPIO_RESIDENCIA', 'CO_UF_RESIDENCIA', 'SG_UF_RESIDENCIA', 'NU_IDADE', 'TP_SEXO', 'TP_ESTADO_CIVIL', 'TP_COR_RACA', 'TP_NACIONALIDADE', 'CO_MUNICIPIO_NASCIMENTO', 'NO_MUNICIPIO_NASCIMENTO', 'CO_UF_NASCIMENTO', 'SG_UF_NASCIMENTO', 'TP_ST_CONCLUSAO', 'TP_ANO_CONCLUIU', 'TP_ESCOLA', 'TP_ENSINO', 'IN_TREINEIRO', 'CO_ESCOLA', 'CO_MUNICIPIO_ESC', 'NO_MUNICIPIO_ESC', 'CO_UF_ESC', 'SG_UF_ESC', 'TP_DEPENDENCIA_ADM_ESC', 'TP_LOCALIZACAO_ESC', 'TP_SIT_FUNC_ESC', 'IN_BAIXA_VISAO', 'IN_CEGUEIRA', 'IN_SURDEZ', 'IN_DEFICIENCIA_AUDITIVA', 'IN_SURDO_CEGUEIRA', 'IN_DEFICIENCIA_FISICA', 'IN_DEFICIENCIA_MENTAL', 'IN_DEFICIT_ATENCAO', 'IN_DISLEXIA', 'IN_DISCALCULIA', 'IN_AUTISMO', 'IN_VISAO_MONOCULAR', 'IN_OUTRA_DEF', 'IN_GESTANTE', 'IN_LACTANTE', 'IN_IDOSO', 'IN_ESTUDA_CLASSE_HOSPITALAR', 'IN_SEM_RECURSO', 'IN_BRAILLE', 'IN_AMPLIADA_24', 'IN_AMPLIADA_18', 'IN_LEDOR', 'IN_ACESSO', 'IN_TRANSCRICAO', 'IN_LIBRAS', 'IN_TEMPO_ADICIONAL', 'IN_LEITURA_LABIAL', 'IN_MESA_CADEIRA_RODAS', 'IN_MESA_CADEIRA_SEPARADA', 'IN_APOIO_PERNA', 'IN_GUIA_INTERPRETE', 'IN_COMPUTADOR', 'IN_CADEIRA_ESPECIAL', 'IN_CADEIRA_CANHOTO', 'IN_CADEIRA_ACOLCHOADA', 'IN_PROVA_DEITADO', 'IN_MOBILIARIO_OBESO', 'IN_LAMINA_OVERLAY', 'IN_PROTETOR_AURICULAR', 'IN_MEDIDOR_GLICOSE', 'IN_MAQUINA_BRAILE', 'IN_SOROBAN', 'IN_MARCA_PASSO', 'IN_SONDA', 'IN_MEDICAMENTOS', 'IN_SALA_INDIVIDUAL', 'IN_SALA_ESPECIAL', 'IN_SALA_ACOMPANHANTE', 'IN_MOBILIARIO_ESPECIFICO', 'IN_MATERIAL_ESPECIFICO', 'IN_NOME_SOCIAL', 'CO_MUNICIPIO_PROVA', 'NO_MUNICIPIO_PROVA', 'CO_UF_PROVA', 'SG_UF_PROVA', 'TP_PRESENCA_CN', 'TP_PRESENCA_CH', 'TP_PRESENCA_LC', 'TP_PRESENCA_MT', 'CO_PROVA_CN', 'CO_PROVA_CH', 'CO_PROVA_LC', 'CO_PROVA_MT', 'NU_NOTA_CN', 'NU_NOTA_CH', 'NU_NOTA_LC', 'NU_NOTA_MT', 'TX_RESPOSTAS_CN', 'TX_RESPOSTAS_CH', 'TX_RESPOSTAS_LC', 'TX_RESPOSTAS_MT', 'TP_LINGUA', 'TX_GABARITO_CN', 'TX_GABARITO_CH', 'TX_GABARITO_LC', 'TX_GABARITO_MT', 'TP_STATUS_REDACAO', 'NU_NOTA_COMP1', 'NU_NOTA_COMP2', 'NU_NOTA_COMP3', 'NU_NOTA_COMP4', 'NU_NOTA_COMP5', 'NU_NOTA_REDACAO', 'Q001', 'Q002', 'Q003', 'Q004', 'Q005', 'Q006', 'Q007', 'Q008', 'Q009', 'Q010', 'Q011', 'Q012', 'Q013', 'Q014', 'Q015', 'Q016', 'Q017', 'Q018', 'Q019', 'Q020', 'Q021', 'Q022', 'Q023', 'Q024', 'Q025', 'MEDIA_GERAL', 'CLASSE_RENDIMENTO_GERAL']\n"
     ]
    }
   ],
   "source": [
    "print(microdados_rj.columns.tolist())"
   ]
  },
  {
   "cell_type": "code",
   "execution_count": 10,
   "id": "fd706822",
   "metadata": {},
   "outputs": [
    {
     "data": {
      "text/plain": [
       "(338710, 138)"
      ]
     },
     "execution_count": 10,
     "metadata": {},
     "output_type": "execute_result"
    }
   ],
   "source": [
    "microdados_rj.shape"
   ]
  },
  {
   "cell_type": "code",
   "execution_count": 11,
   "id": "daeb6ff6",
   "metadata": {},
   "outputs": [],
   "source": [
    "microdados_rj = microdados_rj[['CO_MUNICIPIO_RESIDENCIA', 'NO_MUNICIPIO_RESIDENCIA', 'CO_UF_RESIDENCIA', 'SG_UF_RESIDENCIA', 'NU_IDADE', 'TP_SEXO', 'TP_ESTADO_CIVIL', 'TP_COR_RACA', 'TP_NACIONALIDADE', 'CO_MUNICIPIO_NASCIMENTO', 'NO_MUNICIPIO_NASCIMENTO', 'CO_UF_NASCIMENTO', 'SG_UF_NASCIMENTO', 'TP_ST_CONCLUSAO', 'TP_ANO_CONCLUIU', 'TP_ESCOLA', 'TP_ENSINO', 'IN_TREINEIRO', 'CO_ESCOLA', 'CO_MUNICIPIO_ESC', 'NO_MUNICIPIO_ESC', 'CO_UF_ESC', 'SG_UF_ESC', 'TP_DEPENDENCIA_ADM_ESC', 'TP_LOCALIZACAO_ESC', 'TP_SIT_FUNC_ESC', 'IN_BAIXA_VISAO', 'IN_CEGUEIRA', 'IN_SURDEZ', 'IN_DEFICIENCIA_AUDITIVA', 'IN_SURDO_CEGUEIRA', 'IN_DEFICIENCIA_FISICA', 'IN_DEFICIENCIA_MENTAL', 'IN_DEFICIT_ATENCAO', 'IN_DISLEXIA', 'IN_DISCALCULIA', 'IN_AUTISMO', 'IN_VISAO_MONOCULAR', 'IN_OUTRA_DEF', 'IN_GESTANTE', 'IN_LACTANTE', 'IN_IDOSO', 'IN_ESTUDA_CLASSE_HOSPITALAR', 'IN_SEM_RECURSO', 'IN_BRAILLE', 'IN_AMPLIADA_24', 'IN_AMPLIADA_18', 'IN_LEDOR', 'IN_ACESSO', 'IN_TRANSCRICAO', 'IN_LIBRAS', 'IN_TEMPO_ADICIONAL', 'IN_LEITURA_LABIAL', 'IN_MESA_CADEIRA_RODAS', 'IN_MESA_CADEIRA_SEPARADA', 'IN_APOIO_PERNA', 'IN_GUIA_INTERPRETE', 'IN_COMPUTADOR', 'IN_CADEIRA_ESPECIAL', 'IN_CADEIRA_CANHOTO', 'IN_CADEIRA_ACOLCHOADA', 'IN_PROVA_DEITADO', 'IN_MOBILIARIO_OBESO', 'IN_LAMINA_OVERLAY', 'IN_PROTETOR_AURICULAR', 'IN_MEDIDOR_GLICOSE', 'IN_MAQUINA_BRAILE', 'IN_SOROBAN', 'IN_MARCA_PASSO', 'IN_SONDA', 'IN_MEDICAMENTOS', 'IN_SALA_INDIVIDUAL', 'IN_SALA_ESPECIAL', 'IN_SALA_ACOMPANHANTE', 'IN_MOBILIARIO_ESPECIFICO', 'IN_MATERIAL_ESPECIFICO', 'IN_NOME_SOCIAL', 'CO_MUNICIPIO_PROVA', 'NO_MUNICIPIO_PROVA', 'CO_UF_PROVA', 'SG_UF_PROVA', 'Q001', 'Q002', 'Q003', 'Q004', 'Q005', 'Q006', 'Q007', 'Q008', 'Q009', 'Q010', 'Q011', 'Q012', 'Q013', 'Q014', 'Q015', 'Q016', 'Q017', 'Q018', 'Q019', 'Q020', 'Q021', 'Q022', 'Q023', 'Q024', 'Q025', 'MEDIA_GERAL', 'CLASSE_RENDIMENTO_GERAL']]"
   ]
  },
  {
   "cell_type": "code",
   "execution_count": 12,
   "id": "e8645af6",
   "metadata": {},
   "outputs": [
    {
     "name": "stdout",
     "output_type": "stream",
     "text": [
      "<class 'pandas.core.frame.DataFrame'>\n",
      "RangeIndex: 338710 entries, 0 to 338709\n",
      "Columns: 108 entries, CO_MUNICIPIO_RESIDENCIA to CLASSE_RENDIMENTO_GERAL\n",
      "dtypes: float64(11), int64(63), object(34)\n",
      "memory usage: 279.1+ MB\n"
     ]
    }
   ],
   "source": [
    "microdados_rj.info()"
   ]
  },
  {
   "cell_type": "code",
   "execution_count": 13,
   "id": "235b7c53",
   "metadata": {},
   "outputs": [
    {
     "name": "stdout",
     "output_type": "stream",
     "text": [
      "<class 'pandas.core.frame.DataFrame'>\n",
      "RangeIndex: 338710 entries, 0 to 338709\n",
      "Columns: 108 entries, CO_MUNICIPIO_RESIDENCIA to CLASSE_RENDIMENTO_GERAL\n",
      "dtypes: float64(11), int64(63), object(34)\n",
      "memory usage: 279.1+ MB\n"
     ]
    }
   ],
   "source": [
    "microdados_rj.reset_index(drop=True, inplace=True)\n",
    "\n",
    "microdados_rj.info()"
   ]
  },
  {
   "cell_type": "code",
   "execution_count": 14,
   "id": "9dfb91f3",
   "metadata": {},
   "outputs": [
    {
     "data": {
      "text/html": [
       "<style type=\"text/css\">\n",
       "#T_79ac3_row5_col1, #T_79ac3_row18_col1, #T_79ac3_row44_col1 {\n",
       "  background-color: lightgreen;\n",
       "}\n",
       "</style>\n",
       "<table id=\"T_79ac3_\">\n",
       "  <thead>\n",
       "    <tr>\n",
       "      <th class=\"blank level0\" >&nbsp;</th>\n",
       "      <th class=\"col_heading level0 col0\" >Description</th>\n",
       "      <th class=\"col_heading level0 col1\" >Value</th>\n",
       "    </tr>\n",
       "  </thead>\n",
       "  <tbody>\n",
       "    <tr>\n",
       "      <th id=\"T_79ac3_level0_row0\" class=\"row_heading level0 row0\" >0</th>\n",
       "      <td id=\"T_79ac3_row0_col0\" class=\"data row0 col0\" >session_id</td>\n",
       "      <td id=\"T_79ac3_row0_col1\" class=\"data row0 col1\" >7</td>\n",
       "    </tr>\n",
       "    <tr>\n",
       "      <th id=\"T_79ac3_level0_row1\" class=\"row_heading level0 row1\" >1</th>\n",
       "      <td id=\"T_79ac3_row1_col0\" class=\"data row1 col0\" >Target</td>\n",
       "      <td id=\"T_79ac3_row1_col1\" class=\"data row1 col1\" >CLASSE_RENDIMENTO_GERAL</td>\n",
       "    </tr>\n",
       "    <tr>\n",
       "      <th id=\"T_79ac3_level0_row2\" class=\"row_heading level0 row2\" >2</th>\n",
       "      <td id=\"T_79ac3_row2_col0\" class=\"data row2 col0\" >Target Type</td>\n",
       "      <td id=\"T_79ac3_row2_col1\" class=\"data row2 col1\" >Multiclass</td>\n",
       "    </tr>\n",
       "    <tr>\n",
       "      <th id=\"T_79ac3_level0_row3\" class=\"row_heading level0 row3\" >3</th>\n",
       "      <td id=\"T_79ac3_row3_col0\" class=\"data row3 col0\" >Label Encoded</td>\n",
       "      <td id=\"T_79ac3_row3_col1\" class=\"data row3 col1\" >0.0: 0, 1.0: 1, 2.0: 2</td>\n",
       "    </tr>\n",
       "    <tr>\n",
       "      <th id=\"T_79ac3_level0_row4\" class=\"row_heading level0 row4\" >4</th>\n",
       "      <td id=\"T_79ac3_row4_col0\" class=\"data row4 col0\" >Original Data</td>\n",
       "      <td id=\"T_79ac3_row4_col1\" class=\"data row4 col1\" >(338710, 108)</td>\n",
       "    </tr>\n",
       "    <tr>\n",
       "      <th id=\"T_79ac3_level0_row5\" class=\"row_heading level0 row5\" >5</th>\n",
       "      <td id=\"T_79ac3_row5_col0\" class=\"data row5 col0\" >Missing Values</td>\n",
       "      <td id=\"T_79ac3_row5_col1\" class=\"data row5 col1\" >True</td>\n",
       "    </tr>\n",
       "    <tr>\n",
       "      <th id=\"T_79ac3_level0_row6\" class=\"row_heading level0 row6\" >6</th>\n",
       "      <td id=\"T_79ac3_row6_col0\" class=\"data row6 col0\" >Numeric Features</td>\n",
       "      <td id=\"T_79ac3_row6_col1\" class=\"data row6 col1\" >8</td>\n",
       "    </tr>\n",
       "    <tr>\n",
       "      <th id=\"T_79ac3_level0_row7\" class=\"row_heading level0 row7\" >7</th>\n",
       "      <td id=\"T_79ac3_row7_col0\" class=\"data row7 col0\" >Categorical Features</td>\n",
       "      <td id=\"T_79ac3_row7_col1\" class=\"data row7 col1\" >98</td>\n",
       "    </tr>\n",
       "    <tr>\n",
       "      <th id=\"T_79ac3_level0_row8\" class=\"row_heading level0 row8\" >8</th>\n",
       "      <td id=\"T_79ac3_row8_col0\" class=\"data row8 col0\" >Ordinal Features</td>\n",
       "      <td id=\"T_79ac3_row8_col1\" class=\"data row8 col1\" >False</td>\n",
       "    </tr>\n",
       "    <tr>\n",
       "      <th id=\"T_79ac3_level0_row9\" class=\"row_heading level0 row9\" >9</th>\n",
       "      <td id=\"T_79ac3_row9_col0\" class=\"data row9 col0\" >High Cardinality Features</td>\n",
       "      <td id=\"T_79ac3_row9_col1\" class=\"data row9 col1\" >False</td>\n",
       "    </tr>\n",
       "    <tr>\n",
       "      <th id=\"T_79ac3_level0_row10\" class=\"row_heading level0 row10\" >10</th>\n",
       "      <td id=\"T_79ac3_row10_col0\" class=\"data row10 col0\" >High Cardinality Method</td>\n",
       "      <td id=\"T_79ac3_row10_col1\" class=\"data row10 col1\" >None</td>\n",
       "    </tr>\n",
       "    <tr>\n",
       "      <th id=\"T_79ac3_level0_row11\" class=\"row_heading level0 row11\" >11</th>\n",
       "      <td id=\"T_79ac3_row11_col0\" class=\"data row11 col0\" >Transformed Train Set</td>\n",
       "      <td id=\"T_79ac3_row11_col1\" class=\"data row11 col1\" >(195572, 2615)</td>\n",
       "    </tr>\n",
       "    <tr>\n",
       "      <th id=\"T_79ac3_level0_row12\" class=\"row_heading level0 row12\" >12</th>\n",
       "      <td id=\"T_79ac3_row12_col0\" class=\"data row12 col0\" >Transformed Test Set</td>\n",
       "      <td id=\"T_79ac3_row12_col1\" class=\"data row12 col1\" >(48768, 2615)</td>\n",
       "    </tr>\n",
       "    <tr>\n",
       "      <th id=\"T_79ac3_level0_row13\" class=\"row_heading level0 row13\" >13</th>\n",
       "      <td id=\"T_79ac3_row13_col0\" class=\"data row13 col0\" >Shuffle Train-Test</td>\n",
       "      <td id=\"T_79ac3_row13_col1\" class=\"data row13 col1\" >True</td>\n",
       "    </tr>\n",
       "    <tr>\n",
       "      <th id=\"T_79ac3_level0_row14\" class=\"row_heading level0 row14\" >14</th>\n",
       "      <td id=\"T_79ac3_row14_col0\" class=\"data row14 col0\" >Stratify Train-Test</td>\n",
       "      <td id=\"T_79ac3_row14_col1\" class=\"data row14 col1\" >False</td>\n",
       "    </tr>\n",
       "    <tr>\n",
       "      <th id=\"T_79ac3_level0_row15\" class=\"row_heading level0 row15\" >15</th>\n",
       "      <td id=\"T_79ac3_row15_col0\" class=\"data row15 col0\" >Fold Generator</td>\n",
       "      <td id=\"T_79ac3_row15_col1\" class=\"data row15 col1\" >StratifiedKFold</td>\n",
       "    </tr>\n",
       "    <tr>\n",
       "      <th id=\"T_79ac3_level0_row16\" class=\"row_heading level0 row16\" >16</th>\n",
       "      <td id=\"T_79ac3_row16_col0\" class=\"data row16 col0\" >Fold Number</td>\n",
       "      <td id=\"T_79ac3_row16_col1\" class=\"data row16 col1\" >5</td>\n",
       "    </tr>\n",
       "    <tr>\n",
       "      <th id=\"T_79ac3_level0_row17\" class=\"row_heading level0 row17\" >17</th>\n",
       "      <td id=\"T_79ac3_row17_col0\" class=\"data row17 col0\" >CPU Jobs</td>\n",
       "      <td id=\"T_79ac3_row17_col1\" class=\"data row17 col1\" >-1</td>\n",
       "    </tr>\n",
       "    <tr>\n",
       "      <th id=\"T_79ac3_level0_row18\" class=\"row_heading level0 row18\" >18</th>\n",
       "      <td id=\"T_79ac3_row18_col0\" class=\"data row18 col0\" >Use GPU</td>\n",
       "      <td id=\"T_79ac3_row18_col1\" class=\"data row18 col1\" >True</td>\n",
       "    </tr>\n",
       "    <tr>\n",
       "      <th id=\"T_79ac3_level0_row19\" class=\"row_heading level0 row19\" >19</th>\n",
       "      <td id=\"T_79ac3_row19_col0\" class=\"data row19 col0\" >Log Experiment</td>\n",
       "      <td id=\"T_79ac3_row19_col1\" class=\"data row19 col1\" >False</td>\n",
       "    </tr>\n",
       "    <tr>\n",
       "      <th id=\"T_79ac3_level0_row20\" class=\"row_heading level0 row20\" >20</th>\n",
       "      <td id=\"T_79ac3_row20_col0\" class=\"data row20 col0\" >Experiment Name</td>\n",
       "      <td id=\"T_79ac3_row20_col1\" class=\"data row20 col1\" >clf-default-name</td>\n",
       "    </tr>\n",
       "    <tr>\n",
       "      <th id=\"T_79ac3_level0_row21\" class=\"row_heading level0 row21\" >21</th>\n",
       "      <td id=\"T_79ac3_row21_col0\" class=\"data row21 col0\" >USI</td>\n",
       "      <td id=\"T_79ac3_row21_col1\" class=\"data row21 col1\" >fba3</td>\n",
       "    </tr>\n",
       "    <tr>\n",
       "      <th id=\"T_79ac3_level0_row22\" class=\"row_heading level0 row22\" >22</th>\n",
       "      <td id=\"T_79ac3_row22_col0\" class=\"data row22 col0\" >Imputation Type</td>\n",
       "      <td id=\"T_79ac3_row22_col1\" class=\"data row22 col1\" >simple</td>\n",
       "    </tr>\n",
       "    <tr>\n",
       "      <th id=\"T_79ac3_level0_row23\" class=\"row_heading level0 row23\" >23</th>\n",
       "      <td id=\"T_79ac3_row23_col0\" class=\"data row23 col0\" >Iterative Imputation Iteration</td>\n",
       "      <td id=\"T_79ac3_row23_col1\" class=\"data row23 col1\" >None</td>\n",
       "    </tr>\n",
       "    <tr>\n",
       "      <th id=\"T_79ac3_level0_row24\" class=\"row_heading level0 row24\" >24</th>\n",
       "      <td id=\"T_79ac3_row24_col0\" class=\"data row24 col0\" >Numeric Imputer</td>\n",
       "      <td id=\"T_79ac3_row24_col1\" class=\"data row24 col1\" >mean</td>\n",
       "    </tr>\n",
       "    <tr>\n",
       "      <th id=\"T_79ac3_level0_row25\" class=\"row_heading level0 row25\" >25</th>\n",
       "      <td id=\"T_79ac3_row25_col0\" class=\"data row25 col0\" >Iterative Imputation Numeric Model</td>\n",
       "      <td id=\"T_79ac3_row25_col1\" class=\"data row25 col1\" >None</td>\n",
       "    </tr>\n",
       "    <tr>\n",
       "      <th id=\"T_79ac3_level0_row26\" class=\"row_heading level0 row26\" >26</th>\n",
       "      <td id=\"T_79ac3_row26_col0\" class=\"data row26 col0\" >Categorical Imputer</td>\n",
       "      <td id=\"T_79ac3_row26_col1\" class=\"data row26 col1\" >constant</td>\n",
       "    </tr>\n",
       "    <tr>\n",
       "      <th id=\"T_79ac3_level0_row27\" class=\"row_heading level0 row27\" >27</th>\n",
       "      <td id=\"T_79ac3_row27_col0\" class=\"data row27 col0\" >Iterative Imputation Categorical Model</td>\n",
       "      <td id=\"T_79ac3_row27_col1\" class=\"data row27 col1\" >None</td>\n",
       "    </tr>\n",
       "    <tr>\n",
       "      <th id=\"T_79ac3_level0_row28\" class=\"row_heading level0 row28\" >28</th>\n",
       "      <td id=\"T_79ac3_row28_col0\" class=\"data row28 col0\" >Unknown Categoricals Handling</td>\n",
       "      <td id=\"T_79ac3_row28_col1\" class=\"data row28 col1\" >least_frequent</td>\n",
       "    </tr>\n",
       "    <tr>\n",
       "      <th id=\"T_79ac3_level0_row29\" class=\"row_heading level0 row29\" >29</th>\n",
       "      <td id=\"T_79ac3_row29_col0\" class=\"data row29 col0\" >Normalize</td>\n",
       "      <td id=\"T_79ac3_row29_col1\" class=\"data row29 col1\" >False</td>\n",
       "    </tr>\n",
       "    <tr>\n",
       "      <th id=\"T_79ac3_level0_row30\" class=\"row_heading level0 row30\" >30</th>\n",
       "      <td id=\"T_79ac3_row30_col0\" class=\"data row30 col0\" >Normalize Method</td>\n",
       "      <td id=\"T_79ac3_row30_col1\" class=\"data row30 col1\" >None</td>\n",
       "    </tr>\n",
       "    <tr>\n",
       "      <th id=\"T_79ac3_level0_row31\" class=\"row_heading level0 row31\" >31</th>\n",
       "      <td id=\"T_79ac3_row31_col0\" class=\"data row31 col0\" >Transformation</td>\n",
       "      <td id=\"T_79ac3_row31_col1\" class=\"data row31 col1\" >False</td>\n",
       "    </tr>\n",
       "    <tr>\n",
       "      <th id=\"T_79ac3_level0_row32\" class=\"row_heading level0 row32\" >32</th>\n",
       "      <td id=\"T_79ac3_row32_col0\" class=\"data row32 col0\" >Transformation Method</td>\n",
       "      <td id=\"T_79ac3_row32_col1\" class=\"data row32 col1\" >None</td>\n",
       "    </tr>\n",
       "    <tr>\n",
       "      <th id=\"T_79ac3_level0_row33\" class=\"row_heading level0 row33\" >33</th>\n",
       "      <td id=\"T_79ac3_row33_col0\" class=\"data row33 col0\" >PCA</td>\n",
       "      <td id=\"T_79ac3_row33_col1\" class=\"data row33 col1\" >False</td>\n",
       "    </tr>\n",
       "    <tr>\n",
       "      <th id=\"T_79ac3_level0_row34\" class=\"row_heading level0 row34\" >34</th>\n",
       "      <td id=\"T_79ac3_row34_col0\" class=\"data row34 col0\" >PCA Method</td>\n",
       "      <td id=\"T_79ac3_row34_col1\" class=\"data row34 col1\" >None</td>\n",
       "    </tr>\n",
       "    <tr>\n",
       "      <th id=\"T_79ac3_level0_row35\" class=\"row_heading level0 row35\" >35</th>\n",
       "      <td id=\"T_79ac3_row35_col0\" class=\"data row35 col0\" >PCA Components</td>\n",
       "      <td id=\"T_79ac3_row35_col1\" class=\"data row35 col1\" >None</td>\n",
       "    </tr>\n",
       "    <tr>\n",
       "      <th id=\"T_79ac3_level0_row36\" class=\"row_heading level0 row36\" >36</th>\n",
       "      <td id=\"T_79ac3_row36_col0\" class=\"data row36 col0\" >Ignore Low Variance</td>\n",
       "      <td id=\"T_79ac3_row36_col1\" class=\"data row36 col1\" >False</td>\n",
       "    </tr>\n",
       "    <tr>\n",
       "      <th id=\"T_79ac3_level0_row37\" class=\"row_heading level0 row37\" >37</th>\n",
       "      <td id=\"T_79ac3_row37_col0\" class=\"data row37 col0\" >Combine Rare Levels</td>\n",
       "      <td id=\"T_79ac3_row37_col1\" class=\"data row37 col1\" >False</td>\n",
       "    </tr>\n",
       "    <tr>\n",
       "      <th id=\"T_79ac3_level0_row38\" class=\"row_heading level0 row38\" >38</th>\n",
       "      <td id=\"T_79ac3_row38_col0\" class=\"data row38 col0\" >Rare Level Threshold</td>\n",
       "      <td id=\"T_79ac3_row38_col1\" class=\"data row38 col1\" >None</td>\n",
       "    </tr>\n",
       "    <tr>\n",
       "      <th id=\"T_79ac3_level0_row39\" class=\"row_heading level0 row39\" >39</th>\n",
       "      <td id=\"T_79ac3_row39_col0\" class=\"data row39 col0\" >Numeric Binning</td>\n",
       "      <td id=\"T_79ac3_row39_col1\" class=\"data row39 col1\" >False</td>\n",
       "    </tr>\n",
       "    <tr>\n",
       "      <th id=\"T_79ac3_level0_row40\" class=\"row_heading level0 row40\" >40</th>\n",
       "      <td id=\"T_79ac3_row40_col0\" class=\"data row40 col0\" >Remove Outliers</td>\n",
       "      <td id=\"T_79ac3_row40_col1\" class=\"data row40 col1\" >False</td>\n",
       "    </tr>\n",
       "    <tr>\n",
       "      <th id=\"T_79ac3_level0_row41\" class=\"row_heading level0 row41\" >41</th>\n",
       "      <td id=\"T_79ac3_row41_col0\" class=\"data row41 col0\" >Outliers Threshold</td>\n",
       "      <td id=\"T_79ac3_row41_col1\" class=\"data row41 col1\" >None</td>\n",
       "    </tr>\n",
       "    <tr>\n",
       "      <th id=\"T_79ac3_level0_row42\" class=\"row_heading level0 row42\" >42</th>\n",
       "      <td id=\"T_79ac3_row42_col0\" class=\"data row42 col0\" >Remove Multicollinearity</td>\n",
       "      <td id=\"T_79ac3_row42_col1\" class=\"data row42 col1\" >False</td>\n",
       "    </tr>\n",
       "    <tr>\n",
       "      <th id=\"T_79ac3_level0_row43\" class=\"row_heading level0 row43\" >43</th>\n",
       "      <td id=\"T_79ac3_row43_col0\" class=\"data row43 col0\" >Multicollinearity Threshold</td>\n",
       "      <td id=\"T_79ac3_row43_col1\" class=\"data row43 col1\" >None</td>\n",
       "    </tr>\n",
       "    <tr>\n",
       "      <th id=\"T_79ac3_level0_row44\" class=\"row_heading level0 row44\" >44</th>\n",
       "      <td id=\"T_79ac3_row44_col0\" class=\"data row44 col0\" >Remove Perfect Collinearity</td>\n",
       "      <td id=\"T_79ac3_row44_col1\" class=\"data row44 col1\" >True</td>\n",
       "    </tr>\n",
       "    <tr>\n",
       "      <th id=\"T_79ac3_level0_row45\" class=\"row_heading level0 row45\" >45</th>\n",
       "      <td id=\"T_79ac3_row45_col0\" class=\"data row45 col0\" >Clustering</td>\n",
       "      <td id=\"T_79ac3_row45_col1\" class=\"data row45 col1\" >False</td>\n",
       "    </tr>\n",
       "    <tr>\n",
       "      <th id=\"T_79ac3_level0_row46\" class=\"row_heading level0 row46\" >46</th>\n",
       "      <td id=\"T_79ac3_row46_col0\" class=\"data row46 col0\" >Clustering Iteration</td>\n",
       "      <td id=\"T_79ac3_row46_col1\" class=\"data row46 col1\" >None</td>\n",
       "    </tr>\n",
       "    <tr>\n",
       "      <th id=\"T_79ac3_level0_row47\" class=\"row_heading level0 row47\" >47</th>\n",
       "      <td id=\"T_79ac3_row47_col0\" class=\"data row47 col0\" >Polynomial Features</td>\n",
       "      <td id=\"T_79ac3_row47_col1\" class=\"data row47 col1\" >False</td>\n",
       "    </tr>\n",
       "    <tr>\n",
       "      <th id=\"T_79ac3_level0_row48\" class=\"row_heading level0 row48\" >48</th>\n",
       "      <td id=\"T_79ac3_row48_col0\" class=\"data row48 col0\" >Polynomial Degree</td>\n",
       "      <td id=\"T_79ac3_row48_col1\" class=\"data row48 col1\" >None</td>\n",
       "    </tr>\n",
       "    <tr>\n",
       "      <th id=\"T_79ac3_level0_row49\" class=\"row_heading level0 row49\" >49</th>\n",
       "      <td id=\"T_79ac3_row49_col0\" class=\"data row49 col0\" >Trignometry Features</td>\n",
       "      <td id=\"T_79ac3_row49_col1\" class=\"data row49 col1\" >False</td>\n",
       "    </tr>\n",
       "    <tr>\n",
       "      <th id=\"T_79ac3_level0_row50\" class=\"row_heading level0 row50\" >50</th>\n",
       "      <td id=\"T_79ac3_row50_col0\" class=\"data row50 col0\" >Polynomial Threshold</td>\n",
       "      <td id=\"T_79ac3_row50_col1\" class=\"data row50 col1\" >None</td>\n",
       "    </tr>\n",
       "    <tr>\n",
       "      <th id=\"T_79ac3_level0_row51\" class=\"row_heading level0 row51\" >51</th>\n",
       "      <td id=\"T_79ac3_row51_col0\" class=\"data row51 col0\" >Group Features</td>\n",
       "      <td id=\"T_79ac3_row51_col1\" class=\"data row51 col1\" >False</td>\n",
       "    </tr>\n",
       "    <tr>\n",
       "      <th id=\"T_79ac3_level0_row52\" class=\"row_heading level0 row52\" >52</th>\n",
       "      <td id=\"T_79ac3_row52_col0\" class=\"data row52 col0\" >Feature Selection</td>\n",
       "      <td id=\"T_79ac3_row52_col1\" class=\"data row52 col1\" >False</td>\n",
       "    </tr>\n",
       "    <tr>\n",
       "      <th id=\"T_79ac3_level0_row53\" class=\"row_heading level0 row53\" >53</th>\n",
       "      <td id=\"T_79ac3_row53_col0\" class=\"data row53 col0\" >Feature Selection Method</td>\n",
       "      <td id=\"T_79ac3_row53_col1\" class=\"data row53 col1\" >classic</td>\n",
       "    </tr>\n",
       "    <tr>\n",
       "      <th id=\"T_79ac3_level0_row54\" class=\"row_heading level0 row54\" >54</th>\n",
       "      <td id=\"T_79ac3_row54_col0\" class=\"data row54 col0\" >Features Selection Threshold</td>\n",
       "      <td id=\"T_79ac3_row54_col1\" class=\"data row54 col1\" >None</td>\n",
       "    </tr>\n",
       "    <tr>\n",
       "      <th id=\"T_79ac3_level0_row55\" class=\"row_heading level0 row55\" >55</th>\n",
       "      <td id=\"T_79ac3_row55_col0\" class=\"data row55 col0\" >Feature Interaction</td>\n",
       "      <td id=\"T_79ac3_row55_col1\" class=\"data row55 col1\" >False</td>\n",
       "    </tr>\n",
       "    <tr>\n",
       "      <th id=\"T_79ac3_level0_row56\" class=\"row_heading level0 row56\" >56</th>\n",
       "      <td id=\"T_79ac3_row56_col0\" class=\"data row56 col0\" >Feature Ratio</td>\n",
       "      <td id=\"T_79ac3_row56_col1\" class=\"data row56 col1\" >False</td>\n",
       "    </tr>\n",
       "    <tr>\n",
       "      <th id=\"T_79ac3_level0_row57\" class=\"row_heading level0 row57\" >57</th>\n",
       "      <td id=\"T_79ac3_row57_col0\" class=\"data row57 col0\" >Interaction Threshold</td>\n",
       "      <td id=\"T_79ac3_row57_col1\" class=\"data row57 col1\" >None</td>\n",
       "    </tr>\n",
       "    <tr>\n",
       "      <th id=\"T_79ac3_level0_row58\" class=\"row_heading level0 row58\" >58</th>\n",
       "      <td id=\"T_79ac3_row58_col0\" class=\"data row58 col0\" >Fix Imbalance</td>\n",
       "      <td id=\"T_79ac3_row58_col1\" class=\"data row58 col1\" >False</td>\n",
       "    </tr>\n",
       "    <tr>\n",
       "      <th id=\"T_79ac3_level0_row59\" class=\"row_heading level0 row59\" >59</th>\n",
       "      <td id=\"T_79ac3_row59_col0\" class=\"data row59 col0\" >Fix Imbalance Method</td>\n",
       "      <td id=\"T_79ac3_row59_col1\" class=\"data row59 col1\" >SMOTE</td>\n",
       "    </tr>\n",
       "  </tbody>\n",
       "</table>\n"
      ],
      "text/plain": [
       "<pandas.io.formats.style.Styler at 0x7f92e78a7f50>"
      ]
     },
     "metadata": {},
     "output_type": "display_data"
    }
   ],
   "source": [
    "from pycaret.classification import *\n",
    "\n",
    "init = setup(data=microdados_rj,\n",
    "             ignore_features=['MEDIA_GERAL'],\n",
    "             target='CLASSE_RENDIMENTO_GERAL',\n",
    "             train_size=0.8,\n",
    "             fold=5,\n",
    "             fix_imbalance=False,\n",
    "             use_gpu=True,\n",
    "             silent=True,\n",
    "             session_id=7)"
   ]
  },
  {
   "cell_type": "code",
   "execution_count": 16,
   "id": "ab736e76",
   "metadata": {},
   "outputs": [
    {
     "data": {
      "text/html": [
       "<style type=\"text/css\">\n",
       "#T_c6543_row5_col0, #T_c6543_row5_col1, #T_c6543_row5_col2, #T_c6543_row5_col3, #T_c6543_row5_col4, #T_c6543_row5_col5, #T_c6543_row5_col6 {\n",
       "  background: yellow;\n",
       "}\n",
       "</style>\n",
       "<table id=\"T_c6543_\">\n",
       "  <thead>\n",
       "    <tr>\n",
       "      <th class=\"blank level0\" >&nbsp;</th>\n",
       "      <th class=\"col_heading level0 col0\" >Accuracy</th>\n",
       "      <th class=\"col_heading level0 col1\" >AUC</th>\n",
       "      <th class=\"col_heading level0 col2\" >Recall</th>\n",
       "      <th class=\"col_heading level0 col3\" >Prec.</th>\n",
       "      <th class=\"col_heading level0 col4\" >F1</th>\n",
       "      <th class=\"col_heading level0 col5\" >Kappa</th>\n",
       "      <th class=\"col_heading level0 col6\" >MCC</th>\n",
       "    </tr>\n",
       "  </thead>\n",
       "  <tbody>\n",
       "    <tr>\n",
       "      <th id=\"T_c6543_level0_row0\" class=\"row_heading level0 row0\" >0</th>\n",
       "      <td id=\"T_c6543_row0_col0\" class=\"data row0 col0\" >0.7729</td>\n",
       "      <td id=\"T_c6543_row0_col1\" class=\"data row0 col1\" >0.7187</td>\n",
       "      <td id=\"T_c6543_row0_col2\" class=\"data row0 col2\" >0.4397</td>\n",
       "      <td id=\"T_c6543_row0_col3\" class=\"data row0 col3\" >0.7399</td>\n",
       "      <td id=\"T_c6543_row0_col4\" class=\"data row0 col4\" >0.7147</td>\n",
       "      <td id=\"T_c6543_row0_col5\" class=\"data row0 col5\" >0.2020</td>\n",
       "      <td id=\"T_c6543_row0_col6\" class=\"data row0 col6\" >0.2590</td>\n",
       "    </tr>\n",
       "    <tr>\n",
       "      <th id=\"T_c6543_level0_row1\" class=\"row_heading level0 row1\" >1</th>\n",
       "      <td id=\"T_c6543_row1_col0\" class=\"data row1 col0\" >0.7722</td>\n",
       "      <td id=\"T_c6543_row1_col1\" class=\"data row1 col1\" >0.7172</td>\n",
       "      <td id=\"T_c6543_row1_col2\" class=\"data row1 col2\" >0.4429</td>\n",
       "      <td id=\"T_c6543_row1_col3\" class=\"data row1 col3\" >0.7322</td>\n",
       "      <td id=\"T_c6543_row1_col4\" class=\"data row1 col4\" >0.7149</td>\n",
       "      <td id=\"T_c6543_row1_col5\" class=\"data row1 col5\" >0.2052</td>\n",
       "      <td id=\"T_c6543_row1_col6\" class=\"data row1 col6\" >0.2592</td>\n",
       "    </tr>\n",
       "    <tr>\n",
       "      <th id=\"T_c6543_level0_row2\" class=\"row_heading level0 row2\" >2</th>\n",
       "      <td id=\"T_c6543_row2_col0\" class=\"data row2 col0\" >0.7741</td>\n",
       "      <td id=\"T_c6543_row2_col1\" class=\"data row2 col1\" >0.7176</td>\n",
       "      <td id=\"T_c6543_row2_col2\" class=\"data row2 col2\" >0.4390</td>\n",
       "      <td id=\"T_c6543_row2_col3\" class=\"data row2 col3\" >0.7406</td>\n",
       "      <td id=\"T_c6543_row2_col4\" class=\"data row2 col4\" >0.7154</td>\n",
       "      <td id=\"T_c6543_row2_col5\" class=\"data row2 col5\" >0.2021</td>\n",
       "      <td id=\"T_c6543_row2_col6\" class=\"data row2 col6\" >0.2619</td>\n",
       "    </tr>\n",
       "    <tr>\n",
       "      <th id=\"T_c6543_level0_row3\" class=\"row_heading level0 row3\" >3</th>\n",
       "      <td id=\"T_c6543_row3_col0\" class=\"data row3 col0\" >0.7733</td>\n",
       "      <td id=\"T_c6543_row3_col1\" class=\"data row3 col1\" >0.7230</td>\n",
       "      <td id=\"T_c6543_row3_col2\" class=\"data row3 col2\" >0.4437</td>\n",
       "      <td id=\"T_c6543_row3_col3\" class=\"data row3 col3\" >0.7365</td>\n",
       "      <td id=\"T_c6543_row3_col4\" class=\"data row3 col4\" >0.7156</td>\n",
       "      <td id=\"T_c6543_row3_col5\" class=\"data row3 col5\" >0.2077</td>\n",
       "      <td id=\"T_c6543_row3_col6\" class=\"data row3 col6\" >0.2632</td>\n",
       "    </tr>\n",
       "    <tr>\n",
       "      <th id=\"T_c6543_level0_row4\" class=\"row_heading level0 row4\" >4</th>\n",
       "      <td id=\"T_c6543_row4_col0\" class=\"data row4 col0\" >0.7751</td>\n",
       "      <td id=\"T_c6543_row4_col1\" class=\"data row4 col1\" >0.7244</td>\n",
       "      <td id=\"T_c6543_row4_col2\" class=\"data row4 col2\" >0.4434</td>\n",
       "      <td id=\"T_c6543_row4_col3\" class=\"data row4 col3\" >0.7442</td>\n",
       "      <td id=\"T_c6543_row4_col4\" class=\"data row4 col4\" >0.7164</td>\n",
       "      <td id=\"T_c6543_row4_col5\" class=\"data row4 col5\" >0.2086</td>\n",
       "      <td id=\"T_c6543_row4_col6\" class=\"data row4 col6\" >0.2684</td>\n",
       "    </tr>\n",
       "    <tr>\n",
       "      <th id=\"T_c6543_level0_row5\" class=\"row_heading level0 row5\" >Mean</th>\n",
       "      <td id=\"T_c6543_row5_col0\" class=\"data row5 col0\" >0.7735</td>\n",
       "      <td id=\"T_c6543_row5_col1\" class=\"data row5 col1\" >0.7202</td>\n",
       "      <td id=\"T_c6543_row5_col2\" class=\"data row5 col2\" >0.4417</td>\n",
       "      <td id=\"T_c6543_row5_col3\" class=\"data row5 col3\" >0.7387</td>\n",
       "      <td id=\"T_c6543_row5_col4\" class=\"data row5 col4\" >0.7154</td>\n",
       "      <td id=\"T_c6543_row5_col5\" class=\"data row5 col5\" >0.2051</td>\n",
       "      <td id=\"T_c6543_row5_col6\" class=\"data row5 col6\" >0.2623</td>\n",
       "    </tr>\n",
       "    <tr>\n",
       "      <th id=\"T_c6543_level0_row6\" class=\"row_heading level0 row6\" >SD</th>\n",
       "      <td id=\"T_c6543_row6_col0\" class=\"data row6 col0\" >0.0010</td>\n",
       "      <td id=\"T_c6543_row6_col1\" class=\"data row6 col1\" >0.0029</td>\n",
       "      <td id=\"T_c6543_row6_col2\" class=\"data row6 col2\" >0.0020</td>\n",
       "      <td id=\"T_c6543_row6_col3\" class=\"data row6 col3\" >0.0041</td>\n",
       "      <td id=\"T_c6543_row6_col4\" class=\"data row6 col4\" >0.0006</td>\n",
       "      <td id=\"T_c6543_row6_col5\" class=\"data row6 col5\" >0.0028</td>\n",
       "      <td id=\"T_c6543_row6_col6\" class=\"data row6 col6\" >0.0034</td>\n",
       "    </tr>\n",
       "  </tbody>\n",
       "</table>\n"
      ],
      "text/plain": [
       "<pandas.io.formats.style.Styler at 0x7f9303a5df90>"
      ]
     },
     "metadata": {},
     "output_type": "display_data"
    },
    {
     "name": "stderr",
     "output_type": "stream",
     "text": [
      "INFO:logs:create_model_container: 2\n",
      "INFO:logs:master_model_container: 2\n",
      "INFO:logs:display_container: 2\n",
      "INFO:logs:LGBMClassifier(boosting_type='gbdt', class_weight=None, colsample_bytree=1.0,\n",
      "               importance_type='split', learning_rate=0.1, max_depth=-1,\n",
      "               min_child_samples=20, min_child_weight=0.001, min_split_gain=0.0,\n",
      "               n_estimators=100, n_jobs=-1, num_leaves=31, objective=None,\n",
      "               random_state=7, reg_alpha=0.0, reg_lambda=0.0, silent=True,\n",
      "               subsample=1.0, subsample_for_bin=200000, subsample_freq=0)\n",
      "INFO:logs:create_model() succesfully completed......................................\n"
     ]
    }
   ],
   "source": [
    "lgbm = create_model('lightgbm',\n",
    "                    fold=5)"
   ]
  },
  {
   "cell_type": "code",
   "execution_count": 17,
   "id": "b9f8f815",
   "metadata": {},
   "outputs": [
    {
     "name": "stderr",
     "output_type": "stream",
     "text": [
      "WARNING:matplotlib.font_manager:findfont: Font family ['sans-serif'] not found. Falling back to DejaVu Sans.\n",
      "WARNING:matplotlib.font_manager:findfont: Generic family 'sans-serif' not found because none of the following families were found: Arial, Liberation Sans, Bitstream Vera Sans, sans-serif\n",
      "WARNING:matplotlib.font_manager:findfont: Font family ['sans-serif'] not found. Falling back to DejaVu Sans.\n",
      "WARNING:matplotlib.font_manager:findfont: Generic family 'sans-serif' not found because none of the following families were found: Arial, Liberation Sans, Bitstream Vera Sans, sans-serif\n",
      "WARNING:matplotlib.font_manager:findfont: Font family ['sans-serif'] not found. Falling back to DejaVu Sans.\n",
      "WARNING:matplotlib.font_manager:findfont: Generic family 'sans-serif' not found because none of the following families were found: Arial, Liberation Sans, Bitstream Vera Sans, sans-serif\n"
     ]
    },
    {
     "data": {
      "image/png": "[encoded data removed]",
      "text/plain": [
       "<Figure size 800x500 with 1 Axes>"
      ]
     },
     "metadata": {},
     "output_type": "display_data"
    },
    {
     "name": "stderr",
     "output_type": "stream",
     "text": [
      "INFO:logs:Visual Rendered Successfully\n",
      "INFO:logs:plot_model() succesfully completed......................................\n"
     ]
    }
   ],
   "source": [
    "plot_model(lgbm, plot='feature')"
   ]
  },
  {
   "cell_type": "code",
   "execution_count": 19,
   "id": "9f516fa4",
   "metadata": {},
   "outputs": [
    {
     "data": {
      "text/html": [
       "<style type=\"text/css\">\n",
       "#T_28019_row5_col0, #T_28019_row5_col1, #T_28019_row5_col2, #T_28019_row5_col3, #T_28019_row5_col4, #T_28019_row5_col5, #T_28019_row5_col6 {\n",
       "  background: yellow;\n",
       "}\n",
       "</style>\n",
       "<table id=\"T_28019_\">\n",
       "  <thead>\n",
       "    <tr>\n",
       "      <th class=\"blank level0\" >&nbsp;</th>\n",
       "      <th class=\"col_heading level0 col0\" >Accuracy</th>\n",
       "      <th class=\"col_heading level0 col1\" >AUC</th>\n",
       "      <th class=\"col_heading level0 col2\" >Recall</th>\n",
       "      <th class=\"col_heading level0 col3\" >Prec.</th>\n",
       "      <th class=\"col_heading level0 col4\" >F1</th>\n",
       "      <th class=\"col_heading level0 col5\" >Kappa</th>\n",
       "      <th class=\"col_heading level0 col6\" >MCC</th>\n",
       "    </tr>\n",
       "  </thead>\n",
       "  <tbody>\n",
       "    <tr>\n",
       "      <th id=\"T_28019_level0_row0\" class=\"row_heading level0 row0\" >0</th>\n",
       "      <td id=\"T_28019_row0_col0\" class=\"data row0 col0\" >0.6537</td>\n",
       "      <td id=\"T_28019_row0_col1\" class=\"data row0 col1\" >0.5555</td>\n",
       "      <td id=\"T_28019_row0_col2\" class=\"data row0 col2\" >0.4513</td>\n",
       "      <td id=\"T_28019_row0_col3\" class=\"data row0 col3\" >0.6576</td>\n",
       "      <td id=\"T_28019_row0_col4\" class=\"data row0 col4\" >0.6556</td>\n",
       "      <td id=\"T_28019_row0_col5\" class=\"data row0 col5\" >0.1371</td>\n",
       "      <td id=\"T_28019_row0_col6\" class=\"data row0 col6\" >0.1371</td>\n",
       "    </tr>\n",
       "    <tr>\n",
       "      <th id=\"T_28019_level0_row1\" class=\"row_heading level0 row1\" >1</th>\n",
       "      <td id=\"T_28019_row1_col0\" class=\"data row1 col0\" >0.6574</td>\n",
       "      <td id=\"T_28019_row1_col1\" class=\"data row1 col1\" >0.5597</td>\n",
       "      <td id=\"T_28019_row1_col2\" class=\"data row1 col2\" >0.4549</td>\n",
       "      <td id=\"T_28019_row1_col3\" class=\"data row1 col3\" >0.6604</td>\n",
       "      <td id=\"T_28019_row1_col4\" class=\"data row1 col4\" >0.6589</td>\n",
       "      <td id=\"T_28019_row1_col5\" class=\"data row1 col5\" >0.1446</td>\n",
       "      <td id=\"T_28019_row1_col6\" class=\"data row1 col6\" >0.1446</td>\n",
       "    </tr>\n",
       "    <tr>\n",
       "      <th id=\"T_28019_level0_row2\" class=\"row_heading level0 row2\" >2</th>\n",
       "      <td id=\"T_28019_row2_col0\" class=\"data row2 col0\" >0.6568</td>\n",
       "      <td id=\"T_28019_row2_col1\" class=\"data row2 col1\" >0.5567</td>\n",
       "      <td id=\"T_28019_row2_col2\" class=\"data row2 col2\" >0.4511</td>\n",
       "      <td id=\"T_28019_row2_col3\" class=\"data row2 col3\" >0.6589</td>\n",
       "      <td id=\"T_28019_row2_col4\" class=\"data row2 col4\" >0.6578</td>\n",
       "      <td id=\"T_28019_row2_col5\" class=\"data row2 col5\" >0.1395</td>\n",
       "      <td id=\"T_28019_row2_col6\" class=\"data row2 col6\" >0.1395</td>\n",
       "    </tr>\n",
       "    <tr>\n",
       "      <th id=\"T_28019_level0_row3\" class=\"row_heading level0 row3\" >3</th>\n",
       "      <td id=\"T_28019_row3_col0\" class=\"data row3 col0\" >0.6546</td>\n",
       "      <td id=\"T_28019_row3_col1\" class=\"data row3 col1\" >0.5608</td>\n",
       "      <td id=\"T_28019_row3_col2\" class=\"data row3 col2\" >0.4584</td>\n",
       "      <td id=\"T_28019_row3_col3\" class=\"data row3 col3\" >0.6608</td>\n",
       "      <td id=\"T_28019_row3_col4\" class=\"data row3 col4\" >0.6576</td>\n",
       "      <td id=\"T_28019_row3_col5\" class=\"data row3 col5\" >0.1463</td>\n",
       "      <td id=\"T_28019_row3_col6\" class=\"data row3 col6\" >0.1463</td>\n",
       "    </tr>\n",
       "    <tr>\n",
       "      <th id=\"T_28019_level0_row4\" class=\"row_heading level0 row4\" >4</th>\n",
       "      <td id=\"T_28019_row4_col0\" class=\"data row4 col0\" >0.6585</td>\n",
       "      <td id=\"T_28019_row4_col1\" class=\"data row4 col1\" >0.5590</td>\n",
       "      <td id=\"T_28019_row4_col2\" class=\"data row4 col2\" >0.4532</td>\n",
       "      <td id=\"T_28019_row4_col3\" class=\"data row4 col3\" >0.6605</td>\n",
       "      <td id=\"T_28019_row4_col4\" class=\"data row4 col4\" >0.6595</td>\n",
       "      <td id=\"T_28019_row4_col5\" class=\"data row4 col5\" >0.1435</td>\n",
       "      <td id=\"T_28019_row4_col6\" class=\"data row4 col6\" >0.1435</td>\n",
       "    </tr>\n",
       "    <tr>\n",
       "      <th id=\"T_28019_level0_row5\" class=\"row_heading level0 row5\" >Mean</th>\n",
       "      <td id=\"T_28019_row5_col0\" class=\"data row5 col0\" >0.6562</td>\n",
       "      <td id=\"T_28019_row5_col1\" class=\"data row5 col1\" >0.5583</td>\n",
       "      <td id=\"T_28019_row5_col2\" class=\"data row5 col2\" >0.4538</td>\n",
       "      <td id=\"T_28019_row5_col3\" class=\"data row5 col3\" >0.6597</td>\n",
       "      <td id=\"T_28019_row5_col4\" class=\"data row5 col4\" >0.6579</td>\n",
       "      <td id=\"T_28019_row5_col5\" class=\"data row5 col5\" >0.1422</td>\n",
       "      <td id=\"T_28019_row5_col6\" class=\"data row5 col6\" >0.1422</td>\n",
       "    </tr>\n",
       "    <tr>\n",
       "      <th id=\"T_28019_level0_row6\" class=\"row_heading level0 row6\" >SD</th>\n",
       "      <td id=\"T_28019_row6_col0\" class=\"data row6 col0\" >0.0018</td>\n",
       "      <td id=\"T_28019_row6_col1\" class=\"data row6 col1\" >0.0020</td>\n",
       "      <td id=\"T_28019_row6_col2\" class=\"data row6 col2\" >0.0027</td>\n",
       "      <td id=\"T_28019_row6_col3\" class=\"data row6 col3\" >0.0012</td>\n",
       "      <td id=\"T_28019_row6_col4\" class=\"data row6 col4\" >0.0013</td>\n",
       "      <td id=\"T_28019_row6_col5\" class=\"data row6 col5\" >0.0034</td>\n",
       "      <td id=\"T_28019_row6_col6\" class=\"data row6 col6\" >0.0034</td>\n",
       "    </tr>\n",
       "  </tbody>\n",
       "</table>\n"
      ],
      "text/plain": [
       "<pandas.io.formats.style.Styler at 0x7f92e78a7e10>"
      ]
     },
     "metadata": {},
     "output_type": "display_data"
    },
    {
     "name": "stderr",
     "output_type": "stream",
     "text": [
      "INFO:logs:create_model_container: 3\n",
      "INFO:logs:master_model_container: 3\n",
      "INFO:logs:display_container: 3\n",
      "INFO:logs:DecisionTreeClassifier(ccp_alpha=0.0, class_weight=None, criterion='gini',\n",
      "                       max_depth=None, max_features=None, max_leaf_nodes=None,\n",
      "                       min_impurity_decrease=0.0, min_impurity_split=None,\n",
      "                       min_samples_leaf=1, min_samples_split=2,\n",
      "                       min_weight_fraction_leaf=0.0, presort='deprecated',\n",
      "                       random_state=7, splitter='best')\n",
      "INFO:logs:create_model() succesfully completed......................................\n"
     ]
    }
   ],
   "source": [
    "dt = create_model('dt',\n",
    "                  fold=5)"
   ]
  },
  {
   "cell_type": "code",
   "execution_count": 20,
   "id": "0ca17654",
   "metadata": {},
   "outputs": [
    {
     "data": {
      "image/png": "[encoded data removed]",
      "text/plain": [
       "<Figure size 800x500 with 1 Axes>"
      ]
     },
     "metadata": {},
     "output_type": "display_data"
    },
    {
     "name": "stderr",
     "output_type": "stream",
     "text": [
      "INFO:logs:Visual Rendered Successfully\n",
      "INFO:logs:plot_model() succesfully completed......................................\n"
     ]
    }
   ],
   "source": [
    "plot_model(dt, plot='feature')"
   ]
  },
  {
   "cell_type": "code",
   "execution_count": 21,
   "id": "4dd7f30e",
   "metadata": {},
   "outputs": [
    {
     "data": {
      "text/html": [
       "<style type=\"text/css\">\n",
       "#T_daa97_row5_col0, #T_daa97_row5_col1, #T_daa97_row5_col2, #T_daa97_row5_col3, #T_daa97_row5_col4, #T_daa97_row5_col5, #T_daa97_row5_col6 {\n",
       "  background: yellow;\n",
       "}\n",
       "</style>\n",
       "<table id=\"T_daa97_\">\n",
       "  <thead>\n",
       "    <tr>\n",
       "      <th class=\"blank level0\" >&nbsp;</th>\n",
       "      <th class=\"col_heading level0 col0\" >Accuracy</th>\n",
       "      <th class=\"col_heading level0 col1\" >AUC</th>\n",
       "      <th class=\"col_heading level0 col2\" >Recall</th>\n",
       "      <th class=\"col_heading level0 col3\" >Prec.</th>\n",
       "      <th class=\"col_heading level0 col4\" >F1</th>\n",
       "      <th class=\"col_heading level0 col5\" >Kappa</th>\n",
       "      <th class=\"col_heading level0 col6\" >MCC</th>\n",
       "    </tr>\n",
       "  </thead>\n",
       "  <tbody>\n",
       "    <tr>\n",
       "      <th id=\"T_daa97_level0_row0\" class=\"row_heading level0 row0\" >0</th>\n",
       "      <td id=\"T_daa97_row0_col0\" class=\"data row0 col0\" >0.7685</td>\n",
       "      <td id=\"T_daa97_row0_col1\" class=\"data row0 col1\" >0.6843</td>\n",
       "      <td id=\"T_daa97_row0_col2\" class=\"data row0 col2\" >0.3895</td>\n",
       "      <td id=\"T_daa97_row0_col3\" class=\"data row0 col3\" >0.7311</td>\n",
       "      <td id=\"T_daa97_row0_col4\" class=\"data row0 col4\" >0.6888</td>\n",
       "      <td id=\"T_daa97_row0_col5\" class=\"data row0 col5\" >0.1148</td>\n",
       "      <td id=\"T_daa97_row0_col6\" class=\"data row0 col6\" >0.1983</td>\n",
       "    </tr>\n",
       "    <tr>\n",
       "      <th id=\"T_daa97_level0_row1\" class=\"row_heading level0 row1\" >1</th>\n",
       "      <td id=\"T_daa97_row1_col0\" class=\"data row1 col0\" >0.7679</td>\n",
       "      <td id=\"T_daa97_row1_col1\" class=\"data row1 col1\" >0.6784</td>\n",
       "      <td id=\"T_daa97_row1_col2\" class=\"data row1 col2\" >0.3902</td>\n",
       "      <td id=\"T_daa97_row1_col3\" class=\"data row1 col3\" >0.7314</td>\n",
       "      <td id=\"T_daa97_row1_col4\" class=\"data row1 col4\" >0.6887</td>\n",
       "      <td id=\"T_daa97_row1_col5\" class=\"data row1 col5\" >0.1157</td>\n",
       "      <td id=\"T_daa97_row1_col6\" class=\"data row1 col6\" >0.1961</td>\n",
       "    </tr>\n",
       "    <tr>\n",
       "      <th id=\"T_daa97_level0_row2\" class=\"row_heading level0 row2\" >2</th>\n",
       "      <td id=\"T_daa97_row2_col0\" class=\"data row2 col0\" >0.7680</td>\n",
       "      <td id=\"T_daa97_row2_col1\" class=\"data row2 col1\" >0.6865</td>\n",
       "      <td id=\"T_daa97_row2_col2\" class=\"data row2 col2\" >0.3893</td>\n",
       "      <td id=\"T_daa97_row2_col3\" class=\"data row2 col3\" >0.7260</td>\n",
       "      <td id=\"T_daa97_row2_col4\" class=\"data row2 col4\" >0.6886</td>\n",
       "      <td id=\"T_daa97_row2_col5\" class=\"data row2 col5\" >0.1140</td>\n",
       "      <td id=\"T_daa97_row2_col6\" class=\"data row2 col6\" >0.1953</td>\n",
       "    </tr>\n",
       "    <tr>\n",
       "      <th id=\"T_daa97_level0_row3\" class=\"row_heading level0 row3\" >3</th>\n",
       "      <td id=\"T_daa97_row3_col0\" class=\"data row3 col0\" >0.7675</td>\n",
       "      <td id=\"T_daa97_row3_col1\" class=\"data row3 col1\" >0.6893</td>\n",
       "      <td id=\"T_daa97_row3_col2\" class=\"data row3 col2\" >0.3898</td>\n",
       "      <td id=\"T_daa97_row3_col3\" class=\"data row3 col3\" >0.7126</td>\n",
       "      <td id=\"T_daa97_row3_col4\" class=\"data row3 col4\" >0.6883</td>\n",
       "      <td id=\"T_daa97_row3_col5\" class=\"data row3 col5\" >0.1141</td>\n",
       "      <td id=\"T_daa97_row3_col6\" class=\"data row3 col6\" >0.1934</td>\n",
       "    </tr>\n",
       "    <tr>\n",
       "      <th id=\"T_daa97_level0_row4\" class=\"row_heading level0 row4\" >4</th>\n",
       "      <td id=\"T_daa97_row4_col0\" class=\"data row4 col0\" >0.7680</td>\n",
       "      <td id=\"T_daa97_row4_col1\" class=\"data row4 col1\" >0.6895</td>\n",
       "      <td id=\"T_daa97_row4_col2\" class=\"data row4 col2\" >0.3905</td>\n",
       "      <td id=\"T_daa97_row4_col3\" class=\"data row4 col3\" >0.7315</td>\n",
       "      <td id=\"T_daa97_row4_col4\" class=\"data row4 col4\" >0.6890</td>\n",
       "      <td id=\"T_daa97_row4_col5\" class=\"data row4 col5\" >0.1161</td>\n",
       "      <td id=\"T_daa97_row4_col6\" class=\"data row4 col6\" >0.1969</td>\n",
       "    </tr>\n",
       "    <tr>\n",
       "      <th id=\"T_daa97_level0_row5\" class=\"row_heading level0 row5\" >Mean</th>\n",
       "      <td id=\"T_daa97_row5_col0\" class=\"data row5 col0\" >0.7680</td>\n",
       "      <td id=\"T_daa97_row5_col1\" class=\"data row5 col1\" >0.6856</td>\n",
       "      <td id=\"T_daa97_row5_col2\" class=\"data row5 col2\" >0.3899</td>\n",
       "      <td id=\"T_daa97_row5_col3\" class=\"data row5 col3\" >0.7265</td>\n",
       "      <td id=\"T_daa97_row5_col4\" class=\"data row5 col4\" >0.6887</td>\n",
       "      <td id=\"T_daa97_row5_col5\" class=\"data row5 col5\" >0.1149</td>\n",
       "      <td id=\"T_daa97_row5_col6\" class=\"data row5 col6\" >0.1960</td>\n",
       "    </tr>\n",
       "    <tr>\n",
       "      <th id=\"T_daa97_level0_row6\" class=\"row_heading level0 row6\" >SD</th>\n",
       "      <td id=\"T_daa97_row6_col0\" class=\"data row6 col0\" >0.0003</td>\n",
       "      <td id=\"T_daa97_row6_col1\" class=\"data row6 col1\" >0.0041</td>\n",
       "      <td id=\"T_daa97_row6_col2\" class=\"data row6 col2\" >0.0005</td>\n",
       "      <td id=\"T_daa97_row6_col3\" class=\"data row6 col3\" >0.0073</td>\n",
       "      <td id=\"T_daa97_row6_col4\" class=\"data row6 col4\" >0.0002</td>\n",
       "      <td id=\"T_daa97_row6_col5\" class=\"data row6 col5\" >0.0008</td>\n",
       "      <td id=\"T_daa97_row6_col6\" class=\"data row6 col6\" >0.0016</td>\n",
       "    </tr>\n",
       "  </tbody>\n",
       "</table>\n"
      ],
      "text/plain": [
       "<pandas.io.formats.style.Styler at 0x7f933daa56d0>"
      ]
     },
     "metadata": {},
     "output_type": "display_data"
    },
    {
     "name": "stderr",
     "output_type": "stream",
     "text": [
      "INFO:logs:create_model_container: 4\n",
      "INFO:logs:master_model_container: 4\n",
      "INFO:logs:display_container: 4\n",
      "INFO:logs:RandomForestClassifier(bootstrap=True, ccp_alpha=0.0, class_weight=None,\n",
      "                       criterion='gini', max_depth=None, max_features='auto',\n",
      "                       max_leaf_nodes=None, max_samples=None,\n",
      "                       min_impurity_decrease=0.0, min_impurity_split=None,\n",
      "                       min_samples_leaf=1, min_samples_split=2,\n",
      "                       min_weight_fraction_leaf=0.0, n_estimators=100,\n",
      "                       n_jobs=-1, oob_score=False, random_state=7, verbose=0,\n",
      "                       warm_start=False)\n",
      "INFO:logs:create_model() succesfully completed......................................\n"
     ]
    }
   ],
   "source": [
    "rf = create_model('rf',\n",
    "                  fold=5)"
   ]
  },
  {
   "cell_type": "code",
   "execution_count": 22,
   "id": "77ddf889",
   "metadata": {},
   "outputs": [
    {
     "data": {
      "image/png": "[encoded data removed]",
      "text/plain": [
       "<Figure size 800x500 with 1 Axes>"
      ]
     },
     "metadata": {},
     "output_type": "display_data"
    },
    {
     "name": "stderr",
     "output_type": "stream",
     "text": [
      "INFO:logs:Visual Rendered Successfully\n",
      "INFO:logs:plot_model() succesfully completed......................................\n"
     ]
    }
   ],
   "source": [
    "plot_model(rf, plot='feature')"
   ]
  },
  {
   "cell_type": "code",
   "execution_count": 24,
   "id": "849b4c37",
   "metadata": {},
   "outputs": [
    {
     "data": {
      "text/html": [
       "<style type=\"text/css\">\n",
       "#T_9004d_row5_col0, #T_9004d_row5_col1, #T_9004d_row5_col2, #T_9004d_row5_col3, #T_9004d_row5_col4, #T_9004d_row5_col5, #T_9004d_row5_col6 {\n",
       "  background: yellow;\n",
       "}\n",
       "</style>\n",
       "<table id=\"T_9004d_\">\n",
       "  <thead>\n",
       "    <tr>\n",
       "      <th class=\"blank level0\" >&nbsp;</th>\n",
       "      <th class=\"col_heading level0 col0\" >Accuracy</th>\n",
       "      <th class=\"col_heading level0 col1\" >AUC</th>\n",
       "      <th class=\"col_heading level0 col2\" >Recall</th>\n",
       "      <th class=\"col_heading level0 col3\" >Prec.</th>\n",
       "      <th class=\"col_heading level0 col4\" >F1</th>\n",
       "      <th class=\"col_heading level0 col5\" >Kappa</th>\n",
       "      <th class=\"col_heading level0 col6\" >MCC</th>\n",
       "    </tr>\n",
       "  </thead>\n",
       "  <tbody>\n",
       "    <tr>\n",
       "      <th id=\"T_9004d_level0_row0\" class=\"row_heading level0 row0\" >0</th>\n",
       "      <td id=\"T_9004d_row0_col0\" class=\"data row0 col0\" >0.7576</td>\n",
       "      <td id=\"T_9004d_row0_col1\" class=\"data row0 col1\" >0.5286</td>\n",
       "      <td id=\"T_9004d_row0_col2\" class=\"data row0 col2\" >0.3334</td>\n",
       "      <td id=\"T_9004d_row0_col3\" class=\"data row0 col3\" >0.6017</td>\n",
       "      <td id=\"T_9004d_row0_col4\" class=\"data row0 col4\" >0.6532</td>\n",
       "      <td id=\"T_9004d_row0_col5\" class=\"data row0 col5\" >0.0001</td>\n",
       "      <td id=\"T_9004d_row0_col6\" class=\"data row0 col6\" >0.0017</td>\n",
       "    </tr>\n",
       "    <tr>\n",
       "      <th id=\"T_9004d_level0_row1\" class=\"row_heading level0 row1\" >1</th>\n",
       "      <td id=\"T_9004d_row1_col0\" class=\"data row1 col0\" >0.7575</td>\n",
       "      <td id=\"T_9004d_row1_col1\" class=\"data row1 col1\" >0.5207</td>\n",
       "      <td id=\"T_9004d_row1_col2\" class=\"data row1 col2\" >0.3334</td>\n",
       "      <td id=\"T_9004d_row1_col3\" class=\"data row1 col3\" >0.5879</td>\n",
       "      <td id=\"T_9004d_row1_col4\" class=\"data row1 col4\" >0.6532</td>\n",
       "      <td id=\"T_9004d_row1_col5\" class=\"data row1 col5\" >0.0001</td>\n",
       "      <td id=\"T_9004d_row1_col6\" class=\"data row1 col6\" >0.0024</td>\n",
       "    </tr>\n",
       "    <tr>\n",
       "      <th id=\"T_9004d_level0_row2\" class=\"row_heading level0 row2\" >2</th>\n",
       "      <td id=\"T_9004d_row2_col0\" class=\"data row2 col0\" >0.7574</td>\n",
       "      <td id=\"T_9004d_row2_col1\" class=\"data row2 col1\" >0.5264</td>\n",
       "      <td id=\"T_9004d_row2_col2\" class=\"data row2 col2\" >0.3333</td>\n",
       "      <td id=\"T_9004d_row2_col3\" class=\"data row2 col3\" >0.6377</td>\n",
       "      <td id=\"T_9004d_row2_col4\" class=\"data row2 col4\" >0.6532</td>\n",
       "      <td id=\"T_9004d_row2_col5\" class=\"data row2 col5\" >0.0000</td>\n",
       "      <td id=\"T_9004d_row2_col6\" class=\"data row2 col6\" >0.0004</td>\n",
       "    </tr>\n",
       "    <tr>\n",
       "      <th id=\"T_9004d_level0_row3\" class=\"row_heading level0 row3\" >3</th>\n",
       "      <td id=\"T_9004d_row3_col0\" class=\"data row3 col0\" >0.7577</td>\n",
       "      <td id=\"T_9004d_row3_col1\" class=\"data row3 col1\" >0.4997</td>\n",
       "      <td id=\"T_9004d_row3_col2\" class=\"data row3 col2\" >0.3333</td>\n",
       "      <td id=\"T_9004d_row3_col3\" class=\"data row3 col3\" >0.5741</td>\n",
       "      <td id=\"T_9004d_row3_col4\" class=\"data row3 col4\" >0.6532</td>\n",
       "      <td id=\"T_9004d_row3_col5\" class=\"data row3 col5\" >0.0000</td>\n",
       "      <td id=\"T_9004d_row3_col6\" class=\"data row3 col6\" >0.0000</td>\n",
       "    </tr>\n",
       "    <tr>\n",
       "      <th id=\"T_9004d_level0_row4\" class=\"row_heading level0 row4\" >4</th>\n",
       "      <td id=\"T_9004d_row4_col0\" class=\"data row4 col0\" >0.7576</td>\n",
       "      <td id=\"T_9004d_row4_col1\" class=\"data row4 col1\" >0.5280</td>\n",
       "      <td id=\"T_9004d_row4_col2\" class=\"data row4 col2\" >0.3334</td>\n",
       "      <td id=\"T_9004d_row4_col3\" class=\"data row4 col3\" >0.6018</td>\n",
       "      <td id=\"T_9004d_row4_col4\" class=\"data row4 col4\" >0.6532</td>\n",
       "      <td id=\"T_9004d_row4_col5\" class=\"data row4 col5\" >0.0001</td>\n",
       "      <td id=\"T_9004d_row4_col6\" class=\"data row4 col6\" >0.0024</td>\n",
       "    </tr>\n",
       "    <tr>\n",
       "      <th id=\"T_9004d_level0_row5\" class=\"row_heading level0 row5\" >Mean</th>\n",
       "      <td id=\"T_9004d_row5_col0\" class=\"data row5 col0\" >0.7576</td>\n",
       "      <td id=\"T_9004d_row5_col1\" class=\"data row5 col1\" >0.5207</td>\n",
       "      <td id=\"T_9004d_row5_col2\" class=\"data row5 col2\" >0.3334</td>\n",
       "      <td id=\"T_9004d_row5_col3\" class=\"data row5 col3\" >0.6006</td>\n",
       "      <td id=\"T_9004d_row5_col4\" class=\"data row5 col4\" >0.6532</td>\n",
       "      <td id=\"T_9004d_row5_col5\" class=\"data row5 col5\" >0.0001</td>\n",
       "      <td id=\"T_9004d_row5_col6\" class=\"data row5 col6\" >0.0014</td>\n",
       "    </tr>\n",
       "    <tr>\n",
       "      <th id=\"T_9004d_level0_row6\" class=\"row_heading level0 row6\" >SD</th>\n",
       "      <td id=\"T_9004d_row6_col0\" class=\"data row6 col0\" >0.0001</td>\n",
       "      <td id=\"T_9004d_row6_col1\" class=\"data row6 col1\" >0.0109</td>\n",
       "      <td id=\"T_9004d_row6_col2\" class=\"data row6 col2\" >0.0000</td>\n",
       "      <td id=\"T_9004d_row6_col3\" class=\"data row6 col3\" >0.0212</td>\n",
       "      <td id=\"T_9004d_row6_col4\" class=\"data row6 col4\" >0.0000</td>\n",
       "      <td id=\"T_9004d_row6_col5\" class=\"data row6 col5\" >0.0000</td>\n",
       "      <td id=\"T_9004d_row6_col6\" class=\"data row6 col6\" >0.0010</td>\n",
       "    </tr>\n",
       "  </tbody>\n",
       "</table>\n"
      ],
      "text/plain": [
       "<pandas.io.formats.style.Styler at 0x7f9302a80450>"
      ]
     },
     "metadata": {},
     "output_type": "display_data"
    },
    {
     "name": "stderr",
     "output_type": "stream",
     "text": [
      "INFO:logs:create_model_container: 5\n",
      "INFO:logs:master_model_container: 5\n",
      "INFO:logs:display_container: 5\n",
      "INFO:logs:LogisticRegression(C=1.0, class_weight=None, dual=False, fit_intercept=True,\n",
      "                   intercept_scaling=1, l1_ratio=None, max_iter=1000,\n",
      "                   multi_class='auto', n_jobs=None, penalty='l2',\n",
      "                   random_state=7, solver='lbfgs', tol=0.0001, verbose=0,\n",
      "                   warm_start=False)\n",
      "INFO:logs:create_model() succesfully completed......................................\n"
     ]
    }
   ],
   "source": [
    "lr = create_model('lr',\n",
    "                  fold=5)"
   ]
  },
  {
   "cell_type": "code",
   "execution_count": 25,
   "id": "3cbb041c",
   "metadata": {},
   "outputs": [
    {
     "data": {
      "image/png": "[encoded data removed]",
      "text/plain": [
       "<Figure size 800x500 with 1 Axes>"
      ]
     },
     "metadata": {},
     "output_type": "display_data"
    },
    {
     "name": "stderr",
     "output_type": "stream",
     "text": [
      "INFO:logs:Visual Rendered Successfully\n",
      "INFO:logs:plot_model() succesfully completed......................................\n"
     ]
    }
   ],
   "source": [
    "plot_model(lr, plot='feature')"
   ]
  }
 ],
 "metadata": {
  "environment": {
   "name": "tf2-gpu.2-5.m76",
   "type": "gcloud",
   "uri": "gcr.io/deeplearning-platform-release/tf2-gpu.2-5:m76"
  },
  "kernelspec": {
   "display_name": "Python 3",
   "language": "python",
   "name": "python3"
  },
  "language_info": {
   "codemirror_mode": {
    "name": "ipython",
    "version": 3
   },
   "file_extension": ".py",
   "mimetype": "text/x-python",
   "name": "python",
   "nbconvert_exporter": "python",
   "pygments_lexer": "ipython3",
   "version": "3.7.10"
  }
 },
 "nbformat": 4,
 "nbformat_minor": 5
}
