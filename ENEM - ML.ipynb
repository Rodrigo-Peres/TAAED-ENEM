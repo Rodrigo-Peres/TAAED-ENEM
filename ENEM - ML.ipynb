{
 "cells": [
  {
   "cell_type": "markdown",
   "metadata": {
    "id": "BvsMV7FuUdq2"
   },
   "source": [
    "### Install bibliotecas"
   ]
  },
  {
   "cell_type": "code",
   "execution_count": null,
   "metadata": {
    "id": "Pgj4ezCUr3f3"
   },
   "outputs": [],
   "source": [
    "!pip3 install pycaret[full] --quiet"
   ]
  },
  {
   "cell_type": "code",
   "execution_count": 2,
   "metadata": {
    "executionInfo": {
     "elapsed": 654,
     "status": "ok",
     "timestamp": 1628967969229,
     "user": {
      "displayName": "RODRIGO SILVA PERES",
      "photoUrl": "",
      "userId": "00311338069675780007"
     },
     "user_tz": 180
    },
    "id": "t4dWnvGbspR6"
   },
   "outputs": [],
   "source": [
    "!pip3 uninstall lightgbm -y --quiet"
   ]
  },
  {
   "cell_type": "code",
   "execution_count": 3,
   "metadata": {
    "colab": {
     "base_uri": "https://localhost:8080/"
    },
    "executionInfo": {
     "elapsed": 351,
     "status": "ok",
     "timestamp": 1628968112216,
     "user": {
      "displayName": "RODRIGO SILVA PERES",
      "photoUrl": "",
      "userId": "00311338069675780007"
     },
     "user_tz": 180
    },
    "id": "zYCzU2WZssRC",
    "outputId": "7219ea29-2211-4f75-e5da-524358ede4d5"
   },
   "outputs": [
    {
     "name": "stdout",
     "output_type": "stream",
     "text": [
      "\u001b[?25h    Running setup.py install for lightgbm ... \u001b[?25l\u001b[?25hdone\n"
     ]
    }
   ],
   "source": [
    "!pip3 install lightgbm --install-option=--gpu --install-option=\"--opencl-include-dir=/usr/local/cuda/include/\" --install-option=\"--opencl-library=/usr/local/cuda/lib64/libOpenCL.so\" --quiet"
   ]
  },
  {
   "cell_type": "code",
   "execution_count": 5,
   "metadata": {
    "executionInfo": {
     "elapsed": 3166,
     "status": "ok",
     "timestamp": 1628968118554,
     "user": {
      "displayName": "RODRIGO SILVA PERES",
      "photoUrl": "",
      "userId": "00311338069675780007"
     },
     "user_tz": 180
    },
    "id": "CUAvtR3Cs9gw"
   },
   "outputs": [],
   "source": [
    "!pip3 install xgboost --quiet"
   ]
  },
  {
   "cell_type": "markdown",
   "metadata": {
    "id": "5IaU2VM7UqRI"
   },
   "source": [
    "### Leitura dos Dados"
   ]
  },
  {
   "cell_type": "code",
   "execution_count": 160,
   "metadata": {
    "executionInfo": {
     "elapsed": 301,
     "status": "ok",
     "timestamp": 1628969583090,
     "user": {
      "displayName": "RODRIGO SILVA PERES",
      "photoUrl": "",
      "userId": "00311338069675780007"
     },
     "user_tz": 180
    },
    "id": "3GjiwSrttBYG"
   },
   "outputs": [],
   "source": [
    "import pandas as pd\n",
    "import numpy as np \n",
    "import pycaret\n",
    "import matplotlib.pyplot as plt\n",
    "import seaborn as sns\n",
    "\n",
    "from google.colab import drive"
   ]
  },
  {
   "cell_type": "code",
   "execution_count": 161,
   "metadata": {
    "colab": {
     "base_uri": "https://localhost:8080/"
    },
    "executionInfo": {
     "elapsed": 23,
     "status": "ok",
     "timestamp": 1628969583415,
     "user": {
      "displayName": "RODRIGO SILVA PERES",
      "photoUrl": "",
      "userId": "00311338069675780007"
     },
     "user_tz": 180
    },
    "id": "JD55eelAuPPa",
    "outputId": "b6eb5c86-dc9f-422c-a5d6-a9d416840194"
   },
   "outputs": [
    {
     "name": "stdout",
     "output_type": "stream",
     "text": [
      "Drive already mounted at /content/gdrive; to attempt to forcibly remount, call drive.mount(\"/content/gdrive\", force_remount=True).\n"
     ]
    }
   ],
   "source": [
    "drive.mount('/content/gdrive')"
   ]
  },
  {
   "cell_type": "code",
   "execution_count": 162,
   "metadata": {
    "colab": {
     "base_uri": "https://localhost:8080/"
    },
    "executionInfo": {
     "elapsed": 5136,
     "status": "ok",
     "timestamp": 1628969588539,
     "user": {
      "displayName": "RODRIGO SILVA PERES",
      "photoUrl": "",
      "userId": "00311338069675780007"
     },
     "user_tz": 180
    },
    "id": "u8l8qfgiuVrG",
    "outputId": "0614f8c5-a02d-4fc6-eabe-46880a09a294"
   },
   "outputs": [
    {
     "name": "stdout",
     "output_type": "stream",
     "text": [
      "<class 'pandas.core.frame.DataFrame'>\n",
      "RangeIndex: 338710 entries, 0 to 338709\n",
      "Data columns (total 136 columns):\n",
      " #   Column                       Non-Null Count   Dtype  \n",
      "---  ------                       --------------   -----  \n",
      " 0   NU_INSCRICAO                 338710 non-null  int64  \n",
      " 1   NU_ANO                       338710 non-null  int64  \n",
      " 2   CO_MUNICIPIO_RESIDENCIA      338710 non-null  int64  \n",
      " 3   NO_MUNICIPIO_RESIDENCIA      338710 non-null  object \n",
      " 4   CO_UF_RESIDENCIA             338710 non-null  int64  \n",
      " 5   SG_UF_RESIDENCIA             338710 non-null  object \n",
      " 6   NU_IDADE                     338707 non-null  float64\n",
      " 7   TP_SEXO                      338710 non-null  object \n",
      " 8   TP_ESTADO_CIVIL              338710 non-null  int64  \n",
      " 9   TP_COR_RACA                  338710 non-null  int64  \n",
      " 10  TP_NACIONALIDADE             338710 non-null  int64  \n",
      " 11  CO_MUNICIPIO_NASCIMENTO      331626 non-null  float64\n",
      " 12  NO_MUNICIPIO_NASCIMENTO      331626 non-null  object \n",
      " 13  CO_UF_NASCIMENTO             331626 non-null  float64\n",
      " 14  SG_UF_NASCIMENTO             331626 non-null  object \n",
      " 15  TP_ST_CONCLUSAO              338710 non-null  int64  \n",
      " 16  TP_ANO_CONCLUIU              338710 non-null  int64  \n",
      " 17  TP_ESCOLA                    338710 non-null  int64  \n",
      " 18  TP_ENSINO                    172572 non-null  float64\n",
      " 19  IN_TREINEIRO                 338710 non-null  int64  \n",
      " 20  CO_ESCOLA                    72967 non-null   float64\n",
      " 21  CO_MUNICIPIO_ESC             72967 non-null   float64\n",
      " 22  NO_MUNICIPIO_ESC             72967 non-null   object \n",
      " 23  CO_UF_ESC                    72967 non-null   float64\n",
      " 24  SG_UF_ESC                    72967 non-null   object \n",
      " 25  TP_DEPENDENCIA_ADM_ESC       72967 non-null   float64\n",
      " 26  TP_LOCALIZACAO_ESC           72967 non-null   float64\n",
      " 27  TP_SIT_FUNC_ESC              72967 non-null   float64\n",
      " 28  IN_BAIXA_VISAO               338710 non-null  int64  \n",
      " 29  IN_CEGUEIRA                  338710 non-null  int64  \n",
      " 30  IN_SURDEZ                    338710 non-null  int64  \n",
      " 31  IN_DEFICIENCIA_AUDITIVA      338710 non-null  int64  \n",
      " 32  IN_SURDO_CEGUEIRA            338710 non-null  int64  \n",
      " 33  IN_DEFICIENCIA_FISICA        338710 non-null  int64  \n",
      " 34  IN_DEFICIENCIA_MENTAL        338710 non-null  int64  \n",
      " 35  IN_DEFICIT_ATENCAO           338710 non-null  int64  \n",
      " 36  IN_DISLEXIA                  338710 non-null  int64  \n",
      " 37  IN_DISCALCULIA               338710 non-null  int64  \n",
      " 38  IN_AUTISMO                   338710 non-null  int64  \n",
      " 39  IN_VISAO_MONOCULAR           338710 non-null  int64  \n",
      " 40  IN_OUTRA_DEF                 338710 non-null  int64  \n",
      " 41  IN_GESTANTE                  338710 non-null  int64  \n",
      " 42  IN_LACTANTE                  338710 non-null  int64  \n",
      " 43  IN_IDOSO                     338710 non-null  int64  \n",
      " 44  IN_ESTUDA_CLASSE_HOSPITALAR  338710 non-null  int64  \n",
      " 45  IN_SEM_RECURSO               338710 non-null  int64  \n",
      " 46  IN_BRAILLE                   338710 non-null  int64  \n",
      " 47  IN_AMPLIADA_24               338710 non-null  int64  \n",
      " 48  IN_AMPLIADA_18               338710 non-null  int64  \n",
      " 49  IN_LEDOR                     338710 non-null  int64  \n",
      " 50  IN_ACESSO                    338710 non-null  int64  \n",
      " 51  IN_TRANSCRICAO               338710 non-null  int64  \n",
      " 52  IN_LIBRAS                    338710 non-null  int64  \n",
      " 53  IN_TEMPO_ADICIONAL           338710 non-null  int64  \n",
      " 54  IN_LEITURA_LABIAL            338710 non-null  int64  \n",
      " 55  IN_MESA_CADEIRA_RODAS        338710 non-null  int64  \n",
      " 56  IN_MESA_CADEIRA_SEPARADA     338710 non-null  int64  \n",
      " 57  IN_APOIO_PERNA               338710 non-null  int64  \n",
      " 58  IN_GUIA_INTERPRETE           338710 non-null  int64  \n",
      " 59  IN_COMPUTADOR                338710 non-null  int64  \n",
      " 60  IN_CADEIRA_ESPECIAL          338710 non-null  int64  \n",
      " 61  IN_CADEIRA_CANHOTO           338710 non-null  int64  \n",
      " 62  IN_CADEIRA_ACOLCHOADA        338710 non-null  int64  \n",
      " 63  IN_PROVA_DEITADO             338710 non-null  int64  \n",
      " 64  IN_MOBILIARIO_OBESO          338710 non-null  int64  \n",
      " 65  IN_LAMINA_OVERLAY            338710 non-null  int64  \n",
      " 66  IN_PROTETOR_AURICULAR        338710 non-null  int64  \n",
      " 67  IN_MEDIDOR_GLICOSE           338710 non-null  int64  \n",
      " 68  IN_MAQUINA_BRAILE            338710 non-null  int64  \n",
      " 69  IN_SOROBAN                   338710 non-null  int64  \n",
      " 70  IN_MARCA_PASSO               338710 non-null  int64  \n",
      " 71  IN_SONDA                     338710 non-null  int64  \n",
      " 72  IN_MEDICAMENTOS              338710 non-null  int64  \n",
      " 73  IN_SALA_INDIVIDUAL           338710 non-null  int64  \n",
      " 74  IN_SALA_ESPECIAL             338710 non-null  int64  \n",
      " 75  IN_SALA_ACOMPANHANTE         338710 non-null  int64  \n",
      " 76  IN_MOBILIARIO_ESPECIFICO     338710 non-null  int64  \n",
      " 77  IN_MATERIAL_ESPECIFICO       338710 non-null  int64  \n",
      " 78  IN_NOME_SOCIAL               338710 non-null  int64  \n",
      " 79  CO_MUNICIPIO_PROVA           338710 non-null  int64  \n",
      " 80  NO_MUNICIPIO_PROVA           338710 non-null  object \n",
      " 81  CO_UF_PROVA                  338710 non-null  int64  \n",
      " 82  SG_UF_PROVA                  338710 non-null  object \n",
      " 83  TP_PRESENCA_CN               338710 non-null  int64  \n",
      " 84  TP_PRESENCA_CH               338710 non-null  int64  \n",
      " 85  TP_PRESENCA_LC               338710 non-null  int64  \n",
      " 86  TP_PRESENCA_MT               338710 non-null  int64  \n",
      " 87  CO_PROVA_CN                  244924 non-null  float64\n",
      " 88  CO_PROVA_CH                  259279 non-null  float64\n",
      " 89  CO_PROVA_LC                  259279 non-null  float64\n",
      " 90  CO_PROVA_MT                  244924 non-null  float64\n",
      " 91  NU_NOTA_CN                   244924 non-null  float64\n",
      " 92  NU_NOTA_CH                   259279 non-null  float64\n",
      " 93  NU_NOTA_LC                   259279 non-null  float64\n",
      " 94  NU_NOTA_MT                   244924 non-null  float64\n",
      " 95  TX_RESPOSTAS_CN              244924 non-null  object \n",
      " 96  TX_RESPOSTAS_CH              259279 non-null  object \n",
      " 97  TX_RESPOSTAS_LC              259279 non-null  object \n",
      " 98  TX_RESPOSTAS_MT              244924 non-null  object \n",
      " 99  TP_LINGUA                    338710 non-null  int64  \n",
      " 100 TX_GABARITO_CN               244924 non-null  object \n",
      " 101 TX_GABARITO_CH               259279 non-null  object \n",
      " 102 TX_GABARITO_LC               259279 non-null  object \n",
      " 103 TX_GABARITO_MT               244924 non-null  object \n",
      " 104 TP_STATUS_REDACAO            259279 non-null  float64\n",
      " 105 NU_NOTA_COMP1                259279 non-null  float64\n",
      " 106 NU_NOTA_COMP2                259279 non-null  float64\n",
      " 107 NU_NOTA_COMP3                259279 non-null  float64\n",
      " 108 NU_NOTA_COMP4                259279 non-null  float64\n",
      " 109 NU_NOTA_COMP5                259279 non-null  float64\n",
      " 110 NU_NOTA_REDACAO              259279 non-null  float64\n",
      " 111 Q001                         338710 non-null  object \n",
      " 112 Q002                         338710 non-null  object \n",
      " 113 Q003                         338710 non-null  object \n",
      " 114 Q004                         338710 non-null  object \n",
      " 115 Q005                         338710 non-null  int64  \n",
      " 116 Q006                         338710 non-null  object \n",
      " 117 Q007                         338710 non-null  object \n",
      " 118 Q008                         338710 non-null  object \n",
      " 119 Q009                         338710 non-null  object \n",
      " 120 Q010                         338710 non-null  object \n",
      " 121 Q011                         338710 non-null  object \n",
      " 122 Q012                         338710 non-null  object \n",
      " 123 Q013                         338710 non-null  object \n",
      " 124 Q014                         338710 non-null  object \n",
      " 125 Q015                         338710 non-null  object \n",
      " 126 Q016                         338710 non-null  object \n",
      " 127 Q017                         338710 non-null  object \n",
      " 128 Q018                         338710 non-null  object \n",
      " 129 Q019                         338710 non-null  object \n",
      " 130 Q020                         338710 non-null  object \n",
      " 131 Q021                         338710 non-null  object \n",
      " 132 Q022                         338710 non-null  object \n",
      " 133 Q023                         338710 non-null  object \n",
      " 134 Q024                         338710 non-null  object \n",
      " 135 Q025                         338710 non-null  object \n",
      "dtypes: float64(25), int64(70), object(41)\n",
      "memory usage: 351.4+ MB\n",
      "None\n"
     ]
    }
   ],
   "source": [
    "microdados_rj = pd.read_csv(\"/content/gdrive/Shareddrives/TAAED - ENEM/DADOS/MICRODADOS_RJ_ENEM_2019.csv\")\n",
    "\n",
    "print(microdados_rj.info(verbose=True, null_counts=True))"
   ]
  },
  {
   "cell_type": "markdown",
   "metadata": {
    "id": "9vMNrC0jExMG"
   },
   "source": [
    "### Transformação de features"
   ]
  },
  {
   "cell_type": "markdown",
   "metadata": {
    "id": "nNbmwQ8o0U9z"
   },
   "source": [
    "#### Feature: Recém formado"
   ]
  },
  {
   "cell_type": "code",
   "execution_count": 163,
   "metadata": {
    "executionInfo": {
     "elapsed": 10,
     "status": "ok",
     "timestamp": 1628969588539,
     "user": {
      "displayName": "RODRIGO SILVA PERES",
      "photoUrl": "",
      "userId": "00311338069675780007"
     },
     "user_tz": 180
    },
    "id": "qFQG9h31w1ZF"
   },
   "outputs": [],
   "source": [
    "microdados_rj['RECEM_FORMADO'] = 100"
   ]
  },
  {
   "cell_type": "code",
   "execution_count": 164,
   "metadata": {
    "colab": {
     "base_uri": "https://localhost:8080/"
    },
    "executionInfo": {
     "elapsed": 9,
     "status": "ok",
     "timestamp": 1628969588540,
     "user": {
      "displayName": "RODRIGO SILVA PERES",
      "photoUrl": "",
      "userId": "00311338069675780007"
     },
     "user_tz": 180
    },
    "id": "DJTqx_z3yCFC",
    "outputId": "39f5526b-cd3b-4a9b-eb2e-bfab57bd60e8"
   },
   "outputs": [
    {
     "data": {
      "text/plain": [
       "0     148705\n",
       "1      46886\n",
       "13     29427\n",
       "2      29159\n",
       "3      18405\n",
       "4      14589\n",
       "5      11373\n",
       "6       9123\n",
       "7       7476\n",
       "8       6025\n",
       "9       5184\n",
       "10      4640\n",
       "11      3999\n",
       "12      3719\n",
       "Name: TP_ANO_CONCLUIU, dtype: int64"
      ]
     },
     "execution_count": 164,
     "metadata": {
      "tags": []
     },
     "output_type": "execute_result"
    }
   ],
   "source": [
    "microdados_rj['TP_ANO_CONCLUIU'].value_counts()"
   ]
  },
  {
   "cell_type": "code",
   "execution_count": 165,
   "metadata": {
    "colab": {
     "base_uri": "https://localhost:8080/"
    },
    "executionInfo": {
     "elapsed": 7,
     "status": "ok",
     "timestamp": 1628969588540,
     "user": {
      "displayName": "RODRIGO SILVA PERES",
      "photoUrl": "",
      "userId": "00311338069675780007"
     },
     "user_tz": 180
    },
    "id": "pS-aZWo6yapd",
    "outputId": "57df9c1d-0a9a-4b93-b793-149513b194a8"
   },
   "outputs": [
    {
     "data": {
      "text/plain": [
       "0         A\n",
       "1         B\n",
       "2         B\n",
       "3         A\n",
       "4         B\n",
       "         ..\n",
       "338705    B\n",
       "338706    A\n",
       "338707    B\n",
       "338708    A\n",
       "338709    B\n",
       "Name: Q025, Length: 338710, dtype: object"
      ]
     },
     "execution_count": 165,
     "metadata": {
      "tags": []
     },
     "output_type": "execute_result"
    }
   ],
   "source": [
    "microdados_rj['Q025']"
   ]
  },
  {
   "cell_type": "code",
   "execution_count": 166,
   "metadata": {
    "colab": {
     "base_uri": "https://localhost:8080/"
    },
    "executionInfo": {
     "elapsed": 555,
     "status": "ok",
     "timestamp": 1628969589090,
     "user": {
      "displayName": "RODRIGO SILVA PERES",
      "photoUrl": "",
      "userId": "00311338069675780007"
     },
     "user_tz": 180
    },
    "id": "UHaFwxAJwlfR",
    "outputId": "c603001c-a3aa-42c7-a4f9-683c8acd3c7e"
   },
   "outputs": [
    {
     "name": "stderr",
     "output_type": "stream",
     "text": [
      "/usr/local/lib/python3.7/dist-packages/ipykernel_launcher.py:3: SettingWithCopyWarning: \n",
      "A value is trying to be set on a copy of a slice from a DataFrame\n",
      "\n",
      "See the caveats in the documentation: https://pandas.pydata.org/pandas-docs/stable/user_guide/indexing.html#returning-a-view-versus-a-copy\n",
      "  This is separate from the ipykernel package so we can avoid doing imports until\n"
     ]
    }
   ],
   "source": [
    "microdados_rj.RECEM_FORMADO[(microdados_rj.TP_ST_CONCLUSAO == 2) & \n",
    "                            ((microdados_rj.TP_ANO_CONCLUIU == 0) | \n",
    "                             (microdados_rj.TP_ANO_CONCLUIU == 1 ))] = 1"
   ]
  },
  {
   "cell_type": "code",
   "execution_count": 167,
   "metadata": {
    "colab": {
     "base_uri": "https://localhost:8080/"
    },
    "executionInfo": {
     "elapsed": 49,
     "status": "ok",
     "timestamp": 1628969589092,
     "user": {
      "displayName": "RODRIGO SILVA PERES",
      "photoUrl": "",
      "userId": "00311338069675780007"
     },
     "user_tz": 180
    },
    "id": "-7Ytfq8e0HDu",
    "outputId": "3569bd0b-5b4c-492b-fc6c-d3bb20ef5ef4"
   },
   "outputs": [
    {
     "data": {
      "text/plain": [
       "100    237667\n",
       "1      101043\n",
       "Name: RECEM_FORMADO, dtype: int64"
      ]
     },
     "execution_count": 167,
     "metadata": {
      "tags": []
     },
     "output_type": "execute_result"
    }
   ],
   "source": [
    "microdados_rj['RECEM_FORMADO'].value_counts()"
   ]
  },
  {
   "cell_type": "code",
   "execution_count": 168,
   "metadata": {
    "colab": {
     "base_uri": "https://localhost:8080/"
    },
    "executionInfo": {
     "elapsed": 43,
     "status": "ok",
     "timestamp": 1628969589093,
     "user": {
      "displayName": "RODRIGO SILVA PERES",
      "photoUrl": "",
      "userId": "00311338069675780007"
     },
     "user_tz": 180
    },
    "id": "-Y1ii5mc0J20",
    "outputId": "7afdaadc-5734-4eb9-9f6e-b642adaebf1c"
   },
   "outputs": [
    {
     "name": "stderr",
     "output_type": "stream",
     "text": [
      "/usr/local/lib/python3.7/dist-packages/ipykernel_launcher.py:1: SettingWithCopyWarning: \n",
      "A value is trying to be set on a copy of a slice from a DataFrame\n",
      "\n",
      "See the caveats in the documentation: https://pandas.pydata.org/pandas-docs/stable/user_guide/indexing.html#returning-a-view-versus-a-copy\n",
      "  \"\"\"Entry point for launching an IPython kernel.\n"
     ]
    }
   ],
   "source": [
    "microdados_rj.RECEM_FORMADO[(microdados_rj.RECEM_FORMADO != 1)] = 0"
   ]
  },
  {
   "cell_type": "code",
   "execution_count": 169,
   "metadata": {
    "colab": {
     "base_uri": "https://localhost:8080/"
    },
    "executionInfo": {
     "elapsed": 38,
     "status": "ok",
     "timestamp": 1628969589095,
     "user": {
      "displayName": "RODRIGO SILVA PERES",
      "photoUrl": "",
      "userId": "00311338069675780007"
     },
     "user_tz": 180
    },
    "id": "mL5zElWd0NB-",
    "outputId": "de6d975b-3491-47a8-b178-4faffdcf9f33"
   },
   "outputs": [
    {
     "data": {
      "text/plain": [
       "0    237667\n",
       "1    101043\n",
       "Name: RECEM_FORMADO, dtype: int64"
      ]
     },
     "execution_count": 169,
     "metadata": {
      "tags": []
     },
     "output_type": "execute_result"
    }
   ],
   "source": [
    "microdados_rj['RECEM_FORMADO'].value_counts()"
   ]
  },
  {
   "cell_type": "code",
   "execution_count": 170,
   "metadata": {
    "colab": {
     "base_uri": "https://localhost:8080/"
    },
    "executionInfo": {
     "elapsed": 32,
     "status": "ok",
     "timestamp": 1628969589096,
     "user": {
      "displayName": "RODRIGO SILVA PERES",
      "photoUrl": "",
      "userId": "00311338069675780007"
     },
     "user_tz": 180
    },
    "id": "l20eePcVY22W",
    "outputId": "fc5790e7-e831-4d5c-da5c-03578f7e3838"
   },
   "outputs": [
    {
     "data": {
      "text/plain": [
       "dtype('int64')"
      ]
     },
     "execution_count": 170,
     "metadata": {
      "tags": []
     },
     "output_type": "execute_result"
    }
   ],
   "source": [
    "microdados_rj['RECEM_FORMADO'].dtype"
   ]
  },
  {
   "cell_type": "markdown",
   "metadata": {
    "id": "DBhC5RgW0z-O"
   },
   "source": [
    "#### Feature: Renda Familiar per Capita"
   ]
  },
  {
   "cell_type": "code",
   "execution_count": 171,
   "metadata": {
    "executionInfo": {
     "elapsed": 27,
     "status": "ok",
     "timestamp": 1628969589097,
     "user": {
      "displayName": "RODRIGO SILVA PERES",
      "photoUrl": "",
      "userId": "00311338069675780007"
     },
     "user_tz": 180
    },
    "id": "cWWLgJ1S074w"
   },
   "outputs": [],
   "source": [
    "condicao = [ microdados_rj['Q006'] =='A', microdados_rj['Q006']=='B', microdados_rj['Q006']=='C', microdados_rj['Q006']=='D', microdados_rj['Q006']=='E', microdados_rj['Q006']=='F', microdados_rj['Q006']=='G', microdados_rj['Q006']=='H',microdados_rj['Q006']=='I', microdados_rj['Q006']=='J', microdados_rj['Q006']=='K', microdados_rj['Q006']=='L', microdados_rj['Q006']=='M', microdados_rj['Q006']=='N', microdados_rj['Q006']=='O', microdados_rj['Q006']=='P']\n",
    "resultado = [(1*954)/microdados_rj['Q005'], (1*954)/microdados_rj['Q005'], (1.5*954)/microdados_rj['Q005'], (2*954)/microdados_rj['Q005'], 2.5*954/microdados_rj['Q005'], 3*954/microdados_rj['Q005'], 4*954/microdados_rj['Q005'], 5*954/microdados_rj['Q005'], 6*954/microdados_rj['Q005'], 7*954/microdados_rj['Q005'], 8*954/microdados_rj['Q005'], 9*954/microdados_rj['Q005'], 10*954/microdados_rj['Q005'], 12*954/microdados_rj['Q005'], 15*954/microdados_rj['Q005'], 20*954/microdados_rj['Q005']]\n",
    "\n",
    "microdados_rj['RENDA_PERCAPITA_FAMILIAR'] = np.select(condicao, resultado, 50*954/microdados_rj['Q005'])"
   ]
  },
  {
   "cell_type": "code",
   "execution_count": 172,
   "metadata": {
    "colab": {
     "base_uri": "https://localhost:8080/"
    },
    "executionInfo": {
     "elapsed": 24,
     "status": "ok",
     "timestamp": 1628969589098,
     "user": {
      "displayName": "RODRIGO SILVA PERES",
      "photoUrl": "",
      "userId": "00311338069675780007"
     },
     "user_tz": 180
    },
    "id": "SQ4XwTXk17Lk",
    "outputId": "fa470dfc-d336-40ec-d0c8-906bd30083ea"
   },
   "outputs": [
    {
     "data": {
      "text/plain": [
       "477.00     59243\n",
       "954.00     26711\n",
       "357.75     25559\n",
       "715.50     22481\n",
       "318.00     20662\n",
       "238.50     20282\n",
       "636.00     12652\n",
       "596.25     12160\n",
       "286.20     11884\n",
       "795.00     10826\n",
       "1192.50    10254\n",
       "1431.00     9887\n",
       "1908.00     9189\n",
       "190.80      8121\n",
       "1272.00     6622\n",
       "Name: RENDA_PERCAPITA_FAMILIAR, dtype: int64"
      ]
     },
     "execution_count": 172,
     "metadata": {
      "tags": []
     },
     "output_type": "execute_result"
    }
   ],
   "source": [
    "microdados_rj['RENDA_PERCAPITA_FAMILIAR'].value_counts().head(15)"
   ]
  },
  {
   "cell_type": "code",
   "execution_count": 173,
   "metadata": {
    "executionInfo": {
     "elapsed": 394,
     "status": "ok",
     "timestamp": 1628969589473,
     "user": {
      "displayName": "RODRIGO SILVA PERES",
      "photoUrl": "",
      "userId": "00311338069675780007"
     },
     "user_tz": 180
    },
    "id": "G14G4z5P1_L2"
   },
   "outputs": [],
   "source": [
    "microdados_rj['CLASSE_RENDA_PERCAPITA_FAMILIAR'] = 0"
   ]
  },
  {
   "cell_type": "code",
   "execution_count": 174,
   "metadata": {
    "executionInfo": {
     "elapsed": 35,
     "status": "ok",
     "timestamp": 1628969589474,
     "user": {
      "displayName": "RODRIGO SILVA PERES",
      "photoUrl": "",
      "userId": "00311338069675780007"
     },
     "user_tz": 180
    },
    "id": "IhskmnK52D4w"
   },
   "outputs": [],
   "source": [
    "condicao = [microdados_rj['RENDA_PERCAPITA_FAMILIAR'] < 250, \n",
    "            microdados_rj['RENDA_PERCAPITA_FAMILIAR'] < 500,  \n",
    "            microdados_rj['RENDA_PERCAPITA_FAMILIAR'] < 750, \n",
    "            microdados_rj['RENDA_PERCAPITA_FAMILIAR'] < 1000,\n",
    "            microdados_rj['RENDA_PERCAPITA_FAMILIAR'] < 1500,\n",
    "            microdados_rj['RENDA_PERCAPITA_FAMILIAR'] < 2500,\n",
    "            microdados_rj['RENDA_PERCAPITA_FAMILIAR'] < 5000,\n",
    "            microdados_rj['RENDA_PERCAPITA_FAMILIAR'] >= 5000]\n",
    "            \n",
    "resultado = [0, 1, 2, 3, 4, 5, 6, 7]\n",
    "\n",
    "microdados_rj['CLASSE_RENDA_PERCAPITA_FAMILIAR'] = np.select(condicao, resultado, 4)"
   ]
  },
  {
   "cell_type": "code",
   "execution_count": 175,
   "metadata": {
    "colab": {
     "base_uri": "https://localhost:8080/"
    },
    "executionInfo": {
     "elapsed": 33,
     "status": "ok",
     "timestamp": 1628969589474,
     "user": {
      "displayName": "RODRIGO SILVA PERES",
      "photoUrl": "",
      "userId": "00311338069675780007"
     },
     "user_tz": 180
    },
    "id": "z-x5zo6d2Lz4",
    "outputId": "5a5d4868-78cb-4ab5-ea55-2e030a7a622a"
   },
   "outputs": [
    {
     "data": {
      "text/plain": [
       "0     36466\n",
       "1    125497\n",
       "2     50257\n",
       "3     40786\n",
       "4     29862\n",
       "5     26852\n",
       "6     19383\n",
       "7      9607\n",
       "Name: CLASSE_RENDA_PERCAPITA_FAMILIAR, dtype: int64"
      ]
     },
     "execution_count": 175,
     "metadata": {
      "tags": []
     },
     "output_type": "execute_result"
    }
   ],
   "source": [
    "microdados_rj.CLASSE_RENDA_PERCAPITA_FAMILIAR.value_counts().sort_index()"
   ]
  },
  {
   "cell_type": "code",
   "execution_count": 176,
   "metadata": {
    "colab": {
     "base_uri": "https://localhost:8080/"
    },
    "executionInfo": {
     "elapsed": 31,
     "status": "ok",
     "timestamp": 1628969589475,
     "user": {
      "displayName": "RODRIGO SILVA PERES",
      "photoUrl": "",
      "userId": "00311338069675780007"
     },
     "user_tz": 180
    },
    "id": "4WIh3E4qaUVB",
    "outputId": "656e2f82-d466-4641-c3db-4b71f0217692"
   },
   "outputs": [
    {
     "data": {
      "text/plain": [
       "dtype('int64')"
      ]
     },
     "execution_count": 176,
     "metadata": {
      "tags": []
     },
     "output_type": "execute_result"
    }
   ],
   "source": [
    "microdados_rj.CLASSE_RENDA_PERCAPITA_FAMILIAR.dtype"
   ]
  },
  {
   "cell_type": "markdown",
   "metadata": {
    "id": "XVNtb3yD3cKi"
   },
   "source": [
    "#### Feature: Cor Raça"
   ]
  },
  {
   "cell_type": "code",
   "execution_count": 177,
   "metadata": {
    "colab": {
     "base_uri": "https://localhost:8080/"
    },
    "executionInfo": {
     "elapsed": 28,
     "status": "ok",
     "timestamp": 1628969589475,
     "user": {
      "displayName": "RODRIGO SILVA PERES",
      "photoUrl": "",
      "userId": "00311338069675780007"
     },
     "user_tz": 180
    },
    "id": "4cJMo4gd3bEx",
    "outputId": "12627824-1f08-434e-848e-2e83e9eb2f7b"
   },
   "outputs": [
    {
     "data": {
      "text/plain": [
       "1    141825\n",
       "3    122212\n",
       "2     60182\n",
       "0      7812\n",
       "4      5505\n",
       "5      1174\n",
       "Name: TP_COR_RACA, dtype: int64"
      ]
     },
     "execution_count": 177,
     "metadata": {
      "tags": []
     },
     "output_type": "execute_result"
    }
   ],
   "source": [
    "microdados_rj.TP_COR_RACA.value_counts()"
   ]
  },
  {
   "cell_type": "code",
   "execution_count": 178,
   "metadata": {
    "executionInfo": {
     "elapsed": 27,
     "status": "ok",
     "timestamp": 1628969589476,
     "user": {
      "displayName": "RODRIGO SILVA PERES",
      "photoUrl": "",
      "userId": "00311338069675780007"
     },
     "user_tz": 180
    },
    "id": "NXI0thNCa-5L"
   },
   "outputs": [],
   "source": [
    "microdados_rj['CLASSE_TP_COR_RACA'] = 100"
   ]
  },
  {
   "cell_type": "code",
   "execution_count": 179,
   "metadata": {
    "colab": {
     "base_uri": "https://localhost:8080/"
    },
    "executionInfo": {
     "elapsed": 25,
     "status": "ok",
     "timestamp": 1628969589476,
     "user": {
      "displayName": "RODRIGO SILVA PERES",
      "photoUrl": "",
      "userId": "00311338069675780007"
     },
     "user_tz": 180
    },
    "id": "TENXrhEr4lA-",
    "outputId": "c8bb6641-60fe-45d0-aace-9b6c26f16314"
   },
   "outputs": [
    {
     "name": "stderr",
     "output_type": "stream",
     "text": [
      "/usr/local/lib/python3.7/dist-packages/ipykernel_launcher.py:1: SettingWithCopyWarning: \n",
      "A value is trying to be set on a copy of a slice from a DataFrame\n",
      "\n",
      "See the caveats in the documentation: https://pandas.pydata.org/pandas-docs/stable/user_guide/indexing.html#returning-a-view-versus-a-copy\n",
      "  \"\"\"Entry point for launching an IPython kernel.\n"
     ]
    }
   ],
   "source": [
    "microdados_rj.CLASSE_TP_COR_RACA[(microdados_rj.TP_COR_RACA == 1) | (microdados_rj.TP_COR_RACA == 4)] = 0"
   ]
  },
  {
   "cell_type": "code",
   "execution_count": 180,
   "metadata": {
    "colab": {
     "base_uri": "https://localhost:8080/"
    },
    "executionInfo": {
     "elapsed": 23,
     "status": "ok",
     "timestamp": 1628969589477,
     "user": {
      "displayName": "RODRIGO SILVA PERES",
      "photoUrl": "",
      "userId": "00311338069675780007"
     },
     "user_tz": 180
    },
    "id": "gbXfL5DG4274",
    "outputId": "39f1d9f7-95ec-4f99-9897-1f6c41fe30c3"
   },
   "outputs": [
    {
     "name": "stderr",
     "output_type": "stream",
     "text": [
      "/usr/local/lib/python3.7/dist-packages/ipykernel_launcher.py:1: SettingWithCopyWarning: \n",
      "A value is trying to be set on a copy of a slice from a DataFrame\n",
      "\n",
      "See the caveats in the documentation: https://pandas.pydata.org/pandas-docs/stable/user_guide/indexing.html#returning-a-view-versus-a-copy\n",
      "  \"\"\"Entry point for launching an IPython kernel.\n"
     ]
    }
   ],
   "source": [
    "microdados_rj.CLASSE_TP_COR_RACA[(microdados_rj.TP_COR_RACA == 2) | (microdados_rj.TP_COR_RACA == 3)] = 1"
   ]
  },
  {
   "cell_type": "code",
   "execution_count": 181,
   "metadata": {
    "colab": {
     "base_uri": "https://localhost:8080/"
    },
    "executionInfo": {
     "elapsed": 20,
     "status": "ok",
     "timestamp": 1628969589477,
     "user": {
      "displayName": "RODRIGO SILVA PERES",
      "photoUrl": "",
      "userId": "00311338069675780007"
     },
     "user_tz": 180
    },
    "id": "OVuX872v431V",
    "outputId": "5110b561-bdc7-4c5e-8e87-f895bebd6faa"
   },
   "outputs": [
    {
     "name": "stderr",
     "output_type": "stream",
     "text": [
      "/usr/local/lib/python3.7/dist-packages/ipykernel_launcher.py:1: SettingWithCopyWarning: \n",
      "A value is trying to be set on a copy of a slice from a DataFrame\n",
      "\n",
      "See the caveats in the documentation: https://pandas.pydata.org/pandas-docs/stable/user_guide/indexing.html#returning-a-view-versus-a-copy\n",
      "  \"\"\"Entry point for launching an IPython kernel.\n"
     ]
    }
   ],
   "source": [
    "microdados_rj.CLASSE_TP_COR_RACA[(microdados_rj.TP_COR_RACA == 5)] = 2"
   ]
  },
  {
   "cell_type": "code",
   "execution_count": 182,
   "metadata": {
    "colab": {
     "base_uri": "https://localhost:8080/"
    },
    "executionInfo": {
     "elapsed": 17,
     "status": "ok",
     "timestamp": 1628969589477,
     "user": {
      "displayName": "RODRIGO SILVA PERES",
      "photoUrl": "",
      "userId": "00311338069675780007"
     },
     "user_tz": 180
    },
    "id": "N8rhGiP2bS8Y",
    "outputId": "360eb256-3b0b-4a02-e30b-a1488f855389"
   },
   "outputs": [
    {
     "data": {
      "text/plain": [
       "1      182394\n",
       "0      147330\n",
       "100      7812\n",
       "2        1174\n",
       "Name: CLASSE_TP_COR_RACA, dtype: int64"
      ]
     },
     "execution_count": 182,
     "metadata": {
      "tags": []
     },
     "output_type": "execute_result"
    }
   ],
   "source": [
    "microdados_rj.CLASSE_TP_COR_RACA.value_counts()"
   ]
  },
  {
   "cell_type": "code",
   "execution_count": 183,
   "metadata": {
    "colab": {
     "base_uri": "https://localhost:8080/"
    },
    "executionInfo": {
     "elapsed": 16,
     "status": "ok",
     "timestamp": 1628969589478,
     "user": {
      "displayName": "RODRIGO SILVA PERES",
      "photoUrl": "",
      "userId": "00311338069675780007"
     },
     "user_tz": 180
    },
    "id": "M-pTJ1PC4A7a",
    "outputId": "64b7ec63-1387-4c17-92ce-a183ee485d35"
   },
   "outputs": [
    {
     "data": {
      "text/plain": [
       "1      182394\n",
       "0      147330\n",
       "100      7812\n",
       "2        1174\n",
       "Name: CLASSE_TP_COR_RACA, dtype: int64"
      ]
     },
     "execution_count": 183,
     "metadata": {
      "tags": []
     },
     "output_type": "execute_result"
    }
   ],
   "source": [
    "microdados_rj.CLASSE_TP_COR_RACA.value_counts(dropna=False)"
   ]
  },
  {
   "cell_type": "code",
   "execution_count": 184,
   "metadata": {
    "colab": {
     "base_uri": "https://localhost:8080/"
    },
    "executionInfo": {
     "elapsed": 15,
     "status": "ok",
     "timestamp": 1628969589478,
     "user": {
      "displayName": "RODRIGO SILVA PERES",
      "photoUrl": "",
      "userId": "00311338069675780007"
     },
     "user_tz": 180
    },
    "id": "ncSw_6Vo5pzh",
    "outputId": "bf864d9d-470d-4e51-e082-c890d2a33f9e"
   },
   "outputs": [
    {
     "data": {
      "text/plain": [
       "(338710, 140)"
      ]
     },
     "execution_count": 184,
     "metadata": {
      "tags": []
     },
     "output_type": "execute_result"
    }
   ],
   "source": [
    "microdados_rj.shape"
   ]
  },
  {
   "cell_type": "code",
   "execution_count": 185,
   "metadata": {
    "colab": {
     "base_uri": "https://localhost:8080/"
    },
    "executionInfo": {
     "elapsed": 14,
     "status": "ok",
     "timestamp": 1628969589479,
     "user": {
      "displayName": "RODRIGO SILVA PERES",
      "photoUrl": "",
      "userId": "00311338069675780007"
     },
     "user_tz": 180
    },
    "id": "sO0PZnugcc20",
    "outputId": "cd00e312-2275-490c-9bc1-01517ccde250"
   },
   "outputs": [
    {
     "data": {
      "text/plain": [
       "338710"
      ]
     },
     "execution_count": 185,
     "metadata": {
      "tags": []
     },
     "output_type": "execute_result"
    }
   ],
   "source": [
    "microdados_rj.CLASSE_TP_COR_RACA.value_counts().sum()"
   ]
  },
  {
   "cell_type": "code",
   "execution_count": 186,
   "metadata": {
    "colab": {
     "base_uri": "https://localhost:8080/"
    },
    "executionInfo": {
     "elapsed": 13,
     "status": "ok",
     "timestamp": 1628969589479,
     "user": {
      "displayName": "RODRIGO SILVA PERES",
      "photoUrl": "",
      "userId": "00311338069675780007"
     },
     "user_tz": 180
    },
    "id": "hHBqGkxKcfig",
    "outputId": "b1e8248f-9576-48fd-df2c-a86a4a710c3d"
   },
   "outputs": [
    {
     "data": {
      "text/plain": [
       "338710"
      ]
     },
     "execution_count": 186,
     "metadata": {
      "tags": []
     },
     "output_type": "execute_result"
    }
   ],
   "source": [
    "microdados_rj.TP_COR_RACA.value_counts().sum()"
   ]
  },
  {
   "cell_type": "code",
   "execution_count": 187,
   "metadata": {
    "colab": {
     "base_uri": "https://localhost:8080/"
    },
    "executionInfo": {
     "elapsed": 306,
     "status": "ok",
     "timestamp": 1628969589774,
     "user": {
      "displayName": "RODRIGO SILVA PERES",
      "photoUrl": "",
      "userId": "00311338069675780007"
     },
     "user_tz": 180
    },
    "id": "UGKDdreK5daw",
    "outputId": "69e8a062-2b83-4275-9860-5cc175520c59"
   },
   "outputs": [
    {
     "data": {
      "text/plain": [
       "(330898, 140)"
      ]
     },
     "execution_count": 187,
     "metadata": {
      "tags": []
     },
     "output_type": "execute_result"
    }
   ],
   "source": [
    "microdados_rj[microdados_rj['CLASSE_TP_COR_RACA'] != 100].shape"
   ]
  },
  {
   "cell_type": "code",
   "execution_count": 188,
   "metadata": {
    "executionInfo": {
     "elapsed": 20,
     "status": "ok",
     "timestamp": 1628969589777,
     "user": {
      "displayName": "RODRIGO SILVA PERES",
      "photoUrl": "",
      "userId": "00311338069675780007"
     },
     "user_tz": 180
    },
    "id": "S0ST8-ql5tZe"
   },
   "outputs": [],
   "source": [
    "microdados_rj = microdados_rj[microdados_rj['CLASSE_TP_COR_RACA'] != 100]"
   ]
  },
  {
   "cell_type": "code",
   "execution_count": 189,
   "metadata": {
    "colab": {
     "base_uri": "https://localhost:8080/"
    },
    "executionInfo": {
     "elapsed": 15,
     "status": "ok",
     "timestamp": 1628969589777,
     "user": {
      "displayName": "RODRIGO SILVA PERES",
      "photoUrl": "",
      "userId": "00311338069675780007"
     },
     "user_tz": 180
    },
    "id": "Z1P-GL52dICY",
    "outputId": "eb1e72b5-a947-4da6-9f5e-b7cc63ac391c"
   },
   "outputs": [
    {
     "data": {
      "text/plain": [
       "(330898, 140)"
      ]
     },
     "execution_count": 189,
     "metadata": {
      "tags": []
     },
     "output_type": "execute_result"
    }
   ],
   "source": [
    "microdados_rj.shape"
   ]
  },
  {
   "cell_type": "code",
   "execution_count": 190,
   "metadata": {
    "colab": {
     "base_uri": "https://localhost:8080/"
    },
    "executionInfo": {
     "elapsed": 12,
     "status": "ok",
     "timestamp": 1628969589778,
     "user": {
      "displayName": "RODRIGO SILVA PERES",
      "photoUrl": "",
      "userId": "00311338069675780007"
     },
     "user_tz": 180
    },
    "id": "cUjRviAx50EI",
    "outputId": "219b7330-d3d0-4104-8e63-45276850ccc4"
   },
   "outputs": [
    {
     "data": {
      "text/plain": [
       "0    147330\n",
       "1    182394\n",
       "2      1174\n",
       "Name: CLASSE_TP_COR_RACA, dtype: int64"
      ]
     },
     "execution_count": 190,
     "metadata": {
      "tags": []
     },
     "output_type": "execute_result"
    }
   ],
   "source": [
    "microdados_rj.CLASSE_TP_COR_RACA.value_counts().sort_index()"
   ]
  },
  {
   "cell_type": "markdown",
   "metadata": {
    "id": "zoB8Z-SY598b"
   },
   "source": [
    "#### Feature: Idade"
   ]
  },
  {
   "cell_type": "code",
   "execution_count": 191,
   "metadata": {
    "executionInfo": {
     "elapsed": 10,
     "status": "ok",
     "timestamp": 1628969589778,
     "user": {
      "displayName": "RODRIGO SILVA PERES",
      "photoUrl": "",
      "userId": "00311338069675780007"
     },
     "user_tz": 180
    },
    "id": "x6oA-mPn6UPm"
   },
   "outputs": [],
   "source": [
    "microdados_rj['CLASSE_IDADE'] = 100"
   ]
  },
  {
   "cell_type": "code",
   "execution_count": 192,
   "metadata": {
    "executionInfo": {
     "elapsed": 270,
     "status": "ok",
     "timestamp": 1628969590040,
     "user": {
      "displayName": "RODRIGO SILVA PERES",
      "photoUrl": "",
      "userId": "00311338069675780007"
     },
     "user_tz": 180
    },
    "id": "huXc1Ol26cdS"
   },
   "outputs": [],
   "source": [
    "condicao = [microdados_rj['NU_IDADE'] <= 14, microdados_rj['NU_IDADE'] == 15, microdados_rj['NU_IDADE'] == 16, microdados_rj['NU_IDADE'] == 17, microdados_rj['NU_IDADE'] == 18, microdados_rj['NU_IDADE'] == 19, microdados_rj['NU_IDADE'] ==20, microdados_rj['NU_IDADE'] == 21, microdados_rj['NU_IDADE'] == 22]\n",
    "resultado = [0, 1, 1, 2, 3, 4, 5, 6, 6]\n",
    "\n",
    "microdados_rj['CLASSE_IDADE'] = np.select(condicao, resultado, 7)"
   ]
  },
  {
   "cell_type": "code",
   "execution_count": 193,
   "metadata": {
    "colab": {
     "base_uri": "https://localhost:8080/"
    },
    "executionInfo": {
     "elapsed": 16,
     "status": "ok",
     "timestamp": 1628969590041,
     "user": {
      "displayName": "RODRIGO SILVA PERES",
      "photoUrl": "",
      "userId": "00311338069675780007"
     },
     "user_tz": 180
    },
    "id": "V03fWUEu67lV",
    "outputId": "5641bf68-b253-4d72-c142-080d1392da50"
   },
   "outputs": [
    {
     "data": {
      "text/plain": [
       "0      101\n",
       "1    19317\n",
       "2    46371\n",
       "3    59844\n",
       "4    43391\n",
       "5    29401\n",
       "6    35118\n",
       "7    97355\n",
       "Name: CLASSE_IDADE, dtype: int64"
      ]
     },
     "execution_count": 193,
     "metadata": {
      "tags": []
     },
     "output_type": "execute_result"
    }
   ],
   "source": [
    "microdados_rj.CLASSE_IDADE.value_counts().sort_index()"
   ]
  },
  {
   "cell_type": "markdown",
   "metadata": {
    "id": "22OlFjIV8og8"
   },
   "source": [
    "#### Feature: Escolaridade dos pais"
   ]
  },
  {
   "cell_type": "code",
   "execution_count": 194,
   "metadata": {
    "colab": {
     "base_uri": "https://localhost:8080/"
    },
    "executionInfo": {
     "elapsed": 14,
     "status": "ok",
     "timestamp": 1628969590042,
     "user": {
      "displayName": "RODRIGO SILVA PERES",
      "photoUrl": "",
      "userId": "00311338069675780007"
     },
     "user_tz": 180
    },
    "id": "KRsUtS3X8nhh",
    "outputId": "98f8785a-f83f-4674-c2ff-9016ab3d2a02"
   },
   "outputs": [
    {
     "data": {
      "text/plain": [
       "E    104559\n",
       "B     53001\n",
       "C     42387\n",
       "D     40611\n",
       "F     31315\n",
       "H     30060\n",
       "G     19638\n",
       "A      9327\n",
       "Name: Q001, dtype: int64"
      ]
     },
     "execution_count": 194,
     "metadata": {
      "tags": []
     },
     "output_type": "execute_result"
    }
   ],
   "source": [
    "microdados_rj.Q001.value_counts()"
   ]
  },
  {
   "cell_type": "code",
   "execution_count": 195,
   "metadata": {
    "executionInfo": {
     "elapsed": 13,
     "status": "ok",
     "timestamp": 1628969590042,
     "user": {
      "displayName": "RODRIGO SILVA PERES",
      "photoUrl": "",
      "userId": "00311338069675780007"
     },
     "user_tz": 180
    },
    "id": "Bzlj316igPKi"
   },
   "outputs": [],
   "source": [
    "microdados_rj['CLASSE_ESCOLARIDADE_PAI'] = 100"
   ]
  },
  {
   "cell_type": "code",
   "execution_count": 196,
   "metadata": {
    "colab": {
     "base_uri": "https://localhost:8080/"
    },
    "executionInfo": {
     "elapsed": 13,
     "status": "ok",
     "timestamp": 1628969590043,
     "user": {
      "displayName": "RODRIGO SILVA PERES",
      "photoUrl": "",
      "userId": "00311338069675780007"
     },
     "user_tz": 180
    },
    "id": "xKycawCMg28j",
    "outputId": "cd41994a-d261-45bd-9f0e-bd28028121c2"
   },
   "outputs": [
    {
     "name": "stderr",
     "output_type": "stream",
     "text": [
      "/usr/local/lib/python3.7/dist-packages/ipykernel_launcher.py:4: SettingWithCopyWarning: \n",
      "A value is trying to be set on a copy of a slice from a DataFrame\n",
      "\n",
      "See the caveats in the documentation: https://pandas.pydata.org/pandas-docs/stable/user_guide/indexing.html#returning-a-view-versus-a-copy\n",
      "  after removing the cwd from sys.path.\n"
     ]
    }
   ],
   "source": [
    "microdados_rj.CLASSE_ESCOLARIDADE_PAI[(microdados_rj.Q001=='A') | \n",
    "                                      (microdados_rj.Q001 == 'B') | \n",
    "                                      (microdados_rj.Q001 == 'C') | \n",
    "                                      (microdados_rj.Q001 == 'D')] = 0"
   ]
  },
  {
   "cell_type": "code",
   "execution_count": 197,
   "metadata": {
    "colab": {
     "base_uri": "https://localhost:8080/"
    },
    "executionInfo": {
     "elapsed": 414,
     "status": "ok",
     "timestamp": 1628969590446,
     "user": {
      "displayName": "RODRIGO SILVA PERES",
      "photoUrl": "",
      "userId": "00311338069675780007"
     },
     "user_tz": 180
    },
    "id": "IwsUKjW3hV9i",
    "outputId": "38ed3081-d3d0-4d5a-fb5e-a270becf6609"
   },
   "outputs": [
    {
     "name": "stderr",
     "output_type": "stream",
     "text": [
      "/usr/local/lib/python3.7/dist-packages/ipykernel_launcher.py:1: SettingWithCopyWarning: \n",
      "A value is trying to be set on a copy of a slice from a DataFrame\n",
      "\n",
      "See the caveats in the documentation: https://pandas.pydata.org/pandas-docs/stable/user_guide/indexing.html#returning-a-view-versus-a-copy\n",
      "  \"\"\"Entry point for launching an IPython kernel.\n"
     ]
    }
   ],
   "source": [
    "microdados_rj.CLASSE_ESCOLARIDADE_PAI[(microdados_rj.Q001 == 'E')] = 1"
   ]
  },
  {
   "cell_type": "code",
   "execution_count": 198,
   "metadata": {
    "colab": {
     "base_uri": "https://localhost:8080/"
    },
    "executionInfo": {
     "elapsed": 33,
     "status": "ok",
     "timestamp": 1628969590448,
     "user": {
      "displayName": "RODRIGO SILVA PERES",
      "photoUrl": "",
      "userId": "00311338069675780007"
     },
     "user_tz": 180
    },
    "id": "orPsOnSI81U3",
    "outputId": "8705e038-e5a4-4e80-a76d-6882df530c5d"
   },
   "outputs": [
    {
     "name": "stderr",
     "output_type": "stream",
     "text": [
      "/usr/local/lib/python3.7/dist-packages/ipykernel_launcher.py:2: SettingWithCopyWarning: \n",
      "A value is trying to be set on a copy of a slice from a DataFrame\n",
      "\n",
      "See the caveats in the documentation: https://pandas.pydata.org/pandas-docs/stable/user_guide/indexing.html#returning-a-view-versus-a-copy\n",
      "  \n"
     ]
    }
   ],
   "source": [
    "microdados_rj.CLASSE_ESCOLARIDADE_PAI[(microdados_rj.Q001 == 'F') | \n",
    "                                      (microdados_rj.Q001 == 'G')] = 2"
   ]
  },
  {
   "cell_type": "code",
   "execution_count": 199,
   "metadata": {
    "colab": {
     "base_uri": "https://localhost:8080/"
    },
    "executionInfo": {
     "elapsed": 29,
     "status": "ok",
     "timestamp": 1628969590450,
     "user": {
      "displayName": "RODRIGO SILVA PERES",
      "photoUrl": "",
      "userId": "00311338069675780007"
     },
     "user_tz": 180
    },
    "id": "L6h4K1D99Axg",
    "outputId": "4a090d32-ffbd-4156-a663-e786514a6c91"
   },
   "outputs": [
    {
     "data": {
      "text/plain": [
       "0      145326\n",
       "1      104559\n",
       "2       50953\n",
       "100     30060\n",
       "Name: CLASSE_ESCOLARIDADE_PAI, dtype: int64"
      ]
     },
     "execution_count": 199,
     "metadata": {
      "tags": []
     },
     "output_type": "execute_result"
    }
   ],
   "source": [
    "microdados_rj.CLASSE_ESCOLARIDADE_PAI.value_counts().sort_index()"
   ]
  },
  {
   "cell_type": "code",
   "execution_count": 200,
   "metadata": {
    "colab": {
     "base_uri": "https://localhost:8080/"
    },
    "executionInfo": {
     "elapsed": 25,
     "status": "ok",
     "timestamp": 1628969590451,
     "user": {
      "displayName": "RODRIGO SILVA PERES",
      "photoUrl": "",
      "userId": "00311338069675780007"
     },
     "user_tz": 180
    },
    "id": "WY49acoDh8Ik",
    "outputId": "df97e281-9802-45e7-a66c-0e3a2b82a512"
   },
   "outputs": [
    {
     "data": {
      "text/plain": [
       "E    122195\n",
       "D     46471\n",
       "B     42418\n",
       "C     40850\n",
       "F     37260\n",
       "G     25867\n",
       "H      8303\n",
       "A      7534\n",
       "Name: Q002, dtype: int64"
      ]
     },
     "execution_count": 200,
     "metadata": {
      "tags": []
     },
     "output_type": "execute_result"
    }
   ],
   "source": [
    "microdados_rj.Q002.value_counts()"
   ]
  },
  {
   "cell_type": "code",
   "execution_count": 201,
   "metadata": {
    "executionInfo": {
     "elapsed": 22,
     "status": "ok",
     "timestamp": 1628969590452,
     "user": {
      "displayName": "RODRIGO SILVA PERES",
      "photoUrl": "",
      "userId": "00311338069675780007"
     },
     "user_tz": 180
    },
    "id": "foRLDaU-h8In"
   },
   "outputs": [],
   "source": [
    "microdados_rj['CLASSE_ESCOLARIDADE_MAE'] = 100"
   ]
  },
  {
   "cell_type": "code",
   "execution_count": 202,
   "metadata": {
    "colab": {
     "base_uri": "https://localhost:8080/"
    },
    "executionInfo": {
     "elapsed": 372,
     "status": "ok",
     "timestamp": 1628969590809,
     "user": {
      "displayName": "RODRIGO SILVA PERES",
      "photoUrl": "",
      "userId": "00311338069675780007"
     },
     "user_tz": 180
    },
    "id": "z0qhdJflh8Io",
    "outputId": "a1559d7c-bcc3-4b27-aa57-8b027138ae86"
   },
   "outputs": [
    {
     "name": "stderr",
     "output_type": "stream",
     "text": [
      "/usr/local/lib/python3.7/dist-packages/ipykernel_launcher.py:4: SettingWithCopyWarning: \n",
      "A value is trying to be set on a copy of a slice from a DataFrame\n",
      "\n",
      "See the caveats in the documentation: https://pandas.pydata.org/pandas-docs/stable/user_guide/indexing.html#returning-a-view-versus-a-copy\n",
      "  after removing the cwd from sys.path.\n"
     ]
    }
   ],
   "source": [
    "microdados_rj.CLASSE_ESCOLARIDADE_MAE[(microdados_rj.Q002 == 'A') | \n",
    "                                      (microdados_rj.Q002 == 'B') | \n",
    "                                      (microdados_rj.Q002 == 'C') | \n",
    "                                      (microdados_rj.Q002 == 'D')] = 0"
   ]
  },
  {
   "cell_type": "code",
   "execution_count": 203,
   "metadata": {
    "colab": {
     "base_uri": "https://localhost:8080/"
    },
    "executionInfo": {
     "elapsed": 50,
     "status": "ok",
     "timestamp": 1628969590810,
     "user": {
      "displayName": "RODRIGO SILVA PERES",
      "photoUrl": "",
      "userId": "00311338069675780007"
     },
     "user_tz": 180
    },
    "id": "Qpp2y_bih8Io",
    "outputId": "b1d6011e-b2bc-4863-9427-b49bc041105e"
   },
   "outputs": [
    {
     "name": "stderr",
     "output_type": "stream",
     "text": [
      "/usr/local/lib/python3.7/dist-packages/ipykernel_launcher.py:1: SettingWithCopyWarning: \n",
      "A value is trying to be set on a copy of a slice from a DataFrame\n",
      "\n",
      "See the caveats in the documentation: https://pandas.pydata.org/pandas-docs/stable/user_guide/indexing.html#returning-a-view-versus-a-copy\n",
      "  \"\"\"Entry point for launching an IPython kernel.\n"
     ]
    }
   ],
   "source": [
    "microdados_rj.CLASSE_ESCOLARIDADE_MAE[(microdados_rj.Q002 == 'E')] = 1"
   ]
  },
  {
   "cell_type": "code",
   "execution_count": 204,
   "metadata": {
    "colab": {
     "base_uri": "https://localhost:8080/"
    },
    "executionInfo": {
     "elapsed": 47,
     "status": "ok",
     "timestamp": 1628969590811,
     "user": {
      "displayName": "RODRIGO SILVA PERES",
      "photoUrl": "",
      "userId": "00311338069675780007"
     },
     "user_tz": 180
    },
    "id": "_-bYuQGFh8Ip",
    "outputId": "4da32ac2-122f-46b4-fe2b-8e609f78c311"
   },
   "outputs": [
    {
     "name": "stderr",
     "output_type": "stream",
     "text": [
      "/usr/local/lib/python3.7/dist-packages/ipykernel_launcher.py:2: SettingWithCopyWarning: \n",
      "A value is trying to be set on a copy of a slice from a DataFrame\n",
      "\n",
      "See the caveats in the documentation: https://pandas.pydata.org/pandas-docs/stable/user_guide/indexing.html#returning-a-view-versus-a-copy\n",
      "  \n"
     ]
    }
   ],
   "source": [
    "microdados_rj.CLASSE_ESCOLARIDADE_MAE[(microdados_rj.Q002 == 'F') | \n",
    "                                      (microdados_rj.Q002 == 'G')] = 2"
   ]
  },
  {
   "cell_type": "code",
   "execution_count": 205,
   "metadata": {
    "colab": {
     "base_uri": "https://localhost:8080/"
    },
    "executionInfo": {
     "elapsed": 43,
     "status": "ok",
     "timestamp": 1628969590811,
     "user": {
      "displayName": "RODRIGO SILVA PERES",
      "photoUrl": "",
      "userId": "00311338069675780007"
     },
     "user_tz": 180
    },
    "id": "97TBDirUh8Ip",
    "outputId": "90e97d4a-8bdb-442d-c050-764d73a1550a"
   },
   "outputs": [
    {
     "data": {
      "text/plain": [
       "0      137273\n",
       "1      122195\n",
       "2       63127\n",
       "100      8303\n",
       "Name: CLASSE_ESCOLARIDADE_MAE, dtype: int64"
      ]
     },
     "execution_count": 205,
     "metadata": {
      "tags": []
     },
     "output_type": "execute_result"
    }
   ],
   "source": [
    "microdados_rj.CLASSE_ESCOLARIDADE_MAE.value_counts().sort_index()"
   ]
  },
  {
   "cell_type": "code",
   "execution_count": 206,
   "metadata": {
    "executionInfo": {
     "elapsed": 40,
     "status": "ok",
     "timestamp": 1628969590812,
     "user": {
      "displayName": "RODRIGO SILVA PERES",
      "photoUrl": "",
      "userId": "00311338069675780007"
     },
     "user_tz": 180
    },
    "id": "YAZEyvI_9TtI"
   },
   "outputs": [],
   "source": [
    "microdados_rj['Q001_Q002'] = 100"
   ]
  },
  {
   "cell_type": "code",
   "execution_count": 207,
   "metadata": {
    "colab": {
     "base_uri": "https://localhost:8080/"
    },
    "executionInfo": {
     "elapsed": 39,
     "status": "ok",
     "timestamp": 1628969590813,
     "user": {
      "displayName": "RODRIGO SILVA PERES",
      "photoUrl": "",
      "userId": "00311338069675780007"
     },
     "user_tz": 180
    },
    "id": "PHWGr4fa9Vv_",
    "outputId": "fc1e9b75-8571-4e0c-e50a-f2dfdae89806"
   },
   "outputs": [
    {
     "name": "stderr",
     "output_type": "stream",
     "text": [
      "/usr/local/lib/python3.7/dist-packages/ipykernel_launcher.py:2: SettingWithCopyWarning: \n",
      "A value is trying to be set on a copy of a slice from a DataFrame\n",
      "\n",
      "See the caveats in the documentation: https://pandas.pydata.org/pandas-docs/stable/user_guide/indexing.html#returning-a-view-versus-a-copy\n",
      "  \n"
     ]
    }
   ],
   "source": [
    "microdados_rj.Q001_Q002[(microdados_rj.CLASSE_ESCOLARIDADE_PAI == 0) | \n",
    "                        (microdados_rj.CLASSE_ESCOLARIDADE_MAE == 0)] = 0"
   ]
  },
  {
   "cell_type": "code",
   "execution_count": 208,
   "metadata": {
    "colab": {
     "base_uri": "https://localhost:8080/"
    },
    "executionInfo": {
     "elapsed": 35,
     "status": "ok",
     "timestamp": 1628969590814,
     "user": {
      "displayName": "RODRIGO SILVA PERES",
      "photoUrl": "",
      "userId": "00311338069675780007"
     },
     "user_tz": 180
    },
    "id": "_95AP9QQjAH_",
    "outputId": "c0951a1b-7e37-4dc5-b257-8eaa1bd3608c"
   },
   "outputs": [
    {
     "data": {
      "text/plain": [
       "0      188570\n",
       "100    142328\n",
       "Name: Q001_Q002, dtype: int64"
      ]
     },
     "execution_count": 208,
     "metadata": {
      "tags": []
     },
     "output_type": "execute_result"
    }
   ],
   "source": [
    "microdados_rj.Q001_Q002.value_counts()"
   ]
  },
  {
   "cell_type": "code",
   "execution_count": 209,
   "metadata": {
    "colab": {
     "base_uri": "https://localhost:8080/"
    },
    "executionInfo": {
     "elapsed": 32,
     "status": "ok",
     "timestamp": 1628969590815,
     "user": {
      "displayName": "RODRIGO SILVA PERES",
      "photoUrl": "",
      "userId": "00311338069675780007"
     },
     "user_tz": 180
    },
    "id": "6vzZlxZijD-k",
    "outputId": "a10a1b2b-51ba-41c7-8ce7-f846669b2956"
   },
   "outputs": [
    {
     "name": "stderr",
     "output_type": "stream",
     "text": [
      "/usr/local/lib/python3.7/dist-packages/ipykernel_launcher.py:2: SettingWithCopyWarning: \n",
      "A value is trying to be set on a copy of a slice from a DataFrame\n",
      "\n",
      "See the caveats in the documentation: https://pandas.pydata.org/pandas-docs/stable/user_guide/indexing.html#returning-a-view-versus-a-copy\n",
      "  \n"
     ]
    }
   ],
   "source": [
    "microdados_rj.Q001_Q002[(microdados_rj.CLASSE_ESCOLARIDADE_PAI == 1) | \n",
    "                        (microdados_rj.CLASSE_ESCOLARIDADE_MAE == 1)] = 1"
   ]
  },
  {
   "cell_type": "code",
   "execution_count": 210,
   "metadata": {
    "colab": {
     "base_uri": "https://localhost:8080/"
    },
    "executionInfo": {
     "elapsed": 27,
     "status": "ok",
     "timestamp": 1628969590815,
     "user": {
      "displayName": "RODRIGO SILVA PERES",
      "photoUrl": "",
      "userId": "00311338069675780007"
     },
     "user_tz": 180
    },
    "id": "IzZ-EgvjjD76",
    "outputId": "808d20ea-0564-4236-edce-f88f7e2645f3"
   },
   "outputs": [
    {
     "data": {
      "text/plain": [
       "1      170700\n",
       "0      120695\n",
       "100     39503\n",
       "Name: Q001_Q002, dtype: int64"
      ]
     },
     "execution_count": 210,
     "metadata": {
      "tags": []
     },
     "output_type": "execute_result"
    }
   ],
   "source": [
    "microdados_rj.Q001_Q002.value_counts()"
   ]
  },
  {
   "cell_type": "code",
   "execution_count": 211,
   "metadata": {
    "colab": {
     "base_uri": "https://localhost:8080/"
    },
    "executionInfo": {
     "elapsed": 24,
     "status": "ok",
     "timestamp": 1628969590816,
     "user": {
      "displayName": "RODRIGO SILVA PERES",
      "photoUrl": "",
      "userId": "00311338069675780007"
     },
     "user_tz": 180
    },
    "id": "tXmoSTBIjD5h",
    "outputId": "7f9635da-9d47-4016-9b68-f4619edc5572"
   },
   "outputs": [
    {
     "name": "stderr",
     "output_type": "stream",
     "text": [
      "/usr/local/lib/python3.7/dist-packages/ipykernel_launcher.py:2: SettingWithCopyWarning: \n",
      "A value is trying to be set on a copy of a slice from a DataFrame\n",
      "\n",
      "See the caveats in the documentation: https://pandas.pydata.org/pandas-docs/stable/user_guide/indexing.html#returning-a-view-versus-a-copy\n",
      "  \n"
     ]
    }
   ],
   "source": [
    "microdados_rj.Q001_Q002[(microdados_rj.CLASSE_ESCOLARIDADE_PAI == 2) | \n",
    "                        (microdados_rj.CLASSE_ESCOLARIDADE_MAE == 2)] = 2"
   ]
  },
  {
   "cell_type": "code",
   "execution_count": 212,
   "metadata": {
    "colab": {
     "base_uri": "https://localhost:8080/"
    },
    "executionInfo": {
     "elapsed": 22,
     "status": "ok",
     "timestamp": 1628969590817,
     "user": {
      "displayName": "RODRIGO SILVA PERES",
      "photoUrl": "",
      "userId": "00311338069675780007"
     },
     "user_tz": 180
    },
    "id": "MqyrUFbljDue",
    "outputId": "4d940878-0084-403b-e394-e091ef26513d"
   },
   "outputs": [
    {
     "data": {
      "text/plain": [
       "1      134444\n",
       "0      107833\n",
       "2       83087\n",
       "100      5534\n",
       "Name: Q001_Q002, dtype: int64"
      ]
     },
     "execution_count": 212,
     "metadata": {
      "tags": []
     },
     "output_type": "execute_result"
    }
   ],
   "source": [
    "microdados_rj.Q001_Q002.value_counts()"
   ]
  },
  {
   "cell_type": "code",
   "execution_count": 213,
   "metadata": {
    "colab": {
     "base_uri": "https://localhost:8080/"
    },
    "executionInfo": {
     "elapsed": 19,
     "status": "ok",
     "timestamp": 1628969590817,
     "user": {
      "displayName": "RODRIGO SILVA PERES",
      "photoUrl": "",
      "userId": "00311338069675780007"
     },
     "user_tz": 180
    },
    "id": "mWRtJHG8jZ7z",
    "outputId": "08adb086-98d0-4b42-8926-e10f12551a9b"
   },
   "outputs": [
    {
     "data": {
      "text/plain": [
       "(330898, 144)"
      ]
     },
     "execution_count": 213,
     "metadata": {
      "tags": []
     },
     "output_type": "execute_result"
    }
   ],
   "source": [
    "microdados_rj.shape"
   ]
  },
  {
   "cell_type": "code",
   "execution_count": 214,
   "metadata": {
    "executionInfo": {
     "elapsed": 325,
     "status": "ok",
     "timestamp": 1628969591126,
     "user": {
      "displayName": "RODRIGO SILVA PERES",
      "photoUrl": "",
      "userId": "00311338069675780007"
     },
     "user_tz": 180
    },
    "id": "B07CBDKzjYzK"
   },
   "outputs": [],
   "source": [
    "microdados_rj = microdados_rj[microdados_rj['Q001_Q002'] != 100]"
   ]
  },
  {
   "cell_type": "code",
   "execution_count": 215,
   "metadata": {
    "colab": {
     "base_uri": "https://localhost:8080/"
    },
    "executionInfo": {
     "elapsed": 36,
     "status": "ok",
     "timestamp": 1628969591129,
     "user": {
      "displayName": "RODRIGO SILVA PERES",
      "photoUrl": "",
      "userId": "00311338069675780007"
     },
     "user_tz": 180
    },
    "id": "Ll9tutDZjftB",
    "outputId": "c8ec3d57-9ca4-4f7a-93f5-058d9b64955c"
   },
   "outputs": [
    {
     "data": {
      "text/plain": [
       "(325364, 144)"
      ]
     },
     "execution_count": 215,
     "metadata": {
      "tags": []
     },
     "output_type": "execute_result"
    }
   ],
   "source": [
    "microdados_rj.shape"
   ]
  },
  {
   "cell_type": "markdown",
   "metadata": {
    "id": "Lf188KrzANzy"
   },
   "source": [
    "#### Feature: Computador"
   ]
  },
  {
   "cell_type": "code",
   "execution_count": 216,
   "metadata": {
    "colab": {
     "base_uri": "https://localhost:8080/"
    },
    "executionInfo": {
     "elapsed": 32,
     "status": "ok",
     "timestamp": 1628969591131,
     "user": {
      "displayName": "RODRIGO SILVA PERES",
      "photoUrl": "",
      "userId": "00311338069675780007"
     },
     "user_tz": 180
    },
    "id": "K2MUsYVgAIOW",
    "outputId": "ba499f1c-00a4-4162-9709-e07a0883907a"
   },
   "outputs": [
    {
     "data": {
      "text/plain": [
       "B    162970\n",
       "A    113217\n",
       "C     33419\n",
       "D     10870\n",
       "E      4888\n",
       "Name: Q024, dtype: int64"
      ]
     },
     "execution_count": 216,
     "metadata": {
      "tags": []
     },
     "output_type": "execute_result"
    }
   ],
   "source": [
    "microdados_rj['Q024'].value_counts()"
   ]
  },
  {
   "cell_type": "code",
   "execution_count": 217,
   "metadata": {
    "colab": {
     "base_uri": "https://localhost:8080/"
    },
    "executionInfo": {
     "elapsed": 30,
     "status": "ok",
     "timestamp": 1628969591133,
     "user": {
      "displayName": "RODRIGO SILVA PERES",
      "photoUrl": "",
      "userId": "00311338069675780007"
     },
     "user_tz": 180
    },
    "id": "hvSkXwnkAbmo",
    "outputId": "3338a63c-9c99-4081-c2f0-12ce935c4d51"
   },
   "outputs": [
    {
     "name": "stderr",
     "output_type": "stream",
     "text": [
      "/usr/local/lib/python3.7/dist-packages/ipykernel_launcher.py:2: SettingWithCopyWarning: \n",
      "A value is trying to be set on a copy of a slice from a DataFrame\n",
      "\n",
      "See the caveats in the documentation: https://pandas.pydata.org/pandas-docs/stable/user_guide/indexing.html#returning-a-view-versus-a-copy\n",
      "  \n"
     ]
    }
   ],
   "source": [
    "microdados_rj.Q024[(microdados_rj.Q024 == 'A')] = 0\n",
    "microdados_rj.Q024[(microdados_rj.Q024 != 0)] = 1"
   ]
  },
  {
   "cell_type": "code",
   "execution_count": 218,
   "metadata": {
    "colab": {
     "base_uri": "https://localhost:8080/"
    },
    "executionInfo": {
     "elapsed": 27,
     "status": "ok",
     "timestamp": 1628969591135,
     "user": {
      "displayName": "RODRIGO SILVA PERES",
      "photoUrl": "",
      "userId": "00311338069675780007"
     },
     "user_tz": 180
    },
    "id": "jqAHm8pRAm7U",
    "outputId": "e2b67af0-238d-495a-e0a9-0cb8d5f5d6c8"
   },
   "outputs": [
    {
     "data": {
      "text/plain": [
       "1    212147\n",
       "0    113217\n",
       "Name: Q024, dtype: int64"
      ]
     },
     "execution_count": 218,
     "metadata": {
      "tags": []
     },
     "output_type": "execute_result"
    }
   ],
   "source": [
    "microdados_rj.Q024.value_counts()"
   ]
  },
  {
   "cell_type": "markdown",
   "metadata": {
    "id": "MoGXJhEQAvCW"
   },
   "source": [
    "#### Feature: Internet"
   ]
  },
  {
   "cell_type": "code",
   "execution_count": 219,
   "metadata": {
    "colab": {
     "base_uri": "https://localhost:8080/"
    },
    "executionInfo": {
     "elapsed": 24,
     "status": "ok",
     "timestamp": 1628969591137,
     "user": {
      "displayName": "RODRIGO SILVA PERES",
      "photoUrl": "",
      "userId": "00311338069675780007"
     },
     "user_tz": 180
    },
    "id": "w0su4pZKAtYY",
    "outputId": "a24ee8b3-36a4-48de-c70e-7498df632ced"
   },
   "outputs": [
    {
     "data": {
      "text/plain": [
       "B    283221\n",
       "A     42143\n",
       "Name: Q025, dtype: int64"
      ]
     },
     "execution_count": 219,
     "metadata": {
      "tags": []
     },
     "output_type": "execute_result"
    }
   ],
   "source": [
    "microdados_rj['Q025'].value_counts()"
   ]
  },
  {
   "cell_type": "code",
   "execution_count": 220,
   "metadata": {
    "colab": {
     "base_uri": "https://localhost:8080/"
    },
    "executionInfo": {
     "elapsed": 49,
     "status": "ok",
     "timestamp": 1628969591529,
     "user": {
      "displayName": "RODRIGO SILVA PERES",
      "photoUrl": "",
      "userId": "00311338069675780007"
     },
     "user_tz": 180
    },
    "id": "24FAGpGRA057",
    "outputId": "87875e0a-966a-41d4-b1f8-af980aadcd9b"
   },
   "outputs": [
    {
     "name": "stderr",
     "output_type": "stream",
     "text": [
      "/usr/local/lib/python3.7/dist-packages/ipykernel_launcher.py:2: SettingWithCopyWarning: \n",
      "A value is trying to be set on a copy of a slice from a DataFrame\n",
      "\n",
      "See the caveats in the documentation: https://pandas.pydata.org/pandas-docs/stable/user_guide/indexing.html#returning-a-view-versus-a-copy\n",
      "  \n"
     ]
    }
   ],
   "source": [
    "microdados_rj.Q025[(microdados_rj.Q025 == 'A')] = 0\n",
    "microdados_rj.Q025[(microdados_rj.Q025 == 'B')] = 1"
   ]
  },
  {
   "cell_type": "code",
   "execution_count": 221,
   "metadata": {
    "colab": {
     "base_uri": "https://localhost:8080/"
    },
    "executionInfo": {
     "elapsed": 40,
     "status": "ok",
     "timestamp": 1628969591531,
     "user": {
      "displayName": "RODRIGO SILVA PERES",
      "photoUrl": "",
      "userId": "00311338069675780007"
     },
     "user_tz": 180
    },
    "id": "6Zl_-WRdBGzH",
    "outputId": "9170a036-8a16-49cf-9b51-4d57c9dd1112"
   },
   "outputs": [
    {
     "data": {
      "text/plain": [
       "1    283221\n",
       "0     42143\n",
       "Name: Q025, dtype: int64"
      ]
     },
     "execution_count": 221,
     "metadata": {
      "tags": []
     },
     "output_type": "execute_result"
    }
   ],
   "source": [
    "microdados_rj['Q025'].value_counts()"
   ]
  },
  {
   "cell_type": "markdown",
   "metadata": {
    "id": "3cuBJjm8FqAx"
   },
   "source": [
    "### Transformação dos targets"
   ]
  },
  {
   "cell_type": "markdown",
   "metadata": {
    "id": "jjq1-3f_-iAR"
   },
   "source": [
    "#### Rendimento Mat"
   ]
  },
  {
   "cell_type": "code",
   "execution_count": 222,
   "metadata": {
    "executionInfo": {
     "elapsed": 449,
     "status": "ok",
     "timestamp": 1628969593772,
     "user": {
      "displayName": "RODRIGO SILVA PERES",
      "photoUrl": "",
      "userId": "00311338069675780007"
     },
     "user_tz": 180
    },
    "id": "ZuaiV-BM-2uC"
   },
   "outputs": [],
   "source": [
    "microdados_rj['CLASSE_RENDIMENTO'] = 'A'"
   ]
  },
  {
   "cell_type": "code",
   "execution_count": 223,
   "metadata": {
    "executionInfo": {
     "elapsed": 8,
     "status": "ok",
     "timestamp": 1628969593773,
     "user": {
      "displayName": "RODRIGO SILVA PERES",
      "photoUrl": "",
      "userId": "00311338069675780007"
     },
     "user_tz": 180
    },
    "id": "q2pCoVrr-fbA"
   },
   "outputs": [],
   "source": [
    "condicao = [microdados_rj['NU_NOTA_MT'] < 450, \n",
    "            microdados_rj['NU_NOTA_MT'] < 650, \n",
    "            microdados_rj['NU_NOTA_MT'] >= 650]\n",
    "            \n",
    "resultado = ['INSUFICIENTE', 'REGULAR', 'EXCELENTE']\n",
    "\n",
    "microdados_rj['CLASSE_RENDIMENTO'] = np.select(condicao, resultado)"
   ]
  },
  {
   "cell_type": "code",
   "execution_count": 224,
   "metadata": {
    "colab": {
     "base_uri": "https://localhost:8080/"
    },
    "executionInfo": {
     "elapsed": 384,
     "status": "ok",
     "timestamp": 1628969594151,
     "user": {
      "displayName": "RODRIGO SILVA PERES",
      "photoUrl": "",
      "userId": "00311338069675780007"
     },
     "user_tz": 180
    },
    "id": "S00xqUhM_Ozy",
    "outputId": "1dc7a26a-a6ba-427b-fbd8-b6f2b654391f"
   },
   "outputs": [
    {
     "data": {
      "text/plain": [
       "REGULAR         130121\n",
       "0                89531\n",
       "INSUFICIENTE     61591\n",
       "EXCELENTE        44121\n",
       "Name: CLASSE_RENDIMENTO, dtype: int64"
      ]
     },
     "execution_count": 224,
     "metadata": {
      "tags": []
     },
     "output_type": "execute_result"
    }
   ],
   "source": [
    "microdados_rj['CLASSE_RENDIMENTO'].value_counts()"
   ]
  },
  {
   "cell_type": "code",
   "execution_count": 225,
   "metadata": {
    "executionInfo": {
     "elapsed": 9,
     "status": "ok",
     "timestamp": 1628969594151,
     "user": {
      "displayName": "RODRIGO SILVA PERES",
      "photoUrl": "",
      "userId": "00311338069675780007"
     },
     "user_tz": 180
    },
    "id": "LUfkhceVJrEz"
   },
   "outputs": [],
   "source": [
    "microdados_rj.loc[microdados_rj['CLASSE_RENDIMENTO'] == '0', 'CLASSE_RENDIMENTO'] = np.nan"
   ]
  },
  {
   "cell_type": "code",
   "execution_count": 226,
   "metadata": {
    "colab": {
     "base_uri": "https://localhost:8080/"
    },
    "executionInfo": {
     "elapsed": 9,
     "status": "ok",
     "timestamp": 1628969594152,
     "user": {
      "displayName": "RODRIGO SILVA PERES",
      "photoUrl": "",
      "userId": "00311338069675780007"
     },
     "user_tz": 180
    },
    "id": "zzcWDj_KJs5_",
    "outputId": "b31522aa-5442-48e1-f167-d88970a191b1"
   },
   "outputs": [
    {
     "data": {
      "text/plain": [
       "REGULAR         130121\n",
       "INSUFICIENTE     61591\n",
       "EXCELENTE        44121\n",
       "Name: CLASSE_RENDIMENTO, dtype: int64"
      ]
     },
     "execution_count": 226,
     "metadata": {
      "tags": []
     },
     "output_type": "execute_result"
    }
   ],
   "source": [
    "microdados_rj['CLASSE_RENDIMENTO'].value_counts()"
   ]
  },
  {
   "cell_type": "markdown",
   "metadata": {
    "id": "b8fT9b2w1dBU"
   },
   "source": [
    "#### Rendimento Geral"
   ]
  },
  {
   "cell_type": "code",
   "execution_count": 227,
   "metadata": {
    "executionInfo": {
     "elapsed": 8,
     "status": "ok",
     "timestamp": 1628969594153,
     "user": {
      "displayName": "RODRIGO SILVA PERES",
      "photoUrl": "",
      "userId": "00311338069675780007"
     },
     "user_tz": 180
    },
    "id": "Dj_zC4ay1sdF"
   },
   "outputs": [],
   "source": [
    "microdados_rj['MEDIA_GERAL'] = (microdados_rj['NU_NOTA_CN'] + \n",
    "                                microdados_rj['NU_NOTA_CH'] + \n",
    "                                microdados_rj['NU_NOTA_LC'] + \n",
    "                                microdados_rj['NU_NOTA_MT'] + \n",
    "                                microdados_rj['NU_NOTA_REDACAO']) / 5"
   ]
  },
  {
   "cell_type": "code",
   "execution_count": 228,
   "metadata": {
    "executionInfo": {
     "elapsed": 8,
     "status": "ok",
     "timestamp": 1628969594154,
     "user": {
      "displayName": "RODRIGO SILVA PERES",
      "photoUrl": "",
      "userId": "00311338069675780007"
     },
     "user_tz": 180
    },
    "id": "o934aqyZMMi-"
   },
   "outputs": [],
   "source": [
    "condicao = [microdados_rj['MEDIA_GERAL'] < 450, \n",
    "            microdados_rj['MEDIA_GERAL'] < 650, \n",
    "            microdados_rj['MEDIA_GERAL'] >= 650]\n",
    "            \n",
    "resultado = ['INSUFICIENTE', 'REGULAR', 'EXCELENTE']\n",
    "\n",
    "microdados_rj['CLASSE_RENDIMENTO_GERAL'] = np.select(condicao, resultado)"
   ]
  },
  {
   "cell_type": "code",
   "execution_count": 229,
   "metadata": {
    "colab": {
     "base_uri": "https://localhost:8080/"
    },
    "executionInfo": {
     "elapsed": 20,
     "status": "ok",
     "timestamp": 1628969594460,
     "user": {
      "displayName": "RODRIGO SILVA PERES",
      "photoUrl": "",
      "userId": "00311338069675780007"
     },
     "user_tz": 180
    },
    "id": "AdoNP1ZlMhya",
    "outputId": "6c3813b1-9421-4b64-8c47-bc2b6cc18b97"
   },
   "outputs": [
    {
     "data": {
      "text/plain": [
       "REGULAR         178637\n",
       "0                90085\n",
       "INSUFICIENTE     30344\n",
       "EXCELENTE        26298\n",
       "Name: CLASSE_RENDIMENTO_GERAL, dtype: int64"
      ]
     },
     "execution_count": 229,
     "metadata": {
      "tags": []
     },
     "output_type": "execute_result"
    }
   ],
   "source": [
    "microdados_rj['CLASSE_RENDIMENTO_GERAL'].value_counts()"
   ]
  },
  {
   "cell_type": "code",
   "execution_count": 230,
   "metadata": {
    "executionInfo": {
     "elapsed": 315,
     "status": "ok",
     "timestamp": 1628969594762,
     "user": {
      "displayName": "RODRIGO SILVA PERES",
      "photoUrl": "",
      "userId": "00311338069675780007"
     },
     "user_tz": 180
    },
    "id": "TLUM7nCIImBk"
   },
   "outputs": [],
   "source": [
    "microdados_rj.loc[microdados_rj['CLASSE_RENDIMENTO_GERAL'] == '0', 'CLASSE_RENDIMENTO_GERAL'] = np.nan"
   ]
  },
  {
   "cell_type": "code",
   "execution_count": 231,
   "metadata": {
    "colab": {
     "base_uri": "https://localhost:8080/"
    },
    "executionInfo": {
     "elapsed": 5,
     "status": "ok",
     "timestamp": 1628969594763,
     "user": {
      "displayName": "RODRIGO SILVA PERES",
      "photoUrl": "",
      "userId": "00311338069675780007"
     },
     "user_tz": 180
    },
    "id": "r3WmX_zaJDbY",
    "outputId": "45094f41-91f6-42e8-e021-054e276d197c"
   },
   "outputs": [
    {
     "data": {
      "text/plain": [
       "REGULAR         178637\n",
       "INSUFICIENTE     30344\n",
       "EXCELENTE        26298\n",
       "Name: CLASSE_RENDIMENTO_GERAL, dtype: int64"
      ]
     },
     "execution_count": 231,
     "metadata": {
      "tags": []
     },
     "output_type": "execute_result"
    }
   ],
   "source": [
    "microdados_rj['CLASSE_RENDIMENTO_GERAL'].value_counts()"
   ]
  },
  {
   "cell_type": "markdown",
   "metadata": {
    "id": "q3JSfFlJBRBl"
   },
   "source": [
    "### Filtragem do dataset e save dos dados"
   ]
  },
  {
   "cell_type": "code",
   "execution_count": 241,
   "metadata": {
    "colab": {
     "base_uri": "https://localhost:8080/",
     "height": 419
    },
    "executionInfo": {
     "elapsed": 435,
     "status": "ok",
     "timestamp": 1628969791733,
     "user": {
      "displayName": "RODRIGO SILVA PERES",
      "photoUrl": "",
      "userId": "00311338069675780007"
     },
     "user_tz": 180
    },
    "id": "bCk2VqjyBQST",
    "outputId": "8e47efcc-fd22-40f8-dcd3-9fbb48e59733"
   },
   "outputs": [
    {
     "data": {
      "text/html": [
       "<div>\n",
       "<style scoped>\n",
       "    .dataframe tbody tr th:only-of-type {\n",
       "        vertical-align: middle;\n",
       "    }\n",
       "\n",
       "    .dataframe tbody tr th {\n",
       "        vertical-align: top;\n",
       "    }\n",
       "\n",
       "    .dataframe thead th {\n",
       "        text-align: right;\n",
       "    }\n",
       "</style>\n",
       "<table border=\"1\" class=\"dataframe\">\n",
       "  <thead>\n",
       "    <tr style=\"text-align: right;\">\n",
       "      <th></th>\n",
       "      <th>RECEM_FORMADO</th>\n",
       "      <th>CLASSE_RENDA_PERCAPITA_FAMILIAR</th>\n",
       "      <th>CLASSE_TP_COR_RACA</th>\n",
       "      <th>CLASSE_IDADE</th>\n",
       "      <th>Q001_Q002</th>\n",
       "      <th>Q024</th>\n",
       "      <th>Q025</th>\n",
       "      <th>CLASSE_RENDIMENTO</th>\n",
       "      <th>CLASSE_RENDIMENTO_GERAL</th>\n",
       "    </tr>\n",
       "  </thead>\n",
       "  <tbody>\n",
       "    <tr>\n",
       "      <th>0</th>\n",
       "      <td>0</td>\n",
       "      <td>1</td>\n",
       "      <td>1</td>\n",
       "      <td>6</td>\n",
       "      <td>0</td>\n",
       "      <td>0</td>\n",
       "      <td>0</td>\n",
       "      <td>NaN</td>\n",
       "      <td>NaN</td>\n",
       "    </tr>\n",
       "    <tr>\n",
       "      <th>1</th>\n",
       "      <td>0</td>\n",
       "      <td>3</td>\n",
       "      <td>1</td>\n",
       "      <td>7</td>\n",
       "      <td>0</td>\n",
       "      <td>1</td>\n",
       "      <td>1</td>\n",
       "      <td>REGULAR</td>\n",
       "      <td>INSUFICIENTE</td>\n",
       "    </tr>\n",
       "    <tr>\n",
       "      <th>2</th>\n",
       "      <td>0</td>\n",
       "      <td>1</td>\n",
       "      <td>1</td>\n",
       "      <td>6</td>\n",
       "      <td>0</td>\n",
       "      <td>1</td>\n",
       "      <td>1</td>\n",
       "      <td>REGULAR</td>\n",
       "      <td>REGULAR</td>\n",
       "    </tr>\n",
       "    <tr>\n",
       "      <th>3</th>\n",
       "      <td>0</td>\n",
       "      <td>1</td>\n",
       "      <td>1</td>\n",
       "      <td>6</td>\n",
       "      <td>0</td>\n",
       "      <td>1</td>\n",
       "      <td>0</td>\n",
       "      <td>INSUFICIENTE</td>\n",
       "      <td>REGULAR</td>\n",
       "    </tr>\n",
       "    <tr>\n",
       "      <th>4</th>\n",
       "      <td>0</td>\n",
       "      <td>1</td>\n",
       "      <td>0</td>\n",
       "      <td>7</td>\n",
       "      <td>0</td>\n",
       "      <td>1</td>\n",
       "      <td>1</td>\n",
       "      <td>INSUFICIENTE</td>\n",
       "      <td>REGULAR</td>\n",
       "    </tr>\n",
       "    <tr>\n",
       "      <th>...</th>\n",
       "      <td>...</td>\n",
       "      <td>...</td>\n",
       "      <td>...</td>\n",
       "      <td>...</td>\n",
       "      <td>...</td>\n",
       "      <td>...</td>\n",
       "      <td>...</td>\n",
       "      <td>...</td>\n",
       "      <td>...</td>\n",
       "    </tr>\n",
       "    <tr>\n",
       "      <th>325359</th>\n",
       "      <td>0</td>\n",
       "      <td>5</td>\n",
       "      <td>1</td>\n",
       "      <td>7</td>\n",
       "      <td>1</td>\n",
       "      <td>0</td>\n",
       "      <td>1</td>\n",
       "      <td>NaN</td>\n",
       "      <td>NaN</td>\n",
       "    </tr>\n",
       "    <tr>\n",
       "      <th>325360</th>\n",
       "      <td>0</td>\n",
       "      <td>0</td>\n",
       "      <td>1</td>\n",
       "      <td>7</td>\n",
       "      <td>0</td>\n",
       "      <td>0</td>\n",
       "      <td>0</td>\n",
       "      <td>REGULAR</td>\n",
       "      <td>REGULAR</td>\n",
       "    </tr>\n",
       "    <tr>\n",
       "      <th>325361</th>\n",
       "      <td>0</td>\n",
       "      <td>1</td>\n",
       "      <td>1</td>\n",
       "      <td>7</td>\n",
       "      <td>1</td>\n",
       "      <td>0</td>\n",
       "      <td>1</td>\n",
       "      <td>INSUFICIENTE</td>\n",
       "      <td>REGULAR</td>\n",
       "    </tr>\n",
       "    <tr>\n",
       "      <th>325362</th>\n",
       "      <td>0</td>\n",
       "      <td>2</td>\n",
       "      <td>1</td>\n",
       "      <td>5</td>\n",
       "      <td>0</td>\n",
       "      <td>0</td>\n",
       "      <td>0</td>\n",
       "      <td>INSUFICIENTE</td>\n",
       "      <td>REGULAR</td>\n",
       "    </tr>\n",
       "    <tr>\n",
       "      <th>325363</th>\n",
       "      <td>0</td>\n",
       "      <td>4</td>\n",
       "      <td>0</td>\n",
       "      <td>7</td>\n",
       "      <td>0</td>\n",
       "      <td>1</td>\n",
       "      <td>1</td>\n",
       "      <td>NaN</td>\n",
       "      <td>NaN</td>\n",
       "    </tr>\n",
       "  </tbody>\n",
       "</table>\n",
       "<p>325364 rows × 9 columns</p>\n",
       "</div>"
      ],
      "text/plain": [
       "        RECEM_FORMADO  ...  CLASSE_RENDIMENTO_GERAL\n",
       "0                   0  ...                      NaN\n",
       "1                   0  ...             INSUFICIENTE\n",
       "2                   0  ...                  REGULAR\n",
       "3                   0  ...                  REGULAR\n",
       "4                   0  ...                  REGULAR\n",
       "...               ...  ...                      ...\n",
       "325359              0  ...                      NaN\n",
       "325360              0  ...                  REGULAR\n",
       "325361              0  ...                  REGULAR\n",
       "325362              0  ...                  REGULAR\n",
       "325363              0  ...                      NaN\n",
       "\n",
       "[325364 rows x 9 columns]"
      ]
     },
     "execution_count": 241,
     "metadata": {
      "tags": []
     },
     "output_type": "execute_result"
    }
   ],
   "source": [
    "microdados_rj[['RECEM_FORMADO','CLASSE_RENDA_PERCAPITA_FAMILIAR','CLASSE_TP_COR_RACA','CLASSE_IDADE','Q001_Q002','Q024','Q025','CLASSE_RENDIMENTO', 'CLASSE_RENDIMENTO_GERAL']]"
   ]
  },
  {
   "cell_type": "code",
   "execution_count": 242,
   "metadata": {
    "colab": {
     "base_uri": "https://localhost:8080/"
    },
    "executionInfo": {
     "elapsed": 421,
     "status": "ok",
     "timestamp": 1628969792148,
     "user": {
      "displayName": "RODRIGO SILVA PERES",
      "photoUrl": "",
      "userId": "00311338069675780007"
     },
     "user_tz": 180
    },
    "id": "gbRclvhdBO0P",
    "outputId": "543fcf39-4116-4c6b-c939-f511d64211a3"
   },
   "outputs": [
    {
     "data": {
      "text/plain": [
       "RECEM_FORMADO                          0\n",
       "CLASSE_RENDA_PERCAPITA_FAMILIAR        0\n",
       "CLASSE_TP_COR_RACA                     0\n",
       "CLASSE_IDADE                           0\n",
       "Q001_Q002                              0\n",
       "Q024                                   0\n",
       "Q025                                   0\n",
       "CLASSE_RENDIMENTO                  89531\n",
       "CLASSE_RENDIMENTO_GERAL            90085\n",
       "dtype: int64"
      ]
     },
     "execution_count": 242,
     "metadata": {
      "tags": []
     },
     "output_type": "execute_result"
    }
   ],
   "source": [
    "microdados_rj[['RECEM_FORMADO','CLASSE_RENDA_PERCAPITA_FAMILIAR','CLASSE_TP_COR_RACA','CLASSE_IDADE','Q001_Q002','Q024','Q025','CLASSE_RENDIMENTO', 'CLASSE_RENDIMENTO_GERAL']].isna().sum()"
   ]
  },
  {
   "cell_type": "code",
   "execution_count": 243,
   "metadata": {
    "executionInfo": {
     "elapsed": 13,
     "status": "ok",
     "timestamp": 1628969792149,
     "user": {
      "displayName": "RODRIGO SILVA PERES",
      "photoUrl": "",
      "userId": "00311338069675780007"
     },
     "user_tz": 180
    },
    "id": "Zvc-YqFmCk7u"
   },
   "outputs": [],
   "source": [
    "microdados_rj = microdados_rj[['RECEM_FORMADO','CLASSE_RENDA_PERCAPITA_FAMILIAR','CLASSE_TP_COR_RACA','CLASSE_IDADE','Q001_Q002','Q024','Q025','CLASSE_RENDIMENTO', 'CLASSE_RENDIMENTO_GERAL']]"
   ]
  },
  {
   "cell_type": "code",
   "execution_count": 244,
   "metadata": {
    "colab": {
     "base_uri": "https://localhost:8080/"
    },
    "executionInfo": {
     "elapsed": 13,
     "status": "ok",
     "timestamp": 1628969792149,
     "user": {
      "displayName": "RODRIGO SILVA PERES",
      "photoUrl": "",
      "userId": "00311338069675780007"
     },
     "user_tz": 180
    },
    "id": "rO5jYgtjPO4j",
    "outputId": "5cff6a21-b1ca-4d6a-8ea0-39065a1654ae"
   },
   "outputs": [
    {
     "name": "stdout",
     "output_type": "stream",
     "text": [
      "<class 'pandas.core.frame.DataFrame'>\n",
      "RangeIndex: 325364 entries, 0 to 325363\n",
      "Data columns (total 9 columns):\n",
      " #   Column                           Non-Null Count   Dtype \n",
      "---  ------                           --------------   ----- \n",
      " 0   RECEM_FORMADO                    325364 non-null  int64 \n",
      " 1   CLASSE_RENDA_PERCAPITA_FAMILIAR  325364 non-null  int64 \n",
      " 2   CLASSE_TP_COR_RACA               325364 non-null  int64 \n",
      " 3   CLASSE_IDADE                     325364 non-null  int64 \n",
      " 4   Q001_Q002                        325364 non-null  int64 \n",
      " 5   Q024                             325364 non-null  int64 \n",
      " 6   Q025                             325364 non-null  int64 \n",
      " 7   CLASSE_RENDIMENTO                235833 non-null  object\n",
      " 8   CLASSE_RENDIMENTO_GERAL          235279 non-null  object\n",
      "dtypes: int64(7), object(2)\n",
      "memory usage: 22.3+ MB\n"
     ]
    }
   ],
   "source": [
    "microdados_rj.info()"
   ]
  },
  {
   "cell_type": "code",
   "execution_count": 245,
   "metadata": {
    "executionInfo": {
     "elapsed": 12,
     "status": "ok",
     "timestamp": 1628969792150,
     "user": {
      "displayName": "RODRIGO SILVA PERES",
      "photoUrl": "",
      "userId": "00311338069675780007"
     },
     "user_tz": 180
    },
    "id": "i0bdvhF8k83D"
   },
   "outputs": [],
   "source": [
    "microdados_rj['Q024'] = microdados_rj['Q024'].astype(int)\n",
    "microdados_rj['Q025'] = microdados_rj['Q025'].astype(int)"
   ]
  },
  {
   "cell_type": "code",
   "execution_count": 246,
   "metadata": {
    "colab": {
     "base_uri": "https://localhost:8080/"
    },
    "executionInfo": {
     "elapsed": 12,
     "status": "ok",
     "timestamp": 1628969792151,
     "user": {
      "displayName": "RODRIGO SILVA PERES",
      "photoUrl": "",
      "userId": "00311338069675780007"
     },
     "user_tz": 180
    },
    "id": "XP1Pua-Jks5G",
    "outputId": "86759a27-999a-4e00-8f17-d7cf18d98f51"
   },
   "outputs": [
    {
     "name": "stdout",
     "output_type": "stream",
     "text": [
      "<class 'pandas.core.frame.DataFrame'>\n",
      "RangeIndex: 325364 entries, 0 to 325363\n",
      "Data columns (total 9 columns):\n",
      " #   Column                           Non-Null Count   Dtype \n",
      "---  ------                           --------------   ----- \n",
      " 0   RECEM_FORMADO                    325364 non-null  int64 \n",
      " 1   CLASSE_RENDA_PERCAPITA_FAMILIAR  325364 non-null  int64 \n",
      " 2   CLASSE_TP_COR_RACA               325364 non-null  int64 \n",
      " 3   CLASSE_IDADE                     325364 non-null  int64 \n",
      " 4   Q001_Q002                        325364 non-null  int64 \n",
      " 5   Q024                             325364 non-null  int64 \n",
      " 6   Q025                             325364 non-null  int64 \n",
      " 7   CLASSE_RENDIMENTO                235833 non-null  object\n",
      " 8   CLASSE_RENDIMENTO_GERAL          235279 non-null  object\n",
      "dtypes: int64(7), object(2)\n",
      "memory usage: 22.3+ MB\n"
     ]
    }
   ],
   "source": [
    "microdados_rj.info()"
   ]
  },
  {
   "cell_type": "code",
   "execution_count": 247,
   "metadata": {
    "colab": {
     "base_uri": "https://localhost:8080/"
    },
    "executionInfo": {
     "elapsed": 10,
     "status": "ok",
     "timestamp": 1628969792151,
     "user": {
      "displayName": "RODRIGO SILVA PERES",
      "photoUrl": "",
      "userId": "00311338069675780007"
     },
     "user_tz": 180
    },
    "id": "J86nXbmTmHPg",
    "outputId": "483f8e94-b9b2-4336-d8eb-b154dccca5d2"
   },
   "outputs": [
    {
     "name": "stdout",
     "output_type": "stream",
     "text": [
      "<class 'pandas.core.frame.DataFrame'>\n",
      "RangeIndex: 325364 entries, 0 to 325363\n",
      "Data columns (total 9 columns):\n",
      " #   Column                           Non-Null Count   Dtype \n",
      "---  ------                           --------------   ----- \n",
      " 0   RECEM_FORMADO                    325364 non-null  int64 \n",
      " 1   CLASSE_RENDA_PERCAPITA_FAMILIAR  325364 non-null  int64 \n",
      " 2   CLASSE_TP_COR_RACA               325364 non-null  int64 \n",
      " 3   CLASSE_IDADE                     325364 non-null  int64 \n",
      " 4   Q001_Q002                        325364 non-null  int64 \n",
      " 5   Q024                             325364 non-null  int64 \n",
      " 6   Q025                             325364 non-null  int64 \n",
      " 7   CLASSE_RENDIMENTO                235833 non-null  object\n",
      " 8   CLASSE_RENDIMENTO_GERAL          235279 non-null  object\n",
      "dtypes: int64(7), object(2)\n",
      "memory usage: 22.3+ MB\n"
     ]
    }
   ],
   "source": [
    "microdados_rj.reset_index(drop=True, inplace=True)\n",
    "\n",
    "microdados_rj.info()"
   ]
  },
  {
   "cell_type": "code",
   "execution_count": 248,
   "metadata": {
    "executionInfo": {
     "elapsed": 631,
     "status": "ok",
     "timestamp": 1628969792774,
     "user": {
      "displayName": "RODRIGO SILVA PERES",
      "photoUrl": "",
      "userId": "00311338069675780007"
     },
     "user_tz": 180
    },
    "id": "GkYOUdJUm6PS"
   },
   "outputs": [],
   "source": [
    "microdados_rj.to_csv(\"/content/gdrive/Shareddrives/TAAED - ENEM/DADOS/dataframe_tratado.csv\", \n",
    "                     index=False,\n",
    "                     header=True, \n",
    "                     encoding=\"utf-8\")"
   ]
  },
  {
   "cell_type": "code",
   "execution_count": 249,
   "metadata": {
    "colab": {
     "base_uri": "https://localhost:8080/"
    },
    "executionInfo": {
     "elapsed": 17,
     "status": "ok",
     "timestamp": 1628969792775,
     "user": {
      "displayName": "RODRIGO SILVA PERES",
      "photoUrl": "",
      "userId": "00311338069675780007"
     },
     "user_tz": 180
    },
    "id": "qqRR4ST32lZ8",
    "outputId": "ce2022c3-04cc-45a1-d094-ed835e06e22f"
   },
   "outputs": [
    {
     "name": "stdout",
     "output_type": "stream",
     "text": [
      "<class 'pandas.core.frame.DataFrame'>\n",
      "RangeIndex: 325364 entries, 0 to 325363\n",
      "Data columns (total 9 columns):\n",
      " #   Column                           Non-Null Count   Dtype \n",
      "---  ------                           --------------   ----- \n",
      " 0   RECEM_FORMADO                    325364 non-null  int64 \n",
      " 1   CLASSE_RENDA_PERCAPITA_FAMILIAR  325364 non-null  int64 \n",
      " 2   CLASSE_TP_COR_RACA               325364 non-null  int64 \n",
      " 3   CLASSE_IDADE                     325364 non-null  int64 \n",
      " 4   Q001_Q002                        325364 non-null  int64 \n",
      " 5   Q024                             325364 non-null  int64 \n",
      " 6   Q025                             325364 non-null  int64 \n",
      " 7   CLASSE_RENDIMENTO                235833 non-null  object\n",
      " 8   CLASSE_RENDIMENTO_GERAL          235279 non-null  object\n",
      "dtypes: int64(7), object(2)\n",
      "memory usage: 22.3+ MB\n"
     ]
    }
   ],
   "source": [
    "microdados_rj.info()"
   ]
  },
  {
   "cell_type": "markdown",
   "metadata": {
    "id": "75c9PE7OB0Kc"
   },
   "source": [
    "## Modelagem "
   ]
  },
  {
   "cell_type": "markdown",
   "metadata": {
    "id": "rnnT0rMHKz5C"
   },
   "source": [
    "#### Experimento 1 - Dados do RJ, 2019, mesmas features do artigo e target média"
   ]
  },
  {
   "cell_type": "code",
   "execution_count": 250,
   "metadata": {
    "colab": {
     "base_uri": "https://localhost:8080/"
    },
    "executionInfo": {
     "elapsed": 507,
     "status": "ok",
     "timestamp": 1628969973199,
     "user": {
      "displayName": "RODRIGO SILVA PERES",
      "photoUrl": "",
      "userId": "00311338069675780007"
     },
     "user_tz": 180
    },
    "id": "8lfWD19PTqmJ",
    "outputId": "371a16c0-6ed0-4d88-e3b9-58c51c57d2e9"
   },
   "outputs": [
    {
     "name": "stdout",
     "output_type": "stream",
     "text": [
      "<class 'pandas.core.frame.DataFrame'>\n",
      "RangeIndex: 325364 entries, 0 to 325363\n",
      "Data columns (total 9 columns):\n",
      " #   Column                           Non-Null Count   Dtype \n",
      "---  ------                           --------------   ----- \n",
      " 0   RECEM_FORMADO                    325364 non-null  int64 \n",
      " 1   CLASSE_RENDA_PERCAPITA_FAMILIAR  325364 non-null  int64 \n",
      " 2   CLASSE_TP_COR_RACA               325364 non-null  int64 \n",
      " 3   CLASSE_IDADE                     325364 non-null  int64 \n",
      " 4   Q001_Q002                        325364 non-null  int64 \n",
      " 5   Q024                             325364 non-null  int64 \n",
      " 6   Q025                             325364 non-null  int64 \n",
      " 7   CLASSE_RENDIMENTO                235833 non-null  object\n",
      " 8   CLASSE_RENDIMENTO_GERAL          235279 non-null  object\n",
      "dtypes: int64(7), object(2)\n",
      "memory usage: 22.3+ MB\n",
      "None\n",
      "<class 'pandas.core.frame.DataFrame'>\n",
      "RangeIndex: 325364 entries, 0 to 325363\n",
      "Data columns (total 9 columns):\n",
      " #   Column                           Non-Null Count   Dtype \n",
      "---  ------                           --------------   ----- \n",
      " 0   RECEM_FORMADO                    325364 non-null  int64 \n",
      " 1   CLASSE_RENDA_PERCAPITA_FAMILIAR  325364 non-null  int64 \n",
      " 2   CLASSE_TP_COR_RACA               325364 non-null  int64 \n",
      " 3   CLASSE_IDADE                     325364 non-null  int64 \n",
      " 4   Q001_Q002                        325364 non-null  int64 \n",
      " 5   Q024                             325364 non-null  int64 \n",
      " 6   Q025                             325364 non-null  int64 \n",
      " 7   CLASSE_RENDIMENTO                235833 non-null  object\n",
      " 8   CLASSE_RENDIMENTO_GERAL          235279 non-null  object\n",
      "dtypes: int64(7), object(2)\n",
      "memory usage: 22.3+ MB\n",
      "None\n"
     ]
    }
   ],
   "source": [
    "microdados_rj = pd.read_csv(\"/content/gdrive/Shareddrives/TAAED - ENEM/DADOS/dataframe_tratado.csv\")\n",
    "\n",
    "print(microdados_rj.info(verbose=True, null_counts=True))\n",
    "\n",
    "microdados_rj = microdados_rj[microdados_rj['CLASSE_RENDIMENTO_GERAL'] != '0']\n",
    "\n",
    "microdados_rj.reset_index(drop=True, inplace=True)\n",
    "\n",
    "print(microdados_rj.info(verbose=True, null_counts=True))"
   ]
  },
  {
   "cell_type": "code",
   "execution_count": 251,
   "metadata": {
    "colab": {
     "base_uri": "https://localhost:8080/"
    },
    "executionInfo": {
     "elapsed": 352,
     "status": "ok",
     "timestamp": 1628969982822,
     "user": {
      "displayName": "RODRIGO SILVA PERES",
      "photoUrl": "",
      "userId": "00311338069675780007"
     },
     "user_tz": 180
    },
    "id": "i0nZQ6v8UyCw",
    "outputId": "c2f65b7f-4988-4601-f230-f8302ae2367a"
   },
   "outputs": [
    {
     "name": "stderr",
     "output_type": "stream",
     "text": [
      "/usr/local/lib/python3.7/dist-packages/ipykernel_launcher.py:1: SettingWithCopyWarning: \n",
      "A value is trying to be set on a copy of a slice from a DataFrame\n",
      "\n",
      "See the caveats in the documentation: https://pandas.pydata.org/pandas-docs/stable/user_guide/indexing.html#returning-a-view-versus-a-copy\n",
      "  \"\"\"Entry point for launching an IPython kernel.\n",
      "/usr/local/lib/python3.7/dist-packages/ipykernel_launcher.py:2: SettingWithCopyWarning: \n",
      "A value is trying to be set on a copy of a slice from a DataFrame\n",
      "\n",
      "See the caveats in the documentation: https://pandas.pydata.org/pandas-docs/stable/user_guide/indexing.html#returning-a-view-versus-a-copy\n",
      "  \n",
      "/usr/local/lib/python3.7/dist-packages/ipykernel_launcher.py:3: SettingWithCopyWarning: \n",
      "A value is trying to be set on a copy of a slice from a DataFrame\n",
      "\n",
      "See the caveats in the documentation: https://pandas.pydata.org/pandas-docs/stable/user_guide/indexing.html#returning-a-view-versus-a-copy\n",
      "  This is separate from the ipykernel package so we can avoid doing imports until\n"
     ]
    }
   ],
   "source": [
    "microdados_rj.CLASSE_RENDIMENTO_GERAL[(microdados_rj.CLASSE_RENDIMENTO_GERAL == 'INSUFICIENTE')] = 0\n",
    "microdados_rj.CLASSE_RENDIMENTO_GERAL[(microdados_rj.CLASSE_RENDIMENTO_GERAL == 'REGULAR')] = 1\n",
    "microdados_rj.CLASSE_RENDIMENTO_GERAL[(microdados_rj.CLASSE_RENDIMENTO_GERAL == 'EXCELENTE')] = 2"
   ]
  },
  {
   "cell_type": "code",
   "execution_count": 252,
   "metadata": {
    "colab": {
     "base_uri": "https://localhost:8080/",
     "height": 1000,
     "referenced_widgets": [
      "af341fe59a8647d1b9cce489e4f227d2",
      "60137b64e37e4305b0a800c0c4a9ef1f",
      "facf4b024c834b4bb44243908ce904da"
     ]
    },
    "executionInfo": {
     "elapsed": 14487,
     "status": "ok",
     "timestamp": 1628970006463,
     "user": {
      "displayName": "RODRIGO SILVA PERES",
      "photoUrl": "",
      "userId": "00311338069675780007"
     },
     "user_tz": 180
    },
    "id": "n_3qabFaDnL6",
    "outputId": "111b1c84-0a09-4859-e1a8-5c6a25f5ba25"
   },
   "outputs": [
    {
     "data": {
      "text/html": [
       "<div>\n",
       "<style scoped>\n",
       "    .dataframe tbody tr th:only-of-type {\n",
       "        vertical-align: middle;\n",
       "    }\n",
       "\n",
       "    .dataframe tbody tr th {\n",
       "        vertical-align: top;\n",
       "    }\n",
       "\n",
       "    .dataframe thead th {\n",
       "        text-align: right;\n",
       "    }\n",
       "</style>\n",
       "<table border=\"1\" class=\"dataframe\">\n",
       "  <thead>\n",
       "    <tr style=\"text-align: right;\">\n",
       "      <th></th>\n",
       "      <th>Description</th>\n",
       "      <th>Value</th>\n",
       "    </tr>\n",
       "  </thead>\n",
       "  <tbody>\n",
       "    <tr>\n",
       "      <th>0</th>\n",
       "      <td>session_id</td>\n",
       "      <td>7</td>\n",
       "    </tr>\n",
       "    <tr>\n",
       "      <th>1</th>\n",
       "      <td>Target</td>\n",
       "      <td>CLASSE_RENDIMENTO_GERAL</td>\n",
       "    </tr>\n",
       "    <tr>\n",
       "      <th>2</th>\n",
       "      <td>Target Type</td>\n",
       "      <td>Multiclass</td>\n",
       "    </tr>\n",
       "    <tr>\n",
       "      <th>3</th>\n",
       "      <td>Label Encoded</td>\n",
       "      <td>0.0: 0, 1.0: 1, 2.0: 2</td>\n",
       "    </tr>\n",
       "    <tr>\n",
       "      <th>4</th>\n",
       "      <td>Original Data</td>\n",
       "      <td>(325364, 9)</td>\n",
       "    </tr>\n",
       "    <tr>\n",
       "      <th>5</th>\n",
       "      <td>Missing Values</td>\n",
       "      <td>True</td>\n",
       "    </tr>\n",
       "    <tr>\n",
       "      <th>6</th>\n",
       "      <td>Numeric Features</td>\n",
       "      <td>0</td>\n",
       "    </tr>\n",
       "    <tr>\n",
       "      <th>7</th>\n",
       "      <td>Categorical Features</td>\n",
       "      <td>5</td>\n",
       "    </tr>\n",
       "    <tr>\n",
       "      <th>8</th>\n",
       "      <td>Ordinal Features</td>\n",
       "      <td>False</td>\n",
       "    </tr>\n",
       "    <tr>\n",
       "      <th>9</th>\n",
       "      <td>High Cardinality Features</td>\n",
       "      <td>False</td>\n",
       "    </tr>\n",
       "    <tr>\n",
       "      <th>10</th>\n",
       "      <td>High Cardinality Method</td>\n",
       "      <td>None</td>\n",
       "    </tr>\n",
       "    <tr>\n",
       "      <th>11</th>\n",
       "      <td>Transformed Train Set</td>\n",
       "      <td>(188360, 23)</td>\n",
       "    </tr>\n",
       "    <tr>\n",
       "      <th>12</th>\n",
       "      <td>Transformed Test Set</td>\n",
       "      <td>(46919, 23)</td>\n",
       "    </tr>\n",
       "    <tr>\n",
       "      <th>13</th>\n",
       "      <td>Shuffle Train-Test</td>\n",
       "      <td>True</td>\n",
       "    </tr>\n",
       "    <tr>\n",
       "      <th>14</th>\n",
       "      <td>Stratify Train-Test</td>\n",
       "      <td>False</td>\n",
       "    </tr>\n",
       "    <tr>\n",
       "      <th>15</th>\n",
       "      <td>Fold Generator</td>\n",
       "      <td>StratifiedKFold</td>\n",
       "    </tr>\n",
       "    <tr>\n",
       "      <th>16</th>\n",
       "      <td>Fold Number</td>\n",
       "      <td>5</td>\n",
       "    </tr>\n",
       "    <tr>\n",
       "      <th>17</th>\n",
       "      <td>CPU Jobs</td>\n",
       "      <td>-1</td>\n",
       "    </tr>\n",
       "    <tr>\n",
       "      <th>18</th>\n",
       "      <td>Use GPU</td>\n",
       "      <td>True</td>\n",
       "    </tr>\n",
       "    <tr>\n",
       "      <th>19</th>\n",
       "      <td>Log Experiment</td>\n",
       "      <td>False</td>\n",
       "    </tr>\n",
       "    <tr>\n",
       "      <th>20</th>\n",
       "      <td>Experiment Name</td>\n",
       "      <td>clf-default-name</td>\n",
       "    </tr>\n",
       "    <tr>\n",
       "      <th>21</th>\n",
       "      <td>USI</td>\n",
       "      <td>53ea</td>\n",
       "    </tr>\n",
       "    <tr>\n",
       "      <th>22</th>\n",
       "      <td>Imputation Type</td>\n",
       "      <td>simple</td>\n",
       "    </tr>\n",
       "    <tr>\n",
       "      <th>23</th>\n",
       "      <td>Iterative Imputation Iteration</td>\n",
       "      <td>None</td>\n",
       "    </tr>\n",
       "    <tr>\n",
       "      <th>24</th>\n",
       "      <td>Numeric Imputer</td>\n",
       "      <td>mean</td>\n",
       "    </tr>\n",
       "    <tr>\n",
       "      <th>25</th>\n",
       "      <td>Iterative Imputation Numeric Model</td>\n",
       "      <td>None</td>\n",
       "    </tr>\n",
       "    <tr>\n",
       "      <th>26</th>\n",
       "      <td>Categorical Imputer</td>\n",
       "      <td>constant</td>\n",
       "    </tr>\n",
       "    <tr>\n",
       "      <th>27</th>\n",
       "      <td>Iterative Imputation Categorical Model</td>\n",
       "      <td>None</td>\n",
       "    </tr>\n",
       "    <tr>\n",
       "      <th>28</th>\n",
       "      <td>Unknown Categoricals Handling</td>\n",
       "      <td>least_frequent</td>\n",
       "    </tr>\n",
       "    <tr>\n",
       "      <th>29</th>\n",
       "      <td>Normalize</td>\n",
       "      <td>False</td>\n",
       "    </tr>\n",
       "    <tr>\n",
       "      <th>30</th>\n",
       "      <td>Normalize Method</td>\n",
       "      <td>None</td>\n",
       "    </tr>\n",
       "    <tr>\n",
       "      <th>31</th>\n",
       "      <td>Transformation</td>\n",
       "      <td>False</td>\n",
       "    </tr>\n",
       "    <tr>\n",
       "      <th>32</th>\n",
       "      <td>Transformation Method</td>\n",
       "      <td>None</td>\n",
       "    </tr>\n",
       "    <tr>\n",
       "      <th>33</th>\n",
       "      <td>PCA</td>\n",
       "      <td>False</td>\n",
       "    </tr>\n",
       "    <tr>\n",
       "      <th>34</th>\n",
       "      <td>PCA Method</td>\n",
       "      <td>None</td>\n",
       "    </tr>\n",
       "    <tr>\n",
       "      <th>35</th>\n",
       "      <td>PCA Components</td>\n",
       "      <td>None</td>\n",
       "    </tr>\n",
       "    <tr>\n",
       "      <th>36</th>\n",
       "      <td>Ignore Low Variance</td>\n",
       "      <td>False</td>\n",
       "    </tr>\n",
       "    <tr>\n",
       "      <th>37</th>\n",
       "      <td>Combine Rare Levels</td>\n",
       "      <td>False</td>\n",
       "    </tr>\n",
       "    <tr>\n",
       "      <th>38</th>\n",
       "      <td>Rare Level Threshold</td>\n",
       "      <td>None</td>\n",
       "    </tr>\n",
       "    <tr>\n",
       "      <th>39</th>\n",
       "      <td>Numeric Binning</td>\n",
       "      <td>False</td>\n",
       "    </tr>\n",
       "    <tr>\n",
       "      <th>40</th>\n",
       "      <td>Remove Outliers</td>\n",
       "      <td>False</td>\n",
       "    </tr>\n",
       "    <tr>\n",
       "      <th>41</th>\n",
       "      <td>Outliers Threshold</td>\n",
       "      <td>None</td>\n",
       "    </tr>\n",
       "    <tr>\n",
       "      <th>42</th>\n",
       "      <td>Remove Multicollinearity</td>\n",
       "      <td>False</td>\n",
       "    </tr>\n",
       "    <tr>\n",
       "      <th>43</th>\n",
       "      <td>Multicollinearity Threshold</td>\n",
       "      <td>None</td>\n",
       "    </tr>\n",
       "    <tr>\n",
       "      <th>44</th>\n",
       "      <td>Remove Perfect Collinearity</td>\n",
       "      <td>True</td>\n",
       "    </tr>\n",
       "    <tr>\n",
       "      <th>45</th>\n",
       "      <td>Clustering</td>\n",
       "      <td>False</td>\n",
       "    </tr>\n",
       "    <tr>\n",
       "      <th>46</th>\n",
       "      <td>Clustering Iteration</td>\n",
       "      <td>None</td>\n",
       "    </tr>\n",
       "    <tr>\n",
       "      <th>47</th>\n",
       "      <td>Polynomial Features</td>\n",
       "      <td>False</td>\n",
       "    </tr>\n",
       "    <tr>\n",
       "      <th>48</th>\n",
       "      <td>Polynomial Degree</td>\n",
       "      <td>None</td>\n",
       "    </tr>\n",
       "    <tr>\n",
       "      <th>49</th>\n",
       "      <td>Trignometry Features</td>\n",
       "      <td>False</td>\n",
       "    </tr>\n",
       "    <tr>\n",
       "      <th>50</th>\n",
       "      <td>Polynomial Threshold</td>\n",
       "      <td>None</td>\n",
       "    </tr>\n",
       "    <tr>\n",
       "      <th>51</th>\n",
       "      <td>Group Features</td>\n",
       "      <td>False</td>\n",
       "    </tr>\n",
       "    <tr>\n",
       "      <th>52</th>\n",
       "      <td>Feature Selection</td>\n",
       "      <td>False</td>\n",
       "    </tr>\n",
       "    <tr>\n",
       "      <th>53</th>\n",
       "      <td>Feature Selection Method</td>\n",
       "      <td>classic</td>\n",
       "    </tr>\n",
       "    <tr>\n",
       "      <th>54</th>\n",
       "      <td>Features Selection Threshold</td>\n",
       "      <td>None</td>\n",
       "    </tr>\n",
       "    <tr>\n",
       "      <th>55</th>\n",
       "      <td>Feature Interaction</td>\n",
       "      <td>False</td>\n",
       "    </tr>\n",
       "    <tr>\n",
       "      <th>56</th>\n",
       "      <td>Feature Ratio</td>\n",
       "      <td>False</td>\n",
       "    </tr>\n",
       "    <tr>\n",
       "      <th>57</th>\n",
       "      <td>Interaction Threshold</td>\n",
       "      <td>None</td>\n",
       "    </tr>\n",
       "    <tr>\n",
       "      <th>58</th>\n",
       "      <td>Fix Imbalance</td>\n",
       "      <td>False</td>\n",
       "    </tr>\n",
       "    <tr>\n",
       "      <th>59</th>\n",
       "      <td>Fix Imbalance Method</td>\n",
       "      <td>SMOTE</td>\n",
       "    </tr>\n",
       "  </tbody>\n",
       "</table>\n",
       "</div>"
      ],
      "text/plain": [
       "                               Description                    Value\n",
       "0                               session_id                        7\n",
       "1                                   Target  CLASSE_RENDIMENTO_GERAL\n",
       "2                              Target Type               Multiclass\n",
       "3                            Label Encoded   0.0: 0, 1.0: 1, 2.0: 2\n",
       "4                            Original Data              (325364, 9)\n",
       "5                           Missing Values                     True\n",
       "6                         Numeric Features                        0\n",
       "7                     Categorical Features                        5\n",
       "8                         Ordinal Features                    False\n",
       "9                High Cardinality Features                    False\n",
       "10                 High Cardinality Method                     None\n",
       "11                   Transformed Train Set             (188360, 23)\n",
       "12                    Transformed Test Set              (46919, 23)\n",
       "13                      Shuffle Train-Test                     True\n",
       "14                     Stratify Train-Test                    False\n",
       "15                          Fold Generator          StratifiedKFold\n",
       "16                             Fold Number                        5\n",
       "17                                CPU Jobs                       -1\n",
       "18                                 Use GPU                     True\n",
       "19                          Log Experiment                    False\n",
       "20                         Experiment Name         clf-default-name\n",
       "21                                     USI                     53ea\n",
       "22                         Imputation Type                   simple\n",
       "23          Iterative Imputation Iteration                     None\n",
       "24                         Numeric Imputer                     mean\n",
       "25      Iterative Imputation Numeric Model                     None\n",
       "26                     Categorical Imputer                 constant\n",
       "27  Iterative Imputation Categorical Model                     None\n",
       "28           Unknown Categoricals Handling           least_frequent\n",
       "29                               Normalize                    False\n",
       "30                        Normalize Method                     None\n",
       "31                          Transformation                    False\n",
       "32                   Transformation Method                     None\n",
       "33                                     PCA                    False\n",
       "34                              PCA Method                     None\n",
       "35                          PCA Components                     None\n",
       "36                     Ignore Low Variance                    False\n",
       "37                     Combine Rare Levels                    False\n",
       "38                    Rare Level Threshold                     None\n",
       "39                         Numeric Binning                    False\n",
       "40                         Remove Outliers                    False\n",
       "41                      Outliers Threshold                     None\n",
       "42                Remove Multicollinearity                    False\n",
       "43             Multicollinearity Threshold                     None\n",
       "44             Remove Perfect Collinearity                     True\n",
       "45                              Clustering                    False\n",
       "46                    Clustering Iteration                     None\n",
       "47                     Polynomial Features                    False\n",
       "48                       Polynomial Degree                     None\n",
       "49                    Trignometry Features                    False\n",
       "50                    Polynomial Threshold                     None\n",
       "51                          Group Features                    False\n",
       "52                       Feature Selection                    False\n",
       "53                Feature Selection Method                  classic\n",
       "54            Features Selection Threshold                     None\n",
       "55                     Feature Interaction                    False\n",
       "56                           Feature Ratio                    False\n",
       "57                   Interaction Threshold                     None\n",
       "58                           Fix Imbalance                    False\n",
       "59                    Fix Imbalance Method                    SMOTE"
      ]
     },
     "metadata": {
      "tags": []
     },
     "output_type": "display_data"
    }
   ],
   "source": [
    "from pycaret.classification import *\n",
    "\n",
    "init = setup(data=microdados_rj,\n",
    "             ignore_features=['CLASSE_RENDIMENTO', 'Q024', 'Q025'],\n",
    "             target='CLASSE_RENDIMENTO_GERAL',\n",
    "             train_size=0.8,\n",
    "             fold=5,\n",
    "             fix_imbalance=False,\n",
    "             use_gpu=True,\n",
    "             silent=True,\n",
    "             session_id=7)"
   ]
  },
  {
   "cell_type": "code",
   "execution_count": 253,
   "metadata": {
    "colab": {
     "base_uri": "https://localhost:8080/",
     "height": 354,
     "referenced_widgets": [
      "ce0f1d88152f474c82f17cce0dbc00de",
      "6a5d187fbc374f9dacfc5204a13af9bd",
      "0dc9d00888c445949d4304bbec65545e"
     ]
    },
    "executionInfo": {
     "elapsed": 59665,
     "status": "ok",
     "timestamp": 1628970574218,
     "user": {
      "displayName": "RODRIGO SILVA PERES",
      "photoUrl": "",
      "userId": "00311338069675780007"
     },
     "user_tz": 180
    },
    "id": "4LuBsVCor5qB",
    "outputId": "c328f6cd-c4a7-4d1a-d241-64182e8a545d"
   },
   "outputs": [
    {
     "data": {
      "text/html": [
       "<div>\n",
       "<style scoped>\n",
       "    .dataframe tbody tr th:only-of-type {\n",
       "        vertical-align: middle;\n",
       "    }\n",
       "\n",
       "    .dataframe tbody tr th {\n",
       "        vertical-align: top;\n",
       "    }\n",
       "\n",
       "    .dataframe thead th {\n",
       "        text-align: right;\n",
       "    }\n",
       "</style>\n",
       "<table border=\"1\" class=\"dataframe\">\n",
       "  <thead>\n",
       "    <tr style=\"text-align: right;\">\n",
       "      <th></th>\n",
       "      <th>Model</th>\n",
       "      <th>Accuracy</th>\n",
       "      <th>AUC</th>\n",
       "      <th>Recall</th>\n",
       "      <th>Prec.</th>\n",
       "      <th>F1</th>\n",
       "      <th>Kappa</th>\n",
       "      <th>MCC</th>\n",
       "      <th>TT (Sec)</th>\n",
       "    </tr>\n",
       "  </thead>\n",
       "  <tbody>\n",
       "    <tr>\n",
       "      <th>lightgbm</th>\n",
       "      <td>Light Gradient Boosting Machine</td>\n",
       "      <td>0.7668</td>\n",
       "      <td>0.6697</td>\n",
       "      <td>0.3992</td>\n",
       "      <td>0.7164</td>\n",
       "      <td>0.6936</td>\n",
       "      <td>0.1307</td>\n",
       "      <td>0.1957</td>\n",
       "      <td>4.074</td>\n",
       "    </tr>\n",
       "    <tr>\n",
       "      <th>rf</th>\n",
       "      <td>Random Forest Classifier</td>\n",
       "      <td>0.7663</td>\n",
       "      <td>0.6676</td>\n",
       "      <td>0.3985</td>\n",
       "      <td>0.7090</td>\n",
       "      <td>0.6930</td>\n",
       "      <td>0.1289</td>\n",
       "      <td>0.1930</td>\n",
       "      <td>7.732</td>\n",
       "    </tr>\n",
       "    <tr>\n",
       "      <th>dt</th>\n",
       "      <td>Decision Tree Classifier</td>\n",
       "      <td>0.7661</td>\n",
       "      <td>0.6674</td>\n",
       "      <td>0.3988</td>\n",
       "      <td>0.7070</td>\n",
       "      <td>0.6933</td>\n",
       "      <td>0.1295</td>\n",
       "      <td>0.1928</td>\n",
       "      <td>0.362</td>\n",
       "    </tr>\n",
       "    <tr>\n",
       "      <th>lr</th>\n",
       "      <td>Logistic Regression</td>\n",
       "      <td>0.7643</td>\n",
       "      <td>0.6640</td>\n",
       "      <td>0.3888</td>\n",
       "      <td>0.6934</td>\n",
       "      <td>0.6870</td>\n",
       "      <td>0.1106</td>\n",
       "      <td>0.1742</td>\n",
       "      <td>15.888</td>\n",
       "    </tr>\n",
       "    <tr>\n",
       "      <th>knn</th>\n",
       "      <td>K Neighbors Classifier</td>\n",
       "      <td>0.7419</td>\n",
       "      <td>0.5911</td>\n",
       "      <td>0.4158</td>\n",
       "      <td>0.6772</td>\n",
       "      <td>0.6923</td>\n",
       "      <td>0.1405</td>\n",
       "      <td>0.1630</td>\n",
       "      <td>82.422</td>\n",
       "    </tr>\n",
       "    <tr>\n",
       "      <th>nb</th>\n",
       "      <td>Naive Bayes</td>\n",
       "      <td>0.4228</td>\n",
       "      <td>0.6463</td>\n",
       "      <td>0.5727</td>\n",
       "      <td>0.6822</td>\n",
       "      <td>0.4514</td>\n",
       "      <td>0.1484</td>\n",
       "      <td>0.1991</td>\n",
       "      <td>0.238</td>\n",
       "    </tr>\n",
       "  </tbody>\n",
       "</table>\n",
       "</div>"
      ],
      "text/plain": [
       "                                    Model  Accuracy     AUC  Recall   Prec.  \\\n",
       "lightgbm  Light Gradient Boosting Machine    0.7668  0.6697  0.3992  0.7164   \n",
       "rf               Random Forest Classifier    0.7663  0.6676  0.3985  0.7090   \n",
       "dt               Decision Tree Classifier    0.7661  0.6674  0.3988  0.7070   \n",
       "lr                    Logistic Regression    0.7643  0.6640  0.3888  0.6934   \n",
       "knn                K Neighbors Classifier    0.7419  0.5911  0.4158  0.6772   \n",
       "nb                            Naive Bayes    0.4228  0.6463  0.5727  0.6822   \n",
       "\n",
       "              F1   Kappa     MCC  TT (Sec)  \n",
       "lightgbm  0.6936  0.1307  0.1957     4.074  \n",
       "rf        0.6930  0.1289  0.1930     7.732  \n",
       "dt        0.6933  0.1295  0.1928     0.362  \n",
       "lr        0.6870  0.1106  0.1742    15.888  \n",
       "knn       0.6923  0.1405  0.1630    82.422  \n",
       "nb        0.4514  0.1484  0.1991     0.238  "
      ]
     },
     "metadata": {
      "tags": []
     },
     "output_type": "display_data"
    },
    {
     "data": {
      "text/plain": [
       "LGBMClassifier(boosting_type='gbdt', class_weight=None, colsample_bytree=1.0,\n",
       "               device='gpu', importance_type='split', learning_rate=0.1,\n",
       "               max_depth=-1, min_child_samples=20, min_child_weight=0.001,\n",
       "               min_split_gain=0.0, n_estimators=100, n_jobs=-1, num_leaves=31,\n",
       "               objective=None, random_state=7, reg_alpha=0.0, reg_lambda=0.0,\n",
       "               silent=True, subsample=1.0, subsample_for_bin=200000,\n",
       "               subsample_freq=0)"
      ]
     },
     "execution_count": 253,
     "metadata": {
      "tags": []
     },
     "output_type": "execute_result"
    }
   ],
   "source": [
    "compare_models(include=['lr', 'dt', \n",
    "                        'rf', 'nb',\n",
    "                        'knn', 'lightgbm'], fold=5)"
   ]
  },
  {
   "cell_type": "code",
   "execution_count": 254,
   "metadata": {
    "colab": {
     "base_uri": "https://localhost:8080/",
     "height": 266,
     "referenced_widgets": [
      "c19eaf4a03414c03bc608f2ede703164",
      "3dc6a37ac3124ec48a46b0042b092c75",
      "0cef4242b70345f282b2be06c6baf807"
     ]
    },
    "executionInfo": {
     "elapsed": 1798,
     "status": "ok",
     "timestamp": 1628970649740,
     "user": {
      "displayName": "RODRIGO SILVA PERES",
      "photoUrl": "",
      "userId": "00311338069675780007"
     },
     "user_tz": 180
    },
    "id": "PEpWh1qQNnVX",
    "outputId": "dbedbb54-563e-4e05-b330-b9d4a6ed5501"
   },
   "outputs": [
    {
     "data": {
      "text/html": [
       "<div>\n",
       "<style scoped>\n",
       "    .dataframe tbody tr th:only-of-type {\n",
       "        vertical-align: middle;\n",
       "    }\n",
       "\n",
       "    .dataframe tbody tr th {\n",
       "        vertical-align: top;\n",
       "    }\n",
       "\n",
       "    .dataframe thead th {\n",
       "        text-align: right;\n",
       "    }\n",
       "</style>\n",
       "<table border=\"1\" class=\"dataframe\">\n",
       "  <thead>\n",
       "    <tr style=\"text-align: right;\">\n",
       "      <th></th>\n",
       "      <th>Accuracy</th>\n",
       "      <th>AUC</th>\n",
       "      <th>Recall</th>\n",
       "      <th>Prec.</th>\n",
       "      <th>F1</th>\n",
       "      <th>Kappa</th>\n",
       "      <th>MCC</th>\n",
       "    </tr>\n",
       "  </thead>\n",
       "  <tbody>\n",
       "    <tr>\n",
       "      <th>0</th>\n",
       "      <td>0.4194</td>\n",
       "      <td>0.6471</td>\n",
       "      <td>0.5743</td>\n",
       "      <td>0.6825</td>\n",
       "      <td>0.4470</td>\n",
       "      <td>0.1481</td>\n",
       "      <td>0.1999</td>\n",
       "    </tr>\n",
       "    <tr>\n",
       "      <th>1</th>\n",
       "      <td>0.4290</td>\n",
       "      <td>0.6529</td>\n",
       "      <td>0.5818</td>\n",
       "      <td>0.6889</td>\n",
       "      <td>0.4575</td>\n",
       "      <td>0.1566</td>\n",
       "      <td>0.2097</td>\n",
       "    </tr>\n",
       "    <tr>\n",
       "      <th>2</th>\n",
       "      <td>0.4172</td>\n",
       "      <td>0.6431</td>\n",
       "      <td>0.5701</td>\n",
       "      <td>0.6809</td>\n",
       "      <td>0.4450</td>\n",
       "      <td>0.1455</td>\n",
       "      <td>0.1965</td>\n",
       "    </tr>\n",
       "    <tr>\n",
       "      <th>3</th>\n",
       "      <td>0.4239</td>\n",
       "      <td>0.6467</td>\n",
       "      <td>0.5719</td>\n",
       "      <td>0.6814</td>\n",
       "      <td>0.4532</td>\n",
       "      <td>0.1478</td>\n",
       "      <td>0.1980</td>\n",
       "    </tr>\n",
       "    <tr>\n",
       "      <th>4</th>\n",
       "      <td>0.4244</td>\n",
       "      <td>0.6416</td>\n",
       "      <td>0.5653</td>\n",
       "      <td>0.6774</td>\n",
       "      <td>0.4546</td>\n",
       "      <td>0.1441</td>\n",
       "      <td>0.1916</td>\n",
       "    </tr>\n",
       "    <tr>\n",
       "      <th>Mean</th>\n",
       "      <td>0.4228</td>\n",
       "      <td>0.6463</td>\n",
       "      <td>0.5727</td>\n",
       "      <td>0.6822</td>\n",
       "      <td>0.4514</td>\n",
       "      <td>0.1484</td>\n",
       "      <td>0.1991</td>\n",
       "    </tr>\n",
       "    <tr>\n",
       "      <th>SD</th>\n",
       "      <td>0.0041</td>\n",
       "      <td>0.0039</td>\n",
       "      <td>0.0054</td>\n",
       "      <td>0.0038</td>\n",
       "      <td>0.0047</td>\n",
       "      <td>0.0043</td>\n",
       "      <td>0.0059</td>\n",
       "    </tr>\n",
       "  </tbody>\n",
       "</table>\n",
       "</div>"
      ],
      "text/plain": [
       "      Accuracy     AUC  Recall   Prec.      F1   Kappa     MCC\n",
       "0       0.4194  0.6471  0.5743  0.6825  0.4470  0.1481  0.1999\n",
       "1       0.4290  0.6529  0.5818  0.6889  0.4575  0.1566  0.2097\n",
       "2       0.4172  0.6431  0.5701  0.6809  0.4450  0.1455  0.1965\n",
       "3       0.4239  0.6467  0.5719  0.6814  0.4532  0.1478  0.1980\n",
       "4       0.4244  0.6416  0.5653  0.6774  0.4546  0.1441  0.1916\n",
       "Mean    0.4228  0.6463  0.5727  0.6822  0.4514  0.1484  0.1991\n",
       "SD      0.0041  0.0039  0.0054  0.0038  0.0047  0.0043  0.0059"
      ]
     },
     "metadata": {
      "tags": []
     },
     "output_type": "display_data"
    }
   ],
   "source": [
    "nb = create_model('nb',\n",
    "                  fold=5)"
   ]
  },
  {
   "cell_type": "code",
   "execution_count": 256,
   "metadata": {
    "colab": {
     "base_uri": "https://localhost:8080/"
    },
    "executionInfo": {
     "elapsed": 14,
     "status": "ok",
     "timestamp": 1628970860244,
     "user": {
      "displayName": "RODRIGO SILVA PERES",
      "photoUrl": "",
      "userId": "00311338069675780007"
     },
     "user_tz": 180
    },
    "id": "d4TLYYMDOq4a",
    "outputId": "76689e7c-d444-4224-d557-3f404b38158a"
   },
   "outputs": [
    {
     "data": {
      "text/plain": [
       "GaussianNB(priors=None, var_smoothing=1e-09)"
      ]
     },
     "execution_count": 256,
     "metadata": {
      "tags": []
     },
     "output_type": "execute_result"
    }
   ],
   "source": [
    "nb"
   ]
  },
  {
   "cell_type": "code",
   "execution_count": 258,
   "metadata": {
    "colab": {
     "base_uri": "https://localhost:8080/",
     "height": 266,
     "referenced_widgets": [
      "0dd7375d9df84355b94c1ea262f522af",
      "4f1f9f5b59d749378b035c3abc6d8a56",
      "a8fd9b75b68340b8a429fbaa515416fd"
     ]
    },
    "executionInfo": {
     "elapsed": 15400,
     "status": "ok",
     "timestamp": 1628971817097,
     "user": {
      "displayName": "RODRIGO SILVA PERES",
      "photoUrl": "",
      "userId": "00311338069675780007"
     },
     "user_tz": 180
    },
    "id": "4vjz72_kN7cY",
    "outputId": "560d1c2e-9ef4-41b4-a5d1-9ec9d6d5d3cd"
   },
   "outputs": [
    {
     "data": {
      "text/html": [
       "<div>\n",
       "<style scoped>\n",
       "    .dataframe tbody tr th:only-of-type {\n",
       "        vertical-align: middle;\n",
       "    }\n",
       "\n",
       "    .dataframe tbody tr th {\n",
       "        vertical-align: top;\n",
       "    }\n",
       "\n",
       "    .dataframe thead th {\n",
       "        text-align: right;\n",
       "    }\n",
       "</style>\n",
       "<table border=\"1\" class=\"dataframe\">\n",
       "  <thead>\n",
       "    <tr style=\"text-align: right;\">\n",
       "      <th></th>\n",
       "      <th>Accuracy</th>\n",
       "      <th>AUC</th>\n",
       "      <th>Recall</th>\n",
       "      <th>Prec.</th>\n",
       "      <th>F1</th>\n",
       "      <th>Kappa</th>\n",
       "      <th>MCC</th>\n",
       "    </tr>\n",
       "  </thead>\n",
       "  <tbody>\n",
       "    <tr>\n",
       "      <th>0</th>\n",
       "      <td>0.7440</td>\n",
       "      <td>0.6500</td>\n",
       "      <td>0.4400</td>\n",
       "      <td>0.6409</td>\n",
       "      <td>0.6881</td>\n",
       "      <td>0.1731</td>\n",
       "      <td>0.1959</td>\n",
       "    </tr>\n",
       "    <tr>\n",
       "      <th>1</th>\n",
       "      <td>0.7471</td>\n",
       "      <td>0.6549</td>\n",
       "      <td>0.4309</td>\n",
       "      <td>0.6403</td>\n",
       "      <td>0.6884</td>\n",
       "      <td>0.1629</td>\n",
       "      <td>0.1894</td>\n",
       "    </tr>\n",
       "    <tr>\n",
       "      <th>2</th>\n",
       "      <td>0.7429</td>\n",
       "      <td>0.6451</td>\n",
       "      <td>0.4327</td>\n",
       "      <td>0.6385</td>\n",
       "      <td>0.6861</td>\n",
       "      <td>0.1626</td>\n",
       "      <td>0.1856</td>\n",
       "    </tr>\n",
       "    <tr>\n",
       "      <th>3</th>\n",
       "      <td>0.7470</td>\n",
       "      <td>0.6476</td>\n",
       "      <td>0.4356</td>\n",
       "      <td>0.6414</td>\n",
       "      <td>0.6893</td>\n",
       "      <td>0.1701</td>\n",
       "      <td>0.1956</td>\n",
       "    </tr>\n",
       "    <tr>\n",
       "      <th>4</th>\n",
       "      <td>0.7440</td>\n",
       "      <td>0.6460</td>\n",
       "      <td>0.4330</td>\n",
       "      <td>0.6392</td>\n",
       "      <td>0.6868</td>\n",
       "      <td>0.1640</td>\n",
       "      <td>0.1878</td>\n",
       "    </tr>\n",
       "    <tr>\n",
       "      <th>Mean</th>\n",
       "      <td>0.7450</td>\n",
       "      <td>0.6487</td>\n",
       "      <td>0.4344</td>\n",
       "      <td>0.6401</td>\n",
       "      <td>0.6877</td>\n",
       "      <td>0.1665</td>\n",
       "      <td>0.1908</td>\n",
       "    </tr>\n",
       "    <tr>\n",
       "      <th>SD</th>\n",
       "      <td>0.0017</td>\n",
       "      <td>0.0035</td>\n",
       "      <td>0.0031</td>\n",
       "      <td>0.0011</td>\n",
       "      <td>0.0011</td>\n",
       "      <td>0.0043</td>\n",
       "      <td>0.0042</td>\n",
       "    </tr>\n",
       "  </tbody>\n",
       "</table>\n",
       "</div>"
      ],
      "text/plain": [
       "      Accuracy     AUC  Recall   Prec.      F1   Kappa     MCC\n",
       "0       0.7440  0.6500  0.4400  0.6409  0.6881  0.1731  0.1959\n",
       "1       0.7471  0.6549  0.4309  0.6403  0.6884  0.1629  0.1894\n",
       "2       0.7429  0.6451  0.4327  0.6385  0.6861  0.1626  0.1856\n",
       "3       0.7470  0.6476  0.4356  0.6414  0.6893  0.1701  0.1956\n",
       "4       0.7440  0.6460  0.4330  0.6392  0.6868  0.1640  0.1878\n",
       "Mean    0.7450  0.6487  0.4344  0.6401  0.6877  0.1665  0.1908\n",
       "SD      0.0017  0.0035  0.0031  0.0011  0.0011  0.0043  0.0042"
      ]
     },
     "metadata": {
      "tags": []
     },
     "output_type": "display_data"
    }
   ],
   "source": [
    "tuned_nb = tune_model(nb,\n",
    "                      n_iter=300,\n",
    "                      fold=5,\n",
    "                      optimize='F1')"
   ]
  },
  {
   "cell_type": "code",
   "execution_count": 259,
   "metadata": {
    "colab": {
     "base_uri": "https://localhost:8080/"
    },
    "executionInfo": {
     "elapsed": 232,
     "status": "ok",
     "timestamp": 1628971837255,
     "user": {
      "displayName": "RODRIGO SILVA PERES",
      "photoUrl": "",
      "userId": "00311338069675780007"
     },
     "user_tz": 180
    },
    "id": "haMUckLMSYM-",
    "outputId": "06462b6d-96b3-484b-eddd-0b452be732b3"
   },
   "outputs": [
    {
     "data": {
      "text/plain": [
       "GaussianNB(priors=None, var_smoothing=1)"
      ]
     },
     "execution_count": 259,
     "metadata": {
      "tags": []
     },
     "output_type": "execute_result"
    }
   ],
   "source": [
    "tuned_nb"
   ]
  },
  {
   "cell_type": "markdown",
   "metadata": {
    "id": "_NVpu5OuTPWd"
   },
   "source": [
    "#### Experimento 2 - Dados do RJ, 2019, features do artigo + (computador e internet) e target média"
   ]
  },
  {
   "cell_type": "code",
   "execution_count": 260,
   "metadata": {
    "colab": {
     "base_uri": "https://localhost:8080/",
     "height": 1000,
     "referenced_widgets": [
      "ecbb1055e22744daba97236f06332ee9",
      "858211b5501d408cb28e034cea7817b6",
      "a304b6a89c5145f684478fce793c524b"
     ]
    },
    "executionInfo": {
     "elapsed": 8614,
     "status": "ok",
     "timestamp": 1628972175103,
     "user": {
      "displayName": "RODRIGO SILVA PERES",
      "photoUrl": "",
      "userId": "00311338069675780007"
     },
     "user_tz": 180
    },
    "id": "IkV_fHeE4id-",
    "outputId": "55746b13-0d2f-49f5-e736-170e2dc014ac"
   },
   "outputs": [
    {
     "data": {
      "text/html": [
       "<div>\n",
       "<style scoped>\n",
       "    .dataframe tbody tr th:only-of-type {\n",
       "        vertical-align: middle;\n",
       "    }\n",
       "\n",
       "    .dataframe tbody tr th {\n",
       "        vertical-align: top;\n",
       "    }\n",
       "\n",
       "    .dataframe thead th {\n",
       "        text-align: right;\n",
       "    }\n",
       "</style>\n",
       "<table border=\"1\" class=\"dataframe\">\n",
       "  <thead>\n",
       "    <tr style=\"text-align: right;\">\n",
       "      <th></th>\n",
       "      <th>Description</th>\n",
       "      <th>Value</th>\n",
       "    </tr>\n",
       "  </thead>\n",
       "  <tbody>\n",
       "    <tr>\n",
       "      <th>0</th>\n",
       "      <td>session_id</td>\n",
       "      <td>7</td>\n",
       "    </tr>\n",
       "    <tr>\n",
       "      <th>1</th>\n",
       "      <td>Target</td>\n",
       "      <td>CLASSE_RENDIMENTO_GERAL</td>\n",
       "    </tr>\n",
       "    <tr>\n",
       "      <th>2</th>\n",
       "      <td>Target Type</td>\n",
       "      <td>Multiclass</td>\n",
       "    </tr>\n",
       "    <tr>\n",
       "      <th>3</th>\n",
       "      <td>Label Encoded</td>\n",
       "      <td>0.0: 0, 1.0: 1, 2.0: 2</td>\n",
       "    </tr>\n",
       "    <tr>\n",
       "      <th>4</th>\n",
       "      <td>Original Data</td>\n",
       "      <td>(325364, 9)</td>\n",
       "    </tr>\n",
       "    <tr>\n",
       "      <th>5</th>\n",
       "      <td>Missing Values</td>\n",
       "      <td>True</td>\n",
       "    </tr>\n",
       "    <tr>\n",
       "      <th>6</th>\n",
       "      <td>Numeric Features</td>\n",
       "      <td>0</td>\n",
       "    </tr>\n",
       "    <tr>\n",
       "      <th>7</th>\n",
       "      <td>Categorical Features</td>\n",
       "      <td>7</td>\n",
       "    </tr>\n",
       "    <tr>\n",
       "      <th>8</th>\n",
       "      <td>Ordinal Features</td>\n",
       "      <td>False</td>\n",
       "    </tr>\n",
       "    <tr>\n",
       "      <th>9</th>\n",
       "      <td>High Cardinality Features</td>\n",
       "      <td>False</td>\n",
       "    </tr>\n",
       "    <tr>\n",
       "      <th>10</th>\n",
       "      <td>High Cardinality Method</td>\n",
       "      <td>None</td>\n",
       "    </tr>\n",
       "    <tr>\n",
       "      <th>11</th>\n",
       "      <td>Transformed Train Set</td>\n",
       "      <td>(188360, 25)</td>\n",
       "    </tr>\n",
       "    <tr>\n",
       "      <th>12</th>\n",
       "      <td>Transformed Test Set</td>\n",
       "      <td>(46919, 25)</td>\n",
       "    </tr>\n",
       "    <tr>\n",
       "      <th>13</th>\n",
       "      <td>Shuffle Train-Test</td>\n",
       "      <td>True</td>\n",
       "    </tr>\n",
       "    <tr>\n",
       "      <th>14</th>\n",
       "      <td>Stratify Train-Test</td>\n",
       "      <td>False</td>\n",
       "    </tr>\n",
       "    <tr>\n",
       "      <th>15</th>\n",
       "      <td>Fold Generator</td>\n",
       "      <td>StratifiedKFold</td>\n",
       "    </tr>\n",
       "    <tr>\n",
       "      <th>16</th>\n",
       "      <td>Fold Number</td>\n",
       "      <td>5</td>\n",
       "    </tr>\n",
       "    <tr>\n",
       "      <th>17</th>\n",
       "      <td>CPU Jobs</td>\n",
       "      <td>-1</td>\n",
       "    </tr>\n",
       "    <tr>\n",
       "      <th>18</th>\n",
       "      <td>Use GPU</td>\n",
       "      <td>True</td>\n",
       "    </tr>\n",
       "    <tr>\n",
       "      <th>19</th>\n",
       "      <td>Log Experiment</td>\n",
       "      <td>False</td>\n",
       "    </tr>\n",
       "    <tr>\n",
       "      <th>20</th>\n",
       "      <td>Experiment Name</td>\n",
       "      <td>clf-default-name</td>\n",
       "    </tr>\n",
       "    <tr>\n",
       "      <th>21</th>\n",
       "      <td>USI</td>\n",
       "      <td>06ef</td>\n",
       "    </tr>\n",
       "    <tr>\n",
       "      <th>22</th>\n",
       "      <td>Imputation Type</td>\n",
       "      <td>simple</td>\n",
       "    </tr>\n",
       "    <tr>\n",
       "      <th>23</th>\n",
       "      <td>Iterative Imputation Iteration</td>\n",
       "      <td>None</td>\n",
       "    </tr>\n",
       "    <tr>\n",
       "      <th>24</th>\n",
       "      <td>Numeric Imputer</td>\n",
       "      <td>mean</td>\n",
       "    </tr>\n",
       "    <tr>\n",
       "      <th>25</th>\n",
       "      <td>Iterative Imputation Numeric Model</td>\n",
       "      <td>None</td>\n",
       "    </tr>\n",
       "    <tr>\n",
       "      <th>26</th>\n",
       "      <td>Categorical Imputer</td>\n",
       "      <td>constant</td>\n",
       "    </tr>\n",
       "    <tr>\n",
       "      <th>27</th>\n",
       "      <td>Iterative Imputation Categorical Model</td>\n",
       "      <td>None</td>\n",
       "    </tr>\n",
       "    <tr>\n",
       "      <th>28</th>\n",
       "      <td>Unknown Categoricals Handling</td>\n",
       "      <td>least_frequent</td>\n",
       "    </tr>\n",
       "    <tr>\n",
       "      <th>29</th>\n",
       "      <td>Normalize</td>\n",
       "      <td>False</td>\n",
       "    </tr>\n",
       "    <tr>\n",
       "      <th>30</th>\n",
       "      <td>Normalize Method</td>\n",
       "      <td>None</td>\n",
       "    </tr>\n",
       "    <tr>\n",
       "      <th>31</th>\n",
       "      <td>Transformation</td>\n",
       "      <td>False</td>\n",
       "    </tr>\n",
       "    <tr>\n",
       "      <th>32</th>\n",
       "      <td>Transformation Method</td>\n",
       "      <td>None</td>\n",
       "    </tr>\n",
       "    <tr>\n",
       "      <th>33</th>\n",
       "      <td>PCA</td>\n",
       "      <td>False</td>\n",
       "    </tr>\n",
       "    <tr>\n",
       "      <th>34</th>\n",
       "      <td>PCA Method</td>\n",
       "      <td>None</td>\n",
       "    </tr>\n",
       "    <tr>\n",
       "      <th>35</th>\n",
       "      <td>PCA Components</td>\n",
       "      <td>None</td>\n",
       "    </tr>\n",
       "    <tr>\n",
       "      <th>36</th>\n",
       "      <td>Ignore Low Variance</td>\n",
       "      <td>False</td>\n",
       "    </tr>\n",
       "    <tr>\n",
       "      <th>37</th>\n",
       "      <td>Combine Rare Levels</td>\n",
       "      <td>False</td>\n",
       "    </tr>\n",
       "    <tr>\n",
       "      <th>38</th>\n",
       "      <td>Rare Level Threshold</td>\n",
       "      <td>None</td>\n",
       "    </tr>\n",
       "    <tr>\n",
       "      <th>39</th>\n",
       "      <td>Numeric Binning</td>\n",
       "      <td>False</td>\n",
       "    </tr>\n",
       "    <tr>\n",
       "      <th>40</th>\n",
       "      <td>Remove Outliers</td>\n",
       "      <td>False</td>\n",
       "    </tr>\n",
       "    <tr>\n",
       "      <th>41</th>\n",
       "      <td>Outliers Threshold</td>\n",
       "      <td>None</td>\n",
       "    </tr>\n",
       "    <tr>\n",
       "      <th>42</th>\n",
       "      <td>Remove Multicollinearity</td>\n",
       "      <td>False</td>\n",
       "    </tr>\n",
       "    <tr>\n",
       "      <th>43</th>\n",
       "      <td>Multicollinearity Threshold</td>\n",
       "      <td>None</td>\n",
       "    </tr>\n",
       "    <tr>\n",
       "      <th>44</th>\n",
       "      <td>Remove Perfect Collinearity</td>\n",
       "      <td>True</td>\n",
       "    </tr>\n",
       "    <tr>\n",
       "      <th>45</th>\n",
       "      <td>Clustering</td>\n",
       "      <td>False</td>\n",
       "    </tr>\n",
       "    <tr>\n",
       "      <th>46</th>\n",
       "      <td>Clustering Iteration</td>\n",
       "      <td>None</td>\n",
       "    </tr>\n",
       "    <tr>\n",
       "      <th>47</th>\n",
       "      <td>Polynomial Features</td>\n",
       "      <td>False</td>\n",
       "    </tr>\n",
       "    <tr>\n",
       "      <th>48</th>\n",
       "      <td>Polynomial Degree</td>\n",
       "      <td>None</td>\n",
       "    </tr>\n",
       "    <tr>\n",
       "      <th>49</th>\n",
       "      <td>Trignometry Features</td>\n",
       "      <td>False</td>\n",
       "    </tr>\n",
       "    <tr>\n",
       "      <th>50</th>\n",
       "      <td>Polynomial Threshold</td>\n",
       "      <td>None</td>\n",
       "    </tr>\n",
       "    <tr>\n",
       "      <th>51</th>\n",
       "      <td>Group Features</td>\n",
       "      <td>False</td>\n",
       "    </tr>\n",
       "    <tr>\n",
       "      <th>52</th>\n",
       "      <td>Feature Selection</td>\n",
       "      <td>False</td>\n",
       "    </tr>\n",
       "    <tr>\n",
       "      <th>53</th>\n",
       "      <td>Feature Selection Method</td>\n",
       "      <td>classic</td>\n",
       "    </tr>\n",
       "    <tr>\n",
       "      <th>54</th>\n",
       "      <td>Features Selection Threshold</td>\n",
       "      <td>None</td>\n",
       "    </tr>\n",
       "    <tr>\n",
       "      <th>55</th>\n",
       "      <td>Feature Interaction</td>\n",
       "      <td>False</td>\n",
       "    </tr>\n",
       "    <tr>\n",
       "      <th>56</th>\n",
       "      <td>Feature Ratio</td>\n",
       "      <td>False</td>\n",
       "    </tr>\n",
       "    <tr>\n",
       "      <th>57</th>\n",
       "      <td>Interaction Threshold</td>\n",
       "      <td>None</td>\n",
       "    </tr>\n",
       "    <tr>\n",
       "      <th>58</th>\n",
       "      <td>Fix Imbalance</td>\n",
       "      <td>False</td>\n",
       "    </tr>\n",
       "    <tr>\n",
       "      <th>59</th>\n",
       "      <td>Fix Imbalance Method</td>\n",
       "      <td>SMOTE</td>\n",
       "    </tr>\n",
       "  </tbody>\n",
       "</table>\n",
       "</div>"
      ],
      "text/plain": [
       "                               Description                    Value\n",
       "0                               session_id                        7\n",
       "1                                   Target  CLASSE_RENDIMENTO_GERAL\n",
       "2                              Target Type               Multiclass\n",
       "3                            Label Encoded   0.0: 0, 1.0: 1, 2.0: 2\n",
       "4                            Original Data              (325364, 9)\n",
       "5                           Missing Values                     True\n",
       "6                         Numeric Features                        0\n",
       "7                     Categorical Features                        7\n",
       "8                         Ordinal Features                    False\n",
       "9                High Cardinality Features                    False\n",
       "10                 High Cardinality Method                     None\n",
       "11                   Transformed Train Set             (188360, 25)\n",
       "12                    Transformed Test Set              (46919, 25)\n",
       "13                      Shuffle Train-Test                     True\n",
       "14                     Stratify Train-Test                    False\n",
       "15                          Fold Generator          StratifiedKFold\n",
       "16                             Fold Number                        5\n",
       "17                                CPU Jobs                       -1\n",
       "18                                 Use GPU                     True\n",
       "19                          Log Experiment                    False\n",
       "20                         Experiment Name         clf-default-name\n",
       "21                                     USI                     06ef\n",
       "22                         Imputation Type                   simple\n",
       "23          Iterative Imputation Iteration                     None\n",
       "24                         Numeric Imputer                     mean\n",
       "25      Iterative Imputation Numeric Model                     None\n",
       "26                     Categorical Imputer                 constant\n",
       "27  Iterative Imputation Categorical Model                     None\n",
       "28           Unknown Categoricals Handling           least_frequent\n",
       "29                               Normalize                    False\n",
       "30                        Normalize Method                     None\n",
       "31                          Transformation                    False\n",
       "32                   Transformation Method                     None\n",
       "33                                     PCA                    False\n",
       "34                              PCA Method                     None\n",
       "35                          PCA Components                     None\n",
       "36                     Ignore Low Variance                    False\n",
       "37                     Combine Rare Levels                    False\n",
       "38                    Rare Level Threshold                     None\n",
       "39                         Numeric Binning                    False\n",
       "40                         Remove Outliers                    False\n",
       "41                      Outliers Threshold                     None\n",
       "42                Remove Multicollinearity                    False\n",
       "43             Multicollinearity Threshold                     None\n",
       "44             Remove Perfect Collinearity                     True\n",
       "45                              Clustering                    False\n",
       "46                    Clustering Iteration                     None\n",
       "47                     Polynomial Features                    False\n",
       "48                       Polynomial Degree                     None\n",
       "49                    Trignometry Features                    False\n",
       "50                    Polynomial Threshold                     None\n",
       "51                          Group Features                    False\n",
       "52                       Feature Selection                    False\n",
       "53                Feature Selection Method                  classic\n",
       "54            Features Selection Threshold                     None\n",
       "55                     Feature Interaction                    False\n",
       "56                           Feature Ratio                    False\n",
       "57                   Interaction Threshold                     None\n",
       "58                           Fix Imbalance                    False\n",
       "59                    Fix Imbalance Method                    SMOTE"
      ]
     },
     "metadata": {
      "tags": []
     },
     "output_type": "display_data"
    }
   ],
   "source": [
    "from pycaret.classification import *\n",
    "\n",
    "init = setup(data=microdados_rj,\n",
    "             ignore_features=['CLASSE_RENDIMENTO'],\n",
    "             target='CLASSE_RENDIMENTO_GERAL',\n",
    "             train_size=0.8,\n",
    "             fold=5,\n",
    "             fix_imbalance=False,\n",
    "             use_gpu=True,\n",
    "             silent=True,\n",
    "             session_id=7)"
   ]
  },
  {
   "cell_type": "code",
   "execution_count": 261,
   "metadata": {
    "colab": {
     "base_uri": "https://localhost:8080/",
     "height": 354,
     "referenced_widgets": [
      "f541425e2b4a4136b48fcb616d6ffdba",
      "37a714e1774a4dd49483f2884f906354",
      "2c13c743adbe49f1874cece14197dbbd"
     ]
    },
    "executionInfo": {
     "elapsed": 621797,
     "status": "ok",
     "timestamp": 1628972836203,
     "user": {
      "displayName": "RODRIGO SILVA PERES",
      "photoUrl": "",
      "userId": "00311338069675780007"
     },
     "user_tz": 180
    },
    "id": "Yk6qDxis4id_",
    "outputId": "3abfa6d5-6fb4-43a0-8be9-371328454de4"
   },
   "outputs": [
    {
     "data": {
      "text/html": [
       "<div>\n",
       "<style scoped>\n",
       "    .dataframe tbody tr th:only-of-type {\n",
       "        vertical-align: middle;\n",
       "    }\n",
       "\n",
       "    .dataframe tbody tr th {\n",
       "        vertical-align: top;\n",
       "    }\n",
       "\n",
       "    .dataframe thead th {\n",
       "        text-align: right;\n",
       "    }\n",
       "</style>\n",
       "<table border=\"1\" class=\"dataframe\">\n",
       "  <thead>\n",
       "    <tr style=\"text-align: right;\">\n",
       "      <th></th>\n",
       "      <th>Model</th>\n",
       "      <th>Accuracy</th>\n",
       "      <th>AUC</th>\n",
       "      <th>Recall</th>\n",
       "      <th>Prec.</th>\n",
       "      <th>F1</th>\n",
       "      <th>Kappa</th>\n",
       "      <th>MCC</th>\n",
       "      <th>TT (Sec)</th>\n",
       "    </tr>\n",
       "  </thead>\n",
       "  <tbody>\n",
       "    <tr>\n",
       "      <th>lightgbm</th>\n",
       "      <td>Light Gradient Boosting Machine</td>\n",
       "      <td>0.7669</td>\n",
       "      <td>0.6748</td>\n",
       "      <td>0.4005</td>\n",
       "      <td>0.7200</td>\n",
       "      <td>0.6941</td>\n",
       "      <td>0.1328</td>\n",
       "      <td>0.1977</td>\n",
       "      <td>4.490</td>\n",
       "    </tr>\n",
       "    <tr>\n",
       "      <th>rf</th>\n",
       "      <td>Random Forest Classifier</td>\n",
       "      <td>0.7660</td>\n",
       "      <td>0.6669</td>\n",
       "      <td>0.4008</td>\n",
       "      <td>0.7100</td>\n",
       "      <td>0.6947</td>\n",
       "      <td>0.1331</td>\n",
       "      <td>0.1949</td>\n",
       "      <td>9.332</td>\n",
       "    </tr>\n",
       "    <tr>\n",
       "      <th>dt</th>\n",
       "      <td>Decision Tree Classifier</td>\n",
       "      <td>0.7653</td>\n",
       "      <td>0.6665</td>\n",
       "      <td>0.4011</td>\n",
       "      <td>0.7045</td>\n",
       "      <td>0.6950</td>\n",
       "      <td>0.1332</td>\n",
       "      <td>0.1926</td>\n",
       "      <td>0.406</td>\n",
       "    </tr>\n",
       "    <tr>\n",
       "      <th>lr</th>\n",
       "      <td>Logistic Regression</td>\n",
       "      <td>0.7645</td>\n",
       "      <td>0.6696</td>\n",
       "      <td>0.3888</td>\n",
       "      <td>0.7206</td>\n",
       "      <td>0.6873</td>\n",
       "      <td>0.1108</td>\n",
       "      <td>0.1750</td>\n",
       "      <td>19.332</td>\n",
       "    </tr>\n",
       "    <tr>\n",
       "      <th>knn</th>\n",
       "      <td>K Neighbors Classifier</td>\n",
       "      <td>0.7360</td>\n",
       "      <td>0.5913</td>\n",
       "      <td>0.4196</td>\n",
       "      <td>0.6763</td>\n",
       "      <td>0.6923</td>\n",
       "      <td>0.1425</td>\n",
       "      <td>0.1596</td>\n",
       "      <td>89.348</td>\n",
       "    </tr>\n",
       "    <tr>\n",
       "      <th>nb</th>\n",
       "      <td>Naive Bayes</td>\n",
       "      <td>0.4248</td>\n",
       "      <td>0.6520</td>\n",
       "      <td>0.5838</td>\n",
       "      <td>0.6871</td>\n",
       "      <td>0.4509</td>\n",
       "      <td>0.1559</td>\n",
       "      <td>0.2086</td>\n",
       "      <td>0.236</td>\n",
       "    </tr>\n",
       "  </tbody>\n",
       "</table>\n",
       "</div>"
      ],
      "text/plain": [
       "                                    Model  Accuracy     AUC  Recall   Prec.  \\\n",
       "lightgbm  Light Gradient Boosting Machine    0.7669  0.6748  0.4005  0.7200   \n",
       "rf               Random Forest Classifier    0.7660  0.6669  0.4008  0.7100   \n",
       "dt               Decision Tree Classifier    0.7653  0.6665  0.4011  0.7045   \n",
       "lr                    Logistic Regression    0.7645  0.6696  0.3888  0.7206   \n",
       "knn                K Neighbors Classifier    0.7360  0.5913  0.4196  0.6763   \n",
       "nb                            Naive Bayes    0.4248  0.6520  0.5838  0.6871   \n",
       "\n",
       "              F1   Kappa     MCC  TT (Sec)  \n",
       "lightgbm  0.6941  0.1328  0.1977     4.490  \n",
       "rf        0.6947  0.1331  0.1949     9.332  \n",
       "dt        0.6950  0.1332  0.1926     0.406  \n",
       "lr        0.6873  0.1108  0.1750    19.332  \n",
       "knn       0.6923  0.1425  0.1596    89.348  \n",
       "nb        0.4509  0.1559  0.2086     0.236  "
      ]
     },
     "metadata": {
      "tags": []
     },
     "output_type": "display_data"
    },
    {
     "data": {
      "text/plain": [
       "LGBMClassifier(boosting_type='gbdt', class_weight=None, colsample_bytree=1.0,\n",
       "               device='gpu', importance_type='split', learning_rate=0.1,\n",
       "               max_depth=-1, min_child_samples=20, min_child_weight=0.001,\n",
       "               min_split_gain=0.0, n_estimators=100, n_jobs=-1, num_leaves=31,\n",
       "               objective=None, random_state=7, reg_alpha=0.0, reg_lambda=0.0,\n",
       "               silent=True, subsample=1.0, subsample_for_bin=200000,\n",
       "               subsample_freq=0)"
      ]
     },
     "execution_count": 261,
     "metadata": {
      "tags": []
     },
     "output_type": "execute_result"
    }
   ],
   "source": [
    "compare_models(include=['lr', 'dt', \n",
    "                        'rf', 'nb',\n",
    "                        'knn', 'lightgbm'], fold=5)"
   ]
  },
  {
   "cell_type": "code",
   "execution_count": 262,
   "metadata": {
    "colab": {
     "base_uri": "https://localhost:8080/",
     "height": 266,
     "referenced_widgets": [
      "54e506794fbc4be4a0375a8b0e2958c5",
      "313f83a0cd9e4813a77236b95f78af71",
      "75d2b64811514a51a6e4152d39ee5062"
     ]
    },
    "executionInfo": {
     "elapsed": 1661,
     "status": "ok",
     "timestamp": 1628972837842,
     "user": {
      "displayName": "RODRIGO SILVA PERES",
      "photoUrl": "",
      "userId": "00311338069675780007"
     },
     "user_tz": 180
    },
    "id": "WlvN8o1tV-X2",
    "outputId": "a3a17a1a-ab5f-4b95-b0a9-25d7fb511644"
   },
   "outputs": [
    {
     "data": {
      "text/html": [
       "<div>\n",
       "<style scoped>\n",
       "    .dataframe tbody tr th:only-of-type {\n",
       "        vertical-align: middle;\n",
       "    }\n",
       "\n",
       "    .dataframe tbody tr th {\n",
       "        vertical-align: top;\n",
       "    }\n",
       "\n",
       "    .dataframe thead th {\n",
       "        text-align: right;\n",
       "    }\n",
       "</style>\n",
       "<table border=\"1\" class=\"dataframe\">\n",
       "  <thead>\n",
       "    <tr style=\"text-align: right;\">\n",
       "      <th></th>\n",
       "      <th>Accuracy</th>\n",
       "      <th>AUC</th>\n",
       "      <th>Recall</th>\n",
       "      <th>Prec.</th>\n",
       "      <th>F1</th>\n",
       "      <th>Kappa</th>\n",
       "      <th>MCC</th>\n",
       "    </tr>\n",
       "  </thead>\n",
       "  <tbody>\n",
       "    <tr>\n",
       "      <th>0</th>\n",
       "      <td>0.4211</td>\n",
       "      <td>0.6518</td>\n",
       "      <td>0.5845</td>\n",
       "      <td>0.6854</td>\n",
       "      <td>0.4461</td>\n",
       "      <td>0.1544</td>\n",
       "      <td>0.2076</td>\n",
       "    </tr>\n",
       "    <tr>\n",
       "      <th>1</th>\n",
       "      <td>0.4277</td>\n",
       "      <td>0.6578</td>\n",
       "      <td>0.5909</td>\n",
       "      <td>0.6923</td>\n",
       "      <td>0.4533</td>\n",
       "      <td>0.1615</td>\n",
       "      <td>0.2165</td>\n",
       "    </tr>\n",
       "    <tr>\n",
       "      <th>2</th>\n",
       "      <td>0.4168</td>\n",
       "      <td>0.6503</td>\n",
       "      <td>0.5829</td>\n",
       "      <td>0.6874</td>\n",
       "      <td>0.4412</td>\n",
       "      <td>0.1533</td>\n",
       "      <td>0.2076</td>\n",
       "    </tr>\n",
       "    <tr>\n",
       "      <th>3</th>\n",
       "      <td>0.4300</td>\n",
       "      <td>0.6532</td>\n",
       "      <td>0.5828</td>\n",
       "      <td>0.6857</td>\n",
       "      <td>0.4576</td>\n",
       "      <td>0.1565</td>\n",
       "      <td>0.2075</td>\n",
       "    </tr>\n",
       "    <tr>\n",
       "      <th>4</th>\n",
       "      <td>0.4284</td>\n",
       "      <td>0.6468</td>\n",
       "      <td>0.5777</td>\n",
       "      <td>0.6846</td>\n",
       "      <td>0.4566</td>\n",
       "      <td>0.1539</td>\n",
       "      <td>0.2040</td>\n",
       "    </tr>\n",
       "    <tr>\n",
       "      <th>Mean</th>\n",
       "      <td>0.4248</td>\n",
       "      <td>0.6520</td>\n",
       "      <td>0.5838</td>\n",
       "      <td>0.6871</td>\n",
       "      <td>0.4509</td>\n",
       "      <td>0.1559</td>\n",
       "      <td>0.2086</td>\n",
       "    </tr>\n",
       "    <tr>\n",
       "      <th>SD</th>\n",
       "      <td>0.0050</td>\n",
       "      <td>0.0036</td>\n",
       "      <td>0.0043</td>\n",
       "      <td>0.0028</td>\n",
       "      <td>0.0063</td>\n",
       "      <td>0.0030</td>\n",
       "      <td>0.0042</td>\n",
       "    </tr>\n",
       "  </tbody>\n",
       "</table>\n",
       "</div>"
      ],
      "text/plain": [
       "      Accuracy     AUC  Recall   Prec.      F1   Kappa     MCC\n",
       "0       0.4211  0.6518  0.5845  0.6854  0.4461  0.1544  0.2076\n",
       "1       0.4277  0.6578  0.5909  0.6923  0.4533  0.1615  0.2165\n",
       "2       0.4168  0.6503  0.5829  0.6874  0.4412  0.1533  0.2076\n",
       "3       0.4300  0.6532  0.5828  0.6857  0.4576  0.1565  0.2075\n",
       "4       0.4284  0.6468  0.5777  0.6846  0.4566  0.1539  0.2040\n",
       "Mean    0.4248  0.6520  0.5838  0.6871  0.4509  0.1559  0.2086\n",
       "SD      0.0050  0.0036  0.0043  0.0028  0.0063  0.0030  0.0042"
      ]
     },
     "metadata": {
      "tags": []
     },
     "output_type": "display_data"
    }
   ],
   "source": [
    "nb = create_model('nb',\n",
    "                  fold=5)"
   ]
  },
  {
   "cell_type": "code",
   "execution_count": 263,
   "metadata": {
    "colab": {
     "base_uri": "https://localhost:8080/"
    },
    "executionInfo": {
     "elapsed": 21,
     "status": "ok",
     "timestamp": 1628972837845,
     "user": {
      "displayName": "RODRIGO SILVA PERES",
      "photoUrl": "",
      "userId": "00311338069675780007"
     },
     "user_tz": 180
    },
    "id": "a_n9qQaXV-X7",
    "outputId": "b5cccd79-d518-4201-a875-46790006f514"
   },
   "outputs": [
    {
     "data": {
      "text/plain": [
       "GaussianNB(priors=None, var_smoothing=1e-09)"
      ]
     },
     "execution_count": 263,
     "metadata": {
      "tags": []
     },
     "output_type": "execute_result"
    }
   ],
   "source": [
    "nb"
   ]
  },
  {
   "cell_type": "code",
   "execution_count": 264,
   "metadata": {
    "colab": {
     "base_uri": "https://localhost:8080/",
     "height": 266,
     "referenced_widgets": [
      "8d047a56630045e394f9f170d58a45b6",
      "f6be4a6935bf469ebc8b319d19bd0160",
      "6a8339c737f8431b90c8367c7fd81da1"
     ]
    },
    "executionInfo": {
     "elapsed": 14167,
     "status": "ok",
     "timestamp": 1628972851998,
     "user": {
      "displayName": "RODRIGO SILVA PERES",
      "photoUrl": "",
      "userId": "00311338069675780007"
     },
     "user_tz": 180
    },
    "id": "6wHacPmOV-X9",
    "outputId": "3ae57667-94c9-4b65-ba15-5cebc4f6d362"
   },
   "outputs": [
    {
     "data": {
      "text/html": [
       "<div>\n",
       "<style scoped>\n",
       "    .dataframe tbody tr th:only-of-type {\n",
       "        vertical-align: middle;\n",
       "    }\n",
       "\n",
       "    .dataframe tbody tr th {\n",
       "        vertical-align: top;\n",
       "    }\n",
       "\n",
       "    .dataframe thead th {\n",
       "        text-align: right;\n",
       "    }\n",
       "</style>\n",
       "<table border=\"1\" class=\"dataframe\">\n",
       "  <thead>\n",
       "    <tr style=\"text-align: right;\">\n",
       "      <th></th>\n",
       "      <th>Accuracy</th>\n",
       "      <th>AUC</th>\n",
       "      <th>Recall</th>\n",
       "      <th>Prec.</th>\n",
       "      <th>F1</th>\n",
       "      <th>Kappa</th>\n",
       "      <th>MCC</th>\n",
       "    </tr>\n",
       "  </thead>\n",
       "  <tbody>\n",
       "    <tr>\n",
       "      <th>0</th>\n",
       "      <td>0.7302</td>\n",
       "      <td>0.6565</td>\n",
       "      <td>0.4651</td>\n",
       "      <td>0.6909</td>\n",
       "      <td>0.6894</td>\n",
       "      <td>0.1966</td>\n",
       "      <td>0.2087</td>\n",
       "    </tr>\n",
       "    <tr>\n",
       "      <th>1</th>\n",
       "      <td>0.7332</td>\n",
       "      <td>0.6605</td>\n",
       "      <td>0.4651</td>\n",
       "      <td>0.6925</td>\n",
       "      <td>0.6907</td>\n",
       "      <td>0.1987</td>\n",
       "      <td>0.2120</td>\n",
       "    </tr>\n",
       "    <tr>\n",
       "      <th>2</th>\n",
       "      <td>0.7252</td>\n",
       "      <td>0.6529</td>\n",
       "      <td>0.4620</td>\n",
       "      <td>0.6846</td>\n",
       "      <td>0.6882</td>\n",
       "      <td>0.1893</td>\n",
       "      <td>0.1994</td>\n",
       "    </tr>\n",
       "    <tr>\n",
       "      <th>3</th>\n",
       "      <td>0.7304</td>\n",
       "      <td>0.6555</td>\n",
       "      <td>0.4657</td>\n",
       "      <td>0.6904</td>\n",
       "      <td>0.6925</td>\n",
       "      <td>0.1981</td>\n",
       "      <td>0.2094</td>\n",
       "    </tr>\n",
       "    <tr>\n",
       "      <th>4</th>\n",
       "      <td>0.7264</td>\n",
       "      <td>0.6519</td>\n",
       "      <td>0.4624</td>\n",
       "      <td>0.6843</td>\n",
       "      <td>0.6885</td>\n",
       "      <td>0.1907</td>\n",
       "      <td>0.2012</td>\n",
       "    </tr>\n",
       "    <tr>\n",
       "      <th>Mean</th>\n",
       "      <td>0.7291</td>\n",
       "      <td>0.6555</td>\n",
       "      <td>0.4641</td>\n",
       "      <td>0.6886</td>\n",
       "      <td>0.6898</td>\n",
       "      <td>0.1947</td>\n",
       "      <td>0.2061</td>\n",
       "    </tr>\n",
       "    <tr>\n",
       "      <th>SD</th>\n",
       "      <td>0.0029</td>\n",
       "      <td>0.0030</td>\n",
       "      <td>0.0015</td>\n",
       "      <td>0.0034</td>\n",
       "      <td>0.0016</td>\n",
       "      <td>0.0039</td>\n",
       "      <td>0.0049</td>\n",
       "    </tr>\n",
       "  </tbody>\n",
       "</table>\n",
       "</div>"
      ],
      "text/plain": [
       "      Accuracy     AUC  Recall   Prec.      F1   Kappa     MCC\n",
       "0       0.7302  0.6565  0.4651  0.6909  0.6894  0.1966  0.2087\n",
       "1       0.7332  0.6605  0.4651  0.6925  0.6907  0.1987  0.2120\n",
       "2       0.7252  0.6529  0.4620  0.6846  0.6882  0.1893  0.1994\n",
       "3       0.7304  0.6555  0.4657  0.6904  0.6925  0.1981  0.2094\n",
       "4       0.7264  0.6519  0.4624  0.6843  0.6885  0.1907  0.2012\n",
       "Mean    0.7291  0.6555  0.4641  0.6886  0.6898  0.1947  0.2061\n",
       "SD      0.0029  0.0030  0.0015  0.0034  0.0016  0.0039  0.0049"
      ]
     },
     "metadata": {
      "tags": []
     },
     "output_type": "display_data"
    }
   ],
   "source": [
    "tuned_nb = tune_model(nb,\n",
    "                      n_iter=300,\n",
    "                      fold=5,\n",
    "                      optimize='F1')"
   ]
  },
  {
   "cell_type": "code",
   "execution_count": 265,
   "metadata": {
    "colab": {
     "base_uri": "https://localhost:8080/"
    },
    "executionInfo": {
     "elapsed": 48,
     "status": "ok",
     "timestamp": 1628972852001,
     "user": {
      "displayName": "RODRIGO SILVA PERES",
      "photoUrl": "",
      "userId": "00311338069675780007"
     },
     "user_tz": 180
    },
    "id": "wKlPE71GV-X_",
    "outputId": "24458e13-f976-4a3a-c2b1-b5fe9ba44ab1"
   },
   "outputs": [
    {
     "data": {
      "text/plain": [
       "GaussianNB(priors=None, var_smoothing=1)"
      ]
     },
     "execution_count": 265,
     "metadata": {
      "tags": []
     },
     "output_type": "execute_result"
    }
   ],
   "source": [
    "tuned_nb"
   ]
  },
  {
   "cell_type": "markdown",
   "metadata": {
    "id": "1orxFAT5WaoY"
   },
   "source": [
    "#### Experimento 3 - Dados do RJ, 2019, mesmas features do artigo e target nota de matemática"
   ]
  },
  {
   "cell_type": "code",
   "execution_count": 266,
   "metadata": {
    "colab": {
     "base_uri": "https://localhost:8080/",
     "height": 1000,
     "referenced_widgets": [
      "2f697eeb62f644d1acae6c83f796f34a",
      "2546ec0437c24e1aa0a54562c4b6bc2c",
      "f58752dfed0b483fb7d564f44d4a8078"
     ]
    },
    "executionInfo": {
     "elapsed": 6466,
     "status": "ok",
     "timestamp": 1628973065432,
     "user": {
      "displayName": "RODRIGO SILVA PERES",
      "photoUrl": "",
      "userId": "00311338069675780007"
     },
     "user_tz": 180
    },
    "id": "y5sTcFDS5YHC",
    "outputId": "93fbb632-baa8-413a-849b-15ec5fffb795"
   },
   "outputs": [
    {
     "data": {
      "text/html": [
       "<div>\n",
       "<style scoped>\n",
       "    .dataframe tbody tr th:only-of-type {\n",
       "        vertical-align: middle;\n",
       "    }\n",
       "\n",
       "    .dataframe tbody tr th {\n",
       "        vertical-align: top;\n",
       "    }\n",
       "\n",
       "    .dataframe thead th {\n",
       "        text-align: right;\n",
       "    }\n",
       "</style>\n",
       "<table border=\"1\" class=\"dataframe\">\n",
       "  <thead>\n",
       "    <tr style=\"text-align: right;\">\n",
       "      <th></th>\n",
       "      <th>Description</th>\n",
       "      <th>Value</th>\n",
       "    </tr>\n",
       "  </thead>\n",
       "  <tbody>\n",
       "    <tr>\n",
       "      <th>0</th>\n",
       "      <td>session_id</td>\n",
       "      <td>7</td>\n",
       "    </tr>\n",
       "    <tr>\n",
       "      <th>1</th>\n",
       "      <td>Target</td>\n",
       "      <td>CLASSE_RENDIMENTO</td>\n",
       "    </tr>\n",
       "    <tr>\n",
       "      <th>2</th>\n",
       "      <td>Target Type</td>\n",
       "      <td>Multiclass</td>\n",
       "    </tr>\n",
       "    <tr>\n",
       "      <th>3</th>\n",
       "      <td>Label Encoded</td>\n",
       "      <td>EXCELENTE: 0, INSUFICIENTE: 1, REGULAR: 2</td>\n",
       "    </tr>\n",
       "    <tr>\n",
       "      <th>4</th>\n",
       "      <td>Original Data</td>\n",
       "      <td>(325364, 9)</td>\n",
       "    </tr>\n",
       "    <tr>\n",
       "      <th>5</th>\n",
       "      <td>Missing Values</td>\n",
       "      <td>True</td>\n",
       "    </tr>\n",
       "    <tr>\n",
       "      <th>6</th>\n",
       "      <td>Numeric Features</td>\n",
       "      <td>0</td>\n",
       "    </tr>\n",
       "    <tr>\n",
       "      <th>7</th>\n",
       "      <td>Categorical Features</td>\n",
       "      <td>5</td>\n",
       "    </tr>\n",
       "    <tr>\n",
       "      <th>8</th>\n",
       "      <td>Ordinal Features</td>\n",
       "      <td>False</td>\n",
       "    </tr>\n",
       "    <tr>\n",
       "      <th>9</th>\n",
       "      <td>High Cardinality Features</td>\n",
       "      <td>False</td>\n",
       "    </tr>\n",
       "    <tr>\n",
       "      <th>10</th>\n",
       "      <td>High Cardinality Method</td>\n",
       "      <td>None</td>\n",
       "    </tr>\n",
       "    <tr>\n",
       "      <th>11</th>\n",
       "      <td>Transformed Train Set</td>\n",
       "      <td>(188790, 23)</td>\n",
       "    </tr>\n",
       "    <tr>\n",
       "      <th>12</th>\n",
       "      <td>Transformed Test Set</td>\n",
       "      <td>(47043, 23)</td>\n",
       "    </tr>\n",
       "    <tr>\n",
       "      <th>13</th>\n",
       "      <td>Shuffle Train-Test</td>\n",
       "      <td>True</td>\n",
       "    </tr>\n",
       "    <tr>\n",
       "      <th>14</th>\n",
       "      <td>Stratify Train-Test</td>\n",
       "      <td>False</td>\n",
       "    </tr>\n",
       "    <tr>\n",
       "      <th>15</th>\n",
       "      <td>Fold Generator</td>\n",
       "      <td>StratifiedKFold</td>\n",
       "    </tr>\n",
       "    <tr>\n",
       "      <th>16</th>\n",
       "      <td>Fold Number</td>\n",
       "      <td>5</td>\n",
       "    </tr>\n",
       "    <tr>\n",
       "      <th>17</th>\n",
       "      <td>CPU Jobs</td>\n",
       "      <td>-1</td>\n",
       "    </tr>\n",
       "    <tr>\n",
       "      <th>18</th>\n",
       "      <td>Use GPU</td>\n",
       "      <td>True</td>\n",
       "    </tr>\n",
       "    <tr>\n",
       "      <th>19</th>\n",
       "      <td>Log Experiment</td>\n",
       "      <td>False</td>\n",
       "    </tr>\n",
       "    <tr>\n",
       "      <th>20</th>\n",
       "      <td>Experiment Name</td>\n",
       "      <td>clf-default-name</td>\n",
       "    </tr>\n",
       "    <tr>\n",
       "      <th>21</th>\n",
       "      <td>USI</td>\n",
       "      <td>0c1a</td>\n",
       "    </tr>\n",
       "    <tr>\n",
       "      <th>22</th>\n",
       "      <td>Imputation Type</td>\n",
       "      <td>simple</td>\n",
       "    </tr>\n",
       "    <tr>\n",
       "      <th>23</th>\n",
       "      <td>Iterative Imputation Iteration</td>\n",
       "      <td>None</td>\n",
       "    </tr>\n",
       "    <tr>\n",
       "      <th>24</th>\n",
       "      <td>Numeric Imputer</td>\n",
       "      <td>mean</td>\n",
       "    </tr>\n",
       "    <tr>\n",
       "      <th>25</th>\n",
       "      <td>Iterative Imputation Numeric Model</td>\n",
       "      <td>None</td>\n",
       "    </tr>\n",
       "    <tr>\n",
       "      <th>26</th>\n",
       "      <td>Categorical Imputer</td>\n",
       "      <td>constant</td>\n",
       "    </tr>\n",
       "    <tr>\n",
       "      <th>27</th>\n",
       "      <td>Iterative Imputation Categorical Model</td>\n",
       "      <td>None</td>\n",
       "    </tr>\n",
       "    <tr>\n",
       "      <th>28</th>\n",
       "      <td>Unknown Categoricals Handling</td>\n",
       "      <td>least_frequent</td>\n",
       "    </tr>\n",
       "    <tr>\n",
       "      <th>29</th>\n",
       "      <td>Normalize</td>\n",
       "      <td>False</td>\n",
       "    </tr>\n",
       "    <tr>\n",
       "      <th>30</th>\n",
       "      <td>Normalize Method</td>\n",
       "      <td>None</td>\n",
       "    </tr>\n",
       "    <tr>\n",
       "      <th>31</th>\n",
       "      <td>Transformation</td>\n",
       "      <td>False</td>\n",
       "    </tr>\n",
       "    <tr>\n",
       "      <th>32</th>\n",
       "      <td>Transformation Method</td>\n",
       "      <td>None</td>\n",
       "    </tr>\n",
       "    <tr>\n",
       "      <th>33</th>\n",
       "      <td>PCA</td>\n",
       "      <td>False</td>\n",
       "    </tr>\n",
       "    <tr>\n",
       "      <th>34</th>\n",
       "      <td>PCA Method</td>\n",
       "      <td>None</td>\n",
       "    </tr>\n",
       "    <tr>\n",
       "      <th>35</th>\n",
       "      <td>PCA Components</td>\n",
       "      <td>None</td>\n",
       "    </tr>\n",
       "    <tr>\n",
       "      <th>36</th>\n",
       "      <td>Ignore Low Variance</td>\n",
       "      <td>False</td>\n",
       "    </tr>\n",
       "    <tr>\n",
       "      <th>37</th>\n",
       "      <td>Combine Rare Levels</td>\n",
       "      <td>False</td>\n",
       "    </tr>\n",
       "    <tr>\n",
       "      <th>38</th>\n",
       "      <td>Rare Level Threshold</td>\n",
       "      <td>None</td>\n",
       "    </tr>\n",
       "    <tr>\n",
       "      <th>39</th>\n",
       "      <td>Numeric Binning</td>\n",
       "      <td>False</td>\n",
       "    </tr>\n",
       "    <tr>\n",
       "      <th>40</th>\n",
       "      <td>Remove Outliers</td>\n",
       "      <td>False</td>\n",
       "    </tr>\n",
       "    <tr>\n",
       "      <th>41</th>\n",
       "      <td>Outliers Threshold</td>\n",
       "      <td>None</td>\n",
       "    </tr>\n",
       "    <tr>\n",
       "      <th>42</th>\n",
       "      <td>Remove Multicollinearity</td>\n",
       "      <td>False</td>\n",
       "    </tr>\n",
       "    <tr>\n",
       "      <th>43</th>\n",
       "      <td>Multicollinearity Threshold</td>\n",
       "      <td>None</td>\n",
       "    </tr>\n",
       "    <tr>\n",
       "      <th>44</th>\n",
       "      <td>Remove Perfect Collinearity</td>\n",
       "      <td>True</td>\n",
       "    </tr>\n",
       "    <tr>\n",
       "      <th>45</th>\n",
       "      <td>Clustering</td>\n",
       "      <td>False</td>\n",
       "    </tr>\n",
       "    <tr>\n",
       "      <th>46</th>\n",
       "      <td>Clustering Iteration</td>\n",
       "      <td>None</td>\n",
       "    </tr>\n",
       "    <tr>\n",
       "      <th>47</th>\n",
       "      <td>Polynomial Features</td>\n",
       "      <td>False</td>\n",
       "    </tr>\n",
       "    <tr>\n",
       "      <th>48</th>\n",
       "      <td>Polynomial Degree</td>\n",
       "      <td>None</td>\n",
       "    </tr>\n",
       "    <tr>\n",
       "      <th>49</th>\n",
       "      <td>Trignometry Features</td>\n",
       "      <td>False</td>\n",
       "    </tr>\n",
       "    <tr>\n",
       "      <th>50</th>\n",
       "      <td>Polynomial Threshold</td>\n",
       "      <td>None</td>\n",
       "    </tr>\n",
       "    <tr>\n",
       "      <th>51</th>\n",
       "      <td>Group Features</td>\n",
       "      <td>False</td>\n",
       "    </tr>\n",
       "    <tr>\n",
       "      <th>52</th>\n",
       "      <td>Feature Selection</td>\n",
       "      <td>False</td>\n",
       "    </tr>\n",
       "    <tr>\n",
       "      <th>53</th>\n",
       "      <td>Feature Selection Method</td>\n",
       "      <td>classic</td>\n",
       "    </tr>\n",
       "    <tr>\n",
       "      <th>54</th>\n",
       "      <td>Features Selection Threshold</td>\n",
       "      <td>None</td>\n",
       "    </tr>\n",
       "    <tr>\n",
       "      <th>55</th>\n",
       "      <td>Feature Interaction</td>\n",
       "      <td>False</td>\n",
       "    </tr>\n",
       "    <tr>\n",
       "      <th>56</th>\n",
       "      <td>Feature Ratio</td>\n",
       "      <td>False</td>\n",
       "    </tr>\n",
       "    <tr>\n",
       "      <th>57</th>\n",
       "      <td>Interaction Threshold</td>\n",
       "      <td>None</td>\n",
       "    </tr>\n",
       "    <tr>\n",
       "      <th>58</th>\n",
       "      <td>Fix Imbalance</td>\n",
       "      <td>False</td>\n",
       "    </tr>\n",
       "    <tr>\n",
       "      <th>59</th>\n",
       "      <td>Fix Imbalance Method</td>\n",
       "      <td>SMOTE</td>\n",
       "    </tr>\n",
       "  </tbody>\n",
       "</table>\n",
       "</div>"
      ],
      "text/plain": [
       "                               Description                                      Value\n",
       "0                               session_id                                          7\n",
       "1                                   Target                          CLASSE_RENDIMENTO\n",
       "2                              Target Type                                 Multiclass\n",
       "3                            Label Encoded  EXCELENTE: 0, INSUFICIENTE: 1, REGULAR: 2\n",
       "4                            Original Data                                (325364, 9)\n",
       "5                           Missing Values                                       True\n",
       "6                         Numeric Features                                          0\n",
       "7                     Categorical Features                                          5\n",
       "8                         Ordinal Features                                      False\n",
       "9                High Cardinality Features                                      False\n",
       "10                 High Cardinality Method                                       None\n",
       "11                   Transformed Train Set                               (188790, 23)\n",
       "12                    Transformed Test Set                                (47043, 23)\n",
       "13                      Shuffle Train-Test                                       True\n",
       "14                     Stratify Train-Test                                      False\n",
       "15                          Fold Generator                            StratifiedKFold\n",
       "16                             Fold Number                                          5\n",
       "17                                CPU Jobs                                         -1\n",
       "18                                 Use GPU                                       True\n",
       "19                          Log Experiment                                      False\n",
       "20                         Experiment Name                           clf-default-name\n",
       "21                                     USI                                       0c1a\n",
       "22                         Imputation Type                                     simple\n",
       "23          Iterative Imputation Iteration                                       None\n",
       "24                         Numeric Imputer                                       mean\n",
       "25      Iterative Imputation Numeric Model                                       None\n",
       "26                     Categorical Imputer                                   constant\n",
       "27  Iterative Imputation Categorical Model                                       None\n",
       "28           Unknown Categoricals Handling                             least_frequent\n",
       "29                               Normalize                                      False\n",
       "30                        Normalize Method                                       None\n",
       "31                          Transformation                                      False\n",
       "32                   Transformation Method                                       None\n",
       "33                                     PCA                                      False\n",
       "34                              PCA Method                                       None\n",
       "35                          PCA Components                                       None\n",
       "36                     Ignore Low Variance                                      False\n",
       "37                     Combine Rare Levels                                      False\n",
       "38                    Rare Level Threshold                                       None\n",
       "39                         Numeric Binning                                      False\n",
       "40                         Remove Outliers                                      False\n",
       "41                      Outliers Threshold                                       None\n",
       "42                Remove Multicollinearity                                      False\n",
       "43             Multicollinearity Threshold                                       None\n",
       "44             Remove Perfect Collinearity                                       True\n",
       "45                              Clustering                                      False\n",
       "46                    Clustering Iteration                                       None\n",
       "47                     Polynomial Features                                      False\n",
       "48                       Polynomial Degree                                       None\n",
       "49                    Trignometry Features                                      False\n",
       "50                    Polynomial Threshold                                       None\n",
       "51                          Group Features                                      False\n",
       "52                       Feature Selection                                      False\n",
       "53                Feature Selection Method                                    classic\n",
       "54            Features Selection Threshold                                       None\n",
       "55                     Feature Interaction                                      False\n",
       "56                           Feature Ratio                                      False\n",
       "57                   Interaction Threshold                                       None\n",
       "58                           Fix Imbalance                                      False\n",
       "59                    Fix Imbalance Method                                      SMOTE"
      ]
     },
     "metadata": {
      "tags": []
     },
     "output_type": "display_data"
    }
   ],
   "source": [
    "from pycaret.classification import *\n",
    "\n",
    "init = setup(data=microdados_rj,\n",
    "             ignore_features=['CLASSE_RENDIMENTO_GERAL', 'Q024', 'Q025'],\n",
    "             target='CLASSE_RENDIMENTO',\n",
    "             train_size=0.8,\n",
    "             fold=5,\n",
    "             fix_imbalance=False,\n",
    "             use_gpu=True,\n",
    "             silent=True,\n",
    "             session_id=7)"
   ]
  },
  {
   "cell_type": "code",
   "execution_count": 267,
   "metadata": {
    "colab": {
     "base_uri": "https://localhost:8080/",
     "height": 354,
     "referenced_widgets": [
      "3a878f4d50674fdf8df573a003fdd46e",
      "13bbd7d95f4644cbaa3a0c0a322ec4d9",
      "623c303055244e549659def754183c3c"
     ]
    },
    "executionInfo": {
     "elapsed": 531600,
     "status": "ok",
     "timestamp": 1628973619134,
     "user": {
      "displayName": "RODRIGO SILVA PERES",
      "photoUrl": "",
      "userId": "00311338069675780007"
     },
     "user_tz": 180
    },
    "id": "Xo2y8-hN5YHE",
    "outputId": "4e908bff-6369-4c44-d2f6-79f7f82ed555"
   },
   "outputs": [
    {
     "data": {
      "text/html": [
       "<div>\n",
       "<style scoped>\n",
       "    .dataframe tbody tr th:only-of-type {\n",
       "        vertical-align: middle;\n",
       "    }\n",
       "\n",
       "    .dataframe tbody tr th {\n",
       "        vertical-align: top;\n",
       "    }\n",
       "\n",
       "    .dataframe thead th {\n",
       "        text-align: right;\n",
       "    }\n",
       "</style>\n",
       "<table border=\"1\" class=\"dataframe\">\n",
       "  <thead>\n",
       "    <tr style=\"text-align: right;\">\n",
       "      <th></th>\n",
       "      <th>Model</th>\n",
       "      <th>Accuracy</th>\n",
       "      <th>AUC</th>\n",
       "      <th>Recall</th>\n",
       "      <th>Prec.</th>\n",
       "      <th>F1</th>\n",
       "      <th>Kappa</th>\n",
       "      <th>MCC</th>\n",
       "      <th>TT (Sec)</th>\n",
       "    </tr>\n",
       "  </thead>\n",
       "  <tbody>\n",
       "    <tr>\n",
       "      <th>lightgbm</th>\n",
       "      <td>Light Gradient Boosting Machine</td>\n",
       "      <td>0.5787</td>\n",
       "      <td>0.6555</td>\n",
       "      <td>0.4373</td>\n",
       "      <td>0.5676</td>\n",
       "      <td>0.5105</td>\n",
       "      <td>0.1568</td>\n",
       "      <td>0.1965</td>\n",
       "      <td>4.096</td>\n",
       "    </tr>\n",
       "    <tr>\n",
       "      <th>rf</th>\n",
       "      <td>Random Forest Classifier</td>\n",
       "      <td>0.5785</td>\n",
       "      <td>0.6533</td>\n",
       "      <td>0.4358</td>\n",
       "      <td>0.5668</td>\n",
       "      <td>0.5081</td>\n",
       "      <td>0.1545</td>\n",
       "      <td>0.1953</td>\n",
       "      <td>7.456</td>\n",
       "    </tr>\n",
       "    <tr>\n",
       "      <th>dt</th>\n",
       "      <td>Decision Tree Classifier</td>\n",
       "      <td>0.5782</td>\n",
       "      <td>0.6531</td>\n",
       "      <td>0.4384</td>\n",
       "      <td>0.5647</td>\n",
       "      <td>0.5121</td>\n",
       "      <td>0.1581</td>\n",
       "      <td>0.1961</td>\n",
       "      <td>0.356</td>\n",
       "    </tr>\n",
       "    <tr>\n",
       "      <th>lr</th>\n",
       "      <td>Logistic Regression</td>\n",
       "      <td>0.5766</td>\n",
       "      <td>0.6547</td>\n",
       "      <td>0.4333</td>\n",
       "      <td>0.5682</td>\n",
       "      <td>0.4975</td>\n",
       "      <td>0.1483</td>\n",
       "      <td>0.1920</td>\n",
       "      <td>10.278</td>\n",
       "    </tr>\n",
       "    <tr>\n",
       "      <th>knn</th>\n",
       "      <td>K Neighbors Classifier</td>\n",
       "      <td>0.4990</td>\n",
       "      <td>0.5903</td>\n",
       "      <td>0.4502</td>\n",
       "      <td>0.4914</td>\n",
       "      <td>0.4939</td>\n",
       "      <td>0.1394</td>\n",
       "      <td>0.1399</td>\n",
       "      <td>82.998</td>\n",
       "    </tr>\n",
       "    <tr>\n",
       "      <th>nb</th>\n",
       "      <td>Naive Bayes</td>\n",
       "      <td>0.4158</td>\n",
       "      <td>0.6413</td>\n",
       "      <td>0.5209</td>\n",
       "      <td>0.5081</td>\n",
       "      <td>0.3755</td>\n",
       "      <td>0.1776</td>\n",
       "      <td>0.2159</td>\n",
       "      <td>0.240</td>\n",
       "    </tr>\n",
       "  </tbody>\n",
       "</table>\n",
       "</div>"
      ],
      "text/plain": [
       "                                    Model  Accuracy     AUC  Recall   Prec.  \\\n",
       "lightgbm  Light Gradient Boosting Machine    0.5787  0.6555  0.4373  0.5676   \n",
       "rf               Random Forest Classifier    0.5785  0.6533  0.4358  0.5668   \n",
       "dt               Decision Tree Classifier    0.5782  0.6531  0.4384  0.5647   \n",
       "lr                    Logistic Regression    0.5766  0.6547  0.4333  0.5682   \n",
       "knn                K Neighbors Classifier    0.4990  0.5903  0.4502  0.4914   \n",
       "nb                            Naive Bayes    0.4158  0.6413  0.5209  0.5081   \n",
       "\n",
       "              F1   Kappa     MCC  TT (Sec)  \n",
       "lightgbm  0.5105  0.1568  0.1965     4.096  \n",
       "rf        0.5081  0.1545  0.1953     7.456  \n",
       "dt        0.5121  0.1581  0.1961     0.356  \n",
       "lr        0.4975  0.1483  0.1920    10.278  \n",
       "knn       0.4939  0.1394  0.1399    82.998  \n",
       "nb        0.3755  0.1776  0.2159     0.240  "
      ]
     },
     "metadata": {
      "tags": []
     },
     "output_type": "display_data"
    },
    {
     "data": {
      "text/plain": [
       "LGBMClassifier(boosting_type='gbdt', class_weight=None, colsample_bytree=1.0,\n",
       "               device='gpu', importance_type='split', learning_rate=0.1,\n",
       "               max_depth=-1, min_child_samples=20, min_child_weight=0.001,\n",
       "               min_split_gain=0.0, n_estimators=100, n_jobs=-1, num_leaves=31,\n",
       "               objective=None, random_state=7, reg_alpha=0.0, reg_lambda=0.0,\n",
       "               silent=True, subsample=1.0, subsample_for_bin=200000,\n",
       "               subsample_freq=0)"
      ]
     },
     "execution_count": 267,
     "metadata": {
      "tags": []
     },
     "output_type": "execute_result"
    }
   ],
   "source": [
    "compare_models(include=['lr', 'dt', \n",
    "                        'rf', 'nb',\n",
    "                        'knn', 'lightgbm'], fold=5)"
   ]
  },
  {
   "cell_type": "code",
   "execution_count": 268,
   "metadata": {
    "colab": {
     "base_uri": "https://localhost:8080/",
     "height": 266,
     "referenced_widgets": [
      "2eeb344136764fadb0295ab8b45dbb77",
      "8a4923765a3b4802ab013530702d3e77",
      "5cb7c3620ff34b70a84aec3f380cd48c"
     ]
    },
    "executionInfo": {
     "elapsed": 1701,
     "status": "ok",
     "timestamp": 1628973620781,
     "user": {
      "displayName": "RODRIGO SILVA PERES",
      "photoUrl": "",
      "userId": "00311338069675780007"
     },
     "user_tz": 180
    },
    "id": "s_AwkdqWXXR_",
    "outputId": "eecc78a6-5974-4e1c-e0c5-ecaab4571e98"
   },
   "outputs": [
    {
     "data": {
      "text/html": [
       "<div>\n",
       "<style scoped>\n",
       "    .dataframe tbody tr th:only-of-type {\n",
       "        vertical-align: middle;\n",
       "    }\n",
       "\n",
       "    .dataframe tbody tr th {\n",
       "        vertical-align: top;\n",
       "    }\n",
       "\n",
       "    .dataframe thead th {\n",
       "        text-align: right;\n",
       "    }\n",
       "</style>\n",
       "<table border=\"1\" class=\"dataframe\">\n",
       "  <thead>\n",
       "    <tr style=\"text-align: right;\">\n",
       "      <th></th>\n",
       "      <th>Accuracy</th>\n",
       "      <th>AUC</th>\n",
       "      <th>Recall</th>\n",
       "      <th>Prec.</th>\n",
       "      <th>F1</th>\n",
       "      <th>Kappa</th>\n",
       "      <th>MCC</th>\n",
       "    </tr>\n",
       "  </thead>\n",
       "  <tbody>\n",
       "    <tr>\n",
       "      <th>0</th>\n",
       "      <td>0.4102</td>\n",
       "      <td>0.6459</td>\n",
       "      <td>0.5239</td>\n",
       "      <td>0.5106</td>\n",
       "      <td>0.3613</td>\n",
       "      <td>0.1776</td>\n",
       "      <td>0.2216</td>\n",
       "    </tr>\n",
       "    <tr>\n",
       "      <th>1</th>\n",
       "      <td>0.4195</td>\n",
       "      <td>0.6445</td>\n",
       "      <td>0.5224</td>\n",
       "      <td>0.5094</td>\n",
       "      <td>0.3821</td>\n",
       "      <td>0.1801</td>\n",
       "      <td>0.2171</td>\n",
       "    </tr>\n",
       "    <tr>\n",
       "      <th>2</th>\n",
       "      <td>0.4127</td>\n",
       "      <td>0.6348</td>\n",
       "      <td>0.5158</td>\n",
       "      <td>0.4998</td>\n",
       "      <td>0.3739</td>\n",
       "      <td>0.1716</td>\n",
       "      <td>0.2073</td>\n",
       "    </tr>\n",
       "    <tr>\n",
       "      <th>3</th>\n",
       "      <td>0.4126</td>\n",
       "      <td>0.6405</td>\n",
       "      <td>0.5201</td>\n",
       "      <td>0.5099</td>\n",
       "      <td>0.3694</td>\n",
       "      <td>0.1762</td>\n",
       "      <td>0.2168</td>\n",
       "    </tr>\n",
       "    <tr>\n",
       "      <th>4</th>\n",
       "      <td>0.4241</td>\n",
       "      <td>0.6410</td>\n",
       "      <td>0.5221</td>\n",
       "      <td>0.5106</td>\n",
       "      <td>0.3909</td>\n",
       "      <td>0.1824</td>\n",
       "      <td>0.2168</td>\n",
       "    </tr>\n",
       "    <tr>\n",
       "      <th>Mean</th>\n",
       "      <td>0.4158</td>\n",
       "      <td>0.6413</td>\n",
       "      <td>0.5209</td>\n",
       "      <td>0.5081</td>\n",
       "      <td>0.3755</td>\n",
       "      <td>0.1776</td>\n",
       "      <td>0.2159</td>\n",
       "    </tr>\n",
       "    <tr>\n",
       "      <th>SD</th>\n",
       "      <td>0.0052</td>\n",
       "      <td>0.0039</td>\n",
       "      <td>0.0028</td>\n",
       "      <td>0.0042</td>\n",
       "      <td>0.0102</td>\n",
       "      <td>0.0037</td>\n",
       "      <td>0.0046</td>\n",
       "    </tr>\n",
       "  </tbody>\n",
       "</table>\n",
       "</div>"
      ],
      "text/plain": [
       "      Accuracy     AUC  Recall   Prec.      F1   Kappa     MCC\n",
       "0       0.4102  0.6459  0.5239  0.5106  0.3613  0.1776  0.2216\n",
       "1       0.4195  0.6445  0.5224  0.5094  0.3821  0.1801  0.2171\n",
       "2       0.4127  0.6348  0.5158  0.4998  0.3739  0.1716  0.2073\n",
       "3       0.4126  0.6405  0.5201  0.5099  0.3694  0.1762  0.2168\n",
       "4       0.4241  0.6410  0.5221  0.5106  0.3909  0.1824  0.2168\n",
       "Mean    0.4158  0.6413  0.5209  0.5081  0.3755  0.1776  0.2159\n",
       "SD      0.0052  0.0039  0.0028  0.0042  0.0102  0.0037  0.0046"
      ]
     },
     "metadata": {
      "tags": []
     },
     "output_type": "display_data"
    }
   ],
   "source": [
    "nb = create_model('nb',\n",
    "                  fold=5)"
   ]
  },
  {
   "cell_type": "code",
   "execution_count": 269,
   "metadata": {
    "colab": {
     "base_uri": "https://localhost:8080/"
    },
    "executionInfo": {
     "elapsed": 20,
     "status": "ok",
     "timestamp": 1628973620782,
     "user": {
      "displayName": "RODRIGO SILVA PERES",
      "photoUrl": "",
      "userId": "00311338069675780007"
     },
     "user_tz": 180
    },
    "id": "CDvEXsWTXXSB",
    "outputId": "189ff5d3-328d-4109-f7f3-816351c338f1"
   },
   "outputs": [
    {
     "data": {
      "text/plain": [
       "GaussianNB(priors=None, var_smoothing=1e-09)"
      ]
     },
     "execution_count": 269,
     "metadata": {
      "tags": []
     },
     "output_type": "execute_result"
    }
   ],
   "source": [
    "nb"
   ]
  },
  {
   "cell_type": "code",
   "execution_count": 270,
   "metadata": {
    "colab": {
     "base_uri": "https://localhost:8080/",
     "height": 266,
     "referenced_widgets": [
      "c745fc26e6f447a5a407cd64e8823aed",
      "e8826e9339f34909976d05a9fce7ab47",
      "834c985de21e433bb80c19ea8525b0d4"
     ]
    },
    "executionInfo": {
     "elapsed": 12338,
     "status": "ok",
     "timestamp": 1628973633108,
     "user": {
      "displayName": "RODRIGO SILVA PERES",
      "photoUrl": "",
      "userId": "00311338069675780007"
     },
     "user_tz": 180
    },
    "id": "uHYA_jvtXXSB",
    "outputId": "0cf2842c-6f58-4f75-bc62-d6bbc3c0fbcb"
   },
   "outputs": [
    {
     "data": {
      "text/html": [
       "<div>\n",
       "<style scoped>\n",
       "    .dataframe tbody tr th:only-of-type {\n",
       "        vertical-align: middle;\n",
       "    }\n",
       "\n",
       "    .dataframe tbody tr th {\n",
       "        vertical-align: top;\n",
       "    }\n",
       "\n",
       "    .dataframe thead th {\n",
       "        text-align: right;\n",
       "    }\n",
       "</style>\n",
       "<table border=\"1\" class=\"dataframe\">\n",
       "  <thead>\n",
       "    <tr style=\"text-align: right;\">\n",
       "      <th></th>\n",
       "      <th>Accuracy</th>\n",
       "      <th>AUC</th>\n",
       "      <th>Recall</th>\n",
       "      <th>Prec.</th>\n",
       "      <th>F1</th>\n",
       "      <th>Kappa</th>\n",
       "      <th>MCC</th>\n",
       "    </tr>\n",
       "  </thead>\n",
       "  <tbody>\n",
       "    <tr>\n",
       "      <th>0</th>\n",
       "      <td>0.5590</td>\n",
       "      <td>0.6511</td>\n",
       "      <td>0.4809</td>\n",
       "      <td>0.5426</td>\n",
       "      <td>0.5398</td>\n",
       "      <td>0.1999</td>\n",
       "      <td>0.2065</td>\n",
       "    </tr>\n",
       "    <tr>\n",
       "      <th>1</th>\n",
       "      <td>0.5545</td>\n",
       "      <td>0.6476</td>\n",
       "      <td>0.4790</td>\n",
       "      <td>0.5397</td>\n",
       "      <td>0.5387</td>\n",
       "      <td>0.1959</td>\n",
       "      <td>0.2010</td>\n",
       "    </tr>\n",
       "    <tr>\n",
       "      <th>2</th>\n",
       "      <td>0.5490</td>\n",
       "      <td>0.6392</td>\n",
       "      <td>0.4684</td>\n",
       "      <td>0.5316</td>\n",
       "      <td>0.5294</td>\n",
       "      <td>0.1803</td>\n",
       "      <td>0.1864</td>\n",
       "    </tr>\n",
       "    <tr>\n",
       "      <th>3</th>\n",
       "      <td>0.5495</td>\n",
       "      <td>0.6413</td>\n",
       "      <td>0.4725</td>\n",
       "      <td>0.5335</td>\n",
       "      <td>0.5334</td>\n",
       "      <td>0.1870</td>\n",
       "      <td>0.1918</td>\n",
       "    </tr>\n",
       "    <tr>\n",
       "      <th>4</th>\n",
       "      <td>0.5516</td>\n",
       "      <td>0.6417</td>\n",
       "      <td>0.4700</td>\n",
       "      <td>0.5336</td>\n",
       "      <td>0.5309</td>\n",
       "      <td>0.1826</td>\n",
       "      <td>0.1894</td>\n",
       "    </tr>\n",
       "    <tr>\n",
       "      <th>Mean</th>\n",
       "      <td>0.5527</td>\n",
       "      <td>0.6442</td>\n",
       "      <td>0.4742</td>\n",
       "      <td>0.5362</td>\n",
       "      <td>0.5344</td>\n",
       "      <td>0.1891</td>\n",
       "      <td>0.1950</td>\n",
       "    </tr>\n",
       "    <tr>\n",
       "      <th>SD</th>\n",
       "      <td>0.0037</td>\n",
       "      <td>0.0044</td>\n",
       "      <td>0.0049</td>\n",
       "      <td>0.0042</td>\n",
       "      <td>0.0041</td>\n",
       "      <td>0.0076</td>\n",
       "      <td>0.0076</td>\n",
       "    </tr>\n",
       "  </tbody>\n",
       "</table>\n",
       "</div>"
      ],
      "text/plain": [
       "      Accuracy     AUC  Recall   Prec.      F1   Kappa     MCC\n",
       "0       0.5590  0.6511  0.4809  0.5426  0.5398  0.1999  0.2065\n",
       "1       0.5545  0.6476  0.4790  0.5397  0.5387  0.1959  0.2010\n",
       "2       0.5490  0.6392  0.4684  0.5316  0.5294  0.1803  0.1864\n",
       "3       0.5495  0.6413  0.4725  0.5335  0.5334  0.1870  0.1918\n",
       "4       0.5516  0.6417  0.4700  0.5336  0.5309  0.1826  0.1894\n",
       "Mean    0.5527  0.6442  0.4742  0.5362  0.5344  0.1891  0.1950\n",
       "SD      0.0037  0.0044  0.0049  0.0042  0.0041  0.0076  0.0076"
      ]
     },
     "metadata": {
      "tags": []
     },
     "output_type": "display_data"
    }
   ],
   "source": [
    "tuned_nb = tune_model(nb,\n",
    "                      n_iter=300,\n",
    "                      fold=5,\n",
    "                      optimize='F1')"
   ]
  },
  {
   "cell_type": "code",
   "execution_count": 271,
   "metadata": {
    "colab": {
     "base_uri": "https://localhost:8080/"
    },
    "executionInfo": {
     "elapsed": 13,
     "status": "ok",
     "timestamp": 1628973633109,
     "user": {
      "displayName": "RODRIGO SILVA PERES",
      "photoUrl": "",
      "userId": "00311338069675780007"
     },
     "user_tz": 180
    },
    "id": "q4Yzsam9XXSC",
    "outputId": "d63406b2-1c76-4091-aa40-775f042a90f3"
   },
   "outputs": [
    {
     "data": {
      "text/plain": [
       "GaussianNB(priors=None, var_smoothing=1)"
      ]
     },
     "execution_count": 271,
     "metadata": {
      "tags": []
     },
     "output_type": "execute_result"
    }
   ],
   "source": [
    "tuned_nb"
   ]
  },
  {
   "cell_type": "markdown",
   "metadata": {
    "id": "JqHTbzQLaPBy"
   },
   "source": [
    "#### Experimento 4 - Dados do RJ, 2019, features do artigo + (computador e internet) e target nota de matemática"
   ]
  },
  {
   "cell_type": "code",
   "execution_count": 272,
   "metadata": {
    "colab": {
     "base_uri": "https://localhost:8080/",
     "height": 1000,
     "referenced_widgets": [
      "626ea0d3cae9470db8fcaa15ee03ff69",
      "2e332f72341c4aa6a0507703ae50e3d0",
      "84f6388045614cf4bc385cb2d79f1faa"
     ]
    },
    "executionInfo": {
     "elapsed": 9213,
     "status": "ok",
     "timestamp": 1628973975521,
     "user": {
      "displayName": "RODRIGO SILVA PERES",
      "photoUrl": "",
      "userId": "00311338069675780007"
     },
     "user_tz": 180
    },
    "id": "kwcH219N6CZL",
    "outputId": "d5145c5c-31be-46e7-d5d0-28c89bfff587"
   },
   "outputs": [
    {
     "data": {
      "text/html": [
       "<div>\n",
       "<style scoped>\n",
       "    .dataframe tbody tr th:only-of-type {\n",
       "        vertical-align: middle;\n",
       "    }\n",
       "\n",
       "    .dataframe tbody tr th {\n",
       "        vertical-align: top;\n",
       "    }\n",
       "\n",
       "    .dataframe thead th {\n",
       "        text-align: right;\n",
       "    }\n",
       "</style>\n",
       "<table border=\"1\" class=\"dataframe\">\n",
       "  <thead>\n",
       "    <tr style=\"text-align: right;\">\n",
       "      <th></th>\n",
       "      <th>Description</th>\n",
       "      <th>Value</th>\n",
       "    </tr>\n",
       "  </thead>\n",
       "  <tbody>\n",
       "    <tr>\n",
       "      <th>0</th>\n",
       "      <td>session_id</td>\n",
       "      <td>7</td>\n",
       "    </tr>\n",
       "    <tr>\n",
       "      <th>1</th>\n",
       "      <td>Target</td>\n",
       "      <td>CLASSE_RENDIMENTO</td>\n",
       "    </tr>\n",
       "    <tr>\n",
       "      <th>2</th>\n",
       "      <td>Target Type</td>\n",
       "      <td>Multiclass</td>\n",
       "    </tr>\n",
       "    <tr>\n",
       "      <th>3</th>\n",
       "      <td>Label Encoded</td>\n",
       "      <td>EXCELENTE: 0, INSUFICIENTE: 1, REGULAR: 2</td>\n",
       "    </tr>\n",
       "    <tr>\n",
       "      <th>4</th>\n",
       "      <td>Original Data</td>\n",
       "      <td>(325364, 9)</td>\n",
       "    </tr>\n",
       "    <tr>\n",
       "      <th>5</th>\n",
       "      <td>Missing Values</td>\n",
       "      <td>True</td>\n",
       "    </tr>\n",
       "    <tr>\n",
       "      <th>6</th>\n",
       "      <td>Numeric Features</td>\n",
       "      <td>0</td>\n",
       "    </tr>\n",
       "    <tr>\n",
       "      <th>7</th>\n",
       "      <td>Categorical Features</td>\n",
       "      <td>7</td>\n",
       "    </tr>\n",
       "    <tr>\n",
       "      <th>8</th>\n",
       "      <td>Ordinal Features</td>\n",
       "      <td>False</td>\n",
       "    </tr>\n",
       "    <tr>\n",
       "      <th>9</th>\n",
       "      <td>High Cardinality Features</td>\n",
       "      <td>False</td>\n",
       "    </tr>\n",
       "    <tr>\n",
       "      <th>10</th>\n",
       "      <td>High Cardinality Method</td>\n",
       "      <td>None</td>\n",
       "    </tr>\n",
       "    <tr>\n",
       "      <th>11</th>\n",
       "      <td>Transformed Train Set</td>\n",
       "      <td>(188790, 25)</td>\n",
       "    </tr>\n",
       "    <tr>\n",
       "      <th>12</th>\n",
       "      <td>Transformed Test Set</td>\n",
       "      <td>(47043, 25)</td>\n",
       "    </tr>\n",
       "    <tr>\n",
       "      <th>13</th>\n",
       "      <td>Shuffle Train-Test</td>\n",
       "      <td>True</td>\n",
       "    </tr>\n",
       "    <tr>\n",
       "      <th>14</th>\n",
       "      <td>Stratify Train-Test</td>\n",
       "      <td>False</td>\n",
       "    </tr>\n",
       "    <tr>\n",
       "      <th>15</th>\n",
       "      <td>Fold Generator</td>\n",
       "      <td>StratifiedKFold</td>\n",
       "    </tr>\n",
       "    <tr>\n",
       "      <th>16</th>\n",
       "      <td>Fold Number</td>\n",
       "      <td>5</td>\n",
       "    </tr>\n",
       "    <tr>\n",
       "      <th>17</th>\n",
       "      <td>CPU Jobs</td>\n",
       "      <td>-1</td>\n",
       "    </tr>\n",
       "    <tr>\n",
       "      <th>18</th>\n",
       "      <td>Use GPU</td>\n",
       "      <td>True</td>\n",
       "    </tr>\n",
       "    <tr>\n",
       "      <th>19</th>\n",
       "      <td>Log Experiment</td>\n",
       "      <td>False</td>\n",
       "    </tr>\n",
       "    <tr>\n",
       "      <th>20</th>\n",
       "      <td>Experiment Name</td>\n",
       "      <td>clf-default-name</td>\n",
       "    </tr>\n",
       "    <tr>\n",
       "      <th>21</th>\n",
       "      <td>USI</td>\n",
       "      <td>3622</td>\n",
       "    </tr>\n",
       "    <tr>\n",
       "      <th>22</th>\n",
       "      <td>Imputation Type</td>\n",
       "      <td>simple</td>\n",
       "    </tr>\n",
       "    <tr>\n",
       "      <th>23</th>\n",
       "      <td>Iterative Imputation Iteration</td>\n",
       "      <td>None</td>\n",
       "    </tr>\n",
       "    <tr>\n",
       "      <th>24</th>\n",
       "      <td>Numeric Imputer</td>\n",
       "      <td>mean</td>\n",
       "    </tr>\n",
       "    <tr>\n",
       "      <th>25</th>\n",
       "      <td>Iterative Imputation Numeric Model</td>\n",
       "      <td>None</td>\n",
       "    </tr>\n",
       "    <tr>\n",
       "      <th>26</th>\n",
       "      <td>Categorical Imputer</td>\n",
       "      <td>constant</td>\n",
       "    </tr>\n",
       "    <tr>\n",
       "      <th>27</th>\n",
       "      <td>Iterative Imputation Categorical Model</td>\n",
       "      <td>None</td>\n",
       "    </tr>\n",
       "    <tr>\n",
       "      <th>28</th>\n",
       "      <td>Unknown Categoricals Handling</td>\n",
       "      <td>least_frequent</td>\n",
       "    </tr>\n",
       "    <tr>\n",
       "      <th>29</th>\n",
       "      <td>Normalize</td>\n",
       "      <td>False</td>\n",
       "    </tr>\n",
       "    <tr>\n",
       "      <th>30</th>\n",
       "      <td>Normalize Method</td>\n",
       "      <td>None</td>\n",
       "    </tr>\n",
       "    <tr>\n",
       "      <th>31</th>\n",
       "      <td>Transformation</td>\n",
       "      <td>False</td>\n",
       "    </tr>\n",
       "    <tr>\n",
       "      <th>32</th>\n",
       "      <td>Transformation Method</td>\n",
       "      <td>None</td>\n",
       "    </tr>\n",
       "    <tr>\n",
       "      <th>33</th>\n",
       "      <td>PCA</td>\n",
       "      <td>False</td>\n",
       "    </tr>\n",
       "    <tr>\n",
       "      <th>34</th>\n",
       "      <td>PCA Method</td>\n",
       "      <td>None</td>\n",
       "    </tr>\n",
       "    <tr>\n",
       "      <th>35</th>\n",
       "      <td>PCA Components</td>\n",
       "      <td>None</td>\n",
       "    </tr>\n",
       "    <tr>\n",
       "      <th>36</th>\n",
       "      <td>Ignore Low Variance</td>\n",
       "      <td>False</td>\n",
       "    </tr>\n",
       "    <tr>\n",
       "      <th>37</th>\n",
       "      <td>Combine Rare Levels</td>\n",
       "      <td>False</td>\n",
       "    </tr>\n",
       "    <tr>\n",
       "      <th>38</th>\n",
       "      <td>Rare Level Threshold</td>\n",
       "      <td>None</td>\n",
       "    </tr>\n",
       "    <tr>\n",
       "      <th>39</th>\n",
       "      <td>Numeric Binning</td>\n",
       "      <td>False</td>\n",
       "    </tr>\n",
       "    <tr>\n",
       "      <th>40</th>\n",
       "      <td>Remove Outliers</td>\n",
       "      <td>False</td>\n",
       "    </tr>\n",
       "    <tr>\n",
       "      <th>41</th>\n",
       "      <td>Outliers Threshold</td>\n",
       "      <td>None</td>\n",
       "    </tr>\n",
       "    <tr>\n",
       "      <th>42</th>\n",
       "      <td>Remove Multicollinearity</td>\n",
       "      <td>False</td>\n",
       "    </tr>\n",
       "    <tr>\n",
       "      <th>43</th>\n",
       "      <td>Multicollinearity Threshold</td>\n",
       "      <td>None</td>\n",
       "    </tr>\n",
       "    <tr>\n",
       "      <th>44</th>\n",
       "      <td>Remove Perfect Collinearity</td>\n",
       "      <td>True</td>\n",
       "    </tr>\n",
       "    <tr>\n",
       "      <th>45</th>\n",
       "      <td>Clustering</td>\n",
       "      <td>False</td>\n",
       "    </tr>\n",
       "    <tr>\n",
       "      <th>46</th>\n",
       "      <td>Clustering Iteration</td>\n",
       "      <td>None</td>\n",
       "    </tr>\n",
       "    <tr>\n",
       "      <th>47</th>\n",
       "      <td>Polynomial Features</td>\n",
       "      <td>False</td>\n",
       "    </tr>\n",
       "    <tr>\n",
       "      <th>48</th>\n",
       "      <td>Polynomial Degree</td>\n",
       "      <td>None</td>\n",
       "    </tr>\n",
       "    <tr>\n",
       "      <th>49</th>\n",
       "      <td>Trignometry Features</td>\n",
       "      <td>False</td>\n",
       "    </tr>\n",
       "    <tr>\n",
       "      <th>50</th>\n",
       "      <td>Polynomial Threshold</td>\n",
       "      <td>None</td>\n",
       "    </tr>\n",
       "    <tr>\n",
       "      <th>51</th>\n",
       "      <td>Group Features</td>\n",
       "      <td>False</td>\n",
       "    </tr>\n",
       "    <tr>\n",
       "      <th>52</th>\n",
       "      <td>Feature Selection</td>\n",
       "      <td>False</td>\n",
       "    </tr>\n",
       "    <tr>\n",
       "      <th>53</th>\n",
       "      <td>Feature Selection Method</td>\n",
       "      <td>classic</td>\n",
       "    </tr>\n",
       "    <tr>\n",
       "      <th>54</th>\n",
       "      <td>Features Selection Threshold</td>\n",
       "      <td>None</td>\n",
       "    </tr>\n",
       "    <tr>\n",
       "      <th>55</th>\n",
       "      <td>Feature Interaction</td>\n",
       "      <td>False</td>\n",
       "    </tr>\n",
       "    <tr>\n",
       "      <th>56</th>\n",
       "      <td>Feature Ratio</td>\n",
       "      <td>False</td>\n",
       "    </tr>\n",
       "    <tr>\n",
       "      <th>57</th>\n",
       "      <td>Interaction Threshold</td>\n",
       "      <td>None</td>\n",
       "    </tr>\n",
       "    <tr>\n",
       "      <th>58</th>\n",
       "      <td>Fix Imbalance</td>\n",
       "      <td>False</td>\n",
       "    </tr>\n",
       "    <tr>\n",
       "      <th>59</th>\n",
       "      <td>Fix Imbalance Method</td>\n",
       "      <td>SMOTE</td>\n",
       "    </tr>\n",
       "  </tbody>\n",
       "</table>\n",
       "</div>"
      ],
      "text/plain": [
       "                               Description                                      Value\n",
       "0                               session_id                                          7\n",
       "1                                   Target                          CLASSE_RENDIMENTO\n",
       "2                              Target Type                                 Multiclass\n",
       "3                            Label Encoded  EXCELENTE: 0, INSUFICIENTE: 1, REGULAR: 2\n",
       "4                            Original Data                                (325364, 9)\n",
       "5                           Missing Values                                       True\n",
       "6                         Numeric Features                                          0\n",
       "7                     Categorical Features                                          7\n",
       "8                         Ordinal Features                                      False\n",
       "9                High Cardinality Features                                      False\n",
       "10                 High Cardinality Method                                       None\n",
       "11                   Transformed Train Set                               (188790, 25)\n",
       "12                    Transformed Test Set                                (47043, 25)\n",
       "13                      Shuffle Train-Test                                       True\n",
       "14                     Stratify Train-Test                                      False\n",
       "15                          Fold Generator                            StratifiedKFold\n",
       "16                             Fold Number                                          5\n",
       "17                                CPU Jobs                                         -1\n",
       "18                                 Use GPU                                       True\n",
       "19                          Log Experiment                                      False\n",
       "20                         Experiment Name                           clf-default-name\n",
       "21                                     USI                                       3622\n",
       "22                         Imputation Type                                     simple\n",
       "23          Iterative Imputation Iteration                                       None\n",
       "24                         Numeric Imputer                                       mean\n",
       "25      Iterative Imputation Numeric Model                                       None\n",
       "26                     Categorical Imputer                                   constant\n",
       "27  Iterative Imputation Categorical Model                                       None\n",
       "28           Unknown Categoricals Handling                             least_frequent\n",
       "29                               Normalize                                      False\n",
       "30                        Normalize Method                                       None\n",
       "31                          Transformation                                      False\n",
       "32                   Transformation Method                                       None\n",
       "33                                     PCA                                      False\n",
       "34                              PCA Method                                       None\n",
       "35                          PCA Components                                       None\n",
       "36                     Ignore Low Variance                                      False\n",
       "37                     Combine Rare Levels                                      False\n",
       "38                    Rare Level Threshold                                       None\n",
       "39                         Numeric Binning                                      False\n",
       "40                         Remove Outliers                                      False\n",
       "41                      Outliers Threshold                                       None\n",
       "42                Remove Multicollinearity                                      False\n",
       "43             Multicollinearity Threshold                                       None\n",
       "44             Remove Perfect Collinearity                                       True\n",
       "45                              Clustering                                      False\n",
       "46                    Clustering Iteration                                       None\n",
       "47                     Polynomial Features                                      False\n",
       "48                       Polynomial Degree                                       None\n",
       "49                    Trignometry Features                                      False\n",
       "50                    Polynomial Threshold                                       None\n",
       "51                          Group Features                                      False\n",
       "52                       Feature Selection                                      False\n",
       "53                Feature Selection Method                                    classic\n",
       "54            Features Selection Threshold                                       None\n",
       "55                     Feature Interaction                                      False\n",
       "56                           Feature Ratio                                      False\n",
       "57                   Interaction Threshold                                       None\n",
       "58                           Fix Imbalance                                      False\n",
       "59                    Fix Imbalance Method                                      SMOTE"
      ]
     },
     "metadata": {
      "tags": []
     },
     "output_type": "display_data"
    }
   ],
   "source": [
    "from pycaret.classification import *\n",
    "\n",
    "init = setup(data=microdados_rj,\n",
    "             ignore_features=['CLASSE_RENDIMENTO_GERAL'],\n",
    "             target='CLASSE_RENDIMENTO',\n",
    "             train_size=0.8,\n",
    "             fold=5,\n",
    "             fix_imbalance=False,\n",
    "             use_gpu=True,\n",
    "             silent=True,\n",
    "             session_id=7)"
   ]
  },
  {
   "cell_type": "code",
   "execution_count": 275,
   "metadata": {
    "colab": {
     "base_uri": "https://localhost:8080/",
     "height": 354,
     "referenced_widgets": [
      "d23d2799bc7a424fa725bf7c41953cb4",
      "3fb77f7024444f4ba2c3f34b13062f1d",
      "493278298bfa4949ae7f36f1db9198b4"
     ]
    },
    "executionInfo": {
     "elapsed": 590574,
     "status": "ok",
     "timestamp": 1628974590660,
     "user": {
      "displayName": "RODRIGO SILVA PERES",
      "photoUrl": "",
      "userId": "00311338069675780007"
     },
     "user_tz": 180
    },
    "id": "2arOL39T6V8d",
    "outputId": "36ddcf6c-bd18-43cf-cbf8-4d5b364320b9"
   },
   "outputs": [
    {
     "data": {
      "text/html": [
       "<div>\n",
       "<style scoped>\n",
       "    .dataframe tbody tr th:only-of-type {\n",
       "        vertical-align: middle;\n",
       "    }\n",
       "\n",
       "    .dataframe tbody tr th {\n",
       "        vertical-align: top;\n",
       "    }\n",
       "\n",
       "    .dataframe thead th {\n",
       "        text-align: right;\n",
       "    }\n",
       "</style>\n",
       "<table border=\"1\" class=\"dataframe\">\n",
       "  <thead>\n",
       "    <tr style=\"text-align: right;\">\n",
       "      <th></th>\n",
       "      <th>Model</th>\n",
       "      <th>Accuracy</th>\n",
       "      <th>AUC</th>\n",
       "      <th>Recall</th>\n",
       "      <th>Prec.</th>\n",
       "      <th>F1</th>\n",
       "      <th>Kappa</th>\n",
       "      <th>MCC</th>\n",
       "      <th>TT (Sec)</th>\n",
       "    </tr>\n",
       "  </thead>\n",
       "  <tbody>\n",
       "    <tr>\n",
       "      <th>lightgbm</th>\n",
       "      <td>Light Gradient Boosting Machine</td>\n",
       "      <td>0.5804</td>\n",
       "      <td>0.6591</td>\n",
       "      <td>0.4394</td>\n",
       "      <td>0.5706</td>\n",
       "      <td>0.5145</td>\n",
       "      <td>0.1609</td>\n",
       "      <td>0.2003</td>\n",
       "      <td>4.502</td>\n",
       "    </tr>\n",
       "    <tr>\n",
       "      <th>lr</th>\n",
       "      <td>Logistic Regression</td>\n",
       "      <td>0.5785</td>\n",
       "      <td>0.6585</td>\n",
       "      <td>0.4436</td>\n",
       "      <td>0.5670</td>\n",
       "      <td>0.5149</td>\n",
       "      <td>0.1642</td>\n",
       "      <td>0.2002</td>\n",
       "      <td>11.354</td>\n",
       "    </tr>\n",
       "    <tr>\n",
       "      <th>rf</th>\n",
       "      <td>Random Forest Classifier</td>\n",
       "      <td>0.5773</td>\n",
       "      <td>0.6516</td>\n",
       "      <td>0.4425</td>\n",
       "      <td>0.5614</td>\n",
       "      <td>0.5184</td>\n",
       "      <td>0.1636</td>\n",
       "      <td>0.1966</td>\n",
       "      <td>9.534</td>\n",
       "    </tr>\n",
       "    <tr>\n",
       "      <th>dt</th>\n",
       "      <td>Decision Tree Classifier</td>\n",
       "      <td>0.5761</td>\n",
       "      <td>0.6508</td>\n",
       "      <td>0.4431</td>\n",
       "      <td>0.5587</td>\n",
       "      <td>0.5187</td>\n",
       "      <td>0.1637</td>\n",
       "      <td>0.1950</td>\n",
       "      <td>0.418</td>\n",
       "    </tr>\n",
       "    <tr>\n",
       "      <th>knn</th>\n",
       "      <td>K Neighbors Classifier</td>\n",
       "      <td>0.5063</td>\n",
       "      <td>0.5982</td>\n",
       "      <td>0.4489</td>\n",
       "      <td>0.4941</td>\n",
       "      <td>0.4971</td>\n",
       "      <td>0.1418</td>\n",
       "      <td>0.1430</td>\n",
       "      <td>90.842</td>\n",
       "    </tr>\n",
       "    <tr>\n",
       "      <th>nb</th>\n",
       "      <td>Naive Bayes</td>\n",
       "      <td>0.4158</td>\n",
       "      <td>0.6456</td>\n",
       "      <td>0.5287</td>\n",
       "      <td>0.5108</td>\n",
       "      <td>0.3713</td>\n",
       "      <td>0.1839</td>\n",
       "      <td>0.2232</td>\n",
       "      <td>0.250</td>\n",
       "    </tr>\n",
       "  </tbody>\n",
       "</table>\n",
       "</div>"
      ],
      "text/plain": [
       "                                    Model  Accuracy     AUC  Recall   Prec.  \\\n",
       "lightgbm  Light Gradient Boosting Machine    0.5804  0.6591  0.4394  0.5706   \n",
       "lr                    Logistic Regression    0.5785  0.6585  0.4436  0.5670   \n",
       "rf               Random Forest Classifier    0.5773  0.6516  0.4425  0.5614   \n",
       "dt               Decision Tree Classifier    0.5761  0.6508  0.4431  0.5587   \n",
       "knn                K Neighbors Classifier    0.5063  0.5982  0.4489  0.4941   \n",
       "nb                            Naive Bayes    0.4158  0.6456  0.5287  0.5108   \n",
       "\n",
       "              F1   Kappa     MCC  TT (Sec)  \n",
       "lightgbm  0.5145  0.1609  0.2003     4.502  \n",
       "lr        0.5149  0.1642  0.2002    11.354  \n",
       "rf        0.5184  0.1636  0.1966     9.534  \n",
       "dt        0.5187  0.1637  0.1950     0.418  \n",
       "knn       0.4971  0.1418  0.1430    90.842  \n",
       "nb        0.3713  0.1839  0.2232     0.250  "
      ]
     },
     "metadata": {
      "tags": []
     },
     "output_type": "display_data"
    },
    {
     "data": {
      "text/plain": [
       "LGBMClassifier(boosting_type='gbdt', class_weight=None, colsample_bytree=1.0,\n",
       "               device='gpu', importance_type='split', learning_rate=0.1,\n",
       "               max_depth=-1, min_child_samples=20, min_child_weight=0.001,\n",
       "               min_split_gain=0.0, n_estimators=100, n_jobs=-1, num_leaves=31,\n",
       "               objective=None, random_state=7, reg_alpha=0.0, reg_lambda=0.0,\n",
       "               silent=True, subsample=1.0, subsample_for_bin=200000,\n",
       "               subsample_freq=0)"
      ]
     },
     "execution_count": 275,
     "metadata": {
      "tags": []
     },
     "output_type": "execute_result"
    }
   ],
   "source": [
    "compare_models(include=['lr', 'dt', \n",
    "                        'rf', 'nb',\n",
    "                        'knn', 'lightgbm'], fold=5)"
   ]
  },
  {
   "cell_type": "code",
   "execution_count": 276,
   "metadata": {
    "colab": {
     "base_uri": "https://localhost:8080/",
     "height": 266,
     "referenced_widgets": [
      "70055b746d2c4b938f5f7f6e7c88860a",
      "2c15a0823ad64486b4f609532ed39c88",
      "163339425f1843aeb65a0ddde72a0de3"
     ]
    },
    "executionInfo": {
     "elapsed": 1662,
     "status": "ok",
     "timestamp": 1628974592301,
     "user": {
      "displayName": "RODRIGO SILVA PERES",
      "photoUrl": "",
      "userId": "00311338069675780007"
     },
     "user_tz": 180
    },
    "id": "NxDQtFplbNnN",
    "outputId": "c1bf8e63-5de5-4320-c314-bec586314ea5"
   },
   "outputs": [
    {
     "data": {
      "text/html": [
       "<div>\n",
       "<style scoped>\n",
       "    .dataframe tbody tr th:only-of-type {\n",
       "        vertical-align: middle;\n",
       "    }\n",
       "\n",
       "    .dataframe tbody tr th {\n",
       "        vertical-align: top;\n",
       "    }\n",
       "\n",
       "    .dataframe thead th {\n",
       "        text-align: right;\n",
       "    }\n",
       "</style>\n",
       "<table border=\"1\" class=\"dataframe\">\n",
       "  <thead>\n",
       "    <tr style=\"text-align: right;\">\n",
       "      <th></th>\n",
       "      <th>Accuracy</th>\n",
       "      <th>AUC</th>\n",
       "      <th>Recall</th>\n",
       "      <th>Prec.</th>\n",
       "      <th>F1</th>\n",
       "      <th>Kappa</th>\n",
       "      <th>MCC</th>\n",
       "    </tr>\n",
       "  </thead>\n",
       "  <tbody>\n",
       "    <tr>\n",
       "      <th>0</th>\n",
       "      <td>0.4157</td>\n",
       "      <td>0.6507</td>\n",
       "      <td>0.5321</td>\n",
       "      <td>0.5149</td>\n",
       "      <td>0.3683</td>\n",
       "      <td>0.1864</td>\n",
       "      <td>0.2282</td>\n",
       "    </tr>\n",
       "    <tr>\n",
       "      <th>1</th>\n",
       "      <td>0.4157</td>\n",
       "      <td>0.6487</td>\n",
       "      <td>0.5306</td>\n",
       "      <td>0.5119</td>\n",
       "      <td>0.3698</td>\n",
       "      <td>0.1851</td>\n",
       "      <td>0.2254</td>\n",
       "    </tr>\n",
       "    <tr>\n",
       "      <th>2</th>\n",
       "      <td>0.4132</td>\n",
       "      <td>0.6398</td>\n",
       "      <td>0.5244</td>\n",
       "      <td>0.5020</td>\n",
       "      <td>0.3704</td>\n",
       "      <td>0.1784</td>\n",
       "      <td>0.2152</td>\n",
       "    </tr>\n",
       "    <tr>\n",
       "      <th>3</th>\n",
       "      <td>0.4154</td>\n",
       "      <td>0.6450</td>\n",
       "      <td>0.5290</td>\n",
       "      <td>0.5150</td>\n",
       "      <td>0.3697</td>\n",
       "      <td>0.1849</td>\n",
       "      <td>0.2257</td>\n",
       "    </tr>\n",
       "    <tr>\n",
       "      <th>4</th>\n",
       "      <td>0.4190</td>\n",
       "      <td>0.6436</td>\n",
       "      <td>0.5276</td>\n",
       "      <td>0.5102</td>\n",
       "      <td>0.3785</td>\n",
       "      <td>0.1847</td>\n",
       "      <td>0.2217</td>\n",
       "    </tr>\n",
       "    <tr>\n",
       "      <th>Mean</th>\n",
       "      <td>0.4158</td>\n",
       "      <td>0.6456</td>\n",
       "      <td>0.5287</td>\n",
       "      <td>0.5108</td>\n",
       "      <td>0.3713</td>\n",
       "      <td>0.1839</td>\n",
       "      <td>0.2232</td>\n",
       "    </tr>\n",
       "    <tr>\n",
       "      <th>SD</th>\n",
       "      <td>0.0019</td>\n",
       "      <td>0.0038</td>\n",
       "      <td>0.0027</td>\n",
       "      <td>0.0048</td>\n",
       "      <td>0.0036</td>\n",
       "      <td>0.0028</td>\n",
       "      <td>0.0045</td>\n",
       "    </tr>\n",
       "  </tbody>\n",
       "</table>\n",
       "</div>"
      ],
      "text/plain": [
       "      Accuracy     AUC  Recall   Prec.      F1   Kappa     MCC\n",
       "0       0.4157  0.6507  0.5321  0.5149  0.3683  0.1864  0.2282\n",
       "1       0.4157  0.6487  0.5306  0.5119  0.3698  0.1851  0.2254\n",
       "2       0.4132  0.6398  0.5244  0.5020  0.3704  0.1784  0.2152\n",
       "3       0.4154  0.6450  0.5290  0.5150  0.3697  0.1849  0.2257\n",
       "4       0.4190  0.6436  0.5276  0.5102  0.3785  0.1847  0.2217\n",
       "Mean    0.4158  0.6456  0.5287  0.5108  0.3713  0.1839  0.2232\n",
       "SD      0.0019  0.0038  0.0027  0.0048  0.0036  0.0028  0.0045"
      ]
     },
     "metadata": {
      "tags": []
     },
     "output_type": "display_data"
    }
   ],
   "source": [
    "nb = create_model('nb',\n",
    "                  fold=5)"
   ]
  },
  {
   "cell_type": "code",
   "execution_count": 277,
   "metadata": {
    "colab": {
     "base_uri": "https://localhost:8080/"
    },
    "executionInfo": {
     "elapsed": 21,
     "status": "ok",
     "timestamp": 1628974592303,
     "user": {
      "displayName": "RODRIGO SILVA PERES",
      "photoUrl": "",
      "userId": "00311338069675780007"
     },
     "user_tz": 180
    },
    "id": "K5b74FHZbNnb",
    "outputId": "8385cda8-9ba6-4fd6-8e58-a200a436256c"
   },
   "outputs": [
    {
     "data": {
      "text/plain": [
       "GaussianNB(priors=None, var_smoothing=1e-09)"
      ]
     },
     "execution_count": 277,
     "metadata": {
      "tags": []
     },
     "output_type": "execute_result"
    }
   ],
   "source": [
    "nb"
   ]
  },
  {
   "cell_type": "code",
   "execution_count": 278,
   "metadata": {
    "colab": {
     "base_uri": "https://localhost:8080/",
     "height": 266,
     "referenced_widgets": [
      "2234b689a6ce47628a22a7f79e7cd77c",
      "5b2a10eca64d48c199aecfa42e24bfed",
      "b8423323c74446c3b1f8c4ac45081ec3"
     ]
    },
    "executionInfo": {
     "elapsed": 14539,
     "status": "ok",
     "timestamp": 1628974606829,
     "user": {
      "displayName": "RODRIGO SILVA PERES",
      "photoUrl": "",
      "userId": "00311338069675780007"
     },
     "user_tz": 180
    },
    "id": "VR3rN5zibNnc",
    "outputId": "3d7cdd3a-4cdd-4286-8c1f-c18294648cc7"
   },
   "outputs": [
    {
     "data": {
      "text/html": [
       "<div>\n",
       "<style scoped>\n",
       "    .dataframe tbody tr th:only-of-type {\n",
       "        vertical-align: middle;\n",
       "    }\n",
       "\n",
       "    .dataframe tbody tr th {\n",
       "        vertical-align: top;\n",
       "    }\n",
       "\n",
       "    .dataframe thead th {\n",
       "        text-align: right;\n",
       "    }\n",
       "</style>\n",
       "<table border=\"1\" class=\"dataframe\">\n",
       "  <thead>\n",
       "    <tr style=\"text-align: right;\">\n",
       "      <th></th>\n",
       "      <th>Accuracy</th>\n",
       "      <th>AUC</th>\n",
       "      <th>Recall</th>\n",
       "      <th>Prec.</th>\n",
       "      <th>F1</th>\n",
       "      <th>Kappa</th>\n",
       "      <th>MCC</th>\n",
       "    </tr>\n",
       "  </thead>\n",
       "  <tbody>\n",
       "    <tr>\n",
       "      <th>0</th>\n",
       "      <td>0.5549</td>\n",
       "      <td>0.6560</td>\n",
       "      <td>0.4957</td>\n",
       "      <td>0.5426</td>\n",
       "      <td>0.5401</td>\n",
       "      <td>0.2119</td>\n",
       "      <td>0.2163</td>\n",
       "    </tr>\n",
       "    <tr>\n",
       "      <th>1</th>\n",
       "      <td>0.5574</td>\n",
       "      <td>0.6528</td>\n",
       "      <td>0.4953</td>\n",
       "      <td>0.5448</td>\n",
       "      <td>0.5426</td>\n",
       "      <td>0.2136</td>\n",
       "      <td>0.2181</td>\n",
       "    </tr>\n",
       "    <tr>\n",
       "      <th>2</th>\n",
       "      <td>0.5457</td>\n",
       "      <td>0.6441</td>\n",
       "      <td>0.4857</td>\n",
       "      <td>0.5335</td>\n",
       "      <td>0.5324</td>\n",
       "      <td>0.1966</td>\n",
       "      <td>0.2002</td>\n",
       "    </tr>\n",
       "    <tr>\n",
       "      <th>3</th>\n",
       "      <td>0.5516</td>\n",
       "      <td>0.6479</td>\n",
       "      <td>0.4896</td>\n",
       "      <td>0.5384</td>\n",
       "      <td>0.5377</td>\n",
       "      <td>0.2044</td>\n",
       "      <td>0.2083</td>\n",
       "    </tr>\n",
       "    <tr>\n",
       "      <th>4</th>\n",
       "      <td>0.5510</td>\n",
       "      <td>0.6462</td>\n",
       "      <td>0.4877</td>\n",
       "      <td>0.5375</td>\n",
       "      <td>0.5353</td>\n",
       "      <td>0.2004</td>\n",
       "      <td>0.2051</td>\n",
       "    </tr>\n",
       "    <tr>\n",
       "      <th>Mean</th>\n",
       "      <td>0.5521</td>\n",
       "      <td>0.6494</td>\n",
       "      <td>0.4908</td>\n",
       "      <td>0.5394</td>\n",
       "      <td>0.5376</td>\n",
       "      <td>0.2054</td>\n",
       "      <td>0.2096</td>\n",
       "    </tr>\n",
       "    <tr>\n",
       "      <th>SD</th>\n",
       "      <td>0.0040</td>\n",
       "      <td>0.0044</td>\n",
       "      <td>0.0040</td>\n",
       "      <td>0.0040</td>\n",
       "      <td>0.0036</td>\n",
       "      <td>0.0065</td>\n",
       "      <td>0.0068</td>\n",
       "    </tr>\n",
       "  </tbody>\n",
       "</table>\n",
       "</div>"
      ],
      "text/plain": [
       "      Accuracy     AUC  Recall   Prec.      F1   Kappa     MCC\n",
       "0       0.5549  0.6560  0.4957  0.5426  0.5401  0.2119  0.2163\n",
       "1       0.5574  0.6528  0.4953  0.5448  0.5426  0.2136  0.2181\n",
       "2       0.5457  0.6441  0.4857  0.5335  0.5324  0.1966  0.2002\n",
       "3       0.5516  0.6479  0.4896  0.5384  0.5377  0.2044  0.2083\n",
       "4       0.5510  0.6462  0.4877  0.5375  0.5353  0.2004  0.2051\n",
       "Mean    0.5521  0.6494  0.4908  0.5394  0.5376  0.2054  0.2096\n",
       "SD      0.0040  0.0044  0.0040  0.0040  0.0036  0.0065  0.0068"
      ]
     },
     "metadata": {
      "tags": []
     },
     "output_type": "display_data"
    }
   ],
   "source": [
    "tuned_nb = tune_model(nb,\n",
    "                      n_iter=300,\n",
    "                      fold=5,\n",
    "                      optimize='F1')"
   ]
  },
  {
   "cell_type": "code",
   "execution_count": 279,
   "metadata": {
    "colab": {
     "base_uri": "https://localhost:8080/"
    },
    "executionInfo": {
     "elapsed": 32,
     "status": "ok",
     "timestamp": 1628974606830,
     "user": {
      "displayName": "RODRIGO SILVA PERES",
      "photoUrl": "",
      "userId": "00311338069675780007"
     },
     "user_tz": 180
    },
    "id": "15yqKpZ8bNne",
    "outputId": "2b735470-91e3-4320-c648-dcab08296ad1"
   },
   "outputs": [
    {
     "data": {
      "text/plain": [
       "GaussianNB(priors=None, var_smoothing=1)"
      ]
     },
     "execution_count": 279,
     "metadata": {
      "tags": []
     },
     "output_type": "execute_result"
    }
   ],
   "source": [
    "tuned_nb"
   ]
  }
 ],
 "metadata": {
  "accelerator": "GPU",
  "colab": {
   "authorship_tag": "ABX9TyMVn0mPq1YG7ihXu3dimDYP",
   "name": "Cópia de ENEM - ML.ipynb",
   "provenance": []
  },
  "environment": {
   "name": "tf2-gpu.2-5.m76",
   "type": "gcloud",
   "uri": "gcr.io/deeplearning-platform-release/tf2-gpu.2-5:m76"
  },
  "kernelspec": {
   "display_name": "Python 3",
   "language": "python",
   "name": "python3"
  },
  "language_info": {
   "codemirror_mode": {
    "name": "ipython",
    "version": 3
   },
   "file_extension": ".py",
   "mimetype": "text/x-python",
   "name": "python",
   "nbconvert_exporter": "python",
   "pygments_lexer": "ipython3",
   "version": "3.7.10"
  },
  "widgets": {
   "application/vnd.jupyter.widget-state+json": {
    "0cef4242b70345f282b2be06c6baf807": {
     "model_module": "@jupyter-widgets/base",
     "model_module_version": "1.2.0",
     "model_name": "LayoutModel",
     "state": {
      "_model_module": "@jupyter-widgets/base",
      "_model_module_version": "1.2.0",
      "_model_name": "LayoutModel",
      "_view_count": null,
      "_view_module": "@jupyter-widgets/base",
      "_view_module_version": "1.2.0",
      "_view_name": "LayoutView",
      "align_content": null,
      "align_items": null,
      "align_self": null,
      "border": null,
      "bottom": null,
      "display": null,
      "flex": null,
      "flex_flow": null,
      "grid_area": null,
      "grid_auto_columns": null,
      "grid_auto_flow": null,
      "grid_auto_rows": null,
      "grid_column": null,
      "grid_gap": null,
      "grid_row": null,
      "grid_template_areas": null,
      "grid_template_columns": null,
      "grid_template_rows": null,
      "height": null,
      "justify_content": null,
      "justify_items": null,
      "left": null,
      "margin": null,
      "max_height": null,
      "max_width": null,
      "min_height": null,
      "min_width": null,
      "object_fit": null,
      "object_position": null,
      "order": null,
      "overflow": null,
      "overflow_x": null,
      "overflow_y": null,
      "padding": null,
      "right": null,
      "top": null,
      "visibility": null,
      "width": null
     }
    },
    "0dc9d00888c445949d4304bbec65545e": {
     "model_module": "@jupyter-widgets/base",
     "model_module_version": "1.2.0",
     "model_name": "LayoutModel",
     "state": {
      "_model_module": "@jupyter-widgets/base",
      "_model_module_version": "1.2.0",
      "_model_name": "LayoutModel",
      "_view_count": null,
      "_view_module": "@jupyter-widgets/base",
      "_view_module_version": "1.2.0",
      "_view_name": "LayoutView",
      "align_content": null,
      "align_items": null,
      "align_self": null,
      "border": null,
      "bottom": null,
      "display": null,
      "flex": null,
      "flex_flow": null,
      "grid_area": null,
      "grid_auto_columns": null,
      "grid_auto_flow": null,
      "grid_auto_rows": null,
      "grid_column": null,
      "grid_gap": null,
      "grid_row": null,
      "grid_template_areas": null,
      "grid_template_columns": null,
      "grid_template_rows": null,
      "height": null,
      "justify_content": null,
      "justify_items": null,
      "left": null,
      "margin": null,
      "max_height": null,
      "max_width": null,
      "min_height": null,
      "min_width": null,
      "object_fit": null,
      "object_position": null,
      "order": null,
      "overflow": null,
      "overflow_x": null,
      "overflow_y": null,
      "padding": null,
      "right": null,
      "top": null,
      "visibility": null,
      "width": null
     }
    },
    "0dd7375d9df84355b94c1ea262f522af": {
     "model_module": "@jupyter-widgets/controls",
     "model_module_version": "1.5.0",
     "model_name": "IntProgressModel",
     "state": {
      "_dom_classes": [],
      "_model_module": "@jupyter-widgets/controls",
      "_model_module_version": "1.5.0",
      "_model_name": "IntProgressModel",
      "_view_count": null,
      "_view_module": "@jupyter-widgets/controls",
      "_view_module_version": "1.5.0",
      "_view_name": "ProgressView",
      "bar_style": "",
      "description": "Processing: ",
      "description_tooltip": null,
      "layout": "IPY_MODEL_a8fd9b75b68340b8a429fbaa515416fd",
      "max": 7,
      "min": 0,
      "orientation": "horizontal",
      "style": "IPY_MODEL_4f1f9f5b59d749378b035c3abc6d8a56",
      "value": 7
     }
    },
    "10ec14d81bc64181b13d5575c9265735": {
     "model_module": "@jupyter-widgets/base",
     "model_module_version": "1.2.0",
     "model_name": "LayoutModel",
     "state": {
      "_model_module": "@jupyter-widgets/base",
      "_model_module_version": "1.2.0",
      "_model_name": "LayoutModel",
      "_view_count": null,
      "_view_module": "@jupyter-widgets/base",
      "_view_module_version": "1.2.0",
      "_view_name": "LayoutView",
      "align_content": null,
      "align_items": null,
      "align_self": null,
      "border": null,
      "bottom": null,
      "display": null,
      "flex": null,
      "flex_flow": null,
      "grid_area": null,
      "grid_auto_columns": null,
      "grid_auto_flow": null,
      "grid_auto_rows": null,
      "grid_column": null,
      "grid_gap": null,
      "grid_row": null,
      "grid_template_areas": null,
      "grid_template_columns": null,
      "grid_template_rows": null,
      "height": null,
      "justify_content": null,
      "justify_items": null,
      "left": null,
      "margin": null,
      "max_height": null,
      "max_width": null,
      "min_height": null,
      "min_width": null,
      "object_fit": null,
      "object_position": null,
      "order": null,
      "overflow": null,
      "overflow_x": null,
      "overflow_y": null,
      "padding": null,
      "right": null,
      "top": null,
      "visibility": null,
      "width": null
     }
    },
    "13bbd7d95f4644cbaa3a0c0a322ec4d9": {
     "model_module": "@jupyter-widgets/controls",
     "model_module_version": "1.5.0",
     "model_name": "ProgressStyleModel",
     "state": {
      "_model_module": "@jupyter-widgets/controls",
      "_model_module_version": "1.5.0",
      "_model_name": "ProgressStyleModel",
      "_view_count": null,
      "_view_module": "@jupyter-widgets/base",
      "_view_module_version": "1.2.0",
      "_view_name": "StyleView",
      "bar_color": null,
      "description_width": ""
     }
    },
    "163339425f1843aeb65a0ddde72a0de3": {
     "model_module": "@jupyter-widgets/base",
     "model_module_version": "1.2.0",
     "model_name": "LayoutModel",
     "state": {
      "_model_module": "@jupyter-widgets/base",
      "_model_module_version": "1.2.0",
      "_model_name": "LayoutModel",
      "_view_count": null,
      "_view_module": "@jupyter-widgets/base",
      "_view_module_version": "1.2.0",
      "_view_name": "LayoutView",
      "align_content": null,
      "align_items": null,
      "align_self": null,
      "border": null,
      "bottom": null,
      "display": null,
      "flex": null,
      "flex_flow": null,
      "grid_area": null,
      "grid_auto_columns": null,
      "grid_auto_flow": null,
      "grid_auto_rows": null,
      "grid_column": null,
      "grid_gap": null,
      "grid_row": null,
      "grid_template_areas": null,
      "grid_template_columns": null,
      "grid_template_rows": null,
      "height": null,
      "justify_content": null,
      "justify_items": null,
      "left": null,
      "margin": null,
      "max_height": null,
      "max_width": null,
      "min_height": null,
      "min_width": null,
      "object_fit": null,
      "object_position": null,
      "order": null,
      "overflow": null,
      "overflow_x": null,
      "overflow_y": null,
      "padding": null,
      "right": null,
      "top": null,
      "visibility": null,
      "width": null
     }
    },
    "168ccf261c1d48dcaaeebc31edd36c3b": {
     "model_module": "@jupyter-widgets/base",
     "model_module_version": "1.2.0",
     "model_name": "LayoutModel",
     "state": {
      "_model_module": "@jupyter-widgets/base",
      "_model_module_version": "1.2.0",
      "_model_name": "LayoutModel",
      "_view_count": null,
      "_view_module": "@jupyter-widgets/base",
      "_view_module_version": "1.2.0",
      "_view_name": "LayoutView",
      "align_content": null,
      "align_items": null,
      "align_self": null,
      "border": null,
      "bottom": null,
      "display": null,
      "flex": null,
      "flex_flow": null,
      "grid_area": null,
      "grid_auto_columns": null,
      "grid_auto_flow": null,
      "grid_auto_rows": null,
      "grid_column": null,
      "grid_gap": null,
      "grid_row": null,
      "grid_template_areas": null,
      "grid_template_columns": null,
      "grid_template_rows": null,
      "height": null,
      "justify_content": null,
      "justify_items": null,
      "left": null,
      "margin": null,
      "max_height": null,
      "max_width": null,
      "min_height": null,
      "min_width": null,
      "object_fit": null,
      "object_position": null,
      "order": null,
      "overflow": null,
      "overflow_x": null,
      "overflow_y": null,
      "padding": null,
      "right": null,
      "top": null,
      "visibility": null,
      "width": null
     }
    },
    "1af10ff594154bb4bca0ef982ff4b945": {
     "model_module": "@jupyter-widgets/controls",
     "model_module_version": "1.5.0",
     "model_name": "ProgressStyleModel",
     "state": {
      "_model_module": "@jupyter-widgets/controls",
      "_model_module_version": "1.5.0",
      "_model_name": "ProgressStyleModel",
      "_view_count": null,
      "_view_module": "@jupyter-widgets/base",
      "_view_module_version": "1.2.0",
      "_view_name": "StyleView",
      "bar_color": null,
      "description_width": ""
     }
    },
    "1c336222695a424cb45a1ac3700183be": {
     "model_module": "@jupyter-widgets/controls",
     "model_module_version": "1.5.0",
     "model_name": "ProgressStyleModel",
     "state": {
      "_model_module": "@jupyter-widgets/controls",
      "_model_module_version": "1.5.0",
      "_model_name": "ProgressStyleModel",
      "_view_count": null,
      "_view_module": "@jupyter-widgets/base",
      "_view_module_version": "1.2.0",
      "_view_name": "StyleView",
      "bar_color": null,
      "description_width": ""
     }
    },
    "2234b689a6ce47628a22a7f79e7cd77c": {
     "model_module": "@jupyter-widgets/controls",
     "model_module_version": "1.5.0",
     "model_name": "IntProgressModel",
     "state": {
      "_dom_classes": [],
      "_model_module": "@jupyter-widgets/controls",
      "_model_module_version": "1.5.0",
      "_model_name": "IntProgressModel",
      "_view_count": null,
      "_view_module": "@jupyter-widgets/controls",
      "_view_module_version": "1.5.0",
      "_view_name": "ProgressView",
      "bar_style": "",
      "description": "Processing: ",
      "description_tooltip": null,
      "layout": "IPY_MODEL_b8423323c74446c3b1f8c4ac45081ec3",
      "max": 7,
      "min": 0,
      "orientation": "horizontal",
      "style": "IPY_MODEL_5b2a10eca64d48c199aecfa42e24bfed",
      "value": 7
     }
    },
    "22a972291265417593f05770f43390da": {
     "model_module": "@jupyter-widgets/controls",
     "model_module_version": "1.5.0",
     "model_name": "ProgressStyleModel",
     "state": {
      "_model_module": "@jupyter-widgets/controls",
      "_model_module_version": "1.5.0",
      "_model_name": "ProgressStyleModel",
      "_view_count": null,
      "_view_module": "@jupyter-widgets/base",
      "_view_module_version": "1.2.0",
      "_view_name": "StyleView",
      "bar_color": null,
      "description_width": ""
     }
    },
    "2546ec0437c24e1aa0a54562c4b6bc2c": {
     "model_module": "@jupyter-widgets/controls",
     "model_module_version": "1.5.0",
     "model_name": "ProgressStyleModel",
     "state": {
      "_model_module": "@jupyter-widgets/controls",
      "_model_module_version": "1.5.0",
      "_model_name": "ProgressStyleModel",
      "_view_count": null,
      "_view_module": "@jupyter-widgets/base",
      "_view_module_version": "1.2.0",
      "_view_name": "StyleView",
      "bar_color": null,
      "description_width": ""
     }
    },
    "2c13c743adbe49f1874cece14197dbbd": {
     "model_module": "@jupyter-widgets/base",
     "model_module_version": "1.2.0",
     "model_name": "LayoutModel",
     "state": {
      "_model_module": "@jupyter-widgets/base",
      "_model_module_version": "1.2.0",
      "_model_name": "LayoutModel",
      "_view_count": null,
      "_view_module": "@jupyter-widgets/base",
      "_view_module_version": "1.2.0",
      "_view_name": "LayoutView",
      "align_content": null,
      "align_items": null,
      "align_self": null,
      "border": null,
      "bottom": null,
      "display": null,
      "flex": null,
      "flex_flow": null,
      "grid_area": null,
      "grid_auto_columns": null,
      "grid_auto_flow": null,
      "grid_auto_rows": null,
      "grid_column": null,
      "grid_gap": null,
      "grid_row": null,
      "grid_template_areas": null,
      "grid_template_columns": null,
      "grid_template_rows": null,
      "height": null,
      "justify_content": null,
      "justify_items": null,
      "left": null,
      "margin": null,
      "max_height": null,
      "max_width": null,
      "min_height": null,
      "min_width": null,
      "object_fit": null,
      "object_position": null,
      "order": null,
      "overflow": null,
      "overflow_x": null,
      "overflow_y": null,
      "padding": null,
      "right": null,
      "top": null,
      "visibility": null,
      "width": null
     }
    },
    "2c15a0823ad64486b4f609532ed39c88": {
     "model_module": "@jupyter-widgets/controls",
     "model_module_version": "1.5.0",
     "model_name": "ProgressStyleModel",
     "state": {
      "_model_module": "@jupyter-widgets/controls",
      "_model_module_version": "1.5.0",
      "_model_name": "ProgressStyleModel",
      "_view_count": null,
      "_view_module": "@jupyter-widgets/base",
      "_view_module_version": "1.2.0",
      "_view_name": "StyleView",
      "bar_color": null,
      "description_width": ""
     }
    },
    "2e332f72341c4aa6a0507703ae50e3d0": {
     "model_module": "@jupyter-widgets/controls",
     "model_module_version": "1.5.0",
     "model_name": "ProgressStyleModel",
     "state": {
      "_model_module": "@jupyter-widgets/controls",
      "_model_module_version": "1.5.0",
      "_model_name": "ProgressStyleModel",
      "_view_count": null,
      "_view_module": "@jupyter-widgets/base",
      "_view_module_version": "1.2.0",
      "_view_name": "StyleView",
      "bar_color": null,
      "description_width": ""
     }
    },
    "2eeb344136764fadb0295ab8b45dbb77": {
     "model_module": "@jupyter-widgets/controls",
     "model_module_version": "1.5.0",
     "model_name": "IntProgressModel",
     "state": {
      "_dom_classes": [],
      "_model_module": "@jupyter-widgets/controls",
      "_model_module_version": "1.5.0",
      "_model_name": "IntProgressModel",
      "_view_count": null,
      "_view_module": "@jupyter-widgets/controls",
      "_view_module_version": "1.5.0",
      "_view_name": "ProgressView",
      "bar_style": "",
      "description": "Processing: ",
      "description_tooltip": null,
      "layout": "IPY_MODEL_5cb7c3620ff34b70a84aec3f380cd48c",
      "max": 4,
      "min": 0,
      "orientation": "horizontal",
      "style": "IPY_MODEL_8a4923765a3b4802ab013530702d3e77",
      "value": 4
     }
    },
    "2f697eeb62f644d1acae6c83f796f34a": {
     "model_module": "@jupyter-widgets/controls",
     "model_module_version": "1.5.0",
     "model_name": "IntProgressModel",
     "state": {
      "_dom_classes": [],
      "_model_module": "@jupyter-widgets/controls",
      "_model_module_version": "1.5.0",
      "_model_name": "IntProgressModel",
      "_view_count": null,
      "_view_module": "@jupyter-widgets/controls",
      "_view_module_version": "1.5.0",
      "_view_name": "ProgressView",
      "bar_style": "",
      "description": "Processing: ",
      "description_tooltip": null,
      "layout": "IPY_MODEL_f58752dfed0b483fb7d564f44d4a8078",
      "max": 3,
      "min": 0,
      "orientation": "horizontal",
      "style": "IPY_MODEL_2546ec0437c24e1aa0a54562c4b6bc2c",
      "value": 3
     }
    },
    "313f83a0cd9e4813a77236b95f78af71": {
     "model_module": "@jupyter-widgets/controls",
     "model_module_version": "1.5.0",
     "model_name": "ProgressStyleModel",
     "state": {
      "_model_module": "@jupyter-widgets/controls",
      "_model_module_version": "1.5.0",
      "_model_name": "ProgressStyleModel",
      "_view_count": null,
      "_view_module": "@jupyter-widgets/base",
      "_view_module_version": "1.2.0",
      "_view_name": "StyleView",
      "bar_color": null,
      "description_width": ""
     }
    },
    "37a714e1774a4dd49483f2884f906354": {
     "model_module": "@jupyter-widgets/controls",
     "model_module_version": "1.5.0",
     "model_name": "ProgressStyleModel",
     "state": {
      "_model_module": "@jupyter-widgets/controls",
      "_model_module_version": "1.5.0",
      "_model_name": "ProgressStyleModel",
      "_view_count": null,
      "_view_module": "@jupyter-widgets/base",
      "_view_module_version": "1.2.0",
      "_view_name": "StyleView",
      "bar_color": null,
      "description_width": ""
     }
    },
    "3a878f4d50674fdf8df573a003fdd46e": {
     "model_module": "@jupyter-widgets/controls",
     "model_module_version": "1.5.0",
     "model_name": "IntProgressModel",
     "state": {
      "_dom_classes": [],
      "_model_module": "@jupyter-widgets/controls",
      "_model_module_version": "1.5.0",
      "_model_name": "IntProgressModel",
      "_view_count": null,
      "_view_module": "@jupyter-widgets/controls",
      "_view_module_version": "1.5.0",
      "_view_name": "ProgressView",
      "bar_style": "",
      "description": "Processing: ",
      "description_tooltip": null,
      "layout": "IPY_MODEL_623c303055244e549659def754183c3c",
      "max": 34,
      "min": 0,
      "orientation": "horizontal",
      "style": "IPY_MODEL_13bbd7d95f4644cbaa3a0c0a322ec4d9",
      "value": 34
     }
    },
    "3d55c2c1961240f9878353c7e27b62cf": {
     "model_module": "@jupyter-widgets/controls",
     "model_module_version": "1.5.0",
     "model_name": "ProgressStyleModel",
     "state": {
      "_model_module": "@jupyter-widgets/controls",
      "_model_module_version": "1.5.0",
      "_model_name": "ProgressStyleModel",
      "_view_count": null,
      "_view_module": "@jupyter-widgets/base",
      "_view_module_version": "1.2.0",
      "_view_name": "StyleView",
      "bar_color": null,
      "description_width": ""
     }
    },
    "3dc6a37ac3124ec48a46b0042b092c75": {
     "model_module": "@jupyter-widgets/controls",
     "model_module_version": "1.5.0",
     "model_name": "ProgressStyleModel",
     "state": {
      "_model_module": "@jupyter-widgets/controls",
      "_model_module_version": "1.5.0",
      "_model_name": "ProgressStyleModel",
      "_view_count": null,
      "_view_module": "@jupyter-widgets/base",
      "_view_module_version": "1.2.0",
      "_view_name": "StyleView",
      "bar_color": null,
      "description_width": ""
     }
    },
    "3fb77f7024444f4ba2c3f34b13062f1d": {
     "model_module": "@jupyter-widgets/controls",
     "model_module_version": "1.5.0",
     "model_name": "ProgressStyleModel",
     "state": {
      "_model_module": "@jupyter-widgets/controls",
      "_model_module_version": "1.5.0",
      "_model_name": "ProgressStyleModel",
      "_view_count": null,
      "_view_module": "@jupyter-widgets/base",
      "_view_module_version": "1.2.0",
      "_view_name": "StyleView",
      "bar_color": null,
      "description_width": ""
     }
    },
    "443bc8e46a1e40f5a667fd053d0ca0f1": {
     "model_module": "@jupyter-widgets/base",
     "model_module_version": "1.2.0",
     "model_name": "LayoutModel",
     "state": {
      "_model_module": "@jupyter-widgets/base",
      "_model_module_version": "1.2.0",
      "_model_name": "LayoutModel",
      "_view_count": null,
      "_view_module": "@jupyter-widgets/base",
      "_view_module_version": "1.2.0",
      "_view_name": "LayoutView",
      "align_content": null,
      "align_items": null,
      "align_self": null,
      "border": null,
      "bottom": null,
      "display": null,
      "flex": null,
      "flex_flow": null,
      "grid_area": null,
      "grid_auto_columns": null,
      "grid_auto_flow": null,
      "grid_auto_rows": null,
      "grid_column": null,
      "grid_gap": null,
      "grid_row": null,
      "grid_template_areas": null,
      "grid_template_columns": null,
      "grid_template_rows": null,
      "height": null,
      "justify_content": null,
      "justify_items": null,
      "left": null,
      "margin": null,
      "max_height": null,
      "max_width": null,
      "min_height": null,
      "min_width": null,
      "object_fit": null,
      "object_position": null,
      "order": null,
      "overflow": null,
      "overflow_x": null,
      "overflow_y": null,
      "padding": null,
      "right": null,
      "top": null,
      "visibility": null,
      "width": null
     }
    },
    "479099f332a84bc2a749ae0b4df2869d": {
     "model_module": "@jupyter-widgets/base",
     "model_module_version": "1.2.0",
     "model_name": "LayoutModel",
     "state": {
      "_model_module": "@jupyter-widgets/base",
      "_model_module_version": "1.2.0",
      "_model_name": "LayoutModel",
      "_view_count": null,
      "_view_module": "@jupyter-widgets/base",
      "_view_module_version": "1.2.0",
      "_view_name": "LayoutView",
      "align_content": null,
      "align_items": null,
      "align_self": null,
      "border": null,
      "bottom": null,
      "display": null,
      "flex": null,
      "flex_flow": null,
      "grid_area": null,
      "grid_auto_columns": null,
      "grid_auto_flow": null,
      "grid_auto_rows": null,
      "grid_column": null,
      "grid_gap": null,
      "grid_row": null,
      "grid_template_areas": null,
      "grid_template_columns": null,
      "grid_template_rows": null,
      "height": null,
      "justify_content": null,
      "justify_items": null,
      "left": null,
      "margin": null,
      "max_height": null,
      "max_width": null,
      "min_height": null,
      "min_width": null,
      "object_fit": null,
      "object_position": null,
      "order": null,
      "overflow": null,
      "overflow_x": null,
      "overflow_y": null,
      "padding": null,
      "right": null,
      "top": null,
      "visibility": null,
      "width": null
     }
    },
    "493278298bfa4949ae7f36f1db9198b4": {
     "model_module": "@jupyter-widgets/base",
     "model_module_version": "1.2.0",
     "model_name": "LayoutModel",
     "state": {
      "_model_module": "@jupyter-widgets/base",
      "_model_module_version": "1.2.0",
      "_model_name": "LayoutModel",
      "_view_count": null,
      "_view_module": "@jupyter-widgets/base",
      "_view_module_version": "1.2.0",
      "_view_name": "LayoutView",
      "align_content": null,
      "align_items": null,
      "align_self": null,
      "border": null,
      "bottom": null,
      "display": null,
      "flex": null,
      "flex_flow": null,
      "grid_area": null,
      "grid_auto_columns": null,
      "grid_auto_flow": null,
      "grid_auto_rows": null,
      "grid_column": null,
      "grid_gap": null,
      "grid_row": null,
      "grid_template_areas": null,
      "grid_template_columns": null,
      "grid_template_rows": null,
      "height": null,
      "justify_content": null,
      "justify_items": null,
      "left": null,
      "margin": null,
      "max_height": null,
      "max_width": null,
      "min_height": null,
      "min_width": null,
      "object_fit": null,
      "object_position": null,
      "order": null,
      "overflow": null,
      "overflow_x": null,
      "overflow_y": null,
      "padding": null,
      "right": null,
      "top": null,
      "visibility": null,
      "width": null
     }
    },
    "4ad8633ae46941d5a7165c5919901466": {
     "model_module": "@jupyter-widgets/base",
     "model_module_version": "1.2.0",
     "model_name": "LayoutModel",
     "state": {
      "_model_module": "@jupyter-widgets/base",
      "_model_module_version": "1.2.0",
      "_model_name": "LayoutModel",
      "_view_count": null,
      "_view_module": "@jupyter-widgets/base",
      "_view_module_version": "1.2.0",
      "_view_name": "LayoutView",
      "align_content": null,
      "align_items": null,
      "align_self": null,
      "border": null,
      "bottom": null,
      "display": null,
      "flex": null,
      "flex_flow": null,
      "grid_area": null,
      "grid_auto_columns": null,
      "grid_auto_flow": null,
      "grid_auto_rows": null,
      "grid_column": null,
      "grid_gap": null,
      "grid_row": null,
      "grid_template_areas": null,
      "grid_template_columns": null,
      "grid_template_rows": null,
      "height": null,
      "justify_content": null,
      "justify_items": null,
      "left": null,
      "margin": null,
      "max_height": null,
      "max_width": null,
      "min_height": null,
      "min_width": null,
      "object_fit": null,
      "object_position": null,
      "order": null,
      "overflow": null,
      "overflow_x": null,
      "overflow_y": null,
      "padding": null,
      "right": null,
      "top": null,
      "visibility": null,
      "width": null
     }
    },
    "4f1f9f5b59d749378b035c3abc6d8a56": {
     "model_module": "@jupyter-widgets/controls",
     "model_module_version": "1.5.0",
     "model_name": "ProgressStyleModel",
     "state": {
      "_model_module": "@jupyter-widgets/controls",
      "_model_module_version": "1.5.0",
      "_model_name": "ProgressStyleModel",
      "_view_count": null,
      "_view_module": "@jupyter-widgets/base",
      "_view_module_version": "1.2.0",
      "_view_name": "StyleView",
      "bar_color": null,
      "description_width": ""
     }
    },
    "5378d0599c0b48cdaa780b6216f55e7f": {
     "model_module": "@jupyter-widgets/controls",
     "model_module_version": "1.5.0",
     "model_name": "IntProgressModel",
     "state": {
      "_dom_classes": [],
      "_model_module": "@jupyter-widgets/controls",
      "_model_module_version": "1.5.0",
      "_model_name": "IntProgressModel",
      "_view_count": null,
      "_view_module": "@jupyter-widgets/controls",
      "_view_module_version": "1.5.0",
      "_view_name": "ProgressView",
      "bar_style": "",
      "description": "Processing: ",
      "description_tooltip": null,
      "layout": "IPY_MODEL_d2be0af3ef2a4ab885473b5445e3e23e",
      "max": 4,
      "min": 0,
      "orientation": "horizontal",
      "style": "IPY_MODEL_882281ba45724d71a4332eaf2ee76867",
      "value": 4
     }
    },
    "54e506794fbc4be4a0375a8b0e2958c5": {
     "model_module": "@jupyter-widgets/controls",
     "model_module_version": "1.5.0",
     "model_name": "IntProgressModel",
     "state": {
      "_dom_classes": [],
      "_model_module": "@jupyter-widgets/controls",
      "_model_module_version": "1.5.0",
      "_model_name": "IntProgressModel",
      "_view_count": null,
      "_view_module": "@jupyter-widgets/controls",
      "_view_module_version": "1.5.0",
      "_view_name": "ProgressView",
      "bar_style": "",
      "description": "Processing: ",
      "description_tooltip": null,
      "layout": "IPY_MODEL_75d2b64811514a51a6e4152d39ee5062",
      "max": 4,
      "min": 0,
      "orientation": "horizontal",
      "style": "IPY_MODEL_313f83a0cd9e4813a77236b95f78af71",
      "value": 4
     }
    },
    "5b2a10eca64d48c199aecfa42e24bfed": {
     "model_module": "@jupyter-widgets/controls",
     "model_module_version": "1.5.0",
     "model_name": "ProgressStyleModel",
     "state": {
      "_model_module": "@jupyter-widgets/controls",
      "_model_module_version": "1.5.0",
      "_model_name": "ProgressStyleModel",
      "_view_count": null,
      "_view_module": "@jupyter-widgets/base",
      "_view_module_version": "1.2.0",
      "_view_name": "StyleView",
      "bar_color": null,
      "description_width": ""
     }
    },
    "5cb7c3620ff34b70a84aec3f380cd48c": {
     "model_module": "@jupyter-widgets/base",
     "model_module_version": "1.2.0",
     "model_name": "LayoutModel",
     "state": {
      "_model_module": "@jupyter-widgets/base",
      "_model_module_version": "1.2.0",
      "_model_name": "LayoutModel",
      "_view_count": null,
      "_view_module": "@jupyter-widgets/base",
      "_view_module_version": "1.2.0",
      "_view_name": "LayoutView",
      "align_content": null,
      "align_items": null,
      "align_self": null,
      "border": null,
      "bottom": null,
      "display": null,
      "flex": null,
      "flex_flow": null,
      "grid_area": null,
      "grid_auto_columns": null,
      "grid_auto_flow": null,
      "grid_auto_rows": null,
      "grid_column": null,
      "grid_gap": null,
      "grid_row": null,
      "grid_template_areas": null,
      "grid_template_columns": null,
      "grid_template_rows": null,
      "height": null,
      "justify_content": null,
      "justify_items": null,
      "left": null,
      "margin": null,
      "max_height": null,
      "max_width": null,
      "min_height": null,
      "min_width": null,
      "object_fit": null,
      "object_position": null,
      "order": null,
      "overflow": null,
      "overflow_x": null,
      "overflow_y": null,
      "padding": null,
      "right": null,
      "top": null,
      "visibility": null,
      "width": null
     }
    },
    "5eb396bb87f44223a91c13594f5c0fe6": {
     "model_module": "@jupyter-widgets/base",
     "model_module_version": "1.2.0",
     "model_name": "LayoutModel",
     "state": {
      "_model_module": "@jupyter-widgets/base",
      "_model_module_version": "1.2.0",
      "_model_name": "LayoutModel",
      "_view_count": null,
      "_view_module": "@jupyter-widgets/base",
      "_view_module_version": "1.2.0",
      "_view_name": "LayoutView",
      "align_content": null,
      "align_items": null,
      "align_self": null,
      "border": null,
      "bottom": null,
      "display": null,
      "flex": null,
      "flex_flow": null,
      "grid_area": null,
      "grid_auto_columns": null,
      "grid_auto_flow": null,
      "grid_auto_rows": null,
      "grid_column": null,
      "grid_gap": null,
      "grid_row": null,
      "grid_template_areas": null,
      "grid_template_columns": null,
      "grid_template_rows": null,
      "height": null,
      "justify_content": null,
      "justify_items": null,
      "left": null,
      "margin": null,
      "max_height": null,
      "max_width": null,
      "min_height": null,
      "min_width": null,
      "object_fit": null,
      "object_position": null,
      "order": null,
      "overflow": null,
      "overflow_x": null,
      "overflow_y": null,
      "padding": null,
      "right": null,
      "top": null,
      "visibility": null,
      "width": null
     }
    },
    "5f1cf9d18cf44a87b24a33b010591826": {
     "model_module": "@jupyter-widgets/base",
     "model_module_version": "1.2.0",
     "model_name": "LayoutModel",
     "state": {
      "_model_module": "@jupyter-widgets/base",
      "_model_module_version": "1.2.0",
      "_model_name": "LayoutModel",
      "_view_count": null,
      "_view_module": "@jupyter-widgets/base",
      "_view_module_version": "1.2.0",
      "_view_name": "LayoutView",
      "align_content": null,
      "align_items": null,
      "align_self": null,
      "border": null,
      "bottom": null,
      "display": null,
      "flex": null,
      "flex_flow": null,
      "grid_area": null,
      "grid_auto_columns": null,
      "grid_auto_flow": null,
      "grid_auto_rows": null,
      "grid_column": null,
      "grid_gap": null,
      "grid_row": null,
      "grid_template_areas": null,
      "grid_template_columns": null,
      "grid_template_rows": null,
      "height": null,
      "justify_content": null,
      "justify_items": null,
      "left": null,
      "margin": null,
      "max_height": null,
      "max_width": null,
      "min_height": null,
      "min_width": null,
      "object_fit": null,
      "object_position": null,
      "order": null,
      "overflow": null,
      "overflow_x": null,
      "overflow_y": null,
      "padding": null,
      "right": null,
      "top": null,
      "visibility": null,
      "width": null
     }
    },
    "60137b64e37e4305b0a800c0c4a9ef1f": {
     "model_module": "@jupyter-widgets/controls",
     "model_module_version": "1.5.0",
     "model_name": "ProgressStyleModel",
     "state": {
      "_model_module": "@jupyter-widgets/controls",
      "_model_module_version": "1.5.0",
      "_model_name": "ProgressStyleModel",
      "_view_count": null,
      "_view_module": "@jupyter-widgets/base",
      "_view_module_version": "1.2.0",
      "_view_name": "StyleView",
      "bar_color": null,
      "description_width": ""
     }
    },
    "623c303055244e549659def754183c3c": {
     "model_module": "@jupyter-widgets/base",
     "model_module_version": "1.2.0",
     "model_name": "LayoutModel",
     "state": {
      "_model_module": "@jupyter-widgets/base",
      "_model_module_version": "1.2.0",
      "_model_name": "LayoutModel",
      "_view_count": null,
      "_view_module": "@jupyter-widgets/base",
      "_view_module_version": "1.2.0",
      "_view_name": "LayoutView",
      "align_content": null,
      "align_items": null,
      "align_self": null,
      "border": null,
      "bottom": null,
      "display": null,
      "flex": null,
      "flex_flow": null,
      "grid_area": null,
      "grid_auto_columns": null,
      "grid_auto_flow": null,
      "grid_auto_rows": null,
      "grid_column": null,
      "grid_gap": null,
      "grid_row": null,
      "grid_template_areas": null,
      "grid_template_columns": null,
      "grid_template_rows": null,
      "height": null,
      "justify_content": null,
      "justify_items": null,
      "left": null,
      "margin": null,
      "max_height": null,
      "max_width": null,
      "min_height": null,
      "min_width": null,
      "object_fit": null,
      "object_position": null,
      "order": null,
      "overflow": null,
      "overflow_x": null,
      "overflow_y": null,
      "padding": null,
      "right": null,
      "top": null,
      "visibility": null,
      "width": null
     }
    },
    "626ea0d3cae9470db8fcaa15ee03ff69": {
     "model_module": "@jupyter-widgets/controls",
     "model_module_version": "1.5.0",
     "model_name": "IntProgressModel",
     "state": {
      "_dom_classes": [],
      "_model_module": "@jupyter-widgets/controls",
      "_model_module_version": "1.5.0",
      "_model_name": "IntProgressModel",
      "_view_count": null,
      "_view_module": "@jupyter-widgets/controls",
      "_view_module_version": "1.5.0",
      "_view_name": "ProgressView",
      "bar_style": "",
      "description": "Processing: ",
      "description_tooltip": null,
      "layout": "IPY_MODEL_84f6388045614cf4bc385cb2d79f1faa",
      "max": 3,
      "min": 0,
      "orientation": "horizontal",
      "style": "IPY_MODEL_2e332f72341c4aa6a0507703ae50e3d0",
      "value": 3
     }
    },
    "69f9a95e14724c38bf8384ce62da90dd": {
     "model_module": "@jupyter-widgets/base",
     "model_module_version": "1.2.0",
     "model_name": "LayoutModel",
     "state": {
      "_model_module": "@jupyter-widgets/base",
      "_model_module_version": "1.2.0",
      "_model_name": "LayoutModel",
      "_view_count": null,
      "_view_module": "@jupyter-widgets/base",
      "_view_module_version": "1.2.0",
      "_view_name": "LayoutView",
      "align_content": null,
      "align_items": null,
      "align_self": null,
      "border": null,
      "bottom": null,
      "display": null,
      "flex": null,
      "flex_flow": null,
      "grid_area": null,
      "grid_auto_columns": null,
      "grid_auto_flow": null,
      "grid_auto_rows": null,
      "grid_column": null,
      "grid_gap": null,
      "grid_row": null,
      "grid_template_areas": null,
      "grid_template_columns": null,
      "grid_template_rows": null,
      "height": null,
      "justify_content": null,
      "justify_items": null,
      "left": null,
      "margin": null,
      "max_height": null,
      "max_width": null,
      "min_height": null,
      "min_width": null,
      "object_fit": null,
      "object_position": null,
      "order": null,
      "overflow": null,
      "overflow_x": null,
      "overflow_y": null,
      "padding": null,
      "right": null,
      "top": null,
      "visibility": null,
      "width": null
     }
    },
    "6a5d187fbc374f9dacfc5204a13af9bd": {
     "model_module": "@jupyter-widgets/controls",
     "model_module_version": "1.5.0",
     "model_name": "ProgressStyleModel",
     "state": {
      "_model_module": "@jupyter-widgets/controls",
      "_model_module_version": "1.5.0",
      "_model_name": "ProgressStyleModel",
      "_view_count": null,
      "_view_module": "@jupyter-widgets/base",
      "_view_module_version": "1.2.0",
      "_view_name": "StyleView",
      "bar_color": null,
      "description_width": ""
     }
    },
    "6a8339c737f8431b90c8367c7fd81da1": {
     "model_module": "@jupyter-widgets/base",
     "model_module_version": "1.2.0",
     "model_name": "LayoutModel",
     "state": {
      "_model_module": "@jupyter-widgets/base",
      "_model_module_version": "1.2.0",
      "_model_name": "LayoutModel",
      "_view_count": null,
      "_view_module": "@jupyter-widgets/base",
      "_view_module_version": "1.2.0",
      "_view_name": "LayoutView",
      "align_content": null,
      "align_items": null,
      "align_self": null,
      "border": null,
      "bottom": null,
      "display": null,
      "flex": null,
      "flex_flow": null,
      "grid_area": null,
      "grid_auto_columns": null,
      "grid_auto_flow": null,
      "grid_auto_rows": null,
      "grid_column": null,
      "grid_gap": null,
      "grid_row": null,
      "grid_template_areas": null,
      "grid_template_columns": null,
      "grid_template_rows": null,
      "height": null,
      "justify_content": null,
      "justify_items": null,
      "left": null,
      "margin": null,
      "max_height": null,
      "max_width": null,
      "min_height": null,
      "min_width": null,
      "object_fit": null,
      "object_position": null,
      "order": null,
      "overflow": null,
      "overflow_x": null,
      "overflow_y": null,
      "padding": null,
      "right": null,
      "top": null,
      "visibility": null,
      "width": null
     }
    },
    "70055b746d2c4b938f5f7f6e7c88860a": {
     "model_module": "@jupyter-widgets/controls",
     "model_module_version": "1.5.0",
     "model_name": "IntProgressModel",
     "state": {
      "_dom_classes": [],
      "_model_module": "@jupyter-widgets/controls",
      "_model_module_version": "1.5.0",
      "_model_name": "IntProgressModel",
      "_view_count": null,
      "_view_module": "@jupyter-widgets/controls",
      "_view_module_version": "1.5.0",
      "_view_name": "ProgressView",
      "bar_style": "",
      "description": "Processing: ",
      "description_tooltip": null,
      "layout": "IPY_MODEL_163339425f1843aeb65a0ddde72a0de3",
      "max": 4,
      "min": 0,
      "orientation": "horizontal",
      "style": "IPY_MODEL_2c15a0823ad64486b4f609532ed39c88",
      "value": 4
     }
    },
    "71c2ee9f30744c7689f4d68ae33e8ccb": {
     "model_module": "@jupyter-widgets/controls",
     "model_module_version": "1.5.0",
     "model_name": "IntProgressModel",
     "state": {
      "_dom_classes": [],
      "_model_module": "@jupyter-widgets/controls",
      "_model_module_version": "1.5.0",
      "_model_name": "IntProgressModel",
      "_view_count": null,
      "_view_module": "@jupyter-widgets/controls",
      "_view_module_version": "1.5.0",
      "_view_name": "ProgressView",
      "bar_style": "",
      "description": "Processing: ",
      "description_tooltip": null,
      "layout": "IPY_MODEL_bc3aabb85838429ba49126962c898cc8",
      "max": 4,
      "min": 0,
      "orientation": "horizontal",
      "style": "IPY_MODEL_f5a1b21021e24a8ebe479a8760ef15a3",
      "value": 4
     }
    },
    "736b8e7461d24a9dbb0058001a673ebf": {
     "model_module": "@jupyter-widgets/controls",
     "model_module_version": "1.5.0",
     "model_name": "IntProgressModel",
     "state": {
      "_dom_classes": [],
      "_model_module": "@jupyter-widgets/controls",
      "_model_module_version": "1.5.0",
      "_model_name": "IntProgressModel",
      "_view_count": null,
      "_view_module": "@jupyter-widgets/controls",
      "_view_module_version": "1.5.0",
      "_view_name": "ProgressView",
      "bar_style": "",
      "description": "Processing: ",
      "description_tooltip": null,
      "layout": "IPY_MODEL_e8dfc057a0964c51b7cc03096ce5a072",
      "max": 3,
      "min": 0,
      "orientation": "horizontal",
      "style": "IPY_MODEL_bf16a19551714fbabcf138d1d932468d",
      "value": 3
     }
    },
    "7468519536bd4447a660227c0993c4f9": {
     "model_module": "@jupyter-widgets/base",
     "model_module_version": "1.2.0",
     "model_name": "LayoutModel",
     "state": {
      "_model_module": "@jupyter-widgets/base",
      "_model_module_version": "1.2.0",
      "_model_name": "LayoutModel",
      "_view_count": null,
      "_view_module": "@jupyter-widgets/base",
      "_view_module_version": "1.2.0",
      "_view_name": "LayoutView",
      "align_content": null,
      "align_items": null,
      "align_self": null,
      "border": null,
      "bottom": null,
      "display": null,
      "flex": null,
      "flex_flow": null,
      "grid_area": null,
      "grid_auto_columns": null,
      "grid_auto_flow": null,
      "grid_auto_rows": null,
      "grid_column": null,
      "grid_gap": null,
      "grid_row": null,
      "grid_template_areas": null,
      "grid_template_columns": null,
      "grid_template_rows": null,
      "height": null,
      "justify_content": null,
      "justify_items": null,
      "left": null,
      "margin": null,
      "max_height": null,
      "max_width": null,
      "min_height": null,
      "min_width": null,
      "object_fit": null,
      "object_position": null,
      "order": null,
      "overflow": null,
      "overflow_x": null,
      "overflow_y": null,
      "padding": null,
      "right": null,
      "top": null,
      "visibility": null,
      "width": null
     }
    },
    "75d2b64811514a51a6e4152d39ee5062": {
     "model_module": "@jupyter-widgets/base",
     "model_module_version": "1.2.0",
     "model_name": "LayoutModel",
     "state": {
      "_model_module": "@jupyter-widgets/base",
      "_model_module_version": "1.2.0",
      "_model_name": "LayoutModel",
      "_view_count": null,
      "_view_module": "@jupyter-widgets/base",
      "_view_module_version": "1.2.0",
      "_view_name": "LayoutView",
      "align_content": null,
      "align_items": null,
      "align_self": null,
      "border": null,
      "bottom": null,
      "display": null,
      "flex": null,
      "flex_flow": null,
      "grid_area": null,
      "grid_auto_columns": null,
      "grid_auto_flow": null,
      "grid_auto_rows": null,
      "grid_column": null,
      "grid_gap": null,
      "grid_row": null,
      "grid_template_areas": null,
      "grid_template_columns": null,
      "grid_template_rows": null,
      "height": null,
      "justify_content": null,
      "justify_items": null,
      "left": null,
      "margin": null,
      "max_height": null,
      "max_width": null,
      "min_height": null,
      "min_width": null,
      "object_fit": null,
      "object_position": null,
      "order": null,
      "overflow": null,
      "overflow_x": null,
      "overflow_y": null,
      "padding": null,
      "right": null,
      "top": null,
      "visibility": null,
      "width": null
     }
    },
    "772c33b5e6a4489f9bcc265c4cddcbd3": {
     "model_module": "@jupyter-widgets/controls",
     "model_module_version": "1.5.0",
     "model_name": "IntProgressModel",
     "state": {
      "_dom_classes": [],
      "_model_module": "@jupyter-widgets/controls",
      "_model_module_version": "1.5.0",
      "_model_name": "IntProgressModel",
      "_view_count": null,
      "_view_module": "@jupyter-widgets/controls",
      "_view_module_version": "1.5.0",
      "_view_name": "ProgressView",
      "bar_style": "",
      "description": "Processing: ",
      "description_tooltip": null,
      "layout": "IPY_MODEL_ec6cf349b33640d9b7af19585cb8541b",
      "max": 4,
      "min": 0,
      "orientation": "horizontal",
      "style": "IPY_MODEL_c88c9581bbd54e42989b25c7900edaf9",
      "value": 4
     }
    },
    "7762226a5a984ad3834df6884f6592f8": {
     "model_module": "@jupyter-widgets/controls",
     "model_module_version": "1.5.0",
     "model_name": "IntProgressModel",
     "state": {
      "_dom_classes": [],
      "_model_module": "@jupyter-widgets/controls",
      "_model_module_version": "1.5.0",
      "_model_name": "IntProgressModel",
      "_view_count": null,
      "_view_module": "@jupyter-widgets/controls",
      "_view_module_version": "1.5.0",
      "_view_name": "ProgressView",
      "bar_style": "",
      "description": "Processing: ",
      "description_tooltip": null,
      "layout": "IPY_MODEL_7468519536bd4447a660227c0993c4f9",
      "max": 7,
      "min": 0,
      "orientation": "horizontal",
      "style": "IPY_MODEL_96ca91dc9d3443f6b22008fa3f82a758",
      "value": 7
     }
    },
    "8025535b70274e86999aee2d4ee53a35": {
     "model_module": "@jupyter-widgets/controls",
     "model_module_version": "1.5.0",
     "model_name": "ProgressStyleModel",
     "state": {
      "_model_module": "@jupyter-widgets/controls",
      "_model_module_version": "1.5.0",
      "_model_name": "ProgressStyleModel",
      "_view_count": null,
      "_view_module": "@jupyter-widgets/base",
      "_view_module_version": "1.2.0",
      "_view_name": "StyleView",
      "bar_color": null,
      "description_width": ""
     }
    },
    "82418a8fa3f1421395137986e9d0961d": {
     "model_module": "@jupyter-widgets/base",
     "model_module_version": "1.2.0",
     "model_name": "LayoutModel",
     "state": {
      "_model_module": "@jupyter-widgets/base",
      "_model_module_version": "1.2.0",
      "_model_name": "LayoutModel",
      "_view_count": null,
      "_view_module": "@jupyter-widgets/base",
      "_view_module_version": "1.2.0",
      "_view_name": "LayoutView",
      "align_content": null,
      "align_items": null,
      "align_self": null,
      "border": null,
      "bottom": null,
      "display": null,
      "flex": null,
      "flex_flow": null,
      "grid_area": null,
      "grid_auto_columns": null,
      "grid_auto_flow": null,
      "grid_auto_rows": null,
      "grid_column": null,
      "grid_gap": null,
      "grid_row": null,
      "grid_template_areas": null,
      "grid_template_columns": null,
      "grid_template_rows": null,
      "height": null,
      "justify_content": null,
      "justify_items": null,
      "left": null,
      "margin": null,
      "max_height": null,
      "max_width": null,
      "min_height": null,
      "min_width": null,
      "object_fit": null,
      "object_position": null,
      "order": null,
      "overflow": null,
      "overflow_x": null,
      "overflow_y": null,
      "padding": null,
      "right": null,
      "top": null,
      "visibility": null,
      "width": null
     }
    },
    "834c985de21e433bb80c19ea8525b0d4": {
     "model_module": "@jupyter-widgets/base",
     "model_module_version": "1.2.0",
     "model_name": "LayoutModel",
     "state": {
      "_model_module": "@jupyter-widgets/base",
      "_model_module_version": "1.2.0",
      "_model_name": "LayoutModel",
      "_view_count": null,
      "_view_module": "@jupyter-widgets/base",
      "_view_module_version": "1.2.0",
      "_view_name": "LayoutView",
      "align_content": null,
      "align_items": null,
      "align_self": null,
      "border": null,
      "bottom": null,
      "display": null,
      "flex": null,
      "flex_flow": null,
      "grid_area": null,
      "grid_auto_columns": null,
      "grid_auto_flow": null,
      "grid_auto_rows": null,
      "grid_column": null,
      "grid_gap": null,
      "grid_row": null,
      "grid_template_areas": null,
      "grid_template_columns": null,
      "grid_template_rows": null,
      "height": null,
      "justify_content": null,
      "justify_items": null,
      "left": null,
      "margin": null,
      "max_height": null,
      "max_width": null,
      "min_height": null,
      "min_width": null,
      "object_fit": null,
      "object_position": null,
      "order": null,
      "overflow": null,
      "overflow_x": null,
      "overflow_y": null,
      "padding": null,
      "right": null,
      "top": null,
      "visibility": null,
      "width": null
     }
    },
    "84f6388045614cf4bc385cb2d79f1faa": {
     "model_module": "@jupyter-widgets/base",
     "model_module_version": "1.2.0",
     "model_name": "LayoutModel",
     "state": {
      "_model_module": "@jupyter-widgets/base",
      "_model_module_version": "1.2.0",
      "_model_name": "LayoutModel",
      "_view_count": null,
      "_view_module": "@jupyter-widgets/base",
      "_view_module_version": "1.2.0",
      "_view_name": "LayoutView",
      "align_content": null,
      "align_items": null,
      "align_self": null,
      "border": null,
      "bottom": null,
      "display": null,
      "flex": null,
      "flex_flow": null,
      "grid_area": null,
      "grid_auto_columns": null,
      "grid_auto_flow": null,
      "grid_auto_rows": null,
      "grid_column": null,
      "grid_gap": null,
      "grid_row": null,
      "grid_template_areas": null,
      "grid_template_columns": null,
      "grid_template_rows": null,
      "height": null,
      "justify_content": null,
      "justify_items": null,
      "left": null,
      "margin": null,
      "max_height": null,
      "max_width": null,
      "min_height": null,
      "min_width": null,
      "object_fit": null,
      "object_position": null,
      "order": null,
      "overflow": null,
      "overflow_x": null,
      "overflow_y": null,
      "padding": null,
      "right": null,
      "top": null,
      "visibility": null,
      "width": null
     }
    },
    "858211b5501d408cb28e034cea7817b6": {
     "model_module": "@jupyter-widgets/controls",
     "model_module_version": "1.5.0",
     "model_name": "ProgressStyleModel",
     "state": {
      "_model_module": "@jupyter-widgets/controls",
      "_model_module_version": "1.5.0",
      "_model_name": "ProgressStyleModel",
      "_view_count": null,
      "_view_module": "@jupyter-widgets/base",
      "_view_module_version": "1.2.0",
      "_view_name": "StyleView",
      "bar_color": null,
      "description_width": ""
     }
    },
    "882281ba45724d71a4332eaf2ee76867": {
     "model_module": "@jupyter-widgets/controls",
     "model_module_version": "1.5.0",
     "model_name": "ProgressStyleModel",
     "state": {
      "_model_module": "@jupyter-widgets/controls",
      "_model_module_version": "1.5.0",
      "_model_name": "ProgressStyleModel",
      "_view_count": null,
      "_view_module": "@jupyter-widgets/base",
      "_view_module_version": "1.2.0",
      "_view_name": "StyleView",
      "bar_color": null,
      "description_width": ""
     }
    },
    "898857563a704fb99b950c403c5a2bae": {
     "model_module": "@jupyter-widgets/controls",
     "model_module_version": "1.5.0",
     "model_name": "ProgressStyleModel",
     "state": {
      "_model_module": "@jupyter-widgets/controls",
      "_model_module_version": "1.5.0",
      "_model_name": "ProgressStyleModel",
      "_view_count": null,
      "_view_module": "@jupyter-widgets/base",
      "_view_module_version": "1.2.0",
      "_view_name": "StyleView",
      "bar_color": null,
      "description_width": ""
     }
    },
    "8a4923765a3b4802ab013530702d3e77": {
     "model_module": "@jupyter-widgets/controls",
     "model_module_version": "1.5.0",
     "model_name": "ProgressStyleModel",
     "state": {
      "_model_module": "@jupyter-widgets/controls",
      "_model_module_version": "1.5.0",
      "_model_name": "ProgressStyleModel",
      "_view_count": null,
      "_view_module": "@jupyter-widgets/base",
      "_view_module_version": "1.2.0",
      "_view_name": "StyleView",
      "bar_color": null,
      "description_width": ""
     }
    },
    "8d047a56630045e394f9f170d58a45b6": {
     "model_module": "@jupyter-widgets/controls",
     "model_module_version": "1.5.0",
     "model_name": "IntProgressModel",
     "state": {
      "_dom_classes": [],
      "_model_module": "@jupyter-widgets/controls",
      "_model_module_version": "1.5.0",
      "_model_name": "IntProgressModel",
      "_view_count": null,
      "_view_module": "@jupyter-widgets/controls",
      "_view_module_version": "1.5.0",
      "_view_name": "ProgressView",
      "bar_style": "",
      "description": "Processing: ",
      "description_tooltip": null,
      "layout": "IPY_MODEL_6a8339c737f8431b90c8367c7fd81da1",
      "max": 7,
      "min": 0,
      "orientation": "horizontal",
      "style": "IPY_MODEL_f6be4a6935bf469ebc8b319d19bd0160",
      "value": 7
     }
    },
    "9381310e33d8464cbb45113eeaa912ac": {
     "model_module": "@jupyter-widgets/controls",
     "model_module_version": "1.5.0",
     "model_name": "ProgressStyleModel",
     "state": {
      "_model_module": "@jupyter-widgets/controls",
      "_model_module_version": "1.5.0",
      "_model_name": "ProgressStyleModel",
      "_view_count": null,
      "_view_module": "@jupyter-widgets/base",
      "_view_module_version": "1.2.0",
      "_view_name": "StyleView",
      "bar_color": null,
      "description_width": ""
     }
    },
    "960e993bfc134988ab064bf31589368a": {
     "model_module": "@jupyter-widgets/controls",
     "model_module_version": "1.5.0",
     "model_name": "ProgressStyleModel",
     "state": {
      "_model_module": "@jupyter-widgets/controls",
      "_model_module_version": "1.5.0",
      "_model_name": "ProgressStyleModel",
      "_view_count": null,
      "_view_module": "@jupyter-widgets/base",
      "_view_module_version": "1.2.0",
      "_view_name": "StyleView",
      "bar_color": null,
      "description_width": ""
     }
    },
    "96ca91dc9d3443f6b22008fa3f82a758": {
     "model_module": "@jupyter-widgets/controls",
     "model_module_version": "1.5.0",
     "model_name": "ProgressStyleModel",
     "state": {
      "_model_module": "@jupyter-widgets/controls",
      "_model_module_version": "1.5.0",
      "_model_name": "ProgressStyleModel",
      "_view_count": null,
      "_view_module": "@jupyter-widgets/base",
      "_view_module_version": "1.2.0",
      "_view_name": "StyleView",
      "bar_color": null,
      "description_width": ""
     }
    },
    "a0d45aa103ae40d2999ba49dcefbd29b": {
     "model_module": "@jupyter-widgets/base",
     "model_module_version": "1.2.0",
     "model_name": "LayoutModel",
     "state": {
      "_model_module": "@jupyter-widgets/base",
      "_model_module_version": "1.2.0",
      "_model_name": "LayoutModel",
      "_view_count": null,
      "_view_module": "@jupyter-widgets/base",
      "_view_module_version": "1.2.0",
      "_view_name": "LayoutView",
      "align_content": null,
      "align_items": null,
      "align_self": null,
      "border": null,
      "bottom": null,
      "display": null,
      "flex": null,
      "flex_flow": null,
      "grid_area": null,
      "grid_auto_columns": null,
      "grid_auto_flow": null,
      "grid_auto_rows": null,
      "grid_column": null,
      "grid_gap": null,
      "grid_row": null,
      "grid_template_areas": null,
      "grid_template_columns": null,
      "grid_template_rows": null,
      "height": null,
      "justify_content": null,
      "justify_items": null,
      "left": null,
      "margin": null,
      "max_height": null,
      "max_width": null,
      "min_height": null,
      "min_width": null,
      "object_fit": null,
      "object_position": null,
      "order": null,
      "overflow": null,
      "overflow_x": null,
      "overflow_y": null,
      "padding": null,
      "right": null,
      "top": null,
      "visibility": null,
      "width": null
     }
    },
    "a304b6a89c5145f684478fce793c524b": {
     "model_module": "@jupyter-widgets/base",
     "model_module_version": "1.2.0",
     "model_name": "LayoutModel",
     "state": {
      "_model_module": "@jupyter-widgets/base",
      "_model_module_version": "1.2.0",
      "_model_name": "LayoutModel",
      "_view_count": null,
      "_view_module": "@jupyter-widgets/base",
      "_view_module_version": "1.2.0",
      "_view_name": "LayoutView",
      "align_content": null,
      "align_items": null,
      "align_self": null,
      "border": null,
      "bottom": null,
      "display": null,
      "flex": null,
      "flex_flow": null,
      "grid_area": null,
      "grid_auto_columns": null,
      "grid_auto_flow": null,
      "grid_auto_rows": null,
      "grid_column": null,
      "grid_gap": null,
      "grid_row": null,
      "grid_template_areas": null,
      "grid_template_columns": null,
      "grid_template_rows": null,
      "height": null,
      "justify_content": null,
      "justify_items": null,
      "left": null,
      "margin": null,
      "max_height": null,
      "max_width": null,
      "min_height": null,
      "min_width": null,
      "object_fit": null,
      "object_position": null,
      "order": null,
      "overflow": null,
      "overflow_x": null,
      "overflow_y": null,
      "padding": null,
      "right": null,
      "top": null,
      "visibility": null,
      "width": null
     }
    },
    "a493e6a16363452ab41f515a2f5cc12c": {
     "model_module": "@jupyter-widgets/base",
     "model_module_version": "1.2.0",
     "model_name": "LayoutModel",
     "state": {
      "_model_module": "@jupyter-widgets/base",
      "_model_module_version": "1.2.0",
      "_model_name": "LayoutModel",
      "_view_count": null,
      "_view_module": "@jupyter-widgets/base",
      "_view_module_version": "1.2.0",
      "_view_name": "LayoutView",
      "align_content": null,
      "align_items": null,
      "align_self": null,
      "border": null,
      "bottom": null,
      "display": null,
      "flex": null,
      "flex_flow": null,
      "grid_area": null,
      "grid_auto_columns": null,
      "grid_auto_flow": null,
      "grid_auto_rows": null,
      "grid_column": null,
      "grid_gap": null,
      "grid_row": null,
      "grid_template_areas": null,
      "grid_template_columns": null,
      "grid_template_rows": null,
      "height": null,
      "justify_content": null,
      "justify_items": null,
      "left": null,
      "margin": null,
      "max_height": null,
      "max_width": null,
      "min_height": null,
      "min_width": null,
      "object_fit": null,
      "object_position": null,
      "order": null,
      "overflow": null,
      "overflow_x": null,
      "overflow_y": null,
      "padding": null,
      "right": null,
      "top": null,
      "visibility": null,
      "width": null
     }
    },
    "a4b2a2483f504d8aa74a43ae6a9c7e19": {
     "model_module": "@jupyter-widgets/base",
     "model_module_version": "1.2.0",
     "model_name": "LayoutModel",
     "state": {
      "_model_module": "@jupyter-widgets/base",
      "_model_module_version": "1.2.0",
      "_model_name": "LayoutModel",
      "_view_count": null,
      "_view_module": "@jupyter-widgets/base",
      "_view_module_version": "1.2.0",
      "_view_name": "LayoutView",
      "align_content": null,
      "align_items": null,
      "align_self": null,
      "border": null,
      "bottom": null,
      "display": null,
      "flex": null,
      "flex_flow": null,
      "grid_area": null,
      "grid_auto_columns": null,
      "grid_auto_flow": null,
      "grid_auto_rows": null,
      "grid_column": null,
      "grid_gap": null,
      "grid_row": null,
      "grid_template_areas": null,
      "grid_template_columns": null,
      "grid_template_rows": null,
      "height": null,
      "justify_content": null,
      "justify_items": null,
      "left": null,
      "margin": null,
      "max_height": null,
      "max_width": null,
      "min_height": null,
      "min_width": null,
      "object_fit": null,
      "object_position": null,
      "order": null,
      "overflow": null,
      "overflow_x": null,
      "overflow_y": null,
      "padding": null,
      "right": null,
      "top": null,
      "visibility": null,
      "width": null
     }
    },
    "a8fd9b75b68340b8a429fbaa515416fd": {
     "model_module": "@jupyter-widgets/base",
     "model_module_version": "1.2.0",
     "model_name": "LayoutModel",
     "state": {
      "_model_module": "@jupyter-widgets/base",
      "_model_module_version": "1.2.0",
      "_model_name": "LayoutModel",
      "_view_count": null,
      "_view_module": "@jupyter-widgets/base",
      "_view_module_version": "1.2.0",
      "_view_name": "LayoutView",
      "align_content": null,
      "align_items": null,
      "align_self": null,
      "border": null,
      "bottom": null,
      "display": null,
      "flex": null,
      "flex_flow": null,
      "grid_area": null,
      "grid_auto_columns": null,
      "grid_auto_flow": null,
      "grid_auto_rows": null,
      "grid_column": null,
      "grid_gap": null,
      "grid_row": null,
      "grid_template_areas": null,
      "grid_template_columns": null,
      "grid_template_rows": null,
      "height": null,
      "justify_content": null,
      "justify_items": null,
      "left": null,
      "margin": null,
      "max_height": null,
      "max_width": null,
      "min_height": null,
      "min_width": null,
      "object_fit": null,
      "object_position": null,
      "order": null,
      "overflow": null,
      "overflow_x": null,
      "overflow_y": null,
      "padding": null,
      "right": null,
      "top": null,
      "visibility": null,
      "width": null
     }
    },
    "a90526ced15c4155b7fec050c48e1dcc": {
     "model_module": "@jupyter-widgets/controls",
     "model_module_version": "1.5.0",
     "model_name": "ProgressStyleModel",
     "state": {
      "_model_module": "@jupyter-widgets/controls",
      "_model_module_version": "1.5.0",
      "_model_name": "ProgressStyleModel",
      "_view_count": null,
      "_view_module": "@jupyter-widgets/base",
      "_view_module_version": "1.2.0",
      "_view_name": "StyleView",
      "bar_color": null,
      "description_width": ""
     }
    },
    "ab1afdadff6546f8be2c29dd03cf00a6": {
     "model_module": "@jupyter-widgets/controls",
     "model_module_version": "1.5.0",
     "model_name": "ProgressStyleModel",
     "state": {
      "_model_module": "@jupyter-widgets/controls",
      "_model_module_version": "1.5.0",
      "_model_name": "ProgressStyleModel",
      "_view_count": null,
      "_view_module": "@jupyter-widgets/base",
      "_view_module_version": "1.2.0",
      "_view_name": "StyleView",
      "bar_color": null,
      "description_width": ""
     }
    },
    "af341fe59a8647d1b9cce489e4f227d2": {
     "model_module": "@jupyter-widgets/controls",
     "model_module_version": "1.5.0",
     "model_name": "IntProgressModel",
     "state": {
      "_dom_classes": [],
      "_model_module": "@jupyter-widgets/controls",
      "_model_module_version": "1.5.0",
      "_model_name": "IntProgressModel",
      "_view_count": null,
      "_view_module": "@jupyter-widgets/controls",
      "_view_module_version": "1.5.0",
      "_view_name": "ProgressView",
      "bar_style": "",
      "description": "Processing: ",
      "description_tooltip": null,
      "layout": "IPY_MODEL_facf4b024c834b4bb44243908ce904da",
      "max": 3,
      "min": 0,
      "orientation": "horizontal",
      "style": "IPY_MODEL_60137b64e37e4305b0a800c0c4a9ef1f",
      "value": 3
     }
    },
    "b17ccbb1528940cb90cf81d0735f9a44": {
     "model_module": "@jupyter-widgets/controls",
     "model_module_version": "1.5.0",
     "model_name": "IntProgressModel",
     "state": {
      "_dom_classes": [],
      "_model_module": "@jupyter-widgets/controls",
      "_model_module_version": "1.5.0",
      "_model_name": "IntProgressModel",
      "_view_count": null,
      "_view_module": "@jupyter-widgets/controls",
      "_view_module_version": "1.5.0",
      "_view_name": "ProgressView",
      "bar_style": "",
      "description": "Processing: ",
      "description_tooltip": null,
      "layout": "IPY_MODEL_a0d45aa103ae40d2999ba49dcefbd29b",
      "max": 34,
      "min": 0,
      "orientation": "horizontal",
      "style": "IPY_MODEL_1af10ff594154bb4bca0ef982ff4b945",
      "value": 34
     }
    },
    "b292ead31348484b8cd2dea447757cd3": {
     "model_module": "@jupyter-widgets/controls",
     "model_module_version": "1.5.0",
     "model_name": "IntProgressModel",
     "state": {
      "_dom_classes": [],
      "_model_module": "@jupyter-widgets/controls",
      "_model_module_version": "1.5.0",
      "_model_name": "IntProgressModel",
      "_view_count": null,
      "_view_module": "@jupyter-widgets/controls",
      "_view_module_version": "1.5.0",
      "_view_name": "ProgressView",
      "bar_style": "",
      "description": "Processing: ",
      "description_tooltip": null,
      "layout": "IPY_MODEL_e328780b060c4ff3b94301c4903598e1",
      "max": 4,
      "min": 0,
      "orientation": "horizontal",
      "style": "IPY_MODEL_1c336222695a424cb45a1ac3700183be",
      "value": 4
     }
    },
    "b5ff1c68362a41cb96aa13bdeb6f59b0": {
     "model_module": "@jupyter-widgets/controls",
     "model_module_version": "1.5.0",
     "model_name": "ProgressStyleModel",
     "state": {
      "_model_module": "@jupyter-widgets/controls",
      "_model_module_version": "1.5.0",
      "_model_name": "ProgressStyleModel",
      "_view_count": null,
      "_view_module": "@jupyter-widgets/base",
      "_view_module_version": "1.2.0",
      "_view_name": "StyleView",
      "bar_color": null,
      "description_width": ""
     }
    },
    "b8423323c74446c3b1f8c4ac45081ec3": {
     "model_module": "@jupyter-widgets/base",
     "model_module_version": "1.2.0",
     "model_name": "LayoutModel",
     "state": {
      "_model_module": "@jupyter-widgets/base",
      "_model_module_version": "1.2.0",
      "_model_name": "LayoutModel",
      "_view_count": null,
      "_view_module": "@jupyter-widgets/base",
      "_view_module_version": "1.2.0",
      "_view_name": "LayoutView",
      "align_content": null,
      "align_items": null,
      "align_self": null,
      "border": null,
      "bottom": null,
      "display": null,
      "flex": null,
      "flex_flow": null,
      "grid_area": null,
      "grid_auto_columns": null,
      "grid_auto_flow": null,
      "grid_auto_rows": null,
      "grid_column": null,
      "grid_gap": null,
      "grid_row": null,
      "grid_template_areas": null,
      "grid_template_columns": null,
      "grid_template_rows": null,
      "height": null,
      "justify_content": null,
      "justify_items": null,
      "left": null,
      "margin": null,
      "max_height": null,
      "max_width": null,
      "min_height": null,
      "min_width": null,
      "object_fit": null,
      "object_position": null,
      "order": null,
      "overflow": null,
      "overflow_x": null,
      "overflow_y": null,
      "padding": null,
      "right": null,
      "top": null,
      "visibility": null,
      "width": null
     }
    },
    "b89b2b5cae804d2d9bf85176720808ea": {
     "model_module": "@jupyter-widgets/controls",
     "model_module_version": "1.5.0",
     "model_name": "ProgressStyleModel",
     "state": {
      "_model_module": "@jupyter-widgets/controls",
      "_model_module_version": "1.5.0",
      "_model_name": "ProgressStyleModel",
      "_view_count": null,
      "_view_module": "@jupyter-widgets/base",
      "_view_module_version": "1.2.0",
      "_view_name": "StyleView",
      "bar_color": null,
      "description_width": ""
     }
    },
    "b8e3f5adb8c74a35b7d694bed6fcef2e": {
     "model_module": "@jupyter-widgets/controls",
     "model_module_version": "1.5.0",
     "model_name": "IntProgressModel",
     "state": {
      "_dom_classes": [],
      "_model_module": "@jupyter-widgets/controls",
      "_model_module_version": "1.5.0",
      "_model_name": "IntProgressModel",
      "_view_count": null,
      "_view_module": "@jupyter-widgets/controls",
      "_view_module_version": "1.5.0",
      "_view_name": "ProgressView",
      "bar_style": "",
      "description": "Processing: ",
      "description_tooltip": null,
      "layout": "IPY_MODEL_db2e704cf00b4c619c88a3397e185835",
      "max": 4,
      "min": 0,
      "orientation": "horizontal",
      "style": "IPY_MODEL_a90526ced15c4155b7fec050c48e1dcc",
      "value": 4
     }
    },
    "b906f916c2d24302806a8a886c2610e1": {
     "model_module": "@jupyter-widgets/controls",
     "model_module_version": "1.5.0",
     "model_name": "IntProgressModel",
     "state": {
      "_dom_classes": [],
      "_model_module": "@jupyter-widgets/controls",
      "_model_module_version": "1.5.0",
      "_model_name": "IntProgressModel",
      "_view_count": null,
      "_view_module": "@jupyter-widgets/controls",
      "_view_module_version": "1.5.0",
      "_view_name": "ProgressView",
      "bar_style": "",
      "description": "Processing: ",
      "description_tooltip": null,
      "layout": "IPY_MODEL_cf47f90afbc04f859fc44ca0d295c9a7",
      "max": 4,
      "min": 0,
      "orientation": "horizontal",
      "style": "IPY_MODEL_b89b2b5cae804d2d9bf85176720808ea",
      "value": 4
     }
    },
    "bba77af586fb4691a37e138ba9a72d1a": {
     "model_module": "@jupyter-widgets/controls",
     "model_module_version": "1.5.0",
     "model_name": "IntProgressModel",
     "state": {
      "_dom_classes": [],
      "_model_module": "@jupyter-widgets/controls",
      "_model_module_version": "1.5.0",
      "_model_name": "IntProgressModel",
      "_view_count": null,
      "_view_module": "@jupyter-widgets/controls",
      "_view_module_version": "1.5.0",
      "_view_name": "ProgressView",
      "bar_style": "",
      "description": "Processing: ",
      "description_tooltip": null,
      "layout": "IPY_MODEL_5eb396bb87f44223a91c13594f5c0fe6",
      "max": 4,
      "min": 0,
      "orientation": "horizontal",
      "style": "IPY_MODEL_bfabee6fd1fd40ae85c92cd2e17cb795",
      "value": 4
     }
    },
    "bc3aabb85838429ba49126962c898cc8": {
     "model_module": "@jupyter-widgets/base",
     "model_module_version": "1.2.0",
     "model_name": "LayoutModel",
     "state": {
      "_model_module": "@jupyter-widgets/base",
      "_model_module_version": "1.2.0",
      "_model_name": "LayoutModel",
      "_view_count": null,
      "_view_module": "@jupyter-widgets/base",
      "_view_module_version": "1.2.0",
      "_view_name": "LayoutView",
      "align_content": null,
      "align_items": null,
      "align_self": null,
      "border": null,
      "bottom": null,
      "display": null,
      "flex": null,
      "flex_flow": null,
      "grid_area": null,
      "grid_auto_columns": null,
      "grid_auto_flow": null,
      "grid_auto_rows": null,
      "grid_column": null,
      "grid_gap": null,
      "grid_row": null,
      "grid_template_areas": null,
      "grid_template_columns": null,
      "grid_template_rows": null,
      "height": null,
      "justify_content": null,
      "justify_items": null,
      "left": null,
      "margin": null,
      "max_height": null,
      "max_width": null,
      "min_height": null,
      "min_width": null,
      "object_fit": null,
      "object_position": null,
      "order": null,
      "overflow": null,
      "overflow_x": null,
      "overflow_y": null,
      "padding": null,
      "right": null,
      "top": null,
      "visibility": null,
      "width": null
     }
    },
    "bf16a19551714fbabcf138d1d932468d": {
     "model_module": "@jupyter-widgets/controls",
     "model_module_version": "1.5.0",
     "model_name": "ProgressStyleModel",
     "state": {
      "_model_module": "@jupyter-widgets/controls",
      "_model_module_version": "1.5.0",
      "_model_name": "ProgressStyleModel",
      "_view_count": null,
      "_view_module": "@jupyter-widgets/base",
      "_view_module_version": "1.2.0",
      "_view_name": "StyleView",
      "bar_color": null,
      "description_width": ""
     }
    },
    "bfabee6fd1fd40ae85c92cd2e17cb795": {
     "model_module": "@jupyter-widgets/controls",
     "model_module_version": "1.5.0",
     "model_name": "ProgressStyleModel",
     "state": {
      "_model_module": "@jupyter-widgets/controls",
      "_model_module_version": "1.5.0",
      "_model_name": "ProgressStyleModel",
      "_view_count": null,
      "_view_module": "@jupyter-widgets/base",
      "_view_module_version": "1.2.0",
      "_view_name": "StyleView",
      "bar_color": null,
      "description_width": ""
     }
    },
    "c19eaf4a03414c03bc608f2ede703164": {
     "model_module": "@jupyter-widgets/controls",
     "model_module_version": "1.5.0",
     "model_name": "IntProgressModel",
     "state": {
      "_dom_classes": [],
      "_model_module": "@jupyter-widgets/controls",
      "_model_module_version": "1.5.0",
      "_model_name": "IntProgressModel",
      "_view_count": null,
      "_view_module": "@jupyter-widgets/controls",
      "_view_module_version": "1.5.0",
      "_view_name": "ProgressView",
      "bar_style": "",
      "description": "Processing: ",
      "description_tooltip": null,
      "layout": "IPY_MODEL_0cef4242b70345f282b2be06c6baf807",
      "max": 4,
      "min": 0,
      "orientation": "horizontal",
      "style": "IPY_MODEL_3dc6a37ac3124ec48a46b0042b092c75",
      "value": 4
     }
    },
    "c289c512b512467baefcda40796cb12d": {
     "model_module": "@jupyter-widgets/controls",
     "model_module_version": "1.5.0",
     "model_name": "IntProgressModel",
     "state": {
      "_dom_classes": [],
      "_model_module": "@jupyter-widgets/controls",
      "_model_module_version": "1.5.0",
      "_model_name": "IntProgressModel",
      "_view_count": null,
      "_view_module": "@jupyter-widgets/controls",
      "_view_module_version": "1.5.0",
      "_view_name": "ProgressView",
      "bar_style": "",
      "description": "Processing: ",
      "description_tooltip": null,
      "layout": "IPY_MODEL_479099f332a84bc2a749ae0b4df2869d",
      "max": 34,
      "min": 0,
      "orientation": "horizontal",
      "style": "IPY_MODEL_9381310e33d8464cbb45113eeaa912ac",
      "value": 34
     }
    },
    "c62bac882531423fbdd4b3e2302a83ae": {
     "model_module": "@jupyter-widgets/controls",
     "model_module_version": "1.5.0",
     "model_name": "IntProgressModel",
     "state": {
      "_dom_classes": [],
      "_model_module": "@jupyter-widgets/controls",
      "_model_module_version": "1.5.0",
      "_model_name": "IntProgressModel",
      "_view_count": null,
      "_view_module": "@jupyter-widgets/controls",
      "_view_module_version": "1.5.0",
      "_view_name": "ProgressView",
      "bar_style": "",
      "description": "Processing: ",
      "description_tooltip": null,
      "layout": "IPY_MODEL_4ad8633ae46941d5a7165c5919901466",
      "max": 4,
      "min": 0,
      "orientation": "horizontal",
      "style": "IPY_MODEL_d0870df4fa814a2784fafdecdd67fca5",
      "value": 4
     }
    },
    "c71098f13e8843f4b16fcd139fc93363": {
     "model_module": "@jupyter-widgets/controls",
     "model_module_version": "1.5.0",
     "model_name": "ProgressStyleModel",
     "state": {
      "_model_module": "@jupyter-widgets/controls",
      "_model_module_version": "1.5.0",
      "_model_name": "ProgressStyleModel",
      "_view_count": null,
      "_view_module": "@jupyter-widgets/base",
      "_view_module_version": "1.2.0",
      "_view_name": "StyleView",
      "bar_color": null,
      "description_width": ""
     }
    },
    "c745fc26e6f447a5a407cd64e8823aed": {
     "model_module": "@jupyter-widgets/controls",
     "model_module_version": "1.5.0",
     "model_name": "IntProgressModel",
     "state": {
      "_dom_classes": [],
      "_model_module": "@jupyter-widgets/controls",
      "_model_module_version": "1.5.0",
      "_model_name": "IntProgressModel",
      "_view_count": null,
      "_view_module": "@jupyter-widgets/controls",
      "_view_module_version": "1.5.0",
      "_view_name": "ProgressView",
      "bar_style": "",
      "description": "Processing: ",
      "description_tooltip": null,
      "layout": "IPY_MODEL_834c985de21e433bb80c19ea8525b0d4",
      "max": 7,
      "min": 0,
      "orientation": "horizontal",
      "style": "IPY_MODEL_e8826e9339f34909976d05a9fce7ab47",
      "value": 7
     }
    },
    "c88c9581bbd54e42989b25c7900edaf9": {
     "model_module": "@jupyter-widgets/controls",
     "model_module_version": "1.5.0",
     "model_name": "ProgressStyleModel",
     "state": {
      "_model_module": "@jupyter-widgets/controls",
      "_model_module_version": "1.5.0",
      "_model_name": "ProgressStyleModel",
      "_view_count": null,
      "_view_module": "@jupyter-widgets/base",
      "_view_module_version": "1.2.0",
      "_view_name": "StyleView",
      "bar_color": null,
      "description_width": ""
     }
    },
    "cbb941b8e30648d29c7eac18480dba6b": {
     "model_module": "@jupyter-widgets/controls",
     "model_module_version": "1.5.0",
     "model_name": "IntProgressModel",
     "state": {
      "_dom_classes": [],
      "_model_module": "@jupyter-widgets/controls",
      "_model_module_version": "1.5.0",
      "_model_name": "IntProgressModel",
      "_view_count": null,
      "_view_module": "@jupyter-widgets/controls",
      "_view_module_version": "1.5.0",
      "_view_name": "ProgressView",
      "bar_style": "",
      "description": "Processing: ",
      "description_tooltip": null,
      "layout": "IPY_MODEL_5f1cf9d18cf44a87b24a33b010591826",
      "max": 5,
      "min": 0,
      "orientation": "horizontal",
      "style": "IPY_MODEL_efff6cef468c405a8de8c6973ccb1380",
      "value": 5
     }
    },
    "ce0f1d88152f474c82f17cce0dbc00de": {
     "model_module": "@jupyter-widgets/controls",
     "model_module_version": "1.5.0",
     "model_name": "IntProgressModel",
     "state": {
      "_dom_classes": [],
      "_model_module": "@jupyter-widgets/controls",
      "_model_module_version": "1.5.0",
      "_model_name": "IntProgressModel",
      "_view_count": null,
      "_view_module": "@jupyter-widgets/controls",
      "_view_module_version": "1.5.0",
      "_view_name": "ProgressView",
      "bar_style": "",
      "description": "Processing: ",
      "description_tooltip": null,
      "layout": "IPY_MODEL_0dc9d00888c445949d4304bbec65545e",
      "max": 34,
      "min": 0,
      "orientation": "horizontal",
      "style": "IPY_MODEL_6a5d187fbc374f9dacfc5204a13af9bd",
      "value": 34
     }
    },
    "cee28de1912a401ca70394052deb4c53": {
     "model_module": "@jupyter-widgets/base",
     "model_module_version": "1.2.0",
     "model_name": "LayoutModel",
     "state": {
      "_model_module": "@jupyter-widgets/base",
      "_model_module_version": "1.2.0",
      "_model_name": "LayoutModel",
      "_view_count": null,
      "_view_module": "@jupyter-widgets/base",
      "_view_module_version": "1.2.0",
      "_view_name": "LayoutView",
      "align_content": null,
      "align_items": null,
      "align_self": null,
      "border": null,
      "bottom": null,
      "display": null,
      "flex": null,
      "flex_flow": null,
      "grid_area": null,
      "grid_auto_columns": null,
      "grid_auto_flow": null,
      "grid_auto_rows": null,
      "grid_column": null,
      "grid_gap": null,
      "grid_row": null,
      "grid_template_areas": null,
      "grid_template_columns": null,
      "grid_template_rows": null,
      "height": null,
      "justify_content": null,
      "justify_items": null,
      "left": null,
      "margin": null,
      "max_height": null,
      "max_width": null,
      "min_height": null,
      "min_width": null,
      "object_fit": null,
      "object_position": null,
      "order": null,
      "overflow": null,
      "overflow_x": null,
      "overflow_y": null,
      "padding": null,
      "right": null,
      "top": null,
      "visibility": null,
      "width": null
     }
    },
    "cf47f90afbc04f859fc44ca0d295c9a7": {
     "model_module": "@jupyter-widgets/base",
     "model_module_version": "1.2.0",
     "model_name": "LayoutModel",
     "state": {
      "_model_module": "@jupyter-widgets/base",
      "_model_module_version": "1.2.0",
      "_model_name": "LayoutModel",
      "_view_count": null,
      "_view_module": "@jupyter-widgets/base",
      "_view_module_version": "1.2.0",
      "_view_name": "LayoutView",
      "align_content": null,
      "align_items": null,
      "align_self": null,
      "border": null,
      "bottom": null,
      "display": null,
      "flex": null,
      "flex_flow": null,
      "grid_area": null,
      "grid_auto_columns": null,
      "grid_auto_flow": null,
      "grid_auto_rows": null,
      "grid_column": null,
      "grid_gap": null,
      "grid_row": null,
      "grid_template_areas": null,
      "grid_template_columns": null,
      "grid_template_rows": null,
      "height": null,
      "justify_content": null,
      "justify_items": null,
      "left": null,
      "margin": null,
      "max_height": null,
      "max_width": null,
      "min_height": null,
      "min_width": null,
      "object_fit": null,
      "object_position": null,
      "order": null,
      "overflow": null,
      "overflow_x": null,
      "overflow_y": null,
      "padding": null,
      "right": null,
      "top": null,
      "visibility": null,
      "width": null
     }
    },
    "d06bdebc22ef464e8c0c58f6d5c84c8c": {
     "model_module": "@jupyter-widgets/controls",
     "model_module_version": "1.5.0",
     "model_name": "IntProgressModel",
     "state": {
      "_dom_classes": [],
      "_model_module": "@jupyter-widgets/controls",
      "_model_module_version": "1.5.0",
      "_model_name": "IntProgressModel",
      "_view_count": null,
      "_view_module": "@jupyter-widgets/controls",
      "_view_module_version": "1.5.0",
      "_view_name": "ProgressView",
      "bar_style": "",
      "description": "Processing: ",
      "description_tooltip": null,
      "layout": "IPY_MODEL_443bc8e46a1e40f5a667fd053d0ca0f1",
      "max": 4,
      "min": 0,
      "orientation": "horizontal",
      "style": "IPY_MODEL_ab1afdadff6546f8be2c29dd03cf00a6",
      "value": 4
     }
    },
    "d0870df4fa814a2784fafdecdd67fca5": {
     "model_module": "@jupyter-widgets/controls",
     "model_module_version": "1.5.0",
     "model_name": "ProgressStyleModel",
     "state": {
      "_model_module": "@jupyter-widgets/controls",
      "_model_module_version": "1.5.0",
      "_model_name": "ProgressStyleModel",
      "_view_count": null,
      "_view_module": "@jupyter-widgets/base",
      "_view_module_version": "1.2.0",
      "_view_name": "StyleView",
      "bar_color": null,
      "description_width": ""
     }
    },
    "d23d2799bc7a424fa725bf7c41953cb4": {
     "model_module": "@jupyter-widgets/controls",
     "model_module_version": "1.5.0",
     "model_name": "IntProgressModel",
     "state": {
      "_dom_classes": [],
      "_model_module": "@jupyter-widgets/controls",
      "_model_module_version": "1.5.0",
      "_model_name": "IntProgressModel",
      "_view_count": null,
      "_view_module": "@jupyter-widgets/controls",
      "_view_module_version": "1.5.0",
      "_view_name": "ProgressView",
      "bar_style": "",
      "description": "Processing: ",
      "description_tooltip": null,
      "layout": "IPY_MODEL_493278298bfa4949ae7f36f1db9198b4",
      "max": 34,
      "min": 0,
      "orientation": "horizontal",
      "style": "IPY_MODEL_3fb77f7024444f4ba2c3f34b13062f1d",
      "value": 34
     }
    },
    "d2be0af3ef2a4ab885473b5445e3e23e": {
     "model_module": "@jupyter-widgets/base",
     "model_module_version": "1.2.0",
     "model_name": "LayoutModel",
     "state": {
      "_model_module": "@jupyter-widgets/base",
      "_model_module_version": "1.2.0",
      "_model_name": "LayoutModel",
      "_view_count": null,
      "_view_module": "@jupyter-widgets/base",
      "_view_module_version": "1.2.0",
      "_view_name": "LayoutView",
      "align_content": null,
      "align_items": null,
      "align_self": null,
      "border": null,
      "bottom": null,
      "display": null,
      "flex": null,
      "flex_flow": null,
      "grid_area": null,
      "grid_auto_columns": null,
      "grid_auto_flow": null,
      "grid_auto_rows": null,
      "grid_column": null,
      "grid_gap": null,
      "grid_row": null,
      "grid_template_areas": null,
      "grid_template_columns": null,
      "grid_template_rows": null,
      "height": null,
      "justify_content": null,
      "justify_items": null,
      "left": null,
      "margin": null,
      "max_height": null,
      "max_width": null,
      "min_height": null,
      "min_width": null,
      "object_fit": null,
      "object_position": null,
      "order": null,
      "overflow": null,
      "overflow_x": null,
      "overflow_y": null,
      "padding": null,
      "right": null,
      "top": null,
      "visibility": null,
      "width": null
     }
    },
    "d474fe8e35b34eada9d66691426d36e2": {
     "model_module": "@jupyter-widgets/controls",
     "model_module_version": "1.5.0",
     "model_name": "IntProgressModel",
     "state": {
      "_dom_classes": [],
      "_model_module": "@jupyter-widgets/controls",
      "_model_module_version": "1.5.0",
      "_model_name": "IntProgressModel",
      "_view_count": null,
      "_view_module": "@jupyter-widgets/controls",
      "_view_module_version": "1.5.0",
      "_view_name": "ProgressView",
      "bar_style": "",
      "description": "Processing: ",
      "description_tooltip": null,
      "layout": "IPY_MODEL_cee28de1912a401ca70394052deb4c53",
      "max": 4,
      "min": 0,
      "orientation": "horizontal",
      "style": "IPY_MODEL_b5ff1c68362a41cb96aa13bdeb6f59b0",
      "value": 4
     }
    },
    "d81ac5abeae241b7a1d5e191144facd9": {
     "model_module": "@jupyter-widgets/controls",
     "model_module_version": "1.5.0",
     "model_name": "IntProgressModel",
     "state": {
      "_dom_classes": [],
      "_model_module": "@jupyter-widgets/controls",
      "_model_module_version": "1.5.0",
      "_model_name": "IntProgressModel",
      "_view_count": null,
      "_view_module": "@jupyter-widgets/controls",
      "_view_module_version": "1.5.0",
      "_view_name": "ProgressView",
      "bar_style": "",
      "description": "Processing: ",
      "description_tooltip": null,
      "layout": "IPY_MODEL_168ccf261c1d48dcaaeebc31edd36c3b",
      "max": 3,
      "min": 0,
      "orientation": "horizontal",
      "style": "IPY_MODEL_c71098f13e8843f4b16fcd139fc93363",
      "value": 3
     }
    },
    "db2e704cf00b4c619c88a3397e185835": {
     "model_module": "@jupyter-widgets/base",
     "model_module_version": "1.2.0",
     "model_name": "LayoutModel",
     "state": {
      "_model_module": "@jupyter-widgets/base",
      "_model_module_version": "1.2.0",
      "_model_name": "LayoutModel",
      "_view_count": null,
      "_view_module": "@jupyter-widgets/base",
      "_view_module_version": "1.2.0",
      "_view_name": "LayoutView",
      "align_content": null,
      "align_items": null,
      "align_self": null,
      "border": null,
      "bottom": null,
      "display": null,
      "flex": null,
      "flex_flow": null,
      "grid_area": null,
      "grid_auto_columns": null,
      "grid_auto_flow": null,
      "grid_auto_rows": null,
      "grid_column": null,
      "grid_gap": null,
      "grid_row": null,
      "grid_template_areas": null,
      "grid_template_columns": null,
      "grid_template_rows": null,
      "height": null,
      "justify_content": null,
      "justify_items": null,
      "left": null,
      "margin": null,
      "max_height": null,
      "max_width": null,
      "min_height": null,
      "min_width": null,
      "object_fit": null,
      "object_position": null,
      "order": null,
      "overflow": null,
      "overflow_x": null,
      "overflow_y": null,
      "padding": null,
      "right": null,
      "top": null,
      "visibility": null,
      "width": null
     }
    },
    "dd2bc3346f004fc29e9f699d1998b278": {
     "model_module": "@jupyter-widgets/controls",
     "model_module_version": "1.5.0",
     "model_name": "IntProgressModel",
     "state": {
      "_dom_classes": [],
      "_model_module": "@jupyter-widgets/controls",
      "_model_module_version": "1.5.0",
      "_model_name": "IntProgressModel",
      "_view_count": null,
      "_view_module": "@jupyter-widgets/controls",
      "_view_module_version": "1.5.0",
      "_view_name": "ProgressView",
      "bar_style": "",
      "description": "Processing: ",
      "description_tooltip": null,
      "layout": "IPY_MODEL_69f9a95e14724c38bf8384ce62da90dd",
      "max": 4,
      "min": 0,
      "orientation": "horizontal",
      "style": "IPY_MODEL_22a972291265417593f05770f43390da",
      "value": 4
     }
    },
    "e328780b060c4ff3b94301c4903598e1": {
     "model_module": "@jupyter-widgets/base",
     "model_module_version": "1.2.0",
     "model_name": "LayoutModel",
     "state": {
      "_model_module": "@jupyter-widgets/base",
      "_model_module_version": "1.2.0",
      "_model_name": "LayoutModel",
      "_view_count": null,
      "_view_module": "@jupyter-widgets/base",
      "_view_module_version": "1.2.0",
      "_view_name": "LayoutView",
      "align_content": null,
      "align_items": null,
      "align_self": null,
      "border": null,
      "bottom": null,
      "display": null,
      "flex": null,
      "flex_flow": null,
      "grid_area": null,
      "grid_auto_columns": null,
      "grid_auto_flow": null,
      "grid_auto_rows": null,
      "grid_column": null,
      "grid_gap": null,
      "grid_row": null,
      "grid_template_areas": null,
      "grid_template_columns": null,
      "grid_template_rows": null,
      "height": null,
      "justify_content": null,
      "justify_items": null,
      "left": null,
      "margin": null,
      "max_height": null,
      "max_width": null,
      "min_height": null,
      "min_width": null,
      "object_fit": null,
      "object_position": null,
      "order": null,
      "overflow": null,
      "overflow_x": null,
      "overflow_y": null,
      "padding": null,
      "right": null,
      "top": null,
      "visibility": null,
      "width": null
     }
    },
    "e8826e9339f34909976d05a9fce7ab47": {
     "model_module": "@jupyter-widgets/controls",
     "model_module_version": "1.5.0",
     "model_name": "ProgressStyleModel",
     "state": {
      "_model_module": "@jupyter-widgets/controls",
      "_model_module_version": "1.5.0",
      "_model_name": "ProgressStyleModel",
      "_view_count": null,
      "_view_module": "@jupyter-widgets/base",
      "_view_module_version": "1.2.0",
      "_view_name": "StyleView",
      "bar_color": null,
      "description_width": ""
     }
    },
    "e8dfc057a0964c51b7cc03096ce5a072": {
     "model_module": "@jupyter-widgets/base",
     "model_module_version": "1.2.0",
     "model_name": "LayoutModel",
     "state": {
      "_model_module": "@jupyter-widgets/base",
      "_model_module_version": "1.2.0",
      "_model_name": "LayoutModel",
      "_view_count": null,
      "_view_module": "@jupyter-widgets/base",
      "_view_module_version": "1.2.0",
      "_view_name": "LayoutView",
      "align_content": null,
      "align_items": null,
      "align_self": null,
      "border": null,
      "bottom": null,
      "display": null,
      "flex": null,
      "flex_flow": null,
      "grid_area": null,
      "grid_auto_columns": null,
      "grid_auto_flow": null,
      "grid_auto_rows": null,
      "grid_column": null,
      "grid_gap": null,
      "grid_row": null,
      "grid_template_areas": null,
      "grid_template_columns": null,
      "grid_template_rows": null,
      "height": null,
      "justify_content": null,
      "justify_items": null,
      "left": null,
      "margin": null,
      "max_height": null,
      "max_width": null,
      "min_height": null,
      "min_width": null,
      "object_fit": null,
      "object_position": null,
      "order": null,
      "overflow": null,
      "overflow_x": null,
      "overflow_y": null,
      "padding": null,
      "right": null,
      "top": null,
      "visibility": null,
      "width": null
     }
    },
    "eaf1ce6f141342419e39a0719785df8e": {
     "model_module": "@jupyter-widgets/controls",
     "model_module_version": "1.5.0",
     "model_name": "IntProgressModel",
     "state": {
      "_dom_classes": [],
      "_model_module": "@jupyter-widgets/controls",
      "_model_module_version": "1.5.0",
      "_model_name": "IntProgressModel",
      "_view_count": null,
      "_view_module": "@jupyter-widgets/controls",
      "_view_module_version": "1.5.0",
      "_view_name": "ProgressView",
      "bar_style": "",
      "description": "Processing: ",
      "description_tooltip": null,
      "layout": "IPY_MODEL_82418a8fa3f1421395137986e9d0961d",
      "max": 5,
      "min": 0,
      "orientation": "horizontal",
      "style": "IPY_MODEL_898857563a704fb99b950c403c5a2bae",
      "value": 5
     }
    },
    "ec6cf349b33640d9b7af19585cb8541b": {
     "model_module": "@jupyter-widgets/base",
     "model_module_version": "1.2.0",
     "model_name": "LayoutModel",
     "state": {
      "_model_module": "@jupyter-widgets/base",
      "_model_module_version": "1.2.0",
      "_model_name": "LayoutModel",
      "_view_count": null,
      "_view_module": "@jupyter-widgets/base",
      "_view_module_version": "1.2.0",
      "_view_name": "LayoutView",
      "align_content": null,
      "align_items": null,
      "align_self": null,
      "border": null,
      "bottom": null,
      "display": null,
      "flex": null,
      "flex_flow": null,
      "grid_area": null,
      "grid_auto_columns": null,
      "grid_auto_flow": null,
      "grid_auto_rows": null,
      "grid_column": null,
      "grid_gap": null,
      "grid_row": null,
      "grid_template_areas": null,
      "grid_template_columns": null,
      "grid_template_rows": null,
      "height": null,
      "justify_content": null,
      "justify_items": null,
      "left": null,
      "margin": null,
      "max_height": null,
      "max_width": null,
      "min_height": null,
      "min_width": null,
      "object_fit": null,
      "object_position": null,
      "order": null,
      "overflow": null,
      "overflow_x": null,
      "overflow_y": null,
      "padding": null,
      "right": null,
      "top": null,
      "visibility": null,
      "width": null
     }
    },
    "ecbb1055e22744daba97236f06332ee9": {
     "model_module": "@jupyter-widgets/controls",
     "model_module_version": "1.5.0",
     "model_name": "IntProgressModel",
     "state": {
      "_dom_classes": [],
      "_model_module": "@jupyter-widgets/controls",
      "_model_module_version": "1.5.0",
      "_model_name": "IntProgressModel",
      "_view_count": null,
      "_view_module": "@jupyter-widgets/controls",
      "_view_module_version": "1.5.0",
      "_view_name": "ProgressView",
      "bar_style": "",
      "description": "Processing: ",
      "description_tooltip": null,
      "layout": "IPY_MODEL_a304b6a89c5145f684478fce793c524b",
      "max": 3,
      "min": 0,
      "orientation": "horizontal",
      "style": "IPY_MODEL_858211b5501d408cb28e034cea7817b6",
      "value": 3
     }
    },
    "efff6cef468c405a8de8c6973ccb1380": {
     "model_module": "@jupyter-widgets/controls",
     "model_module_version": "1.5.0",
     "model_name": "ProgressStyleModel",
     "state": {
      "_model_module": "@jupyter-widgets/controls",
      "_model_module_version": "1.5.0",
      "_model_name": "ProgressStyleModel",
      "_view_count": null,
      "_view_module": "@jupyter-widgets/base",
      "_view_module_version": "1.2.0",
      "_view_name": "StyleView",
      "bar_color": null,
      "description_width": ""
     }
    },
    "f541425e2b4a4136b48fcb616d6ffdba": {
     "model_module": "@jupyter-widgets/controls",
     "model_module_version": "1.5.0",
     "model_name": "IntProgressModel",
     "state": {
      "_dom_classes": [],
      "_model_module": "@jupyter-widgets/controls",
      "_model_module_version": "1.5.0",
      "_model_name": "IntProgressModel",
      "_view_count": null,
      "_view_module": "@jupyter-widgets/controls",
      "_view_module_version": "1.5.0",
      "_view_name": "ProgressView",
      "bar_style": "",
      "description": "Processing: ",
      "description_tooltip": null,
      "layout": "IPY_MODEL_2c13c743adbe49f1874cece14197dbbd",
      "max": 34,
      "min": 0,
      "orientation": "horizontal",
      "style": "IPY_MODEL_37a714e1774a4dd49483f2884f906354",
      "value": 34
     }
    },
    "f58752dfed0b483fb7d564f44d4a8078": {
     "model_module": "@jupyter-widgets/base",
     "model_module_version": "1.2.0",
     "model_name": "LayoutModel",
     "state": {
      "_model_module": "@jupyter-widgets/base",
      "_model_module_version": "1.2.0",
      "_model_name": "LayoutModel",
      "_view_count": null,
      "_view_module": "@jupyter-widgets/base",
      "_view_module_version": "1.2.0",
      "_view_name": "LayoutView",
      "align_content": null,
      "align_items": null,
      "align_self": null,
      "border": null,
      "bottom": null,
      "display": null,
      "flex": null,
      "flex_flow": null,
      "grid_area": null,
      "grid_auto_columns": null,
      "grid_auto_flow": null,
      "grid_auto_rows": null,
      "grid_column": null,
      "grid_gap": null,
      "grid_row": null,
      "grid_template_areas": null,
      "grid_template_columns": null,
      "grid_template_rows": null,
      "height": null,
      "justify_content": null,
      "justify_items": null,
      "left": null,
      "margin": null,
      "max_height": null,
      "max_width": null,
      "min_height": null,
      "min_width": null,
      "object_fit": null,
      "object_position": null,
      "order": null,
      "overflow": null,
      "overflow_x": null,
      "overflow_y": null,
      "padding": null,
      "right": null,
      "top": null,
      "visibility": null,
      "width": null
     }
    },
    "f5a1b21021e24a8ebe479a8760ef15a3": {
     "model_module": "@jupyter-widgets/controls",
     "model_module_version": "1.5.0",
     "model_name": "ProgressStyleModel",
     "state": {
      "_model_module": "@jupyter-widgets/controls",
      "_model_module_version": "1.5.0",
      "_model_name": "ProgressStyleModel",
      "_view_count": null,
      "_view_module": "@jupyter-widgets/base",
      "_view_module_version": "1.2.0",
      "_view_name": "StyleView",
      "bar_color": null,
      "description_width": ""
     }
    },
    "f6be4a6935bf469ebc8b319d19bd0160": {
     "model_module": "@jupyter-widgets/controls",
     "model_module_version": "1.5.0",
     "model_name": "ProgressStyleModel",
     "state": {
      "_model_module": "@jupyter-widgets/controls",
      "_model_module_version": "1.5.0",
      "_model_name": "ProgressStyleModel",
      "_view_count": null,
      "_view_module": "@jupyter-widgets/base",
      "_view_module_version": "1.2.0",
      "_view_name": "StyleView",
      "bar_color": null,
      "description_width": ""
     }
    },
    "f8f118308578495cadd83769ec2a838a": {
     "model_module": "@jupyter-widgets/controls",
     "model_module_version": "1.5.0",
     "model_name": "IntProgressModel",
     "state": {
      "_dom_classes": [],
      "_model_module": "@jupyter-widgets/controls",
      "_model_module_version": "1.5.0",
      "_model_name": "IntProgressModel",
      "_view_count": null,
      "_view_module": "@jupyter-widgets/controls",
      "_view_module_version": "1.5.0",
      "_view_name": "ProgressView",
      "bar_style": "",
      "description": "Processing: ",
      "description_tooltip": null,
      "layout": "IPY_MODEL_a4b2a2483f504d8aa74a43ae6a9c7e19",
      "max": 4,
      "min": 0,
      "orientation": "horizontal",
      "style": "IPY_MODEL_8025535b70274e86999aee2d4ee53a35",
      "value": 4
     }
    },
    "f9481c9bdb2b4dcba436667a342740a6": {
     "model_module": "@jupyter-widgets/controls",
     "model_module_version": "1.5.0",
     "model_name": "IntProgressModel",
     "state": {
      "_dom_classes": [],
      "_model_module": "@jupyter-widgets/controls",
      "_model_module_version": "1.5.0",
      "_model_name": "IntProgressModel",
      "_view_count": null,
      "_view_module": "@jupyter-widgets/controls",
      "_view_module_version": "1.5.0",
      "_view_name": "ProgressView",
      "bar_style": "",
      "description": "Processing: ",
      "description_tooltip": null,
      "layout": "IPY_MODEL_a493e6a16363452ab41f515a2f5cc12c",
      "max": 7,
      "min": 0,
      "orientation": "horizontal",
      "style": "IPY_MODEL_960e993bfc134988ab064bf31589368a",
      "value": 7
     }
    },
    "fabfbf2599df4d3fae4e6137e6db9dc4": {
     "model_module": "@jupyter-widgets/controls",
     "model_module_version": "1.5.0",
     "model_name": "IntProgressModel",
     "state": {
      "_dom_classes": [],
      "_model_module": "@jupyter-widgets/controls",
      "_model_module_version": "1.5.0",
      "_model_name": "IntProgressModel",
      "_view_count": null,
      "_view_module": "@jupyter-widgets/controls",
      "_view_module_version": "1.5.0",
      "_view_name": "ProgressView",
      "bar_style": "",
      "description": "Processing: ",
      "description_tooltip": null,
      "layout": "IPY_MODEL_10ec14d81bc64181b13d5575c9265735",
      "max": 5,
      "min": 0,
      "orientation": "horizontal",
      "style": "IPY_MODEL_3d55c2c1961240f9878353c7e27b62cf",
      "value": 5
     }
    },
    "facf4b024c834b4bb44243908ce904da": {
     "model_module": "@jupyter-widgets/base",
     "model_module_version": "1.2.0",
     "model_name": "LayoutModel",
     "state": {
      "_model_module": "@jupyter-widgets/base",
      "_model_module_version": "1.2.0",
      "_model_name": "LayoutModel",
      "_view_count": null,
      "_view_module": "@jupyter-widgets/base",
      "_view_module_version": "1.2.0",
      "_view_name": "LayoutView",
      "align_content": null,
      "align_items": null,
      "align_self": null,
      "border": null,
      "bottom": null,
      "display": null,
      "flex": null,
      "flex_flow": null,
      "grid_area": null,
      "grid_auto_columns": null,
      "grid_auto_flow": null,
      "grid_auto_rows": null,
      "grid_column": null,
      "grid_gap": null,
      "grid_row": null,
      "grid_template_areas": null,
      "grid_template_columns": null,
      "grid_template_rows": null,
      "height": null,
      "justify_content": null,
      "justify_items": null,
      "left": null,
      "margin": null,
      "max_height": null,
      "max_width": null,
      "min_height": null,
      "min_width": null,
      "object_fit": null,
      "object_position": null,
      "order": null,
      "overflow": null,
      "overflow_x": null,
      "overflow_y": null,
      "padding": null,
      "right": null,
      "top": null,
      "visibility": null,
      "width": null
     }
    }
   }
  }
 },
 "nbformat": 4,
 "nbformat_minor": 4
}
